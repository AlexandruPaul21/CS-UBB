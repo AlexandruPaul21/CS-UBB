{
  "nbformat": 4,
  "nbformat_minor": 2,
  "metadata": {
    "colab": {
      "name": "annKeras.ipynb",
      "provenance": [],
      "collapsed_sections": []
    },
    "kernelspec": {
      "name": "python3",
      "display_name": "Python 3.7.2 64-bit ('myenv': venv)"
    },
    "language_info": {
      "name": "python",
      "version": "3.7.2",
      "mimetype": "text/x-python",
      "codemirror_mode": {
        "name": "ipython",
        "version": 3
      },
      "pygments_lexer": "ipython3",
      "nbconvert_exporter": "python",
      "file_extension": ".py"
    },
    "interpreter": {
      "hash": "e9dc543f66030a8dac45661f55ca2fb15f567084184f0424c1f0b6ed578c96be"
    }
  },
  "cells": [
    {
      "cell_type": "code",
      "execution_count": 15,
      "source": [
        "import tensorflow as tf"
      ],
      "outputs": [],
      "metadata": {
        "id": "wYPtaNt_UsA1"
      }
    },
    {
      "cell_type": "code",
      "execution_count": 16,
      "source": [
        "# prepare normalisation\r\n",
        "from sklearn.preprocessing import StandardScaler\r\n",
        "from math import sqrt\r\n",
        "\r\n",
        "def normalisation(trainData, testData):\r\n",
        "    scaler = StandardScaler()\r\n",
        "    if not isinstance(trainData[0], list):\r\n",
        "        #encode each sample into a list\r\n",
        "        trainData = [[d] for d in trainData]\r\n",
        "        testData = [[d] for d in testData]\r\n",
        "        \r\n",
        "        scaler.fit(trainData)  #  fit only on training data\r\n",
        "        normalisedTrainData = scaler.transform(trainData) # apply same transformation to train data\r\n",
        "        normalisedTestData = scaler.transform(testData)  # apply same transformation to test data\r\n",
        "        \r\n",
        "        #decode from list to raw values\r\n",
        "        normalisedTrainData = [el[0] for el in normalisedTrainData]\r\n",
        "        normalisedTestData = [el[0] for el in normalisedTestData]\r\n",
        "    else:\r\n",
        "        scaler.fit(trainData)  #  fit only on training data\r\n",
        "        normalisedTrainData = scaler.transform(trainData) # apply same transformation to train data\r\n",
        "        normalisedTestData = scaler.transform(testData)  # apply same transformation to test data\r\n",
        "    return normalisedTrainData, normalisedTestData\r\n",
        "    "
      ],
      "outputs": [],
      "metadata": {
        "id": "fuv_vsZULIwS"
      }
    },
    {
      "cell_type": "code",
      "execution_count": 5,
      "source": [
        "# load some data (for a regression)\r\n",
        "from sklearn.utils import shuffle\r\n",
        "from sklearn.datasets import load_diabetes\r\n",
        "dataset = load_diabetes()\r\n",
        "\r\n",
        "print(dataset['feature_names'])\r\n",
        "print(dataset['target'][:5])\r\n",
        "print(dataset['data'][:5])\r\n",
        "\r\n",
        "\r\n"
      ],
      "outputs": [
        {
          "output_type": "stream",
          "name": "stdout",
          "text": [
            "['age', 'sex', 'bmi', 'bp', 's1', 's2', 's3', 's4', 's5', 's6']\n",
            "[151.  75. 141. 206. 135.]\n",
            "[[ 0.03807591  0.05068012  0.06169621  0.02187235 -0.0442235  -0.03482076\n",
            "  -0.04340085 -0.00259226  0.01990842 -0.01764613]\n",
            " [-0.00188202 -0.04464164 -0.05147406 -0.02632783 -0.00844872 -0.01916334\n",
            "   0.07441156 -0.03949338 -0.06832974 -0.09220405]\n",
            " [ 0.08529891  0.05068012  0.04445121 -0.00567061 -0.04559945 -0.03419447\n",
            "  -0.03235593 -0.00259226  0.00286377 -0.02593034]\n",
            " [-0.08906294 -0.04464164 -0.01159501 -0.03665645  0.01219057  0.02499059\n",
            "  -0.03603757  0.03430886  0.02269202 -0.00936191]\n",
            " [ 0.00538306 -0.04464164 -0.03638469  0.02187235  0.00393485  0.01559614\n",
            "   0.00814208 -0.00259226 -0.03199144 -0.04664087]]\n"
          ]
        }
      ],
      "metadata": {
        "id": "25wDzXOXbGf-"
      }
    },
    {
      "cell_type": "code",
      "execution_count": null,
      "source": [
        "\r\n",
        "inputs, outputs = shuffle(dataset.data, dataset.target)\r\n",
        "\r\n",
        "# prepare data for training and testing\r\n",
        "trainSize = int(0.8 * len(inputs))\r\n",
        "trainInputs = inputs[:trainSize]\r\n",
        "trainOutputs = outputs[:trainSize]\r\n",
        "\r\n",
        "testInputs = inputs[trainSize:]\r\n",
        "testOutputs = outputs[trainSize:]\r\n",
        "\r\n",
        "# data normalisation\r\n",
        "from sklearn.preprocessing import StandardScaler\r\n",
        "scaler = StandardScaler()\r\n",
        "scaler.fit(trainInputs)\r\n",
        "trainInputs = scaler.transform(trainInputs)\r\n",
        "testInputs = scaler.transform(testInputs)"
      ],
      "outputs": [],
      "metadata": {}
    },
    {
      "cell_type": "code",
      "execution_count": 78,
      "source": [
        "# create an ANN\r\n",
        "model = tf.keras.Sequential([\r\n",
        "  tf.keras.layers.Dense(6, input_dim = len(trainInputs[0]), activation = tf.nn.relu),\r\n",
        "  tf.keras.layers.Dense(4, activation = tf.nn.relu),\r\n",
        "  tf.keras.layers.Dense(1, activation = 'linear')\r\n",
        "])\r\n",
        "\r\n",
        "opt1 = tf.keras.optimizers.SGD()\r\n",
        "opt2 = tf.keras.optimizers.Adam(lr=1e-3, decay=1e-3 / 200)\r\n",
        "\r\n",
        "# model.compile(optimizer=opt1,\r\n",
        "#                loss = tf.keras.losses.MeanSquaredError(),\r\n",
        "#                metrics=[tf.keras.metrics.MeanSquaredError()])\r\n",
        "\r\n",
        "model.compile(optimizer=opt1,\r\n",
        "               loss = tf.keras.losses.MeanAbsolutePercentageError(),\r\n",
        "               metrics = [tf.keras.metrics.MeanAbsolutePercentageError()])\r\n",
        "# model.summary()\r\n",
        "\r\n",
        "# train the ANN\r\n",
        "print('# Fit model on training data ')\r\n",
        "history = model.fit(trainInputs, trainOutputs, batch_size=5, epochs=10)\r\n",
        "print('\\nhistory dict:', history.history)\r\n"
      ],
      "outputs": [
        {
          "output_type": "stream",
          "name": "stdout",
          "text": [
            "# Fit model on training data \n",
            "Epoch 1/10\n",
            "71/71 [==============================] - 0s 877us/step - loss: 99.3419 - mean_absolute_percentage_error: 99.3419\n",
            "Epoch 2/10\n",
            "71/71 [==============================] - 0s 853us/step - loss: 88.7544 - mean_absolute_percentage_error: 88.7544\n",
            "Epoch 3/10\n",
            "71/71 [==============================] - 0s 886us/step - loss: 59.1537 - mean_absolute_percentage_error: 59.1537\n",
            "Epoch 4/10\n",
            "71/71 [==============================] - 0s 888us/step - loss: 37.8960 - mean_absolute_percentage_error: 37.8960\n",
            "Epoch 5/10\n",
            "71/71 [==============================] - 0s 1ms/step - loss: 35.3641 - mean_absolute_percentage_error: 35.3641\n",
            "Epoch 6/10\n",
            "71/71 [==============================] - 0s 1ms/step - loss: 34.1800 - mean_absolute_percentage_error: 34.1800\n",
            "Epoch 7/10\n",
            "71/71 [==============================] - 0s 891us/step - loss: 33.6897 - mean_absolute_percentage_error: 33.6897\n",
            "Epoch 8/10\n",
            "71/71 [==============================] - 0s 889us/step - loss: 34.3114 - mean_absolute_percentage_error: 34.3114\n",
            "Epoch 9/10\n",
            "71/71 [==============================] - 0s 909us/step - loss: 33.4893 - mean_absolute_percentage_error: 33.4893\n",
            "Epoch 10/10\n",
            "71/71 [==============================] - 0s 948us/step - loss: 32.4379 - mean_absolute_percentage_error: 32.4379\n",
            "\n",
            "history dict: {'loss': [99.34185791015625, 88.75440216064453, 59.15370559692383, 37.896026611328125, 35.36408996582031, 34.180015563964844, 33.68968963623047, 34.311424255371094, 33.48931121826172, 32.43794631958008], 'mean_absolute_percentage_error': [99.34185791015625, 88.75440216064453, 59.15370559692383, 37.896026611328125, 35.36408996582031, 34.180015563964844, 33.68968963623047, 34.311424255371094, 33.48931121826172, 32.43794631958008]}\n"
          ]
        }
      ],
      "metadata": {
        "id": "kb6kiFWNeAze",
        "outputId": "54c69d51-50dd-4819-b2c7-bb52be8027a1",
        "colab": {
          "base_uri": "https://localhost:8080/",
          "height": 436
        }
      }
    },
    {
      "cell_type": "code",
      "execution_count": 76,
      "source": [
        "# test the ANN\n",
        "testMetrics = model.evaluate(testInputs, testOutputs)\n",
        "\n",
        "# or\n",
        "# computedOutputs = model.predict(testInputs)\n",
        "# err = sum([abs((testOutputs[i] - computedOutputs[i]) / testOutputs[i]) * 100 for i in range(len(testOutputs))]) / len(testOutputs)\n",
        "# print(err)\n"
      ],
      "outputs": [
        {
          "output_type": "stream",
          "name": "stdout",
          "text": [
            "3/3 [==============================] - 0s 2ms/step - loss: 31.0980 - mean_absolute_percentage_error: 31.0980\n",
            "[31.09800148010254, 31.09800148010254]\n",
            "[31.098007]\n"
          ]
        }
      ],
      "metadata": {
        "id": "JivKAEdK0hz4",
        "outputId": "f8cad9a3-50c9-4805-b373-46ccabd25da0",
        "colab": {
          "base_uri": "https://localhost:8080/",
          "height": 69
        }
      }
    },
    {
      "cell_type": "code",
      "execution_count": 83,
      "source": [
        "# load some data (a classification problem)\r\n",
        "from sklearn.utils import shuffle\r\n",
        "from sklearn.datasets import load_iris\r\n",
        "irisDataset = load_iris()\r\n",
        "\r\n",
        "# prepare the labels in 1-hot encoding\r\n",
        "irisData, irisLabels = shuffle(irisDataset.data, irisDataset.target)\r\n",
        "oneHotLabels = tf.keras.utils.to_categorical(irisLabels, 3)\r\n",
        "irisLabels = oneHotLabels\r\n",
        "\r\n",
        "# split the data in trianing and testing\r\n",
        "trainSize = int(0.8 * len(irisData))\r\n",
        "irisTrainData = irisData[:trainSize]\r\n",
        "irisTrainLabels = irisLabels[:trainSize]\r\n",
        "\r\n",
        "irisTestData = irisData[trainSize:]\r\n",
        "irisTestLabels = irisLabels[trainSize:]\r\n",
        "\r\n",
        "# data normalisation\r\n",
        "from sklearn.preprocessing import StandardScaler\r\n",
        "scaler = StandardScaler()\r\n",
        "scaler.fit(irisTrainData)\r\n",
        "irisTrainData = scaler.transform(irisTrainData)\r\n",
        "irisTestData = scaler.transform(irisTestData)\r\n"
      ],
      "outputs": [],
      "metadata": {
        "id": "178VekCPVirA"
      }
    },
    {
      "cell_type": "code",
      "execution_count": 84,
      "source": [
        "# construct an ANN\r\n",
        "model = tf.keras.Sequential([\r\n",
        "  tf.keras.layers.Dense(2, input_dim = 4, activation = tf.nn.relu),\r\n",
        "  tf.keras.layers.Dense(3, activation=tf.nn.softmax),\r\n",
        "])\r\n",
        "\r\n",
        "model.compile(optimizer=tf.keras.optimizers.SGD(),\r\n",
        "               loss=tf.keras.losses.CategoricalCrossentropy(),\r\n",
        "               metrics=['accuracy'])\r\n",
        "model.summary()\r\n",
        "\r\n",
        "# train the ANN\r\n",
        "print('# Fit model on training data ')\r\n",
        "history = model.fit(irisTrainData, irisTrainLabels, batch_size=10, epochs=10)\r\n",
        "print('\\nhistory dict:', history.history)\r\n"
      ],
      "outputs": [
        {
          "output_type": "stream",
          "name": "stdout",
          "text": [
            "Model: \"sequential_37\"\n",
            "_________________________________________________________________\n",
            "Layer (type)                 Output Shape              Param #   \n",
            "=================================================================\n",
            "dense_98 (Dense)             (None, 2)                 10        \n",
            "_________________________________________________________________\n",
            "dense_99 (Dense)             (None, 3)                 9         \n",
            "=================================================================\n",
            "Total params: 19\n",
            "Trainable params: 19\n",
            "Non-trainable params: 0\n",
            "_________________________________________________________________\n",
            "# Fit model on training data \n",
            "Epoch 1/10\n",
            "12/12 [==============================] - 0s 1ms/step - loss: 0.9524 - accuracy: 0.6750\n",
            "Epoch 2/10\n",
            "12/12 [==============================] - 0s 1ms/step - loss: 0.9466 - accuracy: 0.6750\n",
            "Epoch 3/10\n",
            "12/12 [==============================] - 0s 1ms/step - loss: 0.9409 - accuracy: 0.6750\n",
            "Epoch 4/10\n",
            "12/12 [==============================] - 0s 1ms/step - loss: 0.9350 - accuracy: 0.6833\n",
            "Epoch 5/10\n",
            "12/12 [==============================] - 0s 1ms/step - loss: 0.9291 - accuracy: 0.6750\n",
            "Epoch 6/10\n",
            "12/12 [==============================] - 0s 1ms/step - loss: 0.9231 - accuracy: 0.6833\n",
            "Epoch 7/10\n",
            "12/12 [==============================] - 0s 1ms/step - loss: 0.9171 - accuracy: 0.6750\n",
            "Epoch 8/10\n",
            "12/12 [==============================] - 0s 2ms/step - loss: 0.9111 - accuracy: 0.6917\n",
            "Epoch 9/10\n",
            "12/12 [==============================] - 0s 1ms/step - loss: 0.9049 - accuracy: 0.6833\n",
            "Epoch 10/10\n",
            "12/12 [==============================] - 0s 1ms/step - loss: 0.8986 - accuracy: 0.6917\n",
            "\n",
            "history dict: {'loss': [0.9524099230766296, 0.9466322064399719, 0.9409042000770569, 0.9349632859230042, 0.9290592074394226, 0.9230889081954956, 0.9171331524848938, 0.911054790019989, 0.904931366443634, 0.8985841274261475], 'accuracy': [0.675000011920929, 0.675000011920929, 0.675000011920929, 0.6833333373069763, 0.675000011920929, 0.6833333373069763, 0.675000011920929, 0.6916666626930237, 0.6833333373069763, 0.6916666626930237]}\n"
          ]
        }
      ],
      "metadata": {
        "id": "nE3H2mbEDUqx",
        "outputId": "c91aa5d6-c5a9-4ac9-9ca9-8c92a2e88513",
        "colab": {
          "base_uri": "https://localhost:8080/",
          "height": 644
        }
      }
    },
    {
      "cell_type": "code",
      "execution_count": 85,
      "source": [
        "# test the trained ANN\r\n",
        "output = model.evaluate(irisTestData, irisTestLabels)\r\n",
        "\r\n"
      ],
      "outputs": [
        {
          "output_type": "stream",
          "name": "stdout",
          "text": [
            "1/1 [==============================] - 0s 2ms/step - loss: 0.9581 - accuracy: 0.5000\n"
          ]
        }
      ],
      "metadata": {
        "id": "jOPzGaID91DS",
        "outputId": "5aa1693c-19e1-4a3b-f8ea-5b125884d96c",
        "colab": {
          "base_uri": "https://localhost:8080/",
          "height": 35
        }
      }
    },
    {
      "cell_type": "code",
      "execution_count": 86,
      "source": [
        "# try another architecture\r\n",
        "model2 = tf.keras.Sequential([\r\n",
        "  tf.keras.layers.Dense(2, input_dim = 4, activation = tf.nn.relu),\r\n",
        "  tf.keras.layers.Dense(8, activation = tf.nn.relu),\r\n",
        "  tf.keras.layers.Dense(3, activation=tf.nn.softmax),\r\n",
        "])\r\n",
        "\r\n",
        "model2.compile(optimizer=tf.keras.optimizers.SGD(),\r\n",
        "               loss=tf.keras.losses.CategoricalCrossentropy(),\r\n",
        "               metrics=['accuracy'])\r\n",
        "history2 = model2.fit(irisTrainData, irisTrainLabels, batch_size=10, epochs=10)"
      ],
      "outputs": [
        {
          "output_type": "stream",
          "name": "stdout",
          "text": [
            "Epoch 1/10\n",
            "12/12 [==============================] - 0s 1ms/step - loss: 1.6783 - accuracy: 0.2000\n",
            "Epoch 2/10\n",
            "12/12 [==============================] - 0s 1ms/step - loss: 1.4094 - accuracy: 0.1250\n",
            "Epoch 3/10\n",
            "12/12 [==============================] - 0s 1ms/step - loss: 1.2478 - accuracy: 0.1667\n",
            "Epoch 4/10\n",
            "12/12 [==============================] - 0s 1ms/step - loss: 1.1527 - accuracy: 0.2750\n",
            "Epoch 5/10\n",
            "12/12 [==============================] - 0s 1ms/step - loss: 1.1069 - accuracy: 0.3583\n",
            "Epoch 6/10\n",
            "12/12 [==============================] - 0s 1ms/step - loss: 1.0791 - accuracy: 0.4250\n",
            "Epoch 7/10\n",
            "12/12 [==============================] - 0s 1ms/step - loss: 1.0566 - accuracy: 0.4833\n",
            "Epoch 8/10\n",
            "12/12 [==============================] - 0s 1ms/step - loss: 1.0371 - accuracy: 0.5250\n",
            "Epoch 9/10\n",
            "12/12 [==============================] - 0s 1ms/step - loss: 1.0190 - accuracy: 0.5417\n",
            "Epoch 10/10\n",
            "12/12 [==============================] - 0s 1ms/step - loss: 1.0025 - accuracy: 0.5917\n"
          ]
        }
      ],
      "metadata": {
        "id": "qqZyyJ_5GRUH",
        "outputId": "350f4b71-115f-4e53-d844-07c2f27481a7",
        "colab": {
          "base_uri": "https://localhost:8080/",
          "height": 364
        }
      }
    },
    {
      "cell_type": "code",
      "execution_count": 87,
      "source": [
        "import matplotlib.pyplot as plt\r\n",
        "\r\n",
        "loss1, = plt.plot(history.history['loss'], label = 'loss model1')\r\n",
        "acc1, = plt.plot(history.history['accuracy'], label = 'acc model1')\r\n",
        "\r\n",
        "loss2, = plt.plot(history2.history['loss'], label = 'loss model2')\r\n",
        "acc2, = plt.plot(history2.history['accuracy'], label = 'acc model2')\r\n",
        "plt.legend([loss1, (loss1, acc1), (loss1, acc1, loss2), (loss1, acc1, loss2, acc2)], ['Loss model1', 'Acc model1', 'Loss model2', 'Acc model2'])\r\n",
        "plt.xlabel('Batch #')\r\n",
        "plt.ylabel('Loss & acc')\r\n"
      ],
      "outputs": [
        {
          "output_type": "execute_result",
          "data": {
            "text/plain": [
              "Text(0, 0.5, 'Loss & acc')"
            ]
          },
          "metadata": {
            "tags": []
          },
          "execution_count": 87
        },
        {
          "output_type": "display_data",
          "data": {
            "image/png": "[encoded data removed]",
            "text/plain": [
              "<Figure size 432x288 with 1 Axes>"
            ]
          },
          "metadata": {
            "tags": [],
            "needs_background": "light"
          }
        }
      ],
      "metadata": {
        "id": "IWK19vz05AmD",
        "outputId": "14cddca5-b659-409f-c9c7-d29985b3ecb6",
        "colab": {
          "base_uri": "https://localhost:8080/",
          "height": 297
        }
      }
    },
    {
      "cell_type": "code",
      "execution_count": 89,
      "source": [
        "print('performance of simple ANN ')\r\n",
        "test_loss1, test_acc1 = model.evaluate(irisTestData, irisTestLabels, verbose=2)\r\n",
        "print('performance of more complex ANN ')\r\n",
        "test_loss2, test_acc2 = model2.evaluate(irisTestData, irisTestLabels, verbose=2)\r\n"
      ],
      "outputs": [
        {
          "output_type": "stream",
          "name": "stdout",
          "text": [
            "performance of simple ANN \n",
            "1/1 - 0s - loss: 0.9581 - accuracy: 0.5000\n",
            "performance of more complex ANN \n",
            "1/1 - 0s - loss: 0.9584 - accuracy: 0.6000\n"
          ]
        }
      ],
      "metadata": {
        "id": "PMakzBkmIma6",
        "outputId": "170e6428-a1db-426b-d47f-e46685b1a183",
        "colab": {
          "base_uri": "https://localhost:8080/",
          "height": 87
        }
      }
    },
    {
      "cell_type": "code",
      "execution_count": 90,
      "source": [
        "# CNN example\r\n",
        "\r\n",
        "# load data\r\n",
        "mnist = tf.keras.datasets.mnist\r\n",
        "(trainImages, trainLabels), (testImages, testLabels) = mnist.load_data()\r\n",
        "\r\n",
        "# normalise\r\n",
        "trainImages, testImages = trainImages / 255, testImages / 255\r\n",
        "\r\n",
        "# transform labels into one-hot encoding\r\n",
        "trainLabels1hot = tf.keras.utils.to_categorical(trainLabels, 10)\r\n",
        "testLabels1hot = tf.keras.utils.to_categorical(testLabels, 10)\r\n",
        "\r\n",
        "\r\n",
        "class_names = ['0', '1', '2', '3', '4', '5', '6', '7', '8', '9']\r\n",
        "plt.figure(figsize=(10,10))\r\n",
        "for i in range(25):\r\n",
        "    plt.subplot(5,5,i+1)\r\n",
        "    plt.xticks([])\r\n",
        "    plt.yticks([])\r\n",
        "    plt.grid(False)\r\n",
        "    plt.imshow(trainImages[i], cmap=plt.cm.binary)\r\n",
        "    plt.xlabel(class_names[trainLabels[i]])\r\n",
        "plt.show()\r\n"
      ],
      "outputs": [
        {
          "output_type": "stream",
          "name": "stdout",
          "text": [
            "Downloading data from https://storage.googleapis.com/tensorflow/tf-keras-datasets/mnist.npz\n",
            "11493376/11490434 [==============================] - 0s 0us/step\n"
          ]
        },
        {
          "output_type": "display_data",
          "data": {
            "image/png": "[encoded data removed]",
            "text/plain": [
              "<Figure size 720x720 with 25 Axes>"
            ]
          },
          "metadata": {
            "tags": []
          }
        }
      ],
      "metadata": {
        "id": "vPhTiqgqKM4x",
        "outputId": "9558c6a5-b79b-47a2-b499-633336158b6d",
        "colab": {
          "base_uri": "https://localhost:8080/",
          "height": 624
        }
      }
    },
    {
      "cell_type": "code",
      "execution_count": 93,
      "source": [
        "modelANN = tf.keras.Sequential([\r\n",
        "    tf.keras.layers.Flatten(input_shape=(28, 28)),\r\n",
        "    tf.keras.layers.Dense(128, activation='relu'),\r\n",
        "    tf.keras.layers.Dense(32, activation='relu'),\r\n",
        "    tf.keras.layers.Dense(10, activation='softmax')\r\n",
        "])\r\n",
        "\r\n",
        "modelANN.summary()\r\n",
        "\r\n",
        "modelANN.compile(optimizer=tf.keras.optimizers.SGD(),\r\n",
        "               loss=tf.keras.losses.CategoricalCrossentropy(),\r\n",
        "               metrics=['accuracy'])\r\n",
        "historyANN = modelANN.fit(trainImages, trainLabels1hot, batch_size=128, epochs=3)"
      ],
      "outputs": [
        {
          "output_type": "stream",
          "name": "stdout",
          "text": [
            "Model: \"sequential_41\"\n",
            "_________________________________________________________________\n",
            "Layer (type)                 Output Shape              Param #   \n",
            "=================================================================\n",
            "flatten_2 (Flatten)          (None, 784)               0         \n",
            "_________________________________________________________________\n",
            "dense_108 (Dense)            (None, 128)               100480    \n",
            "_________________________________________________________________\n",
            "dense_109 (Dense)            (None, 32)                4128      \n",
            "_________________________________________________________________\n",
            "dense_110 (Dense)            (None, 10)                330       \n",
            "=================================================================\n",
            "Total params: 104,938\n",
            "Trainable params: 104,938\n",
            "Non-trainable params: 0\n",
            "_________________________________________________________________\n",
            "Epoch 1/3\n",
            "469/469 [==============================] - 2s 4ms/step - loss: 1.2482 - accuracy: 0.6606\n",
            "Epoch 2/3\n",
            "469/469 [==============================] - 2s 4ms/step - loss: 0.5422 - accuracy: 0.8583\n",
            "Epoch 3/3\n",
            "469/469 [==============================] - 2s 3ms/step - loss: 0.4100 - accuracy: 0.8892\n"
          ]
        }
      ],
      "metadata": {
        "id": "SkRpc-iEKWl6",
        "outputId": "4e3492ae-7cce-4d72-df22-5f275e745458",
        "colab": {
          "base_uri": "https://localhost:8080/",
          "height": 399
        }
      }
    },
    {
      "cell_type": "code",
      "execution_count": 94,
      "source": [
        "# input image dimensions\r\n",
        "# loaded mnist data are 28x28 images, but CNN requires new reshapes (28x28x1)\r\n",
        "img_rows, img_cols = 28, 28\r\n",
        "trainImages = trainImages.reshape(trainImages.shape[0], img_rows, img_cols, 1)\r\n",
        "testImages = testImages.reshape(testImages.shape[0], img_rows, img_cols, 1)\r\n",
        "input_shape = (img_rows, img_cols, 1)\r\n",
        "\r\n",
        "modelCNN = tf.keras.Sequential([\r\n",
        "      tf.keras.layers.Conv2D(32, (3, 3), activation='relu', input_shape=(28, 28, 1)),\r\n",
        "      tf.keras.layers.Conv2D(64, (3, 3), activation='relu'),\r\n",
        "      tf.keras.layers.MaxPooling2D(pool_size=(2,2)),\r\n",
        "      tf.keras.layers.Dropout(0.25),\r\n",
        "      tf.keras.layers.Flatten(),\r\n",
        "      tf.keras.layers.Dense(128, activation='relu'),\r\n",
        "      tf.keras.layers.Dropout(0.5),\r\n",
        "      tf.keras.layers.Dense(10, activation='softmax')\r\n",
        "])\r\n",
        "\r\n",
        "modelCNN.summary()\r\n",
        "\r\n",
        "modelCNN.compile(optimizer=tf.keras.optimizers.SGD(),\r\n",
        "               loss=tf.keras.losses.CategoricalCrossentropy(),\r\n",
        "               metrics=['accuracy'])\r\n",
        "\r\n",
        "historyCNN = modelCNN.fit(trainImages, trainLabels1hot, batch_size=128, epochs=3)"
      ],
      "outputs": [
        {
          "output_type": "stream",
          "name": "stdout",
          "text": [
            "Model: \"sequential_42\"\n",
            "_________________________________________________________________\n",
            "Layer (type)                 Output Shape              Param #   \n",
            "=================================================================\n",
            "conv2d_2 (Conv2D)            (None, 26, 26, 32)        320       \n",
            "_________________________________________________________________\n",
            "conv2d_3 (Conv2D)            (None, 24, 24, 64)        18496     \n",
            "_________________________________________________________________\n",
            "max_pooling2d_1 (MaxPooling2 (None, 12, 12, 64)        0         \n",
            "_________________________________________________________________\n",
            "dropout_2 (Dropout)          (None, 12, 12, 64)        0         \n",
            "_________________________________________________________________\n",
            "flatten_3 (Flatten)          (None, 9216)              0         \n",
            "_________________________________________________________________\n",
            "dense_111 (Dense)            (None, 128)               1179776   \n",
            "_________________________________________________________________\n",
            "dropout_3 (Dropout)          (None, 128)               0         \n",
            "_________________________________________________________________\n",
            "dense_112 (Dense)            (None, 10)                1290      \n",
            "=================================================================\n",
            "Total params: 1,199,882\n",
            "Trainable params: 1,199,882\n",
            "Non-trainable params: 0\n",
            "_________________________________________________________________\n",
            "Epoch 1/3\n",
            "469/469 [==============================] - 151s 322ms/step - loss: 0.9924 - accuracy: 0.6909\n",
            "Epoch 2/3\n",
            "469/469 [==============================] - 145s 310ms/step - loss: 0.4357 - accuracy: 0.8654\n",
            "Epoch 3/3\n",
            "469/469 [==============================] - 145s 310ms/step - loss: 0.3626 - accuracy: 0.8918\n"
          ]
        }
      ],
      "metadata": {
        "id": "s7c0p13izzCz",
        "outputId": "b6036c95-c54a-4e81-a261-750891cc78c0",
        "colab": {
          "base_uri": "https://localhost:8080/",
          "height": 537
        }
      }
    },
    {
      "cell_type": "code",
      "execution_count": null,
      "source": [],
      "outputs": [],
      "metadata": {
        "id": "YW13SPnVDDzT"
      }
    },
    {
      "cell_type": "code",
      "execution_count": 95,
      "source": [
        "import matplotlib.pyplot as plt\r\n",
        "\r\n",
        "loss1, = plt.plot(historyANN.history['loss'], label = 'loss ANN')\r\n",
        "acc1, = plt.plot(historyANN.history['accuracy'], label = 'acc ANN')\r\n",
        "\r\n",
        "loss2, = plt.plot(historyCNN.history['loss'], label = 'loss CNN')\r\n",
        "acc2, = plt.plot(historyCNN.history['accuracy'], label = 'acc CNN')\r\n",
        "plt.legend([loss1, (loss1, acc1), (loss1, acc1, loss2), (loss1, acc1, loss2, acc2)], ['Loss ANN', 'Acc ANN', 'Loss CNN', 'Acc CNN'])\r\n",
        "plt.xlabel('Batch #')\r\n",
        "plt.ylabel('Loss & acc')"
      ],
      "outputs": [
        {
          "output_type": "execute_result",
          "data": {
            "text/plain": [
              "Text(0, 0.5, 'Loss & acc')"
            ]
          },
          "metadata": {
            "tags": []
          },
          "execution_count": 95
        },
        {
          "output_type": "display_data",
          "data": {
            "image/png": "[encoded data removed]",
            "text/plain": [
              "<Figure size 432x288 with 1 Axes>"
            ]
          },
          "metadata": {
            "tags": [],
            "needs_background": "light"
          }
        }
      ],
      "metadata": {
        "id": "Qnso7WQ8zI61",
        "outputId": "d188797c-454a-4520-e114-2cced5a02d54",
        "colab": {
          "base_uri": "https://localhost:8080/",
          "height": 297
        }
      }
    },
    {
      "cell_type": "code",
      "execution_count": 103,
      "source": [
        "# LeNet network\r\n",
        "\r\n",
        "from sklearn.model_selection import train_test_split\r\n",
        "trainImages, validImages, trainLabels1hot, validLabels1hot = train_test_split(\r\n",
        "    trainImages, trainLabels1hot, test_size = 0.1, random_state=42)\r\n",
        "\r\n",
        "\r\n",
        "# activationType = 'sigmoid'\r\n",
        "activationType = 'relu'\r\n",
        "\r\n",
        "# LeNet5 (activation = sigmoid)\r\n",
        "modelLeNet = tf.keras.Sequential([\r\n",
        "  tf.keras.layers.Conv2D(filters=6, kernel_size=3, activation=activationType,\r\n",
        "                               padding='same'),\r\n",
        "  tf.keras.layers.AvgPool2D(pool_size=2, strides=2),\r\n",
        "  tf.keras.layers.Conv2D(filters=16, kernel_size=3,\r\n",
        "                               activation=activationType),\r\n",
        "  tf.keras.layers.AvgPool2D(pool_size=2, strides=2),\r\n",
        "  tf.keras.layers.Flatten(),\r\n",
        "  tf.keras.layers.Dense(120, activation=activationType),\r\n",
        "  tf.keras.layers.Dense(84, activation=activationType),\r\n",
        "  # tf.keras.layers.Dense(10)])  # a linear activation is not enough for classification problems\r\n",
        "  tf.keras.layers.Dense(10, activation='softmax')])\r\n",
        "\r\n",
        "\r\n",
        "\r\n",
        "modelLeNet.compile(optimizer=tf.keras.optimizers.SGD(learning_rate=0.001),\r\n",
        "               loss=tf.keras.losses.CategoricalCrossentropy(),\r\n",
        "               metrics=['accuracy'])\r\n",
        "\r\n",
        "import math\r\n",
        "from keras.callbacks import ModelCheckpoint, LearningRateScheduler\r\n",
        "\r\n",
        "def step_decay(epoch):\r\n",
        "    initial_lrate=0.1\r\n",
        "    drop=0.6\r\n",
        "    epochs_drop = 3.0\r\n",
        "    lrate= initial_lrate * math.pow(drop,  \r\n",
        "           math.floor((1+epoch)/epochs_drop))\r\n",
        "    return lrate\r\n",
        "   \r\n",
        "\r\n",
        "lrate = LearningRateScheduler(step_decay)\r\n",
        "callbacks_list = [ lrate]\r\n",
        "\r\n",
        "print('# Fit model on training data ')\r\n",
        "history = modelLeNet.fit(trainImages, trainLabels1hot, \r\n",
        "                    validation_data=(validImages, validLabels1hot), \r\n",
        "                    batch_size=128, epochs=3, \r\n",
        "                    callbacks=callbacks_list, \r\n",
        "                    verbose=1)\r\n",
        "print('\\nhistory dict:', history.history)\r\n",
        "\r\n",
        "modelLeNet.summary()\r\n",
        "\r\n"
      ],
      "outputs": [
        {
          "output_type": "stream",
          "name": "stdout",
          "text": [
            "# Fit model on training data \n",
            "Epoch 1/3\n",
            "380/380 [==============================] - 18s 48ms/step - loss: 0.7588 - accuracy: 0.7679 - val_loss: 0.2594 - val_accuracy: 0.9167\n",
            "Epoch 2/3\n",
            "380/380 [==============================] - 18s 48ms/step - loss: 0.1839 - accuracy: 0.9437 - val_loss: 0.1514 - val_accuracy: 0.9541\n",
            "Epoch 3/3\n",
            "380/380 [==============================] - 18s 48ms/step - loss: 0.1149 - accuracy: 0.9641 - val_loss: 0.1267 - val_accuracy: 0.9589\n",
            "\n",
            "history dict: {'loss': [0.7588186264038086, 0.18394780158996582, 0.11485989391803741], 'accuracy': [0.7678600549697876, 0.9436625242233276, 0.9640740752220154], 'val_loss': [0.2594316899776459, 0.15144960582256317, 0.12672777473926544], 'val_accuracy': [0.9166666865348816, 0.9540740847587585, 0.9588888883590698], 'lr': [0.1, 0.1, 0.06]}\n",
            "Model: \"sequential_45\"\n",
            "_________________________________________________________________\n",
            "Layer (type)                 Output Shape              Param #   \n",
            "=================================================================\n",
            "conv2d_8 (Conv2D)            (None, 28, 28, 6)         60        \n",
            "_________________________________________________________________\n",
            "average_pooling2d_4 (Average (None, 14, 14, 6)         0         \n",
            "_________________________________________________________________\n",
            "conv2d_9 (Conv2D)            (None, 12, 12, 16)        880       \n",
            "_________________________________________________________________\n",
            "average_pooling2d_5 (Average (None, 6, 6, 16)          0         \n",
            "_________________________________________________________________\n",
            "flatten_6 (Flatten)          (None, 576)               0         \n",
            "_________________________________________________________________\n",
            "dense_119 (Dense)            (None, 120)               69240     \n",
            "_________________________________________________________________\n",
            "dense_120 (Dense)            (None, 84)                10164     \n",
            "_________________________________________________________________\n",
            "dense_121 (Dense)            (None, 10)                850       \n",
            "=================================================================\n",
            "Total params: 81,194\n",
            "Trainable params: 81,194\n",
            "Non-trainable params: 0\n",
            "_________________________________________________________________\n"
          ]
        }
      ],
      "metadata": {
        "id": "SVvM0-5cDFKC",
        "outputId": "adf4ce29-e54e-47d0-9b30-42722b89a9e0",
        "colab": {
          "base_uri": "https://localhost:8080/",
          "height": 609
        }
      }
    },
    {
      "cell_type": "code",
      "execution_count": 104,
      "source": [
        "lossTrain = history.history['loss']\r\n",
        "accTrain = history.history['accuracy']\r\n",
        "lossValid = history.history['val_loss']\r\n",
        "accValid = history.history['val_accuracy']\r\n",
        "\r\n",
        "epochs = range(1, len(lossTrain) + 1)\r\n",
        "plt.plot(epochs, accTrain, color = 'blue', label = 'Training acc')\r\n",
        "plt.plot(epochs, accValid, color = 'pink', label = 'Validation acc')\r\n",
        "\r\n",
        "plt.legend()\r\n",
        "plt.xlabel('epochs')\r\n",
        "plt.ylabel('acc')\r\n",
        "plt.show()\r\n"
      ],
      "outputs": [
        {
          "output_type": "display_data",
          "data": {
            "image/png": "[encoded data removed]",
            "text/plain": [
              "<Figure size 432x288 with 1 Axes>"
            ]
          },
          "metadata": {
            "tags": [],
            "needs_background": "light"
          }
        }
      ],
      "metadata": {
        "id": "8zORuqHSDg5R",
        "outputId": "cc61cc87-c82f-47c4-c579-792f73df6dfe",
        "colab": {
          "base_uri": "https://localhost:8080/",
          "height": 279
        }
      }
    },
    {
      "cell_type": "code",
      "execution_count": 105,
      "source": [
        "epochs = range(1, len(lossTrain) + 1)\r\n",
        "plt.plot(epochs, lossTrain, color = 'red', label = 'Training loss')\r\n",
        "plt.plot(epochs, lossValid, color = 'green', label = 'Validation loss')\r\n",
        "\r\n",
        "plt.legend()\r\n",
        "plt.xlabel('epochs')\r\n",
        "plt.ylabel('loss')\r\n",
        "plt.show()"
      ],
      "outputs": [
        {
          "output_type": "display_data",
          "data": {
            "image/png": "[encoded data removed]",
            "text/plain": [
              "<Figure size 432x288 with 1 Axes>"
            ]
          },
          "metadata": {
            "tags": [],
            "needs_background": "light"
          }
        }
      ],
      "metadata": {
        "id": "wmJBLY1MEG8c",
        "outputId": "6b0c63da-e4ef-4f8a-ce92-37d96546ba24",
        "colab": {
          "base_uri": "https://localhost:8080/",
          "height": 279
        }
      }
    },
    {
      "cell_type": "code",
      "execution_count": 106,
      "source": [
        "from sklearn.metrics import classification_report\n",
        "import numpy as np\n",
        "\n",
        "print(classification_report(testLabels, np.argmax(modelLeNet.predict(testImages), axis=1)))\n"
      ],
      "outputs": [
        {
          "output_type": "stream",
          "name": "stdout",
          "text": [
            "              precision    recall  f1-score   support\n",
            "\n",
            "           0       0.99      0.98      0.98       980\n",
            "           1       0.99      0.99      0.99      1135\n",
            "           2       0.96      0.98      0.97      1032\n",
            "           3       0.89      0.98      0.94      1010\n",
            "           4       0.97      0.97      0.97       982\n",
            "           5       0.99      0.92      0.95       892\n",
            "           6       0.97      0.98      0.97       958\n",
            "           7       0.98      0.95      0.97      1028\n",
            "           8       0.97      0.93      0.95       974\n",
            "           9       0.94      0.95      0.95      1009\n",
            "\n",
            "    accuracy                           0.96     10000\n",
            "   macro avg       0.96      0.96      0.96     10000\n",
            "weighted avg       0.96      0.96      0.96     10000\n",
            "\n"
          ]
        }
      ],
      "metadata": {
        "id": "Jcx0DR_jEK_M",
        "outputId": "bfe7c336-2b66-4b3f-bfbb-b2c5c56d5ff4",
        "colab": {
          "base_uri": "https://localhost:8080/",
          "height": 312
        }
      }
    },
    {
      "cell_type": "code",
      "execution_count": 107,
      "source": [
        "# visualise the feature maps\r\n",
        "# http://www.iro.umontreal.ca/~lisa/publications2/index.php/publications/show/247\r\n",
        "# https://cs231n.github.io/understanding-cnn/\r\n",
        "\r\n",
        "\r\n",
        "from keras.models import Model\r\n",
        "\r\n",
        "# redefine model to output right after the first hidden layer\r\n",
        "model = Model(inputs=modelLeNet.inputs, outputs=modelLeNet.layers[1].output)\r\n",
        "model.summary()\r\n",
        "\r\n",
        "feature_maps = model.predict(trainImages[0].reshape(1, 28, 28, 1))\r\n",
        "\r\n",
        "# plot all 6 maps (first conv layer has 6 filters) in 2x3 squares\r\n",
        "ix = 1\r\n",
        "for _ in range(2):\r\n",
        "\tfor _ in range(3):\r\n",
        "\t\t# specify subplot and turn of axis\r\n",
        "\t\tax = plt.subplot(2, 3, ix)\r\n",
        "\t\tax.set_xticks([])\r\n",
        "\t\tax.set_yticks([])\r\n",
        "\t\t# plot filter channel in grayscale\r\n",
        "\t\tplt.imshow(feature_maps[0, :, :, ix-1], cmap='gray')\r\n",
        "\t\tix += 1\r\n",
        "# show the figure\r\n",
        "plt.show()"
      ],
      "outputs": [
        {
          "output_type": "stream",
          "name": "stdout",
          "text": [
            "Model: \"functional_5\"\n",
            "_________________________________________________________________\n",
            "Layer (type)                 Output Shape              Param #   \n",
            "=================================================================\n",
            "conv2d_8_input (InputLayer)  [(None, 28, 28, 1)]       0         \n",
            "_________________________________________________________________\n",
            "conv2d_8 (Conv2D)            (None, 28, 28, 6)         60        \n",
            "_________________________________________________________________\n",
            "average_pooling2d_4 (Average (None, 14, 14, 6)         0         \n",
            "=================================================================\n",
            "Total params: 60\n",
            "Trainable params: 60\n",
            "Non-trainable params: 0\n",
            "_________________________________________________________________\n"
          ]
        },
        {
          "output_type": "display_data",
          "data": {
            "image/png": "[encoded data removed]",
            "text/plain": [
              "<Figure size 432x288 with 6 Axes>"
            ]
          },
          "metadata": {
            "tags": []
          }
        }
      ],
      "metadata": {
        "id": "BtY1ohlTEcq8",
        "outputId": "a8b47155-016e-4e14-88f9-a81bfe7a9b89",
        "colab": {
          "base_uri": "https://localhost:8080/",
          "height": 494
        }
      }
    },
    {
      "cell_type": "code",
      "execution_count": null,
      "source": [
        "# TO DOs for a CNN\r\n",
        "\r\n",
        "# Replace the average pooling with max pooling. What happens?\r\n",
        "\r\n",
        "# Try to construct a more complex network based on LeNet to improve its accuracy.\r\n",
        "\r\n",
        "# Adjust the convolution window size.\r\n",
        "\r\n",
        "# Adjust the number of output channels.\r\n",
        "\r\n",
        "# Adjust the activation function (e.g., ReLU).\r\n",
        "\r\n",
        "# Adjust the number of convolution layers.\r\n",
        "\r\n",
        "# Adjust the number of fully connected layers.\r\n",
        "\r\n",
        "# Adjust the learning rates and other training details (e.g., initialization and number of epochs.)\r\n",
        "\r\n"
      ],
      "outputs": [],
      "metadata": {
        "id": "QxTJmPKuFeNb"
      }
    }
  ]
}