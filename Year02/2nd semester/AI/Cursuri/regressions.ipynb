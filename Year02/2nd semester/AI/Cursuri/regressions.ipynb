{
  "nbformat": 4,
  "nbformat_minor": 2,
  "metadata": {
    "colab": {
      "name": "MLopenCourse.ipynb",
      "provenance": [],
      "collapsed_sections": [],
      "toc_visible": true
    },
    "kernelspec": {
      "name": "python3",
      "display_name": "Python 3.7.2 64-bit ('myenv': venv)"
    },
    "language_info": {
      "codemirror_mode": {
        "name": "ipython",
        "version": 3
      },
      "file_extension": ".py",
      "mimetype": "text/x-python",
      "name": "python",
      "nbconvert_exporter": "python",
      "pygments_lexer": "ipython3",
      "version": "3.7.2"
    },
    "interpreter": {
      "hash": "e9dc543f66030a8dac45661f55ca2fb15f567084184f0424c1f0b6ed578c96be"
    }
  },
  "cells": [
    {
      "cell_type": "markdown",
      "source": [
        "# Introducere"
      ],
      "metadata": {
        "id": "3LH0LrqRZlly"
      }
    },
    {
      "cell_type": "markdown",
      "source": [
        "\n",
        "Scopul invatarii automate\n",
        "- crearea unei legaturi intre date (date de intrare si date de iesire, date cunoscute si date necunoascute)\n",
        "\n",
        "Cum?\n",
        "- cu ajutorul unui program1 menit sa antreneze un alt program2 (numit model de predictie) care va procesa informatiile propriu-zise (numite date de antrenament)\n",
        "- dupa antrenare, programul2 (modelul) va prelua date si va furniza rezultate (predictii)\n",
        "\n",
        "Invatarea automata\n",
        "- supervizata - atunci cand datele de antrenament sunt etichetate (= date de intrare cunoscute, date de iesire cunoscute)\n",
        "- nesupervizata - atunci cand datele de antrenament nu sunt etichetate (= date de intrare cunoscute, date de iesire necunoscute, dar exista unele informatii despre acestea)\n",
        "\n",
        "Pasi importanti in dezvoltarea unui proiect de invatare automata\n",
        "1. definirea problemei in terminologia invatarii automate\n",
        "2. colectarea si pregatirea datelor\n",
        "3. antrenarea unui model de predictie\n",
        "4. utilizarea modelului de predictie "
      ],
      "metadata": {
        "id": "Fj-2oPsnZjTJ"
      }
    },
    {
      "cell_type": "markdown",
      "source": [
        "# Exemplificare probleme de regresie"
      ],
      "metadata": {
        "id": "lvBeneLOZsNU"
      }
    },
    {
      "cell_type": "markdown",
      "source": [
        "## Prerequisites\n",
        "\n"
      ],
      "metadata": {
        "id": "LS7zh-CwZ7Fs"
      }
    },
    {
      "cell_type": "code",
      "execution_count": 8,
      "source": [
        "#@title run the code below to import the necessary dependencies \r\n",
        "\r\n",
        "import csv\r\n",
        "import matplotlib.pyplot as plt \r\n",
        "import os\r\n",
        "import io\r\n",
        "import requests\r\n",
        "import pandas as pd\r\n",
        "import numpy as np\r\n",
        "from sklearn import tree\r\n",
        "from sklearn import linear_model\r\n",
        "from sklearn.metrics import accuracy_score\r\n",
        "from sklearn.metrics import mean_squared_error\r\n",
        "from sklearn import linear_model\r\n",
        "\r\n",
        "  \r\n",
        "def loadData(fileName, featureNames, outputVariabName):\r\n",
        "    data = []\r\n",
        "    dataNames = []\r\n",
        "    csv_reader = csv.reader(fileName, delimiter=',')\r\n",
        "    line_count = 0\r\n",
        "    for row in csv_reader:\r\n",
        "        if line_count == 0:\r\n",
        "            dataNames = row\r\n",
        "        else:\r\n",
        "            data.append(row)\r\n",
        "        line_count += 1\r\n",
        "    inputs = []\r\n",
        "    for i in range(len(data)):\r\n",
        "        crtExample = []\r\n",
        "        for feature in featureNames:\r\n",
        "            selectedVariable = dataNames.index(feature)\r\n",
        "            crtExample.append(data[i][selectedVariable])\r\n",
        "        inputs.append(crtExample)\r\n",
        "        \r\n",
        "    selectedOutput = dataNames.index(outputVariabName)\r\n",
        "    outputs = []\r\n",
        "    for i in range(len(data)):\r\n",
        "        outputs.append(data[i][selectedOutput])\r\n",
        "    \r\n",
        "    return inputs, outputs\r\n",
        "\r\n",
        "def fromStringToNumericData(values):\r\n",
        "    if isinstance(values[0], list):\r\n",
        "        aux = []\r\n",
        "        for i in range(len(values)):\r\n",
        "            line = []\r\n",
        "            for j in range(len(values[i])):\r\n",
        "                line.append(float(values[i][j]))\r\n",
        "            aux.append(line)\r\n",
        "        return aux\r\n",
        "    else:\r\n",
        "        aux = []\r\n",
        "        for i in range(len(values)):\r\n",
        "            aux.append(float(values[i]))\r\n",
        "        return aux\r\n",
        "\r\n",
        "def getFeature(data, pos):\r\n",
        "    values = []\r\n",
        "    for i in range(len(data)):\r\n",
        "        values.append(data[i][pos])\r\n",
        "    return values\r\n",
        "\r\n",
        "def plotData(inputData, outputData, inputNames, outputName):\r\n",
        "    # a single feature\r\n",
        "    if len(inputData[0]) == 1: \r\n",
        "        featureValues = [inputData[i][0] for i in range(len(inputData))]        \r\n",
        "        fig = plt.plot(featureValues, outputData, 'ro') \r\n",
        "        plt.xlabel(inputNames[0])\r\n",
        "        plt.ylabel(outputName)\r\n",
        "        plt.title(outputName + ' for different ' + inputNames[0])\r\n",
        "        plt.show()\r\n",
        "    else:\r\n",
        "        # two features\r\n",
        "        if len(inputData[0]) == 2:\r\n",
        "            featureValues1 = [inputData[i][0] for i in range(len(inputData))] \r\n",
        "            featureValues2 = [inputData[i][1] for i in range(len(inputData))]   \r\n",
        "            from mpl_toolkits import mplot3d\r\n",
        "            ax = plt.axes(projection = '3d')\r\n",
        "            fig = plt.scatter(featureValues1, featureValues2, outputData, c = 'r', marker = 'o')\r\n",
        "            ax.set_xlabel(inputNames[0])\r\n",
        "            ax.set_ylabel(inputNames[1])\r\n",
        "            ax.set_zlabel(outputName)\r\n",
        "            plt.title(outputName + ' for different ' + inputNames[0] + ' and ' + inputNames[1])\r\n",
        "            plt.show()\r\n",
        "        else: \r\n",
        "            print('two many dimensions to be plotted...')\r\n",
        "            \r\n",
        "def plotHistograms(inputs, outputs):\r\n",
        "    noFeatures = len(inputs[0])\r\n",
        "    fig, ax = plt.subplots(1, noFeatures + 1,  figsize=(4 * (noFeatures + 1), 4))\r\n",
        "    for i in range(noFeatures):\r\n",
        "        crtFeatureValues = getFeature(inputs, i)\r\n",
        "        ax[i].hist(crtFeatureValues, 10, color = 'r')\r\n",
        "        ax[i].title.set_text('histogram of ' + featureNames[i])\r\n",
        "    ax[noFeatures].hist(outputs, 10, color = 'g')\r\n",
        "    ax[noFeatures].title.set_text('histogram of ' + outputName)\r\n",
        "\r\n",
        "    plt.show()\r\n",
        "\r\n",
        "def visualiseRegressor(regressor):\r\n",
        "    modelString = 'the learnt model: f(x) = ' + str(regressor.intercept_) \r\n",
        "    for i in range(noFeatures):\r\n",
        "        modelString = modelString + ' + ' + str(regressor.coef_[i]) + ' * x^' + str(i + 1)\r\n",
        "    print(modelString)\r\n",
        "\r\n",
        "def plotRegressor(regressor, inputs, outputs):\r\n",
        "    # prepare some synthetic data (inputs are random, while the outputs are computed by the learnt model)\r\n",
        "    noOfPoints = 500\r\n",
        "    xref = []\r\n",
        "    xvalues = getFeature(inputs, 0)\r\n",
        "    val = min(xvalues)\r\n",
        "    step = (max(xvalues) - min(xvalues)) / noOfPoints\r\n",
        "    for i in range(1, noOfPoints):\r\n",
        "        xref.append(val)\r\n",
        "        val += step\r\n",
        "    yref = [regressor.intercept_ + regressor.coef_[0] * el for el in xref] \r\n",
        "\r\n",
        "    plt.plot(inputs, outputs, 'ro', label = 'training data')  #train data are plotted by red and circle sign\r\n",
        "    plt.plot(xref, yref, 'b-', label = 'learnt model')                  #model is plotted by a blue line\r\n",
        "    plt.title('train data and the learnt model')\r\n",
        "    plt.xlabel('temp')\r\n",
        "    plt.ylabel('cnt')\r\n",
        "    plt.legend()\r\n",
        "    plt.show()\r\n",
        "\r\n",
        "def plotClassificationData(inputs, outputs, featureNames):\r\n",
        "    noExamples = len(inputs)\r\n",
        "    labels = set(outputs)\r\n",
        "    noData = len(inputs)\r\n",
        "    for crtLabel in labels:\r\n",
        "        x = [inputs[i][0] for i in range(noExamples) if outputs[i] == crtLabel ]\r\n",
        "        y = [inputs[i][1] for i in range(noExamples) if outputs[i] == crtLabel ]\r\n",
        "        plt.scatter(x, y, label = crtLabel)\r\n",
        "    plt.xlabel(featureNames[0])\r\n",
        "    plt.ylabel(featureNames[1])\r\n",
        "    plt.legend()\r\n",
        "    plt.show()  \r\n",
        "\r\n",
        "def plotPredictions(feature1, feature2, realOutputs, computedOutputs, title, featureNames, labels):\r\n",
        "    noData = len(feature1)\r\n",
        "    for crtLabel in labels:\r\n",
        "        x = [feature1[i] for i in range(noData) if realOutputs[i] == crtLabel and computedOutputs[i] == crtLabel ]\r\n",
        "        y = [feature2[i] for i in range(noData) if realOutputs[i] == crtLabel and computedOutputs[i] == crtLabel]\r\n",
        "        plt.scatter(x, y, label = crtLabel + ' (correct)')\r\n",
        "    for crtLabel in labels:\r\n",
        "        x = [feature1[i] for i in range(noData) if realOutputs[i] == crtLabel and computedOutputs[i] != crtLabel ]\r\n",
        "        y = [feature2[i] for i in range(noData) if realOutputs[i] == crtLabel and computedOutputs[i] != crtLabel]\r\n",
        "        plt.scatter(x, y, label = crtLabel + ' (incorrect)')\r\n",
        "    plt.xlabel(featureNames[0])\r\n",
        "    plt.ylabel(featureNames[1])\r\n",
        "    plt.legend()\r\n",
        "    plt.title(title)\r\n",
        "    plt.show()\r\n",
        "\r\n",
        "def countExamples(outputs):\r\n",
        "    labels = list(set(outputs)).sort()\r\n",
        "    distribution = {}\r\n",
        "    for label in outputs:\r\n",
        "        if label in distribution.keys():\r\n",
        "            distribution[label] += 1\r\n",
        "        else:\r\n",
        "            distribution[label] = 1\r\n",
        "    return distribution\r\n",
        "\r\n",
        "\r\n",
        "def plotADecisionTree(clf):\r\n",
        "  n_nodes = clf.tree_.node_count\r\n",
        "  children_left = clf.tree_.children_left\r\n",
        "  children_right = clf.tree_.children_right\r\n",
        "  feature = clf.tree_.feature\r\n",
        "  threshold = clf.tree_.threshold\r\n",
        "\r\n",
        "  node_depth = np.zeros(shape=n_nodes, dtype=np.int64)\r\n",
        "  is_leaves = np.zeros(shape=n_nodes, dtype=bool)\r\n",
        "  stack = [(0, 0)]  # start with the root node id (0) and its depth (0)\r\n",
        "  while len(stack) > 0:\r\n",
        "      # `pop` ensures each node is only visited once\r\n",
        "      node_id, depth = stack.pop()\r\n",
        "      node_depth[node_id] = depth\r\n",
        "\r\n",
        "      # If the left and right child of a node is not the same we have a split\r\n",
        "      # node\r\n",
        "      is_split_node = children_left[node_id] != children_right[node_id]\r\n",
        "      # If a split node, append left and right children and depth to `stack`\r\n",
        "      # so we can loop through them\r\n",
        "      if is_split_node:\r\n",
        "          stack.append((children_left[node_id], depth + 1))\r\n",
        "          stack.append((children_right[node_id], depth + 1))\r\n",
        "      else:\r\n",
        "          is_leaves[node_id] = True\r\n",
        "\r\n",
        "  # print(\"The binary tree structure has {n} nodes and has \"\r\n",
        "  #       \"the following tree structure:\\n\".format(n=n_nodes))\r\n",
        "  # for i in range(n_nodes):\r\n",
        "  #     if is_leaves[i]:\r\n",
        "  #         print(\"{space}node={node} is a leaf node.\".format(\r\n",
        "  #             space=node_depth[i] * \"\\t\", node=i))\r\n",
        "  #     else:\r\n",
        "  #         print(\"{space}node={node} is a split node: \"\r\n",
        "  #               \"go to node {left} if X[:, {feature}] <= {threshold} \"\r\n",
        "  #               \"else to node {right}.\".format(\r\n",
        "  #                   space=node_depth[i] * \"\\t\",\r\n",
        "  #                   node=i,\r\n",
        "  #                   left=children_left[i],\r\n",
        "  #                   feature=feature[i],\r\n",
        "  #                   threshold=threshold[i],\r\n",
        "  #                   right=children_right[i]))\r\n",
        "          \r\n",
        "  tree.plot_tree(clf)\r\n",
        "  plt.show()\r\n",
        "\r\n",
        "\r\n",
        "def plotDataWithPredictions(inputData, outputData, computedOutputData, inputNames, outputName):\r\n",
        "    # a single feature\r\n",
        "    if len(inputData[0]) == 1: \r\n",
        "        featureValues = [inputData[i][0] for i in range(len(inputData))]        \r\n",
        "        fig = plt.plot(featureValues, outputData, 'ro') \r\n",
        "        plt.plot(featureValues, computedOutputData, 'bo') \r\n",
        "        plt.xlabel(inputNames[0])\r\n",
        "        plt.ylabel(outputName)\r\n",
        "        plt.title(outputName + ' for different ' + inputNames[0])\r\n",
        "        plt.show()\r\n",
        "    else:\r\n",
        "        # two features\r\n",
        "        if len(inputData[0]) == 2:\r\n",
        "            featureValues1 = [inputData[i][0] for i in range(len(inputData))] \r\n",
        "            featureValues2 = [inputData[i][1] for i in range(len(inputData))]   \r\n",
        "            from mpl_toolkits import mplot3d\r\n",
        "            ax = plt.axes(projection = '3d')\r\n",
        "            fig = plt.scatter(featureValues1, featureValues2, outputData, c = 'r', marker = 'o')\r\n",
        "            plt.scatter(featureValues1, featureValues2, computedOutputData, c = 'b', marker = 'o')\r\n",
        "            ax.set_xlabel(inputNames[0])\r\n",
        "            ax.set_ylabel(inputNames[1])\r\n",
        "            ax.set_zlabel(outputName)\r\n",
        "            plt.title(outputName + ' for different ' + inputNames[0] + ' and ' + inputNames[1])\r\n",
        "            plt.show()\r\n",
        "        else: \r\n",
        "            print('two many dimensions to be plotted...')"
      ],
      "outputs": [],
      "metadata": {
        "id": "5dGfRnndZjTW",
        "cellView": "form"
      }
    },
    {
      "cell_type": "markdown",
      "source": [
        "## Scenariul 1: predictia gradului de bunastare sociala pe baza PIB-ului \r\n",
        "\r\n",
        "\r\n",
        "Proces:\r\n",
        "- Se pleaca de la un set de date format din date economico-sociale diverse culese pentru mai multe tari\r\n",
        "- Se stabilesc variabile independente (PIB) si dependente (gradul de bunastare sociala)\r\n",
        "- Se aplica algoritmul de invatare pe setul de date de antrenament\r\n",
        "- Se realizeaza predictii ale gradului de bunastare sociala pentru noi valori ale PIB-ului"
      ],
      "metadata": {
        "id": "Iy6P3wVZLye6"
      }
    },
    {
      "cell_type": "code",
      "execution_count": 9,
      "source": [
        "#@title run the code below to inspect the raw data\r\n",
        "\r\n",
        "url = 'http://www.cs.ubbcluj.ro/~lauras/test/docs/docum/world-happiness-report-2017.csv'\r\n",
        "r = requests.get(url)\r\n",
        "filePath = io.StringIO(r.text)\r\n",
        "\r\n",
        "dataCrt = pd.read_csv(filePath)\r\n",
        "dataCrt.head()\r\n"
      ],
      "outputs": [
        {
          "output_type": "execute_result",
          "data": {
            "text/html": [
              "<div>\n",
              "<style scoped>\n",
              "    .dataframe tbody tr th:only-of-type {\n",
              "        vertical-align: middle;\n",
              "    }\n",
              "\n",
              "    .dataframe tbody tr th {\n",
              "        vertical-align: top;\n",
              "    }\n",
              "\n",
              "    .dataframe thead th {\n",
              "        text-align: right;\n",
              "    }\n",
              "</style>\n",
              "<table border=\"1\" class=\"dataframe\">\n",
              "  <thead>\n",
              "    <tr style=\"text-align: right;\">\n",
              "      <th></th>\n",
              "      <th>Country</th>\n",
              "      <th>Happiness.Rank</th>\n",
              "      <th>Happiness.Score</th>\n",
              "      <th>Whisker.high</th>\n",
              "      <th>Whisker.low</th>\n",
              "      <th>Economy..GDP.per.Capita.</th>\n",
              "      <th>Family</th>\n",
              "      <th>Health..Life.Expectancy.</th>\n",
              "      <th>Freedom</th>\n",
              "      <th>Generosity</th>\n",
              "      <th>Trust..Government.Corruption.</th>\n",
              "      <th>Dystopia.Residual</th>\n",
              "    </tr>\n",
              "  </thead>\n",
              "  <tbody>\n",
              "    <tr>\n",
              "      <th>0</th>\n",
              "      <td>Norway</td>\n",
              "      <td>1</td>\n",
              "      <td>7.537</td>\n",
              "      <td>7.594445</td>\n",
              "      <td>7.479556</td>\n",
              "      <td>1.616463</td>\n",
              "      <td>1.533524</td>\n",
              "      <td>0.796667</td>\n",
              "      <td>0.635423</td>\n",
              "      <td>0.362012</td>\n",
              "      <td>0.315964</td>\n",
              "      <td>2.277027</td>\n",
              "    </tr>\n",
              "    <tr>\n",
              "      <th>1</th>\n",
              "      <td>Denmark</td>\n",
              "      <td>2</td>\n",
              "      <td>7.522</td>\n",
              "      <td>7.581728</td>\n",
              "      <td>7.462272</td>\n",
              "      <td>1.482383</td>\n",
              "      <td>1.551122</td>\n",
              "      <td>0.792566</td>\n",
              "      <td>0.626007</td>\n",
              "      <td>0.355280</td>\n",
              "      <td>0.400770</td>\n",
              "      <td>2.313707</td>\n",
              "    </tr>\n",
              "    <tr>\n",
              "      <th>2</th>\n",
              "      <td>Iceland</td>\n",
              "      <td>3</td>\n",
              "      <td>7.504</td>\n",
              "      <td>7.622030</td>\n",
              "      <td>7.385970</td>\n",
              "      <td>1.480633</td>\n",
              "      <td>1.610574</td>\n",
              "      <td>0.833552</td>\n",
              "      <td>0.627163</td>\n",
              "      <td>0.475540</td>\n",
              "      <td>0.153527</td>\n",
              "      <td>2.322715</td>\n",
              "    </tr>\n",
              "    <tr>\n",
              "      <th>3</th>\n",
              "      <td>Switzerland</td>\n",
              "      <td>4</td>\n",
              "      <td>7.494</td>\n",
              "      <td>7.561772</td>\n",
              "      <td>7.426227</td>\n",
              "      <td>1.564980</td>\n",
              "      <td>1.516912</td>\n",
              "      <td>0.858131</td>\n",
              "      <td>0.620071</td>\n",
              "      <td>0.290549</td>\n",
              "      <td>0.367007</td>\n",
              "      <td>2.276716</td>\n",
              "    </tr>\n",
              "    <tr>\n",
              "      <th>4</th>\n",
              "      <td>Finland</td>\n",
              "      <td>5</td>\n",
              "      <td>7.469</td>\n",
              "      <td>7.527542</td>\n",
              "      <td>7.410458</td>\n",
              "      <td>1.443572</td>\n",
              "      <td>1.540247</td>\n",
              "      <td>0.809158</td>\n",
              "      <td>0.617951</td>\n",
              "      <td>0.245483</td>\n",
              "      <td>0.382612</td>\n",
              "      <td>2.430182</td>\n",
              "    </tr>\n",
              "  </tbody>\n",
              "</table>\n",
              "</div>"
            ],
            "text/plain": [
              "       Country  Happiness.Rank  Happiness.Score  Whisker.high  Whisker.low  \\\n",
              "0       Norway               1            7.537      7.594445     7.479556   \n",
              "1      Denmark               2            7.522      7.581728     7.462272   \n",
              "2      Iceland               3            7.504      7.622030     7.385970   \n",
              "3  Switzerland               4            7.494      7.561772     7.426227   \n",
              "4      Finland               5            7.469      7.527542     7.410458   \n",
              "\n",
              "   Economy..GDP.per.Capita.    Family  Health..Life.Expectancy.   Freedom  \\\n",
              "0                  1.616463  1.533524                  0.796667  0.635423   \n",
              "1                  1.482383  1.551122                  0.792566  0.626007   \n",
              "2                  1.480633  1.610574                  0.833552  0.627163   \n",
              "3                  1.564980  1.516912                  0.858131  0.620071   \n",
              "4                  1.443572  1.540247                  0.809158  0.617951   \n",
              "\n",
              "   Generosity  Trust..Government.Corruption.  Dystopia.Residual  \n",
              "0    0.362012                       0.315964           2.277027  \n",
              "1    0.355280                       0.400770           2.313707  \n",
              "2    0.475540                       0.153527           2.322715  \n",
              "3    0.290549                       0.367007           2.276716  \n",
              "4    0.245483                       0.382612           2.430182  "
            ]
          },
          "metadata": {},
          "execution_count": 9
        }
      ],
      "metadata": {
        "cellView": "form",
        "colab": {
          "base_uri": "https://localhost:8080/",
          "height": 203
        },
        "id": "Lcvdxc6g6mVA",
        "outputId": "a9e03054-6ae3-434d-de89-6d46b9a6ca03"
      }
    },
    {
      "cell_type": "markdown",
      "source": [
        "### Specificarea problemei \r\n",
        "\r\n",
        "- date de intrare: PIB\r\n",
        "- date de iesire: gradul de bunastare sociala"
      ],
      "metadata": {
        "id": "1dEeZED3MAcI"
      }
    },
    {
      "cell_type": "code",
      "execution_count": 10,
      "source": [
        "#@title run the code below for setting the input data and the output data\r\n",
        " \r\n",
        "url = 'http://www.cs.ubbcluj.ro/~lauras/test/docs/docum/world-happiness-report-2017.csv'\r\n",
        "r = requests.get(url)\r\n",
        "filePath = io.StringIO(r.text)\r\n",
        "\r\n",
        "# first use case: a model for predicting the happiness based on the GDP\r\n",
        "noFeatures = 1\r\n",
        "featureNames = ['Economy..GDP.per.Capita.']\r\n",
        "# featureNames = ['Freedom']\r\n",
        "outputName = 'Happiness.Score'\r\n",
        "\r\n"
      ],
      "outputs": [],
      "metadata": {
        "cellView": "form",
        "id": "OH0hWmDDMYTR"
      }
    },
    {
      "cell_type": "markdown",
      "source": [
        "### Incarcarea si auditarea datelor"
      ],
      "metadata": {
        "id": "FllTU2lXMYTd"
      }
    },
    {
      "cell_type": "code",
      "execution_count": 11,
      "source": [
        "#@title run the code below for loading and auditing the data\r\n",
        "\r\n",
        "# load and audit the dataset\r\n",
        "inputs, outputs = loadData(filePath, featureNames, outputName)\r\n",
        "inputs = fromStringToNumericData(inputs)\r\n",
        "outputs = fromStringToNumericData(outputs)\r\n",
        "\r\n",
        "# see how the data looks (plot the histograms associated to input data - temperature - and output data - no bikes)\r\n",
        "plotHistograms(inputs, outputs)"
      ],
      "outputs": [
        {
          "output_type": "display_data",
          "data": {
            "image/png": "[encoded data removed]",
            "text/plain": [
              "<Figure size 576x288 with 2 Axes>"
            ]
          },
          "metadata": {
            "needs_background": "light"
          }
        }
      ],
      "metadata": {
        "cellView": "form",
        "colab": {
          "base_uri": "https://localhost:8080/",
          "height": 281
        },
        "id": "pvkhq_OEMYTd",
        "outputId": "c2181ee9-2522-4d94-999b-63c8acaa26a3"
      }
    },
    {
      "cell_type": "code",
      "execution_count": 12,
      "source": [
        "#@title run the code below to check the relationship betwwen input and output data\r\n",
        "\r\n",
        "# check the relationship (to check that a linear relationship exists between the dependent variable (y = no bikes) and the independent variable (x = temp).)\r\n",
        "plotData(inputs, outputs, featureNames, outputName)"
      ],
      "outputs": [
        {
          "output_type": "display_data",
          "data": {
            "image/png": "[encoded data removed]",
            "text/plain": [
              "<Figure size 432x288 with 1 Axes>"
            ]
          },
          "metadata": {
            "needs_background": "light"
          }
        }
      ],
      "metadata": {
        "cellView": "form",
        "colab": {
          "base_uri": "https://localhost:8080/",
          "height": 295
        },
        "id": "aePUKw7zM1hK",
        "outputId": "02baec8a-c764-4cce-edab-4678fc8bb3cf"
      }
    },
    {
      "cell_type": "markdown",
      "source": [
        "### Antrenarea unui model de predictie - bazat pe regresie"
      ],
      "metadata": {}
    },
    {
      "cell_type": "code",
      "execution_count": 18,
      "source": [
        "#@title run the code below for training the regressor; the training error will be printed\r\n",
        "\r\n",
        "# learning step: init and train a linear regression model y = f(happiness) = w0 + w1 * GDP\r\n",
        "\r\n",
        "# model initialisation and training the model by using the training inputs and known training outputs\r\n",
        "from sklearn import linear_model\r\n",
        "# LMSR\r\n",
        "regressorLMSR = linear_model.LinearRegression()\r\n",
        "regressorLMSR.fit(inputs, outputs)\r\n",
        "# print(regressorLMSR.intercept_)\r\n",
        "# print(regressorLMSR.coef_)\r\n",
        "\r\n",
        "# GradDesc\r\n",
        "regressorGD = linear_model.SGDRegressor()\r\n",
        "regressorGD.fit(inputs, outputs)\r\n",
        "\r\n",
        "# Ridge\r\n",
        "regressorRidge = linear_model.Ridge()\r\n",
        "regressorRidge.fit(inputs, outputs)\r\n",
        "\r\n",
        "models = [regressorGD, regressorLMSR, regressorRidge]\r\n",
        "featureValues = [inputs[i][0] for i in range(len(inputs))]      \r\n",
        "noModels = len(models)\r\n",
        "fig, ax = plt.subplots(1, noModels,  figsize=(4 * (noModels), 4))\r\n",
        "i = 0\r\n",
        "for model in models:\r\n",
        "    computedOutputs = model.predict(inputs)\r\n",
        "    ax[i].plot(featureValues, outputs, 'ro')\r\n",
        "    ax[i].plot(featureValues, computedOutputs, 'bo')\r\n",
        "    outList = [[o] for o in outputs]\r\n",
        "    outCompList = [[co] for co in computedOutputs]\r\n",
        "    error = models[i].score(outList, outCompList)\r\n",
        "    if (i == 0):\r\n",
        "        ax[i].title.set_text(str(round(models[i].intercept_[0], 2)) + \" + \" + str(round(models[i].coef_[0], 2)) + \" x\" + \" (error = \" + str(round(error, 2)) + \")\")\r\n",
        "    else:\r\n",
        "        ax[i].title.set_text(str(round(models[i].intercept_, 2)) + \" + \" + str(round(models[i].coef_[0], 2)) + \" x\" + \" (error = \" + str(round(error, 2)) + \")\")\r\n",
        "    i += 1\r\n",
        "plt.show()\r\n",
        "\r\n"
      ],
      "outputs": [
        {
          "output_type": "display_data",
          "data": {
            "image/png": "[encoded data removed]",
            "text/plain": [
              "<Figure size 864x288 with 3 Axes>"
            ]
          },
          "metadata": {
            "needs_background": "light"
          }
        }
      ],
      "metadata": {
        "cellView": "form",
        "colab": {
          "base_uri": "https://localhost:8080/",
          "height": 330
        },
        "id": "aRq1fFWpMYTf",
        "outputId": "210356a3-8273-4754-fe8e-c738022dd279"
      }
    },
    {
      "cell_type": "code",
      "execution_count": 19,
      "source": [
        "# ANN\r\n",
        "from sklearn import neural_network\r\n",
        "regressorMLP = neural_network.MLPRegressor()\r\n",
        "regressorMLP.fit(inputs, outputs)\r\n",
        "print(regressorMLP.coefs_[0][0][:3])\r\n",
        "\r\n",
        "regressorMLP2 = neural_network.MLPRegressor((200,200,200), max_iter=500)\r\n",
        "regressorMLP2.fit(inputs, outputs)\r\n",
        "print(regressorMLP2.coefs_[0][0][:3])\r\n",
        "\r\n",
        "models = [regressorMLP, regressorMLP2]\r\n",
        "featureValues = [inputs[i][0] for i in range(len(inputs))]   \r\n",
        "noModels = len(models)\r\n",
        "\r\n",
        "fig, ax = plt.subplots(1, noModels,  figsize=(4 * (noModels), 4))\r\n",
        "for i in range(noModels):\r\n",
        "    computedOutputs = models[i].predict(inputs)\r\n",
        "    outList = [[o] for o in outputs]\r\n",
        "    outCompList = [[co] for co in computedOutputs]\r\n",
        "    error = models[i].score(outList, outCompList)\r\n",
        "    ax[i].plot(featureValues, outputs, 'ro')\r\n",
        "    ax[i].plot(featureValues, computedOutputs, 'bo')\r\n",
        "    ax[i].title.set_text(\"error: \" + str(round(error, 2)))\r\n",
        "    \r\n",
        "plt.show()"
      ],
      "outputs": [
        {
          "output_type": "stream",
          "name": "stderr",
          "text": [
            "d:\\_Work\\School\\_2019-2020\\sem2\\AI\\codeExamples\\myenv\\lib\\site-packages\\sklearn\\neural_network\\_multilayer_perceptron.py:571: ConvergenceWarning: Stochastic Optimizer: Maximum iterations (200) reached and the optimization hasn't converged yet.\n",
            "  % self.max_iter, ConvergenceWarning)\n"
          ]
        },
        {
          "output_type": "stream",
          "name": "stdout",
          "text": [
            "[ 0.27518961 -0.02618471 -0.04047927]\n",
            "[-0.02185928  0.00539836  0.10097578]\n"
          ]
        },
        {
          "output_type": "display_data",
          "data": {
            "image/png": "[encoded data removed]",
            "text/plain": [
              "<Figure size 576x288 with 2 Axes>"
            ]
          },
          "metadata": {
            "needs_background": "light"
          }
        }
      ],
      "metadata": {}
    },
    {
      "cell_type": "code",
      "execution_count": null,
      "source": [
        "\r\n"
      ],
      "outputs": [],
      "metadata": {}
    },
    {
      "cell_type": "code",
      "execution_count": null,
      "source": [],
      "outputs": [],
      "metadata": {}
    },
    {
      "cell_type": "markdown",
      "source": [
        "### Utilizarea unui model de predictie"
      ],
      "metadata": {
        "id": "AXLwlxWAMYTf"
      }
    },
    {
      "cell_type": "code",
      "execution_count": null,
      "source": [
        "#@title run the code below for predicting the happiness score for some particular GDP values\r\n",
        "\r\n",
        "# use case: a model for predicting the happiness based on the GDP\r\n",
        "testData = [[1.1], [1.5], [1.3]]\r\n",
        "\r\n",
        "print('for a GDP value of ', testData[0], ' the predicted happiness scor is: ', regressor.predict(testData)[0])\r\n",
        "print('for a GDP value of ', testData[1], ' the predicted happiness scor is: ', regressor.predict(testData)[1])\r\n",
        "print('for a GDP value of ', testData[2], ' the predicted happiness scor is: ', regressor.predict(testData)[2])"
      ],
      "outputs": [],
      "metadata": {
        "cellView": "form",
        "colab": {
          "base_uri": "https://localhost:8080/"
        },
        "id": "3EcKMPQJMYTf",
        "outputId": "bc4303c7-9ead-4ffe-c33a-c5d779c1d304"
      }
    },
    {
      "cell_type": "markdown",
      "source": [
        "## Scenariul 2: predictia numarului de biciclete inchiriate pe baza unor factori diversi precum temperatura, viteza vantului, ziua din saptamana, etc.\n",
        "\n",
        "Proces:\n",
        "- Se pleaca de la un set de date format din date diverse despre numarul de biciclete inchiriate\n",
        "- Se stabilesc variabile independente (temperatura, viteza vantului, ziua din saptamana) si dependente (nr de biciclete)\n",
        "- Se aplica algoritmul de invatare pe setul de date de antrenament\n",
        "- Se realizeaza predictii ale numarul de biciclete pe baza unuia sau unora dintre factorii de influenta"
      ],
      "metadata": {
        "id": "xJj77pz8OY2X"
      }
    },
    {
      "cell_type": "code",
      "execution_count": null,
      "source": [
        "#@title run the code below to inspect the raw data\r\n",
        "\r\n",
        "url = 'http://www.cs.ubbcluj.ro/~lauras/test/docs/docum/hour.csv'\r\n",
        "r = requests.get(url)\r\n",
        "filePath = io.StringIO(r.text)\r\n",
        "\r\n",
        "dataCrt = pd.read_csv(filePath)\r\n",
        "dataCrt.head()"
      ],
      "outputs": [],
      "metadata": {
        "cellView": "form",
        "colab": {
          "base_uri": "https://localhost:8080/",
          "height": 203
        },
        "id": "fn8F3_sp7GeO",
        "outputId": "e3f52c9a-1a33-494c-a328-b08274d5c774"
      }
    },
    {
      "cell_type": "markdown",
      "source": [
        "### Specificarea problemei \n",
        "\n",
        "- date de intrare: viteza vantului\n",
        "- date de iesire: nr de biciclete"
      ],
      "metadata": {
        "id": "tyUlniiaOY2h"
      }
    },
    {
      "cell_type": "code",
      "execution_count": null,
      "source": [
        "#@title run the code below for setting the input data and the output data\r\n",
        "\r\n",
        "# first use case: a model for predicting the no of bikes based on the wind speed\r\n",
        "noFeatures = 1\r\n",
        "featureNames = ['windspeed']\r\n",
        "outputName = 'cnt'\r\n"
      ],
      "outputs": [],
      "metadata": {
        "id": "oyT98AGBOY2i"
      }
    },
    {
      "cell_type": "markdown",
      "source": [
        "### Incarcarea si auditarea datelor"
      ],
      "metadata": {
        "id": "nsK3de3dOY2i"
      }
    },
    {
      "cell_type": "code",
      "execution_count": null,
      "source": [
        "#@title run the code below for loading and auditing the data\r\n",
        "\r\n",
        "url = 'http://www.cs.ubbcluj.ro/~lauras/test/docs/docum/hour.csv'\r\n",
        "r = requests.get(url)\r\n",
        "filePath = io.StringIO(r.text)\r\n",
        "\r\n",
        "# load and audit the dataset\r\n",
        "inputs, outputs = loadData(filePath, featureNames, outputName)\r\n",
        "inputs = fromStringToNumericData(inputs)\r\n",
        "outputs = fromStringToNumericData(outputs)\r\n",
        "\r\n",
        "# see how the data looks (plot the histograms associated to input data - temperature - and output data - no bikes)\r\n",
        "plotHistograms(inputs, outputs)"
      ],
      "outputs": [],
      "metadata": {
        "cellView": "form",
        "colab": {
          "base_uri": "https://localhost:8080/",
          "height": 281
        },
        "id": "cnqDwPagOY2j",
        "outputId": "24981c57-2be8-46de-aebe-6bd471d0d1dc"
      }
    },
    {
      "cell_type": "code",
      "execution_count": null,
      "source": [
        "#@title run the code below to check the relationship betwwen input and output data\r\n",
        "\r\n",
        "# check the relationship (to check that a linear relationship exists between the dependent variable (y = no bikes) and the independent variable (x = temp).)\r\n",
        "plotData(inputs, outputs, featureNames, outputName)"
      ],
      "outputs": [],
      "metadata": {
        "cellView": "form",
        "colab": {
          "base_uri": "https://localhost:8080/",
          "height": 295
        },
        "id": "8enVpRX5OY2j",
        "outputId": "031bcf2c-2463-4972-bd25-b7b6fdc43734"
      }
    },
    {
      "cell_type": "markdown",
      "source": [
        "### Antrenarea unui model de predictie"
      ],
      "metadata": {
        "id": "BCnzgznrOY2j"
      }
    },
    {
      "cell_type": "code",
      "execution_count": null,
      "source": [
        "#@title run the code below for training the regressor; the training error will be printed\r\n",
        "\r\n",
        "# learning step: init and train a linear regression model y = f(noBikes) = w0 + w1 * windspeed\r\n",
        "\r\n",
        "# model initialisation\r\n",
        "regressor2 = linear_model.LinearRegression()\r\n",
        "\r\n",
        "# training the model by using the training inputs and known training outputs\r\n",
        "regressor2.fit(inputs, outputs)\r\n",
        "\r\n",
        "# visualise the trained model \r\n",
        "visualiseRegressor(regressor2)\r\n",
        "\r\n",
        "# plot the learnt model\r\n",
        "if (noFeatures == 1):\r\n",
        "    plotRegressor(regressor2, inputs, outputs)\r\n",
        "else:\r\n",
        "    print('to many dimensions...')\r\n",
        "\r\n",
        "computedOutputs = regressor2.predict(inputs)\r\n",
        "error = mean_squared_error(outputs, computedOutputs)\r\n",
        "print('prediction training error:  ', error)"
      ],
      "outputs": [],
      "metadata": {
        "cellView": "form",
        "colab": {
          "base_uri": "https://localhost:8080/",
          "height": 330
        },
        "id": "J3J5TcQUOY2k",
        "outputId": "0b178f06-9618-4254-b40c-38a228dcea1b"
      }
    },
    {
      "cell_type": "markdown",
      "source": [
        "### Utilizarea unui model de predictie"
      ],
      "metadata": {
        "id": "_Bm8bqFqOY2k"
      }
    },
    {
      "cell_type": "code",
      "execution_count": null,
      "source": [
        "#@title run the code below for predicting the happiness score for some particular windspeed values\r\n",
        "\r\n",
        "# predict the number of bikes for a set of new 3 windspeed\r\n",
        "testData = [[0.3284], [0.2985], [0.3015]]\r\n",
        "\r\n",
        "print('for a wind speed of ', testData[0], ' the predicted no bikes is: ', regressor.predict(testData)[0])\r\n",
        "print('for a wind speed of ', testData[1], ' the predicted no bikes is: ', regressor.predict(testData)[1])\r\n",
        "print('for a wind speed of ', testData[2], ' the predicted no bikes is: ', regressor.predict(testData)[2])"
      ],
      "outputs": [],
      "metadata": {
        "cellView": "form",
        "colab": {
          "base_uri": "https://localhost:8080/"
        },
        "id": "AJ8bJ61bOY2k",
        "outputId": "85206b9c-27d4-44ad-9bb8-713eff4bc9eb"
      }
    },
    {
      "cell_type": "markdown",
      "source": [
        "## Scenariul 3: predictia numarului de biciclete inchiriate pe baza unor factori diversi precum temperatura, viteza vantului, ziua din saptamana, etc.\n",
        "\n",
        "Proces:\n",
        "- Se pleaca de la un set de date format din date diverse despre numarul de biciclete inchiriate\n",
        "- Se stabilesc variabile independente (temperatura, viteza vantului, ziua din saptamana) si dependente (nr de biciclete)\n",
        "- Se aplica algoritmul de invatare pe setul de date de antrenament\n",
        "- Se realizeaza predictii ale numarul de biciclete pe baza unuia sau unora dintre factorii de influenta"
      ],
      "metadata": {
        "id": "xwBVkeLyQW4J"
      }
    },
    {
      "cell_type": "code",
      "execution_count": null,
      "source": [
        "#@title run the code below to inspect the raw data\r\n",
        "\r\n",
        "url = 'http://www.cs.ubbcluj.ro/~lauras/test/docs/docum/hour.csv'\r\n",
        "r = requests.get(url)\r\n",
        "filePath = io.StringIO(r.text)\r\n",
        "\r\n",
        "dataCrt = pd.read_csv(filePath)\r\n",
        "dataCrt.head()"
      ],
      "outputs": [],
      "metadata": {
        "cellView": "form",
        "colab": {
          "base_uri": "https://localhost:8080/",
          "height": 203
        },
        "id": "W_ghIcpf7TKZ",
        "outputId": "fed285c4-4be8-4d40-eea9-409f424d4661"
      }
    },
    {
      "cell_type": "markdown",
      "source": [
        "### Specificarea problemei \n",
        "\n",
        "- date de intrare: viteza vantului, temperatura\n",
        "- date de iesire: nr de biciclete"
      ],
      "metadata": {
        "id": "VYw5ZuCQQW4V"
      }
    },
    {
      "cell_type": "code",
      "execution_count": null,
      "source": [
        "#@title run the code below for setting the input data and the output data\r\n",
        "\r\n",
        "# second use case: a model for predicting the no of bikes based on the temperature and the wind speed\r\n",
        "noFeatures = 2\r\n",
        "featureNames = ['atemp', 'windspeed']\r\n",
        "outputName = 'cnt'\r\n",
        "\r\n",
        "url = 'http://www.cs.ubbcluj.ro/~lauras/test/docs/docum/hour.csv'\r\n",
        "r = requests.get(url)\r\n",
        "filePath = io.StringIO(r.text)"
      ],
      "outputs": [],
      "metadata": {
        "id": "Ro73-HN3QW4V"
      }
    },
    {
      "cell_type": "markdown",
      "source": [
        "### Incarcarea si auditarea datelor"
      ],
      "metadata": {
        "id": "JZXs2ZQkQW4V"
      }
    },
    {
      "cell_type": "code",
      "execution_count": null,
      "source": [
        "#@title run the code below for loading and auditing the data\r\n",
        "\r\n",
        "# load and audit the dataset\r\n",
        "inputs, outputs = loadData(filePath, featureNames, outputName)\r\n",
        "inputs = fromStringToNumericData(inputs)\r\n",
        "outputs = fromStringToNumericData(outputs)\r\n",
        "\r\n",
        "# see how the data looks (plot the histograms associated to input data - temperature - and output data - no bikes)\r\n",
        "plotHistograms(inputs, outputs)"
      ],
      "outputs": [],
      "metadata": {
        "cellView": "form",
        "colab": {
          "base_uri": "https://localhost:8080/",
          "height": 281
        },
        "id": "RYtPHPzGQW4W",
        "outputId": "9c5f6162-2c1f-4a07-9558-fc4531d358aa"
      }
    },
    {
      "cell_type": "code",
      "execution_count": null,
      "source": [
        "#@title run the code below to check the relationship between input and output data\r\n",
        "\r\n",
        "# check the relationship (to check that a linear relationship exists between the dependent variable (y = no bikes) and the independent variable (x = temp).)\r\n",
        "plotData(inputs, outputs, featureNames, outputName)"
      ],
      "outputs": [],
      "metadata": {
        "cellView": "form",
        "colab": {
          "base_uri": "https://localhost:8080/",
          "height": 248
        },
        "id": "Ekzt4vnBQW4W",
        "outputId": "a6f0c133-ff45-44ad-81e1-047d46b183c2"
      }
    },
    {
      "cell_type": "markdown",
      "source": [
        "### Antrenarea unui model de predictie"
      ],
      "metadata": {
        "id": "PtNf0e7KQW4X"
      }
    },
    {
      "cell_type": "code",
      "execution_count": null,
      "source": [
        "#@title run the code below for training the regressor; the training error will be printed\r\n",
        "\r\n",
        "# learning step: init and train a linear regression model y = f(noBikes) = w0 + w1 * windspeed\r\n",
        "\r\n",
        "# model initialisation\r\n",
        "from sklearn import linear_model \r\n",
        "\r\n",
        "# regressor3 = linear_model.LinearRegression()\r\n",
        "regressor3 = linear_model.SGDRegressor()\r\n",
        "\r\n",
        "# training the model by using the training inputs and known training outputs\r\n",
        "regressor3.fit(inputs, outputs)\r\n",
        "\r\n",
        "# visualise the trained model \r\n",
        "visualiseRegressor(regressor3)\r\n",
        "\r\n",
        "# plot the learnt model\r\n",
        "if (noFeatures == 1):\r\n",
        "    plotRegressor(regressor3, inputs, outputs)\r\n",
        "else:\r\n",
        "    print('to many dimensions...')\r\n",
        "\r\n",
        "computedOutputs = regressor3.predict(inputs)\r\n",
        "error = mean_squared_error(outputs, computedOutputs)\r\n",
        "print('prediction training error:  ', error)"
      ],
      "outputs": [],
      "metadata": {
        "cellView": "form",
        "colab": {
          "base_uri": "https://localhost:8080/"
        },
        "id": "6xOGdYlqQW4X",
        "outputId": "bcccb842-38b8-40ca-d2d8-d63f1bb8adc9"
      }
    },
    {
      "cell_type": "markdown",
      "source": [
        "### Utilizarea unui model de predictie"
      ],
      "metadata": {
        "id": "OLTcnz7eQW4X"
      }
    },
    {
      "cell_type": "code",
      "execution_count": null,
      "source": [
        "#@title run the code below for predicting the happiness score for some particular temperature and windspeed values\r\n",
        "\r\n",
        "# predict the number of bikes for a set of new 3 tempeatures and 3 windspeeds \r\n",
        "testData = [[0.33, 0.3284], [0.46, 0.2985], [0.42, 0.3015]]\r\n",
        "\r\n",
        "print('for temp and windspeed values of ', testData[0], ' the predicted no bikes is: ;', regressor3.predict(testData)[0])\r\n",
        "print('for temp and windspeed values of ', testData[1], ' the predicted no bikes is: ;', regressor3.predict(testData)[1])\r\n",
        "print('for temp and windspeed values of ', testData[2], ' the predicted no bikes is: ;', regressor3.predict(testData)[2])"
      ],
      "outputs": [],
      "metadata": {
        "cellView": "form",
        "colab": {
          "base_uri": "https://localhost:8080/"
        },
        "id": "8rOEFNt2QW4Y",
        "outputId": "172a7373-8b06-4986-960b-3e7c1ecb5490"
      }
    }
  ]
}