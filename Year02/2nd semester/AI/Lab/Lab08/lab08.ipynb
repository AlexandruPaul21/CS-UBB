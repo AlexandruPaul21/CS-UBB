{
 "cells": [
  {
   "cell_type": "code",
   "execution_count": 1,
   "metadata": {
    "collapsed": true,
    "ExecuteTime": {
     "start_time": "2023-05-07T17:51:23.827250Z",
     "end_time": "2023-05-07T17:51:25.103940Z"
    }
   },
   "outputs": [],
   "source": [
    "from sklearn.datasets import load_breast_cancer\n",
    "from sklearn.datasets import load_iris\n",
    "from sklearn.preprocessing import StandardScaler\n",
    "from sklearn import linear_model\n",
    "import matplotlib.pyplot as plt\n",
    "import numpy as np\n",
    "import plotly.express as px\n",
    "from sklearn.linear_model import SGDClassifier\n",
    "from math import exp\n",
    "from random import random"
   ]
  },
  {
   "cell_type": "code",
   "execution_count": 2,
   "outputs": [],
   "source": [
    "def sigmoid(x):\n",
    "    return 1 / (1 + exp(-x))"
   ],
   "metadata": {
    "collapsed": false,
    "ExecuteTime": {
     "start_time": "2023-05-07T17:51:25.105618Z",
     "end_time": "2023-05-07T17:51:25.107002Z"
    }
   }
  },
  {
   "cell_type": "code",
   "execution_count": 3,
   "outputs": [],
   "source": [
    "class MyLogisticRegression:\n",
    "    def __init__(self):\n",
    "        self.intercept_ = 0.0\n",
    "        self.coefficient_ = []\n",
    "\n",
    "    def fit(self, x, y, learning_rate=0.001, no_epochs=1000):\n",
    "        self.coefficient_ = [random() for _ in range(len(x[0]) + 1)]\n",
    "        for epoch in range(no_epochs):\n",
    "            for i in range(len(x)):\n",
    "                y_computed = sigmoid(self.evaluate(x[i], self.coefficient_))\n",
    "                crt_error = y_computed - y[i]\n",
    "                for j in range(0, len(x[0])):\n",
    "                    self.coefficient_[j + 1] = self.coefficient_[j + 1] - learning_rate * crt_error * x[i][j]\n",
    "                self.coefficient_[0] = self.coefficient_[0] - learning_rate * crt_error * 1\n",
    "        self.intercept_ = self.coefficient_[0]\n",
    "        self.coefficient_ = self.coefficient_[1:]\n",
    "\n",
    "    def evaluate(self, xi, coefficient):\n",
    "        yi = coefficient[0]\n",
    "        for j in range(len(xi)):\n",
    "            yi += coefficient[j + 1] * xi[j]\n",
    "        return yi\n",
    "\n",
    "    def predict_one_sample(self, sample_features):\n",
    "        threshold = 0.5\n",
    "        coefficients = [self.intercept_] + [c for c in self.coefficient_]\n",
    "        computed_float_value = self.evaluate(sample_features, coefficients)\n",
    "        computed01_value = sigmoid(computed_float_value)\n",
    "        computed_label = 0 if computed01_value < threshold else 1\n",
    "        return computed_label\n",
    "\n",
    "    def predict(self, in_test):\n",
    "        computed_labels = [self.predict_one_sample(sample) for sample in in_test]\n",
    "        return computed_labels\n"
   ],
   "metadata": {
    "collapsed": false,
    "ExecuteTime": {
     "start_time": "2023-05-07T17:51:25.111184Z",
     "end_time": "2023-05-07T17:51:25.112399Z"
    }
   }
  },
  {
   "cell_type": "code",
   "execution_count": 4,
   "outputs": [],
   "source": [
    "class MyLogisticRegressionMultipleLabels:\n",
    "\n",
    "    def __init__(self):\n",
    "        self.intercept_ = []\n",
    "        self.coefficient_ = []\n",
    "\n",
    "    def fit_batch(self, x, y, learning_rate=0.001, no_epochs=1000):\n",
    "        self.coefficient_ = []\n",
    "        self.intercept_ = []\n",
    "        labels = list(set(y))\n",
    "        for label in labels:\n",
    "            coefficient = [random() for _ in range(len(x[0]) + 1)]\n",
    "            for _ in range(no_epochs):\n",
    "                errors = [0] * len(coefficient)\n",
    "                for input, output in zip(x, y):\n",
    "                    y_computed = sigmoid(self.evaluate(input, coefficient))\n",
    "                    error = y_computed - 1 if output == label else y_computed\n",
    "                    for i, xi in enumerate([1] + list(input)):\n",
    "                        errors[i] += error * xi\n",
    "                for i in range(len(coefficient)):\n",
    "                    coefficient[i] = coefficient[i] - learning_rate * errors[i]\n",
    "            self.intercept_.append(coefficient[0])\n",
    "            self.coefficient_.append(coefficient[1:])\n",
    "\n",
    "    def fit(self, x, y, learning_rate=0.001, no_epochs=1000):\n",
    "        self.intercept_ = []\n",
    "        self.coefficient_ = []\n",
    "        labels = list(set(y))\n",
    "        for label in labels:\n",
    "            coefficient = [random() for _ in range(len(x[0]) + 1)]\n",
    "            for _ in range(no_epochs):\n",
    "                for input, output in zip(x, y):\n",
    "                    y_computed = sigmoid(self.evaluate(input, coefficient))\n",
    "                    error = y_computed - 1 if output == label else y_computed\n",
    "                    for j in range(len(x[0])):\n",
    "                        coefficient[j + 1] = coefficient[j + 1] - learning_rate * error * input[j]\n",
    "                    coefficient[0] = coefficient[0] - learning_rate * error\n",
    "            self.intercept_.append(coefficient[0])\n",
    "            self.coefficient_.append(coefficient[1:])\n",
    "\n",
    "    def evaluate(self, xi, coefficient):\n",
    "        yi = coefficient[0]\n",
    "        for j in range(len(xi)):\n",
    "            yi += coefficient[j + 1] * xi[j]\n",
    "        return yi\n",
    "\n",
    "    def predict_one_sample(self, sample_features):\n",
    "        predictions = []\n",
    "        for intercept, coefficient in zip(self.intercept_, self.coefficient_):\n",
    "            computed_value = self.evaluate(sample_features, [intercept] + coefficient)\n",
    "            predictions.append(sigmoid(computed_value))\n",
    "        return predictions.index(max(predictions))\n",
    "\n",
    "    def predict(self, in_test):\n",
    "        computed_labels = [self.predict_one_sample(sample) for sample in in_test]\n",
    "        return computed_labels"
   ],
   "metadata": {
    "collapsed": false,
    "ExecuteTime": {
     "start_time": "2023-05-07T17:51:25.118257Z",
     "end_time": "2023-05-07T17:51:25.119554Z"
    }
   }
  },
  {
   "cell_type": "code",
   "execution_count": 5,
   "outputs": [],
   "source": [
    "def load_data():\n",
    "    data = load_breast_cancer()\n",
    "    inputs = data['data']\n",
    "    outputs = data['target']\n",
    "    output_names = data['target_names']\n",
    "    feature_names = list(data['feature_names'])\n",
    "    feature1 = [feat[feature_names.index('mean radius')] for feat in inputs]\n",
    "    feature2 = [feat[feature_names.index('mean texture')] for feat in inputs]\n",
    "    inputs = [[feat[feature_names.index('mean radius')], feat[feature_names.index('mean texture')]] for feat in inputs]\n",
    "    return inputs, outputs, output_names, feature1, feature2, feature_names[:2]"
   ],
   "metadata": {
    "collapsed": false,
    "ExecuteTime": {
     "start_time": "2023-05-07T17:51:25.122012Z",
     "end_time": "2023-05-07T17:51:25.123263Z"
    }
   }
  },
  {
   "cell_type": "code",
   "execution_count": 6,
   "outputs": [],
   "source": [
    "def plot_data(inputs, outputs, output_names, feature_names, title=None):\n",
    "    labels = set(outputs)\n",
    "    no_data = len(inputs)\n",
    "    for crt_label in labels:\n",
    "        x = [inputs[i][0] for i in range(no_data) if outputs[i] == crt_label]\n",
    "        y = [inputs[i][1] for i in range(no_data) if outputs[i] == crt_label]\n",
    "        plt.scatter(x, y, label=output_names[crt_label])\n",
    "    plt.xlabel(feature_names[0])\n",
    "    plt.ylabel(feature_names[1])\n",
    "    plt.legend()\n",
    "    plt.title(title)\n",
    "    plt.show()\n",
    "\n",
    "\n",
    "def plot_histogram_feature(feature, variableName):\n",
    "    plt.hist(feature, 10)\n",
    "    plt.title('Histogram of ' + variableName)\n",
    "    plt.show()"
   ],
   "metadata": {
    "collapsed": false,
    "ExecuteTime": {
     "start_time": "2023-05-07T17:51:25.126123Z",
     "end_time": "2023-05-07T17:51:25.129158Z"
    }
   }
  },
  {
   "cell_type": "code",
   "execution_count": 7,
   "outputs": [],
   "source": [
    "def train_and_test(inputs, outputs):\n",
    "    indexes = [i for i in range(len(inputs))]\n",
    "    train_sample = np.random.choice(indexes, int(0.8 * len(inputs)), replace=False)\n",
    "    test_sample = [i for i in indexes if i not in train_sample]\n",
    "    train_inputs = [inputs[i] for i in train_sample]\n",
    "    train_outputs = [outputs[i] for i in train_sample]\n",
    "    test_inputs = [inputs[i] for i in test_sample]\n",
    "    test_outputs = [outputs[i] for i in test_sample]\n",
    "    return train_inputs, train_outputs, test_inputs, test_outputs\n",
    "\n",
    "\n",
    "def normalisation(train_data, test_data):\n",
    "    scaler = StandardScaler()\n",
    "    if not isinstance(train_data[0], list):\n",
    "        train_data = [[d] for d in train_data]\n",
    "        test_data = [[d] for d in test_data]\n",
    "        scaler.fit(train_data)\n",
    "        normalisedTrainData = scaler.transform(train_data)\n",
    "        normalisedTestData = scaler.transform(test_data)\n",
    "        normalisedTrainData = [el[0] for el in normalisedTrainData]\n",
    "        normalisedTestData = [el[0] for el in normalisedTestData]\n",
    "    else:\n",
    "        scaler.fit(train_data)\n",
    "        normalisedTrainData = scaler.transform(train_data)\n",
    "        normalisedTestData = scaler.transform(test_data)\n",
    "    return normalisedTrainData, normalisedTestData"
   ],
   "metadata": {
    "collapsed": false,
    "ExecuteTime": {
     "start_time": "2023-05-07T17:51:25.131072Z",
     "end_time": "2023-05-07T17:51:25.134637Z"
    }
   }
  },
  {
   "cell_type": "code",
   "execution_count": 8,
   "outputs": [],
   "source": [
    "def learn_by_tool(train_inputs, train_outputs, test_inputs, test_outputs):\n",
    "    classifier = linear_model.LogisticRegression()\n",
    "    classifier.fit(train_inputs, train_outputs)\n",
    "    w0, w1, w2 = classifier.intercept_[0], classifier.coef_[0][0], classifier.coef_[0][1]\n",
    "    print('Classification model by tool: y =', w0, '+', w1, '* feat1 +', w2, '* feat2')\n",
    "    computed_outputs = classifier.predict(test_inputs)\n",
    "    print(\"Accuracy score:\", classifier.score(test_inputs, test_outputs))\n",
    "    return computed_outputs\n",
    "\n",
    "\n",
    "def learn_by_me(train_inputs, train_outputs, test_inputs, test_outputs):\n",
    "    classifier = MyLogisticRegression()\n",
    "    classifier.fit(train_inputs, train_outputs)\n",
    "    w0, w1, w2 = classifier.intercept_, classifier.coefficient_[0], classifier.coefficient_[1]\n",
    "    print('Classification model by me: y =', w0, '+', w1, '* feat1 +', w2, '* feat2')\n",
    "    computed_outputs = [1 if sigmoid(w0 + w1 * el[0] + w2 * el[1]) > 0.5 else 0 for el in test_inputs]\n",
    "    no_data = len(test_inputs)\n",
    "    accuracy = 0.0\n",
    "    for i in range(no_data):\n",
    "        if test_outputs[i] == computed_outputs[i]:\n",
    "            accuracy += 1\n",
    "    print(\"Accuracy score:\", accuracy / no_data)\n",
    "    return computed_outputs"
   ],
   "metadata": {
    "collapsed": false,
    "ExecuteTime": {
     "start_time": "2023-05-07T17:51:25.138437Z",
     "end_time": "2023-05-07T17:51:25.139920Z"
    }
   }
  },
  {
   "cell_type": "code",
   "execution_count": 9,
   "outputs": [],
   "source": [
    "def plot_predictions(inputs, real_outputs, computed_outputs, label_names, feature_names, title=None):\n",
    "    labels = list(set(real_outputs))\n",
    "    no_data = len(inputs)\n",
    "    for crt_label in labels:\n",
    "        x = [inputs[i][0] for i in range(no_data) if real_outputs[i] == crt_label and computed_outputs[i] == crt_label]\n",
    "        y = [inputs[i][1] for i in range(no_data) if real_outputs[i] == crt_label and computed_outputs[i] == crt_label]\n",
    "        plt.scatter(x, y, label=label_names[crt_label] + ' (correct)')\n",
    "    for crt_label in labels:\n",
    "        x = [inputs[i][0] for i in range(no_data) if real_outputs[i] == crt_label and computed_outputs[i] != crt_label]\n",
    "        y = [inputs[i][1] for i in range(no_data) if real_outputs[i] == crt_label and computed_outputs[i] != crt_label]\n",
    "        plt.scatter(x, y, label=label_names[crt_label] + ' (incorrect)')\n",
    "    plt.xlabel(feature_names[0])\n",
    "    plt.ylabel(feature_names[1])\n",
    "    plt.title(title)\n",
    "    plt.legend()\n",
    "    plt.show()\n",
    "\n",
    "\n",
    "def calculate_performance(computed_outputs, test_outputs, method):\n",
    "    error = 0.0\n",
    "    for t1, t2 in zip(computed_outputs, test_outputs):\n",
    "        if t1 != t2:\n",
    "            error += 1\n",
    "    error = error / len(test_outputs)\n",
    "    print('Classification error by', method, ':', error)\n"
   ],
   "metadata": {
    "collapsed": false,
    "ExecuteTime": {
     "start_time": "2023-05-07T17:51:25.143564Z",
     "end_time": "2023-05-07T17:51:25.145068Z"
    }
   }
  },
  {
   "cell_type": "code",
   "execution_count": 10,
   "outputs": [],
   "source": [
    "def load_data_flowers():\n",
    "    data = load_iris()\n",
    "    inputs = data['data']\n",
    "    outputs = data['target']\n",
    "    outputs_name = data['target_names']\n",
    "    feature_names = list(data['feature_names'])\n",
    "    feature1 = [feat[feature_names.index('sepal length (cm)')] for feat in inputs]\n",
    "    feature2 = [feat[feature_names.index('sepal width (cm)')] for feat in inputs]\n",
    "    feature3 = [feat[feature_names.index('petal length (cm)')] for feat in inputs]\n",
    "    feature4 = [feat[feature_names.index('petal width (cm)')] for feat in inputs]\n",
    "    inputs = [[feat[feature_names.index('sepal length (cm)')],\n",
    "               feat[feature_names.index('sepal width (cm)')],\n",
    "               feat[feature_names.index('petal length (cm)')],\n",
    "               feat[feature_names.index('petal width (cm)')]] for feat in inputs]\n",
    "    return inputs, outputs, outputs_name, feature1, feature2, feature3, feature4, feature_names\n",
    "\n",
    "\n",
    "def plot_data_four_features(inputs, outputs, output_names, feature_names, title=None):\n",
    "    x = [i[0] for i in inputs]\n",
    "    y = [i[1] for i in inputs]\n",
    "    z = [i[2] for i in inputs]\n",
    "    v = [i[3] for i in inputs]\n",
    "    figure = px.scatter_3d(x=x, y=y, z=z, symbol=v, color=outputs, title=title,\n",
    "                           labels=dict(x=feature_names[0], y=feature_names[1], z=feature_names[2],\n",
    "                                       symbol=feature_names[3], color=\"Type\"))\n",
    "    figure.update_layout(legend=dict(orientation=\"v\", yanchor='top', xanchor=\"right\"))\n",
    "    figure.show()"
   ],
   "metadata": {
    "collapsed": false,
    "ExecuteTime": {
     "start_time": "2023-05-07T17:51:25.148803Z",
     "end_time": "2023-05-07T17:51:25.153300Z"
    }
   }
  },
  {
   "cell_type": "code",
   "execution_count": 11,
   "outputs": [],
   "source": [
    "def learn_by_tool_multi_label(train_inputs, train_outputs, test_inputs, test_outputs):\n",
    "    classifier = linear_model.LogisticRegression()\n",
    "    classifier.fit(train_inputs, train_outputs)\n",
    "    w0, w1, w2, w3, w4 = classifier.intercept_[0], classifier.coef_[0][0], classifier.coef_[0][1], classifier.coef_[0][\n",
    "        2], classifier.coef_[0][3]\n",
    "    print('Classification model by tool first label: y =', w0, '+', w1, '* feat1 +', w2, '* feat2 +', w3, '* feat3 +',\n",
    "          w4, '* feat4')\n",
    "    w0, w1, w2, w3, w4 = classifier.intercept_[1], classifier.coef_[1][0], classifier.coef_[1][1], classifier.coef_[1][\n",
    "        2], classifier.coef_[1][3]\n",
    "    print('Classification model by tool second label: y =', w0, '+', w1, '* feat1 +', w2, '* feat2 +', w3, '* feat3 +',\n",
    "          w4, '* feat4')\n",
    "    w0, w1, w2, w3, w4 = classifier.intercept_[2], classifier.coef_[2][0], classifier.coef_[2][1], classifier.coef_[2][\n",
    "        2], classifier.coef_[2][3]\n",
    "    print('Classification model by tool third label: y =', w0, '+', w1, '* feat1 +', w2, '* feat2 +', w3, '* feat3 +',\n",
    "          w4, '* feat4')\n",
    "    computed_outputs = classifier.predict(test_inputs)\n",
    "    print(\"Accuracy score:\", classifier.score(test_inputs, test_outputs))\n",
    "    return computed_outputs\n",
    "\n",
    "\n",
    "def learn_by_me_multi_label(train_inputs, train_outputs, test_inputs, test_outputs):\n",
    "    classifier = MyLogisticRegressionMultipleLabels()\n",
    "    classifier.fit_batch(train_inputs, train_outputs)\n",
    "    w0, w1, w2, w3, w4 = classifier.intercept_[0], classifier.coefficient_[0][0], classifier.coefficient_[\n",
    "        0][1], classifier.coefficient_[0][2], classifier.coefficient_[0][3]\n",
    "    print('Classification model by me first label: y =', w0, '+', w1, '* feat1 +', w2, '* feat2 +', w3, '* feat3 +',\n",
    "          w4, '* feat4')\n",
    "    w0, w1, w2, w3, w4 = classifier.intercept_[1], classifier.coefficient_[1][0], classifier.coefficient_[\n",
    "        1][1], classifier.coefficient_[1][2], classifier.coefficient_[1][3]\n",
    "    print('Classification model by me second label: y =', w0, '+', w1, '* feat1 +', w2, '* feat2 +', w3, '* feat3 +',\n",
    "          w4, '* feat4')\n",
    "    w0, w1, w2, w3, w4 = classifier.intercept_[2], classifier.coefficient_[2][0], classifier.coefficient_[\n",
    "        2][1], classifier.coefficient_[2][2], classifier.coefficient_[2][3]\n",
    "    print('Classification model by me third label: y =', w0, '+', w1, '* feat1 +', w2, '* feat2 +', w3, '* feat3 +',\n",
    "          w4, '* feat4')\n",
    "    computed_outputs = classifier.predict(test_inputs)\n",
    "    no_data = len(test_inputs)\n",
    "    accuracy = 0.0\n",
    "    for i in range(no_data):\n",
    "        if test_outputs[i] == computed_outputs[i]:\n",
    "            accuracy += 1\n",
    "    print(\"Accuracy score:\", accuracy / no_data)\n",
    "    return computed_outputs"
   ],
   "metadata": {
    "collapsed": false,
    "ExecuteTime": {
     "start_time": "2023-05-07T17:51:25.156765Z",
     "end_time": "2023-05-07T17:51:25.159161Z"
    }
   }
  },
  {
   "cell_type": "code",
   "execution_count": 12,
   "outputs": [],
   "source": [
    "def cross_validation(inputs, outputs):\n",
    "    indexes = [i for i in range(len(inputs))]\n",
    "    first_set_index = []\n",
    "    second_set_index = []\n",
    "    third_set_index = []\n",
    "    forth_set_index = []\n",
    "    fifth_set_index = []\n",
    "    for i in range(5):\n",
    "        first_set_index = np.random.choice(indexes, int(0.2 * len(inputs)), replace=False)\n",
    "        used = list(first_set_index)\n",
    "        second_set_index = np.random.choice([i for i in indexes if i not in used], int(0.2 * len(inputs)),\n",
    "                                            replace=False)\n",
    "        used += list(second_set_index)\n",
    "        third_set_index = np.random.choice([i for i in indexes if i not in used], int(0.20 * len(inputs)),\n",
    "                                           replace=False)\n",
    "        used += list(third_set_index)\n",
    "        forth_set_index = np.random.choice([i for i in indexes if i not in used], int(0.20 * len(inputs)),\n",
    "                                           replace=False)\n",
    "        used += list(forth_set_index)\n",
    "        fifth_set_index = [i for i in indexes if i not in used]\n",
    "    first_set = {\n",
    "        'inputs': [inputs[i] for i in first_set_index],\n",
    "        'outputs': [outputs[i] for i in first_set_index]\n",
    "    }\n",
    "    second_set = {\n",
    "        'inputs': [inputs[i] for i in second_set_index],\n",
    "        'outputs': [outputs[i] for i in second_set_index]\n",
    "    }\n",
    "    third_set = {\n",
    "        'inputs': [inputs[i] for i in third_set_index],\n",
    "        'outputs': [outputs[i] for i in third_set_index]\n",
    "    }\n",
    "    forth_set = {\n",
    "        'inputs': [inputs[i] for i in forth_set_index],\n",
    "        'outputs': [outputs[i] for i in forth_set_index]\n",
    "    }\n",
    "    fifth_set = {\n",
    "        'inputs': [inputs[i] for i in fifth_set_index],\n",
    "        'outputs': [outputs[i] for i in fifth_set_index]\n",
    "    }\n",
    "    return [first_set, second_set, third_set, forth_set, fifth_set]\n",
    "\n",
    "\n",
    "def other_loss_function(train_inputs, train_outputs, test_inputs, test_outputs):\n",
    "    classifier = SGDClassifier(loss='log_loss')\n",
    "    classifier.fit(train_inputs, train_outputs)\n",
    "    print('Accuracy score (log loss by tool):', classifier.score(test_inputs, test_outputs))\n",
    "    classifier = SGDClassifier(loss='hinge')\n",
    "    classifier.fit(train_inputs, train_outputs)\n",
    "    print('Accuracy score (hinge loss by tool):', classifier.score(test_inputs, test_outputs))\n",
    "    classifier = SGDClassifier(loss='squared_hinge')\n",
    "    classifier.fit(train_inputs, train_outputs)\n",
    "    print('Accuracy score (squared hinge loss by tool):', classifier.score(test_inputs, test_outputs))\n"
   ],
   "metadata": {
    "collapsed": false,
    "ExecuteTime": {
     "start_time": "2023-05-07T17:51:25.164631Z",
     "end_time": "2023-05-07T17:51:25.166329Z"
    }
   }
  },
  {
   "cell_type": "code",
   "execution_count": 13,
   "outputs": [],
   "source": [
    "def main_breast_cancer():\n",
    "    print(\"Two classes:\")\n",
    "    inputs, outputs, outputNames, feature1, feature2, featureNames = load_data()\n",
    "    plot_data(inputs, outputs, outputNames, featureNames, \"Initial data\")\n",
    "    plot_histogram_feature(feature1, featureNames[0])\n",
    "    plot_histogram_feature(feature2, featureNames[1])\n",
    "    plot_histogram_feature(outputs, 'Cancer class')\n",
    "    trainInputs, trainOutputs, testInputs, testOutputs = train_and_test(inputs, outputs)\n",
    "    trainInputs, testInputs = normalisation(trainInputs, testInputs)\n",
    "    plot_data(trainInputs, trainOutputs, outputNames, featureNames, \"Normalised data\")\n",
    "    computedTestOutputs = learn_by_tool(trainInputs, trainOutputs, testInputs, testOutputs)\n",
    "    plot_predictions(testInputs, testOutputs, computedTestOutputs, outputNames, featureNames, \"Results by tool\")\n",
    "    calculate_performance(computedTestOutputs, testOutputs, \"tool\")\n",
    "    print()\n",
    "    computedTestOutputs = learn_by_me(trainInputs, trainOutputs, testInputs, testOutputs)\n",
    "    plot_predictions(testInputs, testOutputs, computedTestOutputs, outputNames, featureNames, \"Results by me\")\n",
    "    calculate_performance(computedTestOutputs, testOutputs, \"me\")\n",
    "\n",
    "def main_flowers():\n",
    "    inputs, outputs, outputNames, feature1, feature2, feature3, feature4, featureNames = load_data_flowers()\n",
    "    plot_data_four_features(inputs, outputs, outputNames, featureNames, \"Initial data for flowers\")\n",
    "    plot_histogram_feature(feature1, featureNames[0])\n",
    "    plot_histogram_feature(feature2, featureNames[1])\n",
    "    plot_histogram_feature(feature3, featureNames[2])\n",
    "    plot_histogram_feature(feature4, featureNames[3])\n",
    "    plot_histogram_feature(outputs, 'Flowers class')\n",
    "    trainInputs, trainOutputs, testInputs, testOutputs = train_and_test(inputs, outputs)\n",
    "    trainInputs, testInputs = normalisation(trainInputs, testInputs)\n",
    "    plot_data_four_features(trainInputs, trainOutputs, outputNames, featureNames, \"Normalised flowers' data\")\n",
    "    computedTestOutputs = learn_by_tool_multi_label(trainInputs, trainOutputs, testInputs, testOutputs)\n",
    "    plot_predictions(testInputs, testOutputs, computedTestOutputs, outputNames, featureNames[:2], \"Results by tool\")\n",
    "    calculate_performance(computedTestOutputs, testOutputs, \"tool\")\n",
    "    print()\n",
    "    computedTestOutputs = learn_by_me_multi_label(trainInputs, trainOutputs, testInputs, testOutputs)\n",
    "    plot_predictions(testInputs, testOutputs, computedTestOutputs, outputNames, featureNames[:2], \"Results by me\")\n",
    "    calculate_performance(computedTestOutputs, testOutputs, \"me\")\n",
    "    print()\n",
    "    print(\"Cross validation:\")\n",
    "    data = cross_validation(inputs, outputs)\n",
    "    for index in range(5):\n",
    "        testInputs = data[index]['inputs']\n",
    "        testOutputs = data[index]['outputs']\n",
    "        trainInputs = []\n",
    "        trainOutputs = []\n",
    "        for dictionary in data[:index] + data[index + 1:]:\n",
    "            trainInputs += dictionary['inputs']\n",
    "            trainOutputs += dictionary['outputs']\n",
    "        trainInputs, testInputs = normalisation(trainInputs, testInputs)\n",
    "        computedTestOutputs = learn_by_me_multi_label(trainInputs, trainOutputs, testInputs, testOutputs)\n",
    "        calculate_performance(computedTestOutputs, testOutputs, \"me\")\n",
    "        print()\n",
    "    print(\"Other loss functions:\")\n",
    "    trainInputs, trainOutputs, testInputs, testOutputs = train_and_test(inputs, outputs)\n",
    "    trainInputs, testInputs = normalisation(trainInputs, testInputs)\n",
    "    other_loss_function(trainInputs, trainOutputs, testInputs, testOutputs)\n"
   ],
   "metadata": {
    "collapsed": false,
    "ExecuteTime": {
     "start_time": "2023-05-07T17:51:25.172075Z",
     "end_time": "2023-05-07T17:51:25.173746Z"
    }
   }
  },
  {
   "cell_type": "code",
   "execution_count": 14,
   "outputs": [
    {
     "name": "stdout",
     "output_type": "stream",
     "text": [
      "Two classes:\n"
     ]
    },
    {
     "data": {
      "text/plain": "<Figure size 640x480 with 1 Axes>",
      "image/png": "[encoded data removed]"
     },
     "metadata": {},
     "output_type": "display_data"
    },
    {
     "data": {
      "text/plain": "<Figure size 640x480 with 1 Axes>",
      "image/png": "[encoded data removed]"
     },
     "metadata": {},
     "output_type": "display_data"
    },
    {
     "data": {
      "text/plain": "<Figure size 640x480 with 1 Axes>",
      "image/png": "[encoded data removed]"
     },
     "metadata": {},
     "output_type": "display_data"
    },
    {
     "data": {
      "text/plain": "<Figure size 640x480 with 1 Axes>",
      "image/png": "[encoded data removed]"
     },
     "metadata": {},
     "output_type": "display_data"
    },
    {
     "data": {
      "text/plain": "<Figure size 640x480 with 1 Axes>",
      "image/png": "[encoded data removed]"
     },
     "metadata": {},
     "output_type": "display_data"
    },
    {
     "name": "stdout",
     "output_type": "stream",
     "text": [
      "Classification model by tool: y = 0.6181687576743109 + -3.416675868668446 * feat1 + -0.8445959898274961 * feat2\n",
      "Accuracy score: 0.8771929824561403\n"
     ]
    },
    {
     "data": {
      "text/plain": "<Figure size 640x480 with 1 Axes>",
      "image/png": "[encoded data removed]"
     },
     "metadata": {},
     "output_type": "display_data"
    },
    {
     "name": "stdout",
     "output_type": "stream",
     "text": [
      "Classification error by tool : 0.12280701754385964\n",
      "\n",
      "Classification model by me: y = 0.6195290683957235 + -3.936138543416152 * feat1 + -0.9272356267231637 * feat2\n",
      "Accuracy score: 0.8947368421052632\n"
     ]
    },
    {
     "data": {
      "text/plain": "<Figure size 640x480 with 1 Axes>",
      "image/png": "[encoded data removed]"
     },
     "metadata": {},
     "output_type": "display_data"
    },
    {
     "name": "stdout",
     "output_type": "stream",
     "text": [
      "Classification error by me : 0.10526315789473684\n"
     ]
    }
   ],
   "source": [
    "main_breast_cancer()"
   ],
   "metadata": {
    "collapsed": false,
    "ExecuteTime": {
     "start_time": "2023-05-07T17:51:25.174764Z",
     "end_time": "2023-05-07T17:51:26.864326Z"
    }
   }
  },
  {
   "cell_type": "code",
   "execution_count": 16,
   "outputs": [
    {
     "data": {
      "application/vnd.plotly.v1+json": {
       "data": [
        {
         "hovertemplate": "petal width (cm)=0.2<br>sepal length (cm)=%{x}<br>sepal width (cm)=%{y}<br>petal length (cm)=%{z}<br>Type=%{marker.color}<extra></extra>",
         "legendgroup": "0.2",
         "marker": {
          "color": [
           0,
           0,
           0,
           0,
           0,
           0,
           0,
           0,
           0,
           0,
           0,
           0,
           0,
           0,
           0,
           0,
           0,
           0,
           0,
           0,
           0,
           0,
           0,
           0,
           0,
           0,
           0,
           0,
           0
          ],
          "coloraxis": "coloraxis",
          "symbol": "circle"
         },
         "mode": "markers",
         "name": "0.2",
         "scene": "scene",
         "showlegend": true,
         "x": [
          5.1,
          4.9,
          4.7,
          4.6,
          5.0,
          5.0,
          4.4,
          5.4,
          4.8,
          5.8,
          5.4,
          4.6,
          4.8,
          5.0,
          5.2,
          5.2,
          4.7,
          4.8,
          5.5,
          4.9,
          5.0,
          5.5,
          4.4,
          5.1,
          4.4,
          5.1,
          4.6,
          5.3,
          5.0
         ],
         "y": [
          3.5,
          3.0,
          3.2,
          3.1,
          3.6,
          3.4,
          2.9,
          3.7,
          3.4,
          4.0,
          3.4,
          3.6,
          3.4,
          3.0,
          3.5,
          3.4,
          3.2,
          3.1,
          4.2,
          3.1,
          3.2,
          3.5,
          3.0,
          3.4,
          3.2,
          3.8,
          3.2,
          3.7,
          3.3
         ],
         "z": [
          1.4,
          1.4,
          1.3,
          1.5,
          1.4,
          1.5,
          1.4,
          1.5,
          1.6,
          1.2,
          1.7,
          1.0,
          1.9,
          1.6,
          1.5,
          1.4,
          1.6,
          1.6,
          1.4,
          1.5,
          1.2,
          1.3,
          1.3,
          1.5,
          1.3,
          1.6,
          1.4,
          1.5,
          1.4
         ],
         "type": "scatter3d"
        },
        {
         "hovertemplate": "petal width (cm)=0.4<br>sepal length (cm)=%{x}<br>sepal width (cm)=%{y}<br>petal length (cm)=%{z}<br>Type=%{marker.color}<extra></extra>",
         "legendgroup": "0.4",
         "marker": {
          "color": [
           0,
           0,
           0,
           0,
           0,
           0,
           0
          ],
          "coloraxis": "coloraxis",
          "symbol": "diamond"
         },
         "mode": "markers",
         "name": "0.4",
         "scene": "scene",
         "showlegend": true,
         "x": [
          5.4,
          5.7,
          5.4,
          5.1,
          5.0,
          5.4,
          5.1
         ],
         "y": [
          3.9,
          4.4,
          3.9,
          3.7,
          3.4,
          3.4,
          3.8
         ],
         "z": [
          1.7,
          1.5,
          1.3,
          1.5,
          1.6,
          1.5,
          1.9
         ],
         "type": "scatter3d"
        },
        {
         "hovertemplate": "petal width (cm)=0.3<br>sepal length (cm)=%{x}<br>sepal width (cm)=%{y}<br>petal length (cm)=%{z}<br>Type=%{marker.color}<extra></extra>",
         "legendgroup": "0.3",
         "marker": {
          "color": [
           0,
           0,
           0,
           0,
           0,
           0,
           0
          ],
          "coloraxis": "coloraxis",
          "symbol": "square"
         },
         "mode": "markers",
         "name": "0.3",
         "scene": "scene",
         "showlegend": true,
         "x": [
          4.6,
          5.1,
          5.7,
          5.1,
          5.0,
          4.5,
          4.8
         ],
         "y": [
          3.4,
          3.5,
          3.8,
          3.8,
          3.5,
          2.3,
          3.0
         ],
         "z": [
          1.4,
          1.4,
          1.7,
          1.5,
          1.3,
          1.3,
          1.4
         ],
         "type": "scatter3d"
        },
        {
         "hovertemplate": "petal width (cm)=0.1<br>sepal length (cm)=%{x}<br>sepal width (cm)=%{y}<br>petal length (cm)=%{z}<br>Type=%{marker.color}<extra></extra>",
         "legendgroup": "0.1",
         "marker": {
          "color": [
           0,
           0,
           0,
           0,
           0
          ],
          "coloraxis": "coloraxis",
          "symbol": "x"
         },
         "mode": "markers",
         "name": "0.1",
         "scene": "scene",
         "showlegend": true,
         "x": [
          4.9,
          4.8,
          4.3,
          5.2,
          4.9
         ],
         "y": [
          3.1,
          3.0,
          3.0,
          4.1,
          3.6
         ],
         "z": [
          1.5,
          1.4,
          1.1,
          1.5,
          1.4
         ],
         "type": "scatter3d"
        },
        {
         "hovertemplate": "petal width (cm)=0.5<br>sepal length (cm)=%{x}<br>sepal width (cm)=%{y}<br>petal length (cm)=%{z}<br>Type=%{marker.color}<extra></extra>",
         "legendgroup": "0.5",
         "marker": {
          "color": [
           0
          ],
          "coloraxis": "coloraxis",
          "symbol": "cross"
         },
         "mode": "markers",
         "name": "0.5",
         "scene": "scene",
         "showlegend": true,
         "x": [
          5.1
         ],
         "y": [
          3.3
         ],
         "z": [
          1.7
         ],
         "type": "scatter3d"
        },
        {
         "hovertemplate": "petal width (cm)=0.6<br>sepal length (cm)=%{x}<br>sepal width (cm)=%{y}<br>petal length (cm)=%{z}<br>Type=%{marker.color}<extra></extra>",
         "legendgroup": "0.6",
         "marker": {
          "color": [
           0
          ],
          "coloraxis": "coloraxis",
          "symbol": "circle"
         },
         "mode": "markers",
         "name": "0.6",
         "scene": "scene",
         "showlegend": true,
         "x": [
          5.0
         ],
         "y": [
          3.5
         ],
         "z": [
          1.6
         ],
         "type": "scatter3d"
        },
        {
         "hovertemplate": "petal width (cm)=1.4<br>sepal length (cm)=%{x}<br>sepal width (cm)=%{y}<br>petal length (cm)=%{z}<br>Type=%{marker.color}<extra></extra>",
         "legendgroup": "1.4",
         "marker": {
          "color": [
           1,
           1,
           1,
           1,
           1,
           1,
           1,
           2
          ],
          "coloraxis": "coloraxis",
          "symbol": "diamond"
         },
         "mode": "markers",
         "name": "1.4",
         "scene": "scene",
         "showlegend": true,
         "x": [
          7.0,
          5.2,
          6.1,
          6.7,
          6.6,
          6.8,
          6.1,
          6.1
         ],
         "y": [
          3.2,
          2.7,
          2.9,
          3.1,
          3.0,
          2.8,
          3.0,
          2.6
         ],
         "z": [
          4.7,
          3.9,
          4.7,
          4.4,
          4.4,
          4.8,
          4.6,
          5.6
         ],
         "type": "scatter3d"
        },
        {
         "hovertemplate": "petal width (cm)=1.5<br>sepal length (cm)=%{x}<br>sepal width (cm)=%{y}<br>petal length (cm)=%{z}<br>Type=%{marker.color}<extra></extra>",
         "legendgroup": "1.5",
         "marker": {
          "color": [
           1,
           1,
           1,
           1,
           1,
           1,
           1,
           1,
           1,
           1,
           2,
           2
          ],
          "coloraxis": "coloraxis",
          "symbol": "square"
         },
         "mode": "markers",
         "name": "1.5",
         "scene": "scene",
         "showlegend": true,
         "x": [
          6.4,
          6.9,
          6.5,
          5.9,
          5.6,
          6.2,
          6.3,
          6.0,
          5.4,
          6.7,
          6.0,
          6.3
         ],
         "y": [
          3.2,
          3.1,
          2.8,
          3.0,
          3.0,
          2.2,
          2.5,
          2.9,
          3.0,
          3.1,
          2.2,
          2.8
         ],
         "z": [
          4.5,
          4.9,
          4.6,
          4.2,
          4.5,
          4.5,
          4.9,
          4.5,
          4.5,
          4.7,
          5.0,
          5.1
         ],
         "type": "scatter3d"
        },
        {
         "hovertemplate": "petal width (cm)=1.3<br>sepal length (cm)=%{x}<br>sepal width (cm)=%{y}<br>petal length (cm)=%{z}<br>Type=%{marker.color}<extra></extra>",
         "legendgroup": "1.3",
         "marker": {
          "color": [
           1,
           1,
           1,
           1,
           1,
           1,
           1,
           1,
           1,
           1,
           1,
           1,
           1
          ],
          "coloraxis": "coloraxis",
          "symbol": "x"
         },
         "mode": "markers",
         "name": "1.3",
         "scene": "scene",
         "showlegend": true,
         "x": [
          5.5,
          5.7,
          6.6,
          5.6,
          6.1,
          6.4,
          6.3,
          5.6,
          5.5,
          5.6,
          5.7,
          6.2,
          5.7
         ],
         "y": [
          2.3,
          2.8,
          2.9,
          2.9,
          2.8,
          2.9,
          2.3,
          3.0,
          2.5,
          2.7,
          2.9,
          2.9,
          2.8
         ],
         "z": [
          4.0,
          4.5,
          4.6,
          3.6,
          4.0,
          4.3,
          4.4,
          4.1,
          4.0,
          4.2,
          4.2,
          4.3,
          4.1
         ],
         "type": "scatter3d"
        },
        {
         "hovertemplate": "petal width (cm)=1.6<br>sepal length (cm)=%{x}<br>sepal width (cm)=%{y}<br>petal length (cm)=%{z}<br>Type=%{marker.color}<extra></extra>",
         "legendgroup": "1.6",
         "marker": {
          "color": [
           1,
           1,
           1,
           2
          ],
          "coloraxis": "coloraxis",
          "symbol": "cross"
         },
         "mode": "markers",
         "name": "1.6",
         "scene": "scene",
         "showlegend": true,
         "x": [
          6.3,
          6.0,
          6.0,
          7.2
         ],
         "y": [
          3.3,
          2.7,
          3.4,
          3.0
         ],
         "z": [
          4.7,
          5.1,
          4.5,
          5.8
         ],
         "type": "scatter3d"
        },
        {
         "hovertemplate": "petal width (cm)=1.0<br>sepal length (cm)=%{x}<br>sepal width (cm)=%{y}<br>petal length (cm)=%{z}<br>Type=%{marker.color}<extra></extra>",
         "legendgroup": "1.0",
         "marker": {
          "color": [
           1,
           1,
           1,
           1,
           1,
           1,
           1
          ],
          "coloraxis": "coloraxis",
          "symbol": "circle"
         },
         "mode": "markers",
         "name": "1.0",
         "scene": "scene",
         "showlegend": true,
         "x": [
          4.9,
          5.0,
          6.0,
          5.8,
          5.7,
          5.5,
          5.0
         ],
         "y": [
          2.4,
          2.0,
          2.2,
          2.7,
          2.6,
          2.4,
          2.3
         ],
         "z": [
          3.3,
          3.5,
          4.0,
          4.1,
          3.5,
          3.7,
          3.3
         ],
         "type": "scatter3d"
        },
        {
         "hovertemplate": "petal width (cm)=1.1<br>sepal length (cm)=%{x}<br>sepal width (cm)=%{y}<br>petal length (cm)=%{z}<br>Type=%{marker.color}<extra></extra>",
         "legendgroup": "1.1",
         "marker": {
          "color": [
           1,
           1,
           1
          ],
          "coloraxis": "coloraxis",
          "symbol": "diamond"
         },
         "mode": "markers",
         "name": "1.1",
         "scene": "scene",
         "showlegend": true,
         "x": [
          5.6,
          5.5,
          5.1
         ],
         "y": [
          2.5,
          2.4,
          2.5
         ],
         "z": [
          3.9,
          3.8,
          3.0
         ],
         "type": "scatter3d"
        },
        {
         "hovertemplate": "petal width (cm)=1.8<br>sepal length (cm)=%{x}<br>sepal width (cm)=%{y}<br>petal length (cm)=%{z}<br>Type=%{marker.color}<extra></extra>",
         "legendgroup": "1.8",
         "marker": {
          "color": [
           1,
           2,
           2,
           2,
           2,
           2,
           2,
           2,
           2,
           2,
           2,
           2
          ],
          "coloraxis": "coloraxis",
          "symbol": "square"
         },
         "mode": "markers",
         "name": "1.8",
         "scene": "scene",
         "showlegend": true,
         "x": [
          5.9,
          6.3,
          7.3,
          6.7,
          6.5,
          6.3,
          7.2,
          6.2,
          6.1,
          6.4,
          6.0,
          5.9
         ],
         "y": [
          3.2,
          2.9,
          2.9,
          2.5,
          3.0,
          2.7,
          3.2,
          2.8,
          3.0,
          3.1,
          3.0,
          3.0
         ],
         "z": [
          4.8,
          5.6,
          6.3,
          5.8,
          5.5,
          4.9,
          6.0,
          4.8,
          4.9,
          5.5,
          4.8,
          5.1
         ],
         "type": "scatter3d"
        },
        {
         "hovertemplate": "petal width (cm)=1.2<br>sepal length (cm)=%{x}<br>sepal width (cm)=%{y}<br>petal length (cm)=%{z}<br>Type=%{marker.color}<extra></extra>",
         "legendgroup": "1.2",
         "marker": {
          "color": [
           1,
           1,
           1,
           1,
           1
          ],
          "coloraxis": "coloraxis",
          "symbol": "x"
         },
         "mode": "markers",
         "name": "1.2",
         "scene": "scene",
         "showlegend": true,
         "x": [
          6.1,
          5.8,
          5.5,
          5.8,
          5.7
         ],
         "y": [
          2.8,
          2.7,
          2.6,
          2.6,
          3.0
         ],
         "z": [
          4.7,
          3.9,
          4.4,
          4.0,
          4.2
         ],
         "type": "scatter3d"
        },
        {
         "hovertemplate": "petal width (cm)=1.7<br>sepal length (cm)=%{x}<br>sepal width (cm)=%{y}<br>petal length (cm)=%{z}<br>Type=%{marker.color}<extra></extra>",
         "legendgroup": "1.7",
         "marker": {
          "color": [
           1,
           2
          ],
          "coloraxis": "coloraxis",
          "symbol": "cross"
         },
         "mode": "markers",
         "name": "1.7",
         "scene": "scene",
         "showlegend": true,
         "x": [
          6.7,
          4.9
         ],
         "y": [
          3.0,
          2.5
         ],
         "z": [
          5.0,
          4.5
         ],
         "type": "scatter3d"
        },
        {
         "hovertemplate": "petal width (cm)=2.5<br>sepal length (cm)=%{x}<br>sepal width (cm)=%{y}<br>petal length (cm)=%{z}<br>Type=%{marker.color}<extra></extra>",
         "legendgroup": "2.5",
         "marker": {
          "color": [
           2,
           2,
           2
          ],
          "coloraxis": "coloraxis",
          "symbol": "circle"
         },
         "mode": "markers",
         "name": "2.5",
         "scene": "scene",
         "showlegend": true,
         "x": [
          6.3,
          7.2,
          6.7
         ],
         "y": [
          3.3,
          3.6,
          3.3
         ],
         "z": [
          6.0,
          6.1,
          5.7
         ],
         "type": "scatter3d"
        },
        {
         "hovertemplate": "petal width (cm)=1.9<br>sepal length (cm)=%{x}<br>sepal width (cm)=%{y}<br>petal length (cm)=%{z}<br>Type=%{marker.color}<extra></extra>",
         "legendgroup": "1.9",
         "marker": {
          "color": [
           2,
           2,
           2,
           2,
           2
          ],
          "coloraxis": "coloraxis",
          "symbol": "diamond"
         },
         "mode": "markers",
         "name": "1.9",
         "scene": "scene",
         "showlegend": true,
         "x": [
          5.8,
          6.4,
          7.4,
          5.8,
          6.3
         ],
         "y": [
          2.7,
          2.7,
          2.8,
          2.7,
          2.5
         ],
         "z": [
          5.1,
          5.3,
          6.1,
          5.1,
          5.0
         ],
         "type": "scatter3d"
        },
        {
         "hovertemplate": "petal width (cm)=2.1<br>sepal length (cm)=%{x}<br>sepal width (cm)=%{y}<br>petal length (cm)=%{z}<br>Type=%{marker.color}<extra></extra>",
         "legendgroup": "2.1",
         "marker": {
          "color": [
           2,
           2,
           2,
           2,
           2,
           2
          ],
          "coloraxis": "coloraxis",
          "symbol": "square"
         },
         "mode": "markers",
         "name": "2.1",
         "scene": "scene",
         "showlegend": true,
         "x": [
          7.1,
          7.6,
          6.8,
          6.7,
          6.4,
          6.9
         ],
         "y": [
          3.0,
          3.0,
          3.0,
          3.3,
          2.8,
          3.1
         ],
         "z": [
          5.9,
          6.6,
          5.5,
          5.7,
          5.6,
          5.4
         ],
         "type": "scatter3d"
        },
        {
         "hovertemplate": "petal width (cm)=2.2<br>sepal length (cm)=%{x}<br>sepal width (cm)=%{y}<br>petal length (cm)=%{z}<br>Type=%{marker.color}<extra></extra>",
         "legendgroup": "2.2",
         "marker": {
          "color": [
           2,
           2,
           2
          ],
          "coloraxis": "coloraxis",
          "symbol": "x"
         },
         "mode": "markers",
         "name": "2.2",
         "scene": "scene",
         "showlegend": true,
         "x": [
          6.5,
          7.7,
          6.4
         ],
         "y": [
          3.0,
          3.8,
          2.8
         ],
         "z": [
          5.8,
          6.7,
          5.6
         ],
         "type": "scatter3d"
        },
        {
         "hovertemplate": "petal width (cm)=2.0<br>sepal length (cm)=%{x}<br>sepal width (cm)=%{y}<br>petal length (cm)=%{z}<br>Type=%{marker.color}<extra></extra>",
         "legendgroup": "2.0",
         "marker": {
          "color": [
           2,
           2,
           2,
           2,
           2,
           2
          ],
          "coloraxis": "coloraxis",
          "symbol": "cross"
         },
         "mode": "markers",
         "name": "2.0",
         "scene": "scene",
         "showlegend": true,
         "x": [
          6.5,
          5.7,
          5.6,
          7.7,
          7.9,
          6.5
         ],
         "y": [
          3.2,
          2.5,
          2.8,
          2.8,
          3.8,
          3.0
         ],
         "z": [
          5.1,
          5.0,
          4.9,
          6.7,
          6.4,
          5.2
         ],
         "type": "scatter3d"
        },
        {
         "hovertemplate": "petal width (cm)=2.4<br>sepal length (cm)=%{x}<br>sepal width (cm)=%{y}<br>petal length (cm)=%{z}<br>Type=%{marker.color}<extra></extra>",
         "legendgroup": "2.4",
         "marker": {
          "color": [
           2,
           2,
           2
          ],
          "coloraxis": "coloraxis",
          "symbol": "circle"
         },
         "mode": "markers",
         "name": "2.4",
         "scene": "scene",
         "showlegend": true,
         "x": [
          5.8,
          6.3,
          6.7
         ],
         "y": [
          2.8,
          3.4,
          3.1
         ],
         "z": [
          5.1,
          5.6,
          5.6
         ],
         "type": "scatter3d"
        },
        {
         "hovertemplate": "petal width (cm)=2.3<br>sepal length (cm)=%{x}<br>sepal width (cm)=%{y}<br>petal length (cm)=%{z}<br>Type=%{marker.color}<extra></extra>",
         "legendgroup": "2.3",
         "marker": {
          "color": [
           2,
           2,
           2,
           2,
           2,
           2,
           2,
           2
          ],
          "coloraxis": "coloraxis",
          "symbol": "diamond"
         },
         "mode": "markers",
         "name": "2.3",
         "scene": "scene",
         "showlegend": true,
         "x": [
          6.4,
          7.7,
          6.9,
          7.7,
          6.9,
          6.8,
          6.7,
          6.2
         ],
         "y": [
          3.2,
          2.6,
          3.2,
          3.0,
          3.1,
          3.2,
          3.0,
          3.4
         ],
         "z": [
          5.3,
          6.9,
          5.7,
          6.1,
          5.1,
          5.9,
          5.2,
          5.4
         ],
         "type": "scatter3d"
        }
       ],
       "layout": {
        "template": {
         "data": {
          "histogram2dcontour": [
           {
            "type": "histogram2dcontour",
            "colorbar": {
             "outlinewidth": 0,
             "ticks": ""
            },
            "colorscale": [
             [
              0.0,
              "#0d0887"
             ],
             [
              0.1111111111111111,
              "#46039f"
             ],
             [
              0.2222222222222222,
              "#7201a8"
             ],
             [
              0.3333333333333333,
              "#9c179e"
             ],
             [
              0.4444444444444444,
              "#bd3786"
             ],
             [
              0.5555555555555556,
              "#d8576b"
             ],
             [
              0.6666666666666666,
              "#ed7953"
             ],
             [
              0.7777777777777778,
              "#fb9f3a"
             ],
             [
              0.8888888888888888,
              "#fdca26"
             ],
             [
              1.0,
              "#f0f921"
             ]
            ]
           }
          ],
          "choropleth": [
           {
            "type": "choropleth",
            "colorbar": {
             "outlinewidth": 0,
             "ticks": ""
            }
           }
          ],
          "histogram2d": [
           {
            "type": "histogram2d",
            "colorbar": {
             "outlinewidth": 0,
             "ticks": ""
            },
            "colorscale": [
             [
              0.0,
              "#0d0887"
             ],
             [
              0.1111111111111111,
              "#46039f"
             ],
             [
              0.2222222222222222,
              "#7201a8"
             ],
             [
              0.3333333333333333,
              "#9c179e"
             ],
             [
              0.4444444444444444,
              "#bd3786"
             ],
             [
              0.5555555555555556,
              "#d8576b"
             ],
             [
              0.6666666666666666,
              "#ed7953"
             ],
             [
              0.7777777777777778,
              "#fb9f3a"
             ],
             [
              0.8888888888888888,
              "#fdca26"
             ],
             [
              1.0,
              "#f0f921"
             ]
            ]
           }
          ],
          "heatmap": [
           {
            "type": "heatmap",
            "colorbar": {
             "outlinewidth": 0,
             "ticks": ""
            },
            "colorscale": [
             [
              0.0,
              "#0d0887"
             ],
             [
              0.1111111111111111,
              "#46039f"
             ],
             [
              0.2222222222222222,
              "#7201a8"
             ],
             [
              0.3333333333333333,
              "#9c179e"
             ],
             [
              0.4444444444444444,
              "#bd3786"
             ],
             [
              0.5555555555555556,
              "#d8576b"
             ],
             [
              0.6666666666666666,
              "#ed7953"
             ],
             [
              0.7777777777777778,
              "#fb9f3a"
             ],
             [
              0.8888888888888888,
              "#fdca26"
             ],
             [
              1.0,
              "#f0f921"
             ]
            ]
           }
          ],
          "heatmapgl": [
           {
            "type": "heatmapgl",
            "colorbar": {
             "outlinewidth": 0,
             "ticks": ""
            },
            "colorscale": [
             [
              0.0,
              "#0d0887"
             ],
             [
              0.1111111111111111,
              "#46039f"
             ],
             [
              0.2222222222222222,
              "#7201a8"
             ],
             [
              0.3333333333333333,
              "#9c179e"
             ],
             [
              0.4444444444444444,
              "#bd3786"
             ],
             [
              0.5555555555555556,
              "#d8576b"
             ],
             [
              0.6666666666666666,
              "#ed7953"
             ],
             [
              0.7777777777777778,
              "#fb9f3a"
             ],
             [
              0.8888888888888888,
              "#fdca26"
             ],
             [
              1.0,
              "#f0f921"
             ]
            ]
           }
          ],
          "contourcarpet": [
           {
            "type": "contourcarpet",
            "colorbar": {
             "outlinewidth": 0,
             "ticks": ""
            }
           }
          ],
          "contour": [
           {
            "type": "contour",
            "colorbar": {
             "outlinewidth": 0,
             "ticks": ""
            },
            "colorscale": [
             [
              0.0,
              "#0d0887"
             ],
             [
              0.1111111111111111,
              "#46039f"
             ],
             [
              0.2222222222222222,
              "#7201a8"
             ],
             [
              0.3333333333333333,
              "#9c179e"
             ],
             [
              0.4444444444444444,
              "#bd3786"
             ],
             [
              0.5555555555555556,
              "#d8576b"
             ],
             [
              0.6666666666666666,
              "#ed7953"
             ],
             [
              0.7777777777777778,
              "#fb9f3a"
             ],
             [
              0.8888888888888888,
              "#fdca26"
             ],
             [
              1.0,
              "#f0f921"
             ]
            ]
           }
          ],
          "surface": [
           {
            "type": "surface",
            "colorbar": {
             "outlinewidth": 0,
             "ticks": ""
            },
            "colorscale": [
             [
              0.0,
              "#0d0887"
             ],
             [
              0.1111111111111111,
              "#46039f"
             ],
             [
              0.2222222222222222,
              "#7201a8"
             ],
             [
              0.3333333333333333,
              "#9c179e"
             ],
             [
              0.4444444444444444,
              "#bd3786"
             ],
             [
              0.5555555555555556,
              "#d8576b"
             ],
             [
              0.6666666666666666,
              "#ed7953"
             ],
             [
              0.7777777777777778,
              "#fb9f3a"
             ],
             [
              0.8888888888888888,
              "#fdca26"
             ],
             [
              1.0,
              "#f0f921"
             ]
            ]
           }
          ],
          "mesh3d": [
           {
            "type": "mesh3d",
            "colorbar": {
             "outlinewidth": 0,
             "ticks": ""
            }
           }
          ],
          "scatter": [
           {
            "marker": {
             "line": {
              "color": "#283442"
             }
            },
            "type": "scatter"
           }
          ],
          "parcoords": [
           {
            "type": "parcoords",
            "line": {
             "colorbar": {
              "outlinewidth": 0,
              "ticks": ""
             }
            }
           }
          ],
          "scatterpolargl": [
           {
            "type": "scatterpolargl",
            "marker": {
             "colorbar": {
              "outlinewidth": 0,
              "ticks": ""
             }
            }
           }
          ],
          "bar": [
           {
            "error_x": {
             "color": "#f2f5fa"
            },
            "error_y": {
             "color": "#f2f5fa"
            },
            "marker": {
             "line": {
              "color": "rgb(17,17,17)",
              "width": 0.5
             },
             "pattern": {
              "fillmode": "overlay",
              "size": 10,
              "solidity": 0.2
             }
            },
            "type": "bar"
           }
          ],
          "scattergeo": [
           {
            "type": "scattergeo",
            "marker": {
             "colorbar": {
              "outlinewidth": 0,
              "ticks": ""
             }
            }
           }
          ],
          "scatterpolar": [
           {
            "type": "scatterpolar",
            "marker": {
             "colorbar": {
              "outlinewidth": 0,
              "ticks": ""
             }
            }
           }
          ],
          "histogram": [
           {
            "marker": {
             "pattern": {
              "fillmode": "overlay",
              "size": 10,
              "solidity": 0.2
             }
            },
            "type": "histogram"
           }
          ],
          "scattergl": [
           {
            "marker": {
             "line": {
              "color": "#283442"
             }
            },
            "type": "scattergl"
           }
          ],
          "scatter3d": [
           {
            "type": "scatter3d",
            "line": {
             "colorbar": {
              "outlinewidth": 0,
              "ticks": ""
             }
            },
            "marker": {
             "colorbar": {
              "outlinewidth": 0,
              "ticks": ""
             }
            }
           }
          ],
          "scattermapbox": [
           {
            "type": "scattermapbox",
            "marker": {
             "colorbar": {
              "outlinewidth": 0,
              "ticks": ""
             }
            }
           }
          ],
          "scatterternary": [
           {
            "type": "scatterternary",
            "marker": {
             "colorbar": {
              "outlinewidth": 0,
              "ticks": ""
             }
            }
           }
          ],
          "scattercarpet": [
           {
            "type": "scattercarpet",
            "marker": {
             "colorbar": {
              "outlinewidth": 0,
              "ticks": ""
             }
            }
           }
          ],
          "carpet": [
           {
            "aaxis": {
             "endlinecolor": "#A2B1C6",
             "gridcolor": "#506784",
             "linecolor": "#506784",
             "minorgridcolor": "#506784",
             "startlinecolor": "#A2B1C6"
            },
            "baxis": {
             "endlinecolor": "#A2B1C6",
             "gridcolor": "#506784",
             "linecolor": "#506784",
             "minorgridcolor": "#506784",
             "startlinecolor": "#A2B1C6"
            },
            "type": "carpet"
           }
          ],
          "table": [
           {
            "cells": {
             "fill": {
              "color": "#506784"
             },
             "line": {
              "color": "rgb(17,17,17)"
             }
            },
            "header": {
             "fill": {
              "color": "#2a3f5f"
             },
             "line": {
              "color": "rgb(17,17,17)"
             }
            },
            "type": "table"
           }
          ],
          "barpolar": [
           {
            "marker": {
             "line": {
              "color": "rgb(17,17,17)",
              "width": 0.5
             },
             "pattern": {
              "fillmode": "overlay",
              "size": 10,
              "solidity": 0.2
             }
            },
            "type": "barpolar"
           }
          ],
          "pie": [
           {
            "automargin": true,
            "type": "pie"
           }
          ]
         },
         "layout": {
          "autotypenumbers": "strict",
          "colorway": [
           "#636efa",
           "#EF553B",
           "#00cc96",
           "#ab63fa",
           "#FFA15A",
           "#19d3f3",
           "#FF6692",
           "#B6E880",
           "#FF97FF",
           "#FECB52"
          ],
          "font": {
           "color": "#f2f5fa"
          },
          "hovermode": "closest",
          "hoverlabel": {
           "align": "left"
          },
          "paper_bgcolor": "rgb(17,17,17)",
          "plot_bgcolor": "rgb(17,17,17)",
          "polar": {
           "bgcolor": "rgb(17,17,17)",
           "angularaxis": {
            "gridcolor": "#506784",
            "linecolor": "#506784",
            "ticks": ""
           },
           "radialaxis": {
            "gridcolor": "#506784",
            "linecolor": "#506784",
            "ticks": ""
           }
          },
          "ternary": {
           "bgcolor": "rgb(17,17,17)",
           "aaxis": {
            "gridcolor": "#506784",
            "linecolor": "#506784",
            "ticks": ""
           },
           "baxis": {
            "gridcolor": "#506784",
            "linecolor": "#506784",
            "ticks": ""
           },
           "caxis": {
            "gridcolor": "#506784",
            "linecolor": "#506784",
            "ticks": ""
           }
          },
          "coloraxis": {
           "colorbar": {
            "outlinewidth": 0,
            "ticks": ""
           }
          },
          "colorscale": {
           "sequential": [
            [
             0.0,
             "#0d0887"
            ],
            [
             0.1111111111111111,
             "#46039f"
            ],
            [
             0.2222222222222222,
             "#7201a8"
            ],
            [
             0.3333333333333333,
             "#9c179e"
            ],
            [
             0.4444444444444444,
             "#bd3786"
            ],
            [
             0.5555555555555556,
             "#d8576b"
            ],
            [
             0.6666666666666666,
             "#ed7953"
            ],
            [
             0.7777777777777778,
             "#fb9f3a"
            ],
            [
             0.8888888888888888,
             "#fdca26"
            ],
            [
             1.0,
             "#f0f921"
            ]
           ],
           "sequentialminus": [
            [
             0.0,
             "#0d0887"
            ],
            [
             0.1111111111111111,
             "#46039f"
            ],
            [
             0.2222222222222222,
             "#7201a8"
            ],
            [
             0.3333333333333333,
             "#9c179e"
            ],
            [
             0.4444444444444444,
             "#bd3786"
            ],
            [
             0.5555555555555556,
             "#d8576b"
            ],
            [
             0.6666666666666666,
             "#ed7953"
            ],
            [
             0.7777777777777778,
             "#fb9f3a"
            ],
            [
             0.8888888888888888,
             "#fdca26"
            ],
            [
             1.0,
             "#f0f921"
            ]
           ],
           "diverging": [
            [
             0,
             "#8e0152"
            ],
            [
             0.1,
             "#c51b7d"
            ],
            [
             0.2,
             "#de77ae"
            ],
            [
             0.3,
             "#f1b6da"
            ],
            [
             0.4,
             "#fde0ef"
            ],
            [
             0.5,
             "#f7f7f7"
            ],
            [
             0.6,
             "#e6f5d0"
            ],
            [
             0.7,
             "#b8e186"
            ],
            [
             0.8,
             "#7fbc41"
            ],
            [
             0.9,
             "#4d9221"
            ],
            [
             1,
             "#276419"
            ]
           ]
          },
          "xaxis": {
           "gridcolor": "#283442",
           "linecolor": "#506784",
           "ticks": "",
           "title": {
            "standoff": 15
           },
           "zerolinecolor": "#283442",
           "automargin": true,
           "zerolinewidth": 2
          },
          "yaxis": {
           "gridcolor": "#283442",
           "linecolor": "#506784",
           "ticks": "",
           "title": {
            "standoff": 15
           },
           "zerolinecolor": "#283442",
           "automargin": true,
           "zerolinewidth": 2
          },
          "scene": {
           "xaxis": {
            "backgroundcolor": "rgb(17,17,17)",
            "gridcolor": "#506784",
            "linecolor": "#506784",
            "showbackground": true,
            "ticks": "",
            "zerolinecolor": "#C8D4E3",
            "gridwidth": 2
           },
           "yaxis": {
            "backgroundcolor": "rgb(17,17,17)",
            "gridcolor": "#506784",
            "linecolor": "#506784",
            "showbackground": true,
            "ticks": "",
            "zerolinecolor": "#C8D4E3",
            "gridwidth": 2
           },
           "zaxis": {
            "backgroundcolor": "rgb(17,17,17)",
            "gridcolor": "#506784",
            "linecolor": "#506784",
            "showbackground": true,
            "ticks": "",
            "zerolinecolor": "#C8D4E3",
            "gridwidth": 2
           }
          },
          "shapedefaults": {
           "line": {
            "color": "#f2f5fa"
           }
          },
          "annotationdefaults": {
           "arrowcolor": "#f2f5fa",
           "arrowhead": 0,
           "arrowwidth": 1
          },
          "geo": {
           "bgcolor": "rgb(17,17,17)",
           "landcolor": "rgb(17,17,17)",
           "subunitcolor": "#506784",
           "showland": true,
           "showlakes": true,
           "lakecolor": "rgb(17,17,17)"
          },
          "title": {
           "x": 0.05
          },
          "updatemenudefaults": {
           "bgcolor": "#506784",
           "borderwidth": 0
          },
          "sliderdefaults": {
           "bgcolor": "#C8D4E3",
           "borderwidth": 1,
           "bordercolor": "rgb(17,17,17)",
           "tickwidth": 0
          },
          "mapbox": {
           "style": "dark"
          }
         }
        },
        "scene": {
         "domain": {
          "x": [
           0.0,
           1.0
          ],
          "y": [
           0.0,
           1.0
          ]
         },
         "xaxis": {
          "title": {
           "text": "sepal length (cm)"
          }
         },
         "yaxis": {
          "title": {
           "text": "sepal width (cm)"
          }
         },
         "zaxis": {
          "title": {
           "text": "petal length (cm)"
          }
         }
        },
        "coloraxis": {
         "colorbar": {
          "title": {
           "text": "Type"
          }
         },
         "colorscale": [
          [
           0.0,
           "#0d0887"
          ],
          [
           0.1111111111111111,
           "#46039f"
          ],
          [
           0.2222222222222222,
           "#7201a8"
          ],
          [
           0.3333333333333333,
           "#9c179e"
          ],
          [
           0.4444444444444444,
           "#bd3786"
          ],
          [
           0.5555555555555556,
           "#d8576b"
          ],
          [
           0.6666666666666666,
           "#ed7953"
          ],
          [
           0.7777777777777778,
           "#fb9f3a"
          ],
          [
           0.8888888888888888,
           "#fdca26"
          ],
          [
           1.0,
           "#f0f921"
          ]
         ]
        },
        "legend": {
         "title": {
          "text": "petal width (cm)"
         },
         "tracegroupgap": 0,
         "orientation": "v",
         "yanchor": "top",
         "xanchor": "right"
        },
        "title": {
         "text": "Initial data for flowers"
        }
       },
       "config": {
        "plotlyServerURL": "https://plot.ly"
       }
      },
      "text/html": "<div>                            <div id=\"e55bf525-6b56-41b0-827c-c44961e022fd\" class=\"plotly-graph-div\" style=\"height:525px; width:100%;\"></div>            <script type=\"text/javascript\">                require([\"plotly\"], function(Plotly) {                    window.PLOTLYENV=window.PLOTLYENV || {};                                    if (document.getElementById(\"e55bf525-6b56-41b0-827c-c44961e022fd\")) {                    Plotly.newPlot(                        \"e55bf525-6b56-41b0-827c-c44961e022fd\",                        [{\"hovertemplate\":\"petal width (cm)=0.2<br>sepal length (cm)=%{x}<br>sepal width (cm)=%{y}<br>petal length (cm)=%{z}<br>Type=%{marker.color}<extra></extra>\",\"legendgroup\":\"0.2\",\"marker\":{\"color\":[0,0,0,0,0,0,0,0,0,0,0,0,0,0,0,0,0,0,0,0,0,0,0,0,0,0,0,0,0],\"coloraxis\":\"coloraxis\",\"symbol\":\"circle\"},\"mode\":\"markers\",\"name\":\"0.2\",\"scene\":\"scene\",\"showlegend\":true,\"x\":[5.1,4.9,4.7,4.6,5.0,5.0,4.4,5.4,4.8,5.8,5.4,4.6,4.8,5.0,5.2,5.2,4.7,4.8,5.5,4.9,5.0,5.5,4.4,5.1,4.4,5.1,4.6,5.3,5.0],\"y\":[3.5,3.0,3.2,3.1,3.6,3.4,2.9,3.7,3.4,4.0,3.4,3.6,3.4,3.0,3.5,3.4,3.2,3.1,4.2,3.1,3.2,3.5,3.0,3.4,3.2,3.8,3.2,3.7,3.3],\"z\":[1.4,1.4,1.3,1.5,1.4,1.5,1.4,1.5,1.6,1.2,1.7,1.0,1.9,1.6,1.5,1.4,1.6,1.6,1.4,1.5,1.2,1.3,1.3,1.5,1.3,1.6,1.4,1.5,1.4],\"type\":\"scatter3d\"},{\"hovertemplate\":\"petal width (cm)=0.4<br>sepal length (cm)=%{x}<br>sepal width (cm)=%{y}<br>petal length (cm)=%{z}<br>Type=%{marker.color}<extra></extra>\",\"legendgroup\":\"0.4\",\"marker\":{\"color\":[0,0,0,0,0,0,0],\"coloraxis\":\"coloraxis\",\"symbol\":\"diamond\"},\"mode\":\"markers\",\"name\":\"0.4\",\"scene\":\"scene\",\"showlegend\":true,\"x\":[5.4,5.7,5.4,5.1,5.0,5.4,5.1],\"y\":[3.9,4.4,3.9,3.7,3.4,3.4,3.8],\"z\":[1.7,1.5,1.3,1.5,1.6,1.5,1.9],\"type\":\"scatter3d\"},{\"hovertemplate\":\"petal width (cm)=0.3<br>sepal length (cm)=%{x}<br>sepal width (cm)=%{y}<br>petal length (cm)=%{z}<br>Type=%{marker.color}<extra></extra>\",\"legendgroup\":\"0.3\",\"marker\":{\"color\":[0,0,0,0,0,0,0],\"coloraxis\":\"coloraxis\",\"symbol\":\"square\"},\"mode\":\"markers\",\"name\":\"0.3\",\"scene\":\"scene\",\"showlegend\":true,\"x\":[4.6,5.1,5.7,5.1,5.0,4.5,4.8],\"y\":[3.4,3.5,3.8,3.8,3.5,2.3,3.0],\"z\":[1.4,1.4,1.7,1.5,1.3,1.3,1.4],\"type\":\"scatter3d\"},{\"hovertemplate\":\"petal width (cm)=0.1<br>sepal length (cm)=%{x}<br>sepal width (cm)=%{y}<br>petal length (cm)=%{z}<br>Type=%{marker.color}<extra></extra>\",\"legendgroup\":\"0.1\",\"marker\":{\"color\":[0,0,0,0,0],\"coloraxis\":\"coloraxis\",\"symbol\":\"x\"},\"mode\":\"markers\",\"name\":\"0.1\",\"scene\":\"scene\",\"showlegend\":true,\"x\":[4.9,4.8,4.3,5.2,4.9],\"y\":[3.1,3.0,3.0,4.1,3.6],\"z\":[1.5,1.4,1.1,1.5,1.4],\"type\":\"scatter3d\"},{\"hovertemplate\":\"petal width (cm)=0.5<br>sepal length (cm)=%{x}<br>sepal width (cm)=%{y}<br>petal length (cm)=%{z}<br>Type=%{marker.color}<extra></extra>\",\"legendgroup\":\"0.5\",\"marker\":{\"color\":[0],\"coloraxis\":\"coloraxis\",\"symbol\":\"cross\"},\"mode\":\"markers\",\"name\":\"0.5\",\"scene\":\"scene\",\"showlegend\":true,\"x\":[5.1],\"y\":[3.3],\"z\":[1.7],\"type\":\"scatter3d\"},{\"hovertemplate\":\"petal width (cm)=0.6<br>sepal length (cm)=%{x}<br>sepal width (cm)=%{y}<br>petal length (cm)=%{z}<br>Type=%{marker.color}<extra></extra>\",\"legendgroup\":\"0.6\",\"marker\":{\"color\":[0],\"coloraxis\":\"coloraxis\",\"symbol\":\"circle\"},\"mode\":\"markers\",\"name\":\"0.6\",\"scene\":\"scene\",\"showlegend\":true,\"x\":[5.0],\"y\":[3.5],\"z\":[1.6],\"type\":\"scatter3d\"},{\"hovertemplate\":\"petal width (cm)=1.4<br>sepal length (cm)=%{x}<br>sepal width (cm)=%{y}<br>petal length (cm)=%{z}<br>Type=%{marker.color}<extra></extra>\",\"legendgroup\":\"1.4\",\"marker\":{\"color\":[1,1,1,1,1,1,1,2],\"coloraxis\":\"coloraxis\",\"symbol\":\"diamond\"},\"mode\":\"markers\",\"name\":\"1.4\",\"scene\":\"scene\",\"showlegend\":true,\"x\":[7.0,5.2,6.1,6.7,6.6,6.8,6.1,6.1],\"y\":[3.2,2.7,2.9,3.1,3.0,2.8,3.0,2.6],\"z\":[4.7,3.9,4.7,4.4,4.4,4.8,4.6,5.6],\"type\":\"scatter3d\"},{\"hovertemplate\":\"petal width (cm)=1.5<br>sepal length (cm)=%{x}<br>sepal width (cm)=%{y}<br>petal length (cm)=%{z}<br>Type=%{marker.color}<extra></extra>\",\"legendgroup\":\"1.5\",\"marker\":{\"color\":[1,1,1,1,1,1,1,1,1,1,2,2],\"coloraxis\":\"coloraxis\",\"symbol\":\"square\"},\"mode\":\"markers\",\"name\":\"1.5\",\"scene\":\"scene\",\"showlegend\":true,\"x\":[6.4,6.9,6.5,5.9,5.6,6.2,6.3,6.0,5.4,6.7,6.0,6.3],\"y\":[3.2,3.1,2.8,3.0,3.0,2.2,2.5,2.9,3.0,3.1,2.2,2.8],\"z\":[4.5,4.9,4.6,4.2,4.5,4.5,4.9,4.5,4.5,4.7,5.0,5.1],\"type\":\"scatter3d\"},{\"hovertemplate\":\"petal width (cm)=1.3<br>sepal length (cm)=%{x}<br>sepal width (cm)=%{y}<br>petal length (cm)=%{z}<br>Type=%{marker.color}<extra></extra>\",\"legendgroup\":\"1.3\",\"marker\":{\"color\":[1,1,1,1,1,1,1,1,1,1,1,1,1],\"coloraxis\":\"coloraxis\",\"symbol\":\"x\"},\"mode\":\"markers\",\"name\":\"1.3\",\"scene\":\"scene\",\"showlegend\":true,\"x\":[5.5,5.7,6.6,5.6,6.1,6.4,6.3,5.6,5.5,5.6,5.7,6.2,5.7],\"y\":[2.3,2.8,2.9,2.9,2.8,2.9,2.3,3.0,2.5,2.7,2.9,2.9,2.8],\"z\":[4.0,4.5,4.6,3.6,4.0,4.3,4.4,4.1,4.0,4.2,4.2,4.3,4.1],\"type\":\"scatter3d\"},{\"hovertemplate\":\"petal width (cm)=1.6<br>sepal length (cm)=%{x}<br>sepal width (cm)=%{y}<br>petal length (cm)=%{z}<br>Type=%{marker.color}<extra></extra>\",\"legendgroup\":\"1.6\",\"marker\":{\"color\":[1,1,1,2],\"coloraxis\":\"coloraxis\",\"symbol\":\"cross\"},\"mode\":\"markers\",\"name\":\"1.6\",\"scene\":\"scene\",\"showlegend\":true,\"x\":[6.3,6.0,6.0,7.2],\"y\":[3.3,2.7,3.4,3.0],\"z\":[4.7,5.1,4.5,5.8],\"type\":\"scatter3d\"},{\"hovertemplate\":\"petal width (cm)=1.0<br>sepal length (cm)=%{x}<br>sepal width (cm)=%{y}<br>petal length (cm)=%{z}<br>Type=%{marker.color}<extra></extra>\",\"legendgroup\":\"1.0\",\"marker\":{\"color\":[1,1,1,1,1,1,1],\"coloraxis\":\"coloraxis\",\"symbol\":\"circle\"},\"mode\":\"markers\",\"name\":\"1.0\",\"scene\":\"scene\",\"showlegend\":true,\"x\":[4.9,5.0,6.0,5.8,5.7,5.5,5.0],\"y\":[2.4,2.0,2.2,2.7,2.6,2.4,2.3],\"z\":[3.3,3.5,4.0,4.1,3.5,3.7,3.3],\"type\":\"scatter3d\"},{\"hovertemplate\":\"petal width (cm)=1.1<br>sepal length (cm)=%{x}<br>sepal width (cm)=%{y}<br>petal length (cm)=%{z}<br>Type=%{marker.color}<extra></extra>\",\"legendgroup\":\"1.1\",\"marker\":{\"color\":[1,1,1],\"coloraxis\":\"coloraxis\",\"symbol\":\"diamond\"},\"mode\":\"markers\",\"name\":\"1.1\",\"scene\":\"scene\",\"showlegend\":true,\"x\":[5.6,5.5,5.1],\"y\":[2.5,2.4,2.5],\"z\":[3.9,3.8,3.0],\"type\":\"scatter3d\"},{\"hovertemplate\":\"petal width (cm)=1.8<br>sepal length (cm)=%{x}<br>sepal width (cm)=%{y}<br>petal length (cm)=%{z}<br>Type=%{marker.color}<extra></extra>\",\"legendgroup\":\"1.8\",\"marker\":{\"color\":[1,2,2,2,2,2,2,2,2,2,2,2],\"coloraxis\":\"coloraxis\",\"symbol\":\"square\"},\"mode\":\"markers\",\"name\":\"1.8\",\"scene\":\"scene\",\"showlegend\":true,\"x\":[5.9,6.3,7.3,6.7,6.5,6.3,7.2,6.2,6.1,6.4,6.0,5.9],\"y\":[3.2,2.9,2.9,2.5,3.0,2.7,3.2,2.8,3.0,3.1,3.0,3.0],\"z\":[4.8,5.6,6.3,5.8,5.5,4.9,6.0,4.8,4.9,5.5,4.8,5.1],\"type\":\"scatter3d\"},{\"hovertemplate\":\"petal width (cm)=1.2<br>sepal length (cm)=%{x}<br>sepal width (cm)=%{y}<br>petal length (cm)=%{z}<br>Type=%{marker.color}<extra></extra>\",\"legendgroup\":\"1.2\",\"marker\":{\"color\":[1,1,1,1,1],\"coloraxis\":\"coloraxis\",\"symbol\":\"x\"},\"mode\":\"markers\",\"name\":\"1.2\",\"scene\":\"scene\",\"showlegend\":true,\"x\":[6.1,5.8,5.5,5.8,5.7],\"y\":[2.8,2.7,2.6,2.6,3.0],\"z\":[4.7,3.9,4.4,4.0,4.2],\"type\":\"scatter3d\"},{\"hovertemplate\":\"petal width (cm)=1.7<br>sepal length (cm)=%{x}<br>sepal width (cm)=%{y}<br>petal length (cm)=%{z}<br>Type=%{marker.color}<extra></extra>\",\"legendgroup\":\"1.7\",\"marker\":{\"color\":[1,2],\"coloraxis\":\"coloraxis\",\"symbol\":\"cross\"},\"mode\":\"markers\",\"name\":\"1.7\",\"scene\":\"scene\",\"showlegend\":true,\"x\":[6.7,4.9],\"y\":[3.0,2.5],\"z\":[5.0,4.5],\"type\":\"scatter3d\"},{\"hovertemplate\":\"petal width (cm)=2.5<br>sepal length (cm)=%{x}<br>sepal width (cm)=%{y}<br>petal length (cm)=%{z}<br>Type=%{marker.color}<extra></extra>\",\"legendgroup\":\"2.5\",\"marker\":{\"color\":[2,2,2],\"coloraxis\":\"coloraxis\",\"symbol\":\"circle\"},\"mode\":\"markers\",\"name\":\"2.5\",\"scene\":\"scene\",\"showlegend\":true,\"x\":[6.3,7.2,6.7],\"y\":[3.3,3.6,3.3],\"z\":[6.0,6.1,5.7],\"type\":\"scatter3d\"},{\"hovertemplate\":\"petal width (cm)=1.9<br>sepal length (cm)=%{x}<br>sepal width (cm)=%{y}<br>petal length (cm)=%{z}<br>Type=%{marker.color}<extra></extra>\",\"legendgroup\":\"1.9\",\"marker\":{\"color\":[2,2,2,2,2],\"coloraxis\":\"coloraxis\",\"symbol\":\"diamond\"},\"mode\":\"markers\",\"name\":\"1.9\",\"scene\":\"scene\",\"showlegend\":true,\"x\":[5.8,6.4,7.4,5.8,6.3],\"y\":[2.7,2.7,2.8,2.7,2.5],\"z\":[5.1,5.3,6.1,5.1,5.0],\"type\":\"scatter3d\"},{\"hovertemplate\":\"petal width (cm)=2.1<br>sepal length (cm)=%{x}<br>sepal width (cm)=%{y}<br>petal length (cm)=%{z}<br>Type=%{marker.color}<extra></extra>\",\"legendgroup\":\"2.1\",\"marker\":{\"color\":[2,2,2,2,2,2],\"coloraxis\":\"coloraxis\",\"symbol\":\"square\"},\"mode\":\"markers\",\"name\":\"2.1\",\"scene\":\"scene\",\"showlegend\":true,\"x\":[7.1,7.6,6.8,6.7,6.4,6.9],\"y\":[3.0,3.0,3.0,3.3,2.8,3.1],\"z\":[5.9,6.6,5.5,5.7,5.6,5.4],\"type\":\"scatter3d\"},{\"hovertemplate\":\"petal width (cm)=2.2<br>sepal length (cm)=%{x}<br>sepal width (cm)=%{y}<br>petal length (cm)=%{z}<br>Type=%{marker.color}<extra></extra>\",\"legendgroup\":\"2.2\",\"marker\":{\"color\":[2,2,2],\"coloraxis\":\"coloraxis\",\"symbol\":\"x\"},\"mode\":\"markers\",\"name\":\"2.2\",\"scene\":\"scene\",\"showlegend\":true,\"x\":[6.5,7.7,6.4],\"y\":[3.0,3.8,2.8],\"z\":[5.8,6.7,5.6],\"type\":\"scatter3d\"},{\"hovertemplate\":\"petal width (cm)=2.0<br>sepal length (cm)=%{x}<br>sepal width (cm)=%{y}<br>petal length (cm)=%{z}<br>Type=%{marker.color}<extra></extra>\",\"legendgroup\":\"2.0\",\"marker\":{\"color\":[2,2,2,2,2,2],\"coloraxis\":\"coloraxis\",\"symbol\":\"cross\"},\"mode\":\"markers\",\"name\":\"2.0\",\"scene\":\"scene\",\"showlegend\":true,\"x\":[6.5,5.7,5.6,7.7,7.9,6.5],\"y\":[3.2,2.5,2.8,2.8,3.8,3.0],\"z\":[5.1,5.0,4.9,6.7,6.4,5.2],\"type\":\"scatter3d\"},{\"hovertemplate\":\"petal width (cm)=2.4<br>sepal length (cm)=%{x}<br>sepal width (cm)=%{y}<br>petal length (cm)=%{z}<br>Type=%{marker.color}<extra></extra>\",\"legendgroup\":\"2.4\",\"marker\":{\"color\":[2,2,2],\"coloraxis\":\"coloraxis\",\"symbol\":\"circle\"},\"mode\":\"markers\",\"name\":\"2.4\",\"scene\":\"scene\",\"showlegend\":true,\"x\":[5.8,6.3,6.7],\"y\":[2.8,3.4,3.1],\"z\":[5.1,5.6,5.6],\"type\":\"scatter3d\"},{\"hovertemplate\":\"petal width (cm)=2.3<br>sepal length (cm)=%{x}<br>sepal width (cm)=%{y}<br>petal length (cm)=%{z}<br>Type=%{marker.color}<extra></extra>\",\"legendgroup\":\"2.3\",\"marker\":{\"color\":[2,2,2,2,2,2,2,2],\"coloraxis\":\"coloraxis\",\"symbol\":\"diamond\"},\"mode\":\"markers\",\"name\":\"2.3\",\"scene\":\"scene\",\"showlegend\":true,\"x\":[6.4,7.7,6.9,7.7,6.9,6.8,6.7,6.2],\"y\":[3.2,2.6,3.2,3.0,3.1,3.2,3.0,3.4],\"z\":[5.3,6.9,5.7,6.1,5.1,5.9,5.2,5.4],\"type\":\"scatter3d\"}],                        {\"template\":{\"data\":{\"histogram2dcontour\":[{\"type\":\"histogram2dcontour\",\"colorbar\":{\"outlinewidth\":0,\"ticks\":\"\"},\"colorscale\":[[0.0,\"#0d0887\"],[0.1111111111111111,\"#46039f\"],[0.2222222222222222,\"#7201a8\"],[0.3333333333333333,\"#9c179e\"],[0.4444444444444444,\"#bd3786\"],[0.5555555555555556,\"#d8576b\"],[0.6666666666666666,\"#ed7953\"],[0.7777777777777778,\"#fb9f3a\"],[0.8888888888888888,\"#fdca26\"],[1.0,\"#f0f921\"]]}],\"choropleth\":[{\"type\":\"choropleth\",\"colorbar\":{\"outlinewidth\":0,\"ticks\":\"\"}}],\"histogram2d\":[{\"type\":\"histogram2d\",\"colorbar\":{\"outlinewidth\":0,\"ticks\":\"\"},\"colorscale\":[[0.0,\"#0d0887\"],[0.1111111111111111,\"#46039f\"],[0.2222222222222222,\"#7201a8\"],[0.3333333333333333,\"#9c179e\"],[0.4444444444444444,\"#bd3786\"],[0.5555555555555556,\"#d8576b\"],[0.6666666666666666,\"#ed7953\"],[0.7777777777777778,\"#fb9f3a\"],[0.8888888888888888,\"#fdca26\"],[1.0,\"#f0f921\"]]}],\"heatmap\":[{\"type\":\"heatmap\",\"colorbar\":{\"outlinewidth\":0,\"ticks\":\"\"},\"colorscale\":[[0.0,\"#0d0887\"],[0.1111111111111111,\"#46039f\"],[0.2222222222222222,\"#7201a8\"],[0.3333333333333333,\"#9c179e\"],[0.4444444444444444,\"#bd3786\"],[0.5555555555555556,\"#d8576b\"],[0.6666666666666666,\"#ed7953\"],[0.7777777777777778,\"#fb9f3a\"],[0.8888888888888888,\"#fdca26\"],[1.0,\"#f0f921\"]]}],\"heatmapgl\":[{\"type\":\"heatmapgl\",\"colorbar\":{\"outlinewidth\":0,\"ticks\":\"\"},\"colorscale\":[[0.0,\"#0d0887\"],[0.1111111111111111,\"#46039f\"],[0.2222222222222222,\"#7201a8\"],[0.3333333333333333,\"#9c179e\"],[0.4444444444444444,\"#bd3786\"],[0.5555555555555556,\"#d8576b\"],[0.6666666666666666,\"#ed7953\"],[0.7777777777777778,\"#fb9f3a\"],[0.8888888888888888,\"#fdca26\"],[1.0,\"#f0f921\"]]}],\"contourcarpet\":[{\"type\":\"contourcarpet\",\"colorbar\":{\"outlinewidth\":0,\"ticks\":\"\"}}],\"contour\":[{\"type\":\"contour\",\"colorbar\":{\"outlinewidth\":0,\"ticks\":\"\"},\"colorscale\":[[0.0,\"#0d0887\"],[0.1111111111111111,\"#46039f\"],[0.2222222222222222,\"#7201a8\"],[0.3333333333333333,\"#9c179e\"],[0.4444444444444444,\"#bd3786\"],[0.5555555555555556,\"#d8576b\"],[0.6666666666666666,\"#ed7953\"],[0.7777777777777778,\"#fb9f3a\"],[0.8888888888888888,\"#fdca26\"],[1.0,\"#f0f921\"]]}],\"surface\":[{\"type\":\"surface\",\"colorbar\":{\"outlinewidth\":0,\"ticks\":\"\"},\"colorscale\":[[0.0,\"#0d0887\"],[0.1111111111111111,\"#46039f\"],[0.2222222222222222,\"#7201a8\"],[0.3333333333333333,\"#9c179e\"],[0.4444444444444444,\"#bd3786\"],[0.5555555555555556,\"#d8576b\"],[0.6666666666666666,\"#ed7953\"],[0.7777777777777778,\"#fb9f3a\"],[0.8888888888888888,\"#fdca26\"],[1.0,\"#f0f921\"]]}],\"mesh3d\":[{\"type\":\"mesh3d\",\"colorbar\":{\"outlinewidth\":0,\"ticks\":\"\"}}],\"scatter\":[{\"marker\":{\"line\":{\"color\":\"#283442\"}},\"type\":\"scatter\"}],\"parcoords\":[{\"type\":\"parcoords\",\"line\":{\"colorbar\":{\"outlinewidth\":0,\"ticks\":\"\"}}}],\"scatterpolargl\":[{\"type\":\"scatterpolargl\",\"marker\":{\"colorbar\":{\"outlinewidth\":0,\"ticks\":\"\"}}}],\"bar\":[{\"error_x\":{\"color\":\"#f2f5fa\"},\"error_y\":{\"color\":\"#f2f5fa\"},\"marker\":{\"line\":{\"color\":\"rgb(17,17,17)\",\"width\":0.5},\"pattern\":{\"fillmode\":\"overlay\",\"size\":10,\"solidity\":0.2}},\"type\":\"bar\"}],\"scattergeo\":[{\"type\":\"scattergeo\",\"marker\":{\"colorbar\":{\"outlinewidth\":0,\"ticks\":\"\"}}}],\"scatterpolar\":[{\"type\":\"scatterpolar\",\"marker\":{\"colorbar\":{\"outlinewidth\":0,\"ticks\":\"\"}}}],\"histogram\":[{\"marker\":{\"pattern\":{\"fillmode\":\"overlay\",\"size\":10,\"solidity\":0.2}},\"type\":\"histogram\"}],\"scattergl\":[{\"marker\":{\"line\":{\"color\":\"#283442\"}},\"type\":\"scattergl\"}],\"scatter3d\":[{\"type\":\"scatter3d\",\"line\":{\"colorbar\":{\"outlinewidth\":0,\"ticks\":\"\"}},\"marker\":{\"colorbar\":{\"outlinewidth\":0,\"ticks\":\"\"}}}],\"scattermapbox\":[{\"type\":\"scattermapbox\",\"marker\":{\"colorbar\":{\"outlinewidth\":0,\"ticks\":\"\"}}}],\"scatterternary\":[{\"type\":\"scatterternary\",\"marker\":{\"colorbar\":{\"outlinewidth\":0,\"ticks\":\"\"}}}],\"scattercarpet\":[{\"type\":\"scattercarpet\",\"marker\":{\"colorbar\":{\"outlinewidth\":0,\"ticks\":\"\"}}}],\"carpet\":[{\"aaxis\":{\"endlinecolor\":\"#A2B1C6\",\"gridcolor\":\"#506784\",\"linecolor\":\"#506784\",\"minorgridcolor\":\"#506784\",\"startlinecolor\":\"#A2B1C6\"},\"baxis\":{\"endlinecolor\":\"#A2B1C6\",\"gridcolor\":\"#506784\",\"linecolor\":\"#506784\",\"minorgridcolor\":\"#506784\",\"startlinecolor\":\"#A2B1C6\"},\"type\":\"carpet\"}],\"table\":[{\"cells\":{\"fill\":{\"color\":\"#506784\"},\"line\":{\"color\":\"rgb(17,17,17)\"}},\"header\":{\"fill\":{\"color\":\"#2a3f5f\"},\"line\":{\"color\":\"rgb(17,17,17)\"}},\"type\":\"table\"}],\"barpolar\":[{\"marker\":{\"line\":{\"color\":\"rgb(17,17,17)\",\"width\":0.5},\"pattern\":{\"fillmode\":\"overlay\",\"size\":10,\"solidity\":0.2}},\"type\":\"barpolar\"}],\"pie\":[{\"automargin\":true,\"type\":\"pie\"}]},\"layout\":{\"autotypenumbers\":\"strict\",\"colorway\":[\"#636efa\",\"#EF553B\",\"#00cc96\",\"#ab63fa\",\"#FFA15A\",\"#19d3f3\",\"#FF6692\",\"#B6E880\",\"#FF97FF\",\"#FECB52\"],\"font\":{\"color\":\"#f2f5fa\"},\"hovermode\":\"closest\",\"hoverlabel\":{\"align\":\"left\"},\"paper_bgcolor\":\"rgb(17,17,17)\",\"plot_bgcolor\":\"rgb(17,17,17)\",\"polar\":{\"bgcolor\":\"rgb(17,17,17)\",\"angularaxis\":{\"gridcolor\":\"#506784\",\"linecolor\":\"#506784\",\"ticks\":\"\"},\"radialaxis\":{\"gridcolor\":\"#506784\",\"linecolor\":\"#506784\",\"ticks\":\"\"}},\"ternary\":{\"bgcolor\":\"rgb(17,17,17)\",\"aaxis\":{\"gridcolor\":\"#506784\",\"linecolor\":\"#506784\",\"ticks\":\"\"},\"baxis\":{\"gridcolor\":\"#506784\",\"linecolor\":\"#506784\",\"ticks\":\"\"},\"caxis\":{\"gridcolor\":\"#506784\",\"linecolor\":\"#506784\",\"ticks\":\"\"}},\"coloraxis\":{\"colorbar\":{\"outlinewidth\":0,\"ticks\":\"\"}},\"colorscale\":{\"sequential\":[[0.0,\"#0d0887\"],[0.1111111111111111,\"#46039f\"],[0.2222222222222222,\"#7201a8\"],[0.3333333333333333,\"#9c179e\"],[0.4444444444444444,\"#bd3786\"],[0.5555555555555556,\"#d8576b\"],[0.6666666666666666,\"#ed7953\"],[0.7777777777777778,\"#fb9f3a\"],[0.8888888888888888,\"#fdca26\"],[1.0,\"#f0f921\"]],\"sequentialminus\":[[0.0,\"#0d0887\"],[0.1111111111111111,\"#46039f\"],[0.2222222222222222,\"#7201a8\"],[0.3333333333333333,\"#9c179e\"],[0.4444444444444444,\"#bd3786\"],[0.5555555555555556,\"#d8576b\"],[0.6666666666666666,\"#ed7953\"],[0.7777777777777778,\"#fb9f3a\"],[0.8888888888888888,\"#fdca26\"],[1.0,\"#f0f921\"]],\"diverging\":[[0,\"#8e0152\"],[0.1,\"#c51b7d\"],[0.2,\"#de77ae\"],[0.3,\"#f1b6da\"],[0.4,\"#fde0ef\"],[0.5,\"#f7f7f7\"],[0.6,\"#e6f5d0\"],[0.7,\"#b8e186\"],[0.8,\"#7fbc41\"],[0.9,\"#4d9221\"],[1,\"#276419\"]]},\"xaxis\":{\"gridcolor\":\"#283442\",\"linecolor\":\"#506784\",\"ticks\":\"\",\"title\":{\"standoff\":15},\"zerolinecolor\":\"#283442\",\"automargin\":true,\"zerolinewidth\":2},\"yaxis\":{\"gridcolor\":\"#283442\",\"linecolor\":\"#506784\",\"ticks\":\"\",\"title\":{\"standoff\":15},\"zerolinecolor\":\"#283442\",\"automargin\":true,\"zerolinewidth\":2},\"scene\":{\"xaxis\":{\"backgroundcolor\":\"rgb(17,17,17)\",\"gridcolor\":\"#506784\",\"linecolor\":\"#506784\",\"showbackground\":true,\"ticks\":\"\",\"zerolinecolor\":\"#C8D4E3\",\"gridwidth\":2},\"yaxis\":{\"backgroundcolor\":\"rgb(17,17,17)\",\"gridcolor\":\"#506784\",\"linecolor\":\"#506784\",\"showbackground\":true,\"ticks\":\"\",\"zerolinecolor\":\"#C8D4E3\",\"gridwidth\":2},\"zaxis\":{\"backgroundcolor\":\"rgb(17,17,17)\",\"gridcolor\":\"#506784\",\"linecolor\":\"#506784\",\"showbackground\":true,\"ticks\":\"\",\"zerolinecolor\":\"#C8D4E3\",\"gridwidth\":2}},\"shapedefaults\":{\"line\":{\"color\":\"#f2f5fa\"}},\"annotationdefaults\":{\"arrowcolor\":\"#f2f5fa\",\"arrowhead\":0,\"arrowwidth\":1},\"geo\":{\"bgcolor\":\"rgb(17,17,17)\",\"landcolor\":\"rgb(17,17,17)\",\"subunitcolor\":\"#506784\",\"showland\":true,\"showlakes\":true,\"lakecolor\":\"rgb(17,17,17)\"},\"title\":{\"x\":0.05},\"updatemenudefaults\":{\"bgcolor\":\"#506784\",\"borderwidth\":0},\"sliderdefaults\":{\"bgcolor\":\"#C8D4E3\",\"borderwidth\":1,\"bordercolor\":\"rgb(17,17,17)\",\"tickwidth\":0},\"mapbox\":{\"style\":\"dark\"}}},\"scene\":{\"domain\":{\"x\":[0.0,1.0],\"y\":[0.0,1.0]},\"xaxis\":{\"title\":{\"text\":\"sepal length (cm)\"}},\"yaxis\":{\"title\":{\"text\":\"sepal width (cm)\"}},\"zaxis\":{\"title\":{\"text\":\"petal length (cm)\"}}},\"coloraxis\":{\"colorbar\":{\"title\":{\"text\":\"Type\"}},\"colorscale\":[[0.0,\"#0d0887\"],[0.1111111111111111,\"#46039f\"],[0.2222222222222222,\"#7201a8\"],[0.3333333333333333,\"#9c179e\"],[0.4444444444444444,\"#bd3786\"],[0.5555555555555556,\"#d8576b\"],[0.6666666666666666,\"#ed7953\"],[0.7777777777777778,\"#fb9f3a\"],[0.8888888888888888,\"#fdca26\"],[1.0,\"#f0f921\"]]},\"legend\":{\"title\":{\"text\":\"petal width (cm)\"},\"tracegroupgap\":0,\"orientation\":\"v\",\"yanchor\":\"top\",\"xanchor\":\"right\"},\"title\":{\"text\":\"Initial data for flowers\"}},                        {\"responsive\": true}                    ).then(function(){\n                            \nvar gd = document.getElementById('e55bf525-6b56-41b0-827c-c44961e022fd');\nvar x = new MutationObserver(function (mutations, observer) {{\n        var display = window.getComputedStyle(gd).display;\n        if (!display || display === 'none') {{\n            console.log([gd, 'removed!']);\n            Plotly.purge(gd);\n            observer.disconnect();\n        }}\n}});\n\n// Listen for the removal of the full notebook cells\nvar notebookContainer = gd.closest('#notebook-container');\nif (notebookContainer) {{\n    x.observe(notebookContainer, {childList: true});\n}}\n\n// Listen for the clearing of the current output cell\nvar outputEl = gd.closest('.output');\nif (outputEl) {{\n    x.observe(outputEl, {childList: true});\n}}\n\n                        })                };                });            </script>        </div>"
     },
     "metadata": {},
     "output_type": "display_data"
    },
    {
     "data": {
      "text/plain": "<Figure size 640x480 with 1 Axes>",
      "image/png": "[encoded data removed]"
     },
     "metadata": {},
     "output_type": "display_data"
    },
    {
     "data": {
      "text/plain": "<Figure size 640x480 with 1 Axes>",
      "image/png": "[encoded data removed]"
     },
     "metadata": {},
     "output_type": "display_data"
    },
    {
     "data": {
      "text/plain": "<Figure size 640x480 with 1 Axes>",
      "image/png": "[encoded data removed]"
     },
     "metadata": {},
     "output_type": "display_data"
    },
    {
     "data": {
      "text/plain": "<Figure size 640x480 with 1 Axes>",
      "image/png": "[encoded data removed]"
     },
     "metadata": {},
     "output_type": "display_data"
    },
    {
     "data": {
      "text/plain": "<Figure size 640x480 with 1 Axes>",
      "image/png": "[encoded data removed]"
     },
     "metadata": {},
     "output_type": "display_data"
    },
    {
     "data": {
      "application/vnd.plotly.v1+json": {
       "data": [
        {
         "hovertemplate": "petal width (cm)=0.1469174604331337<br>sepal length (cm)=%{x}<br>sepal width (cm)=%{y}<br>petal length (cm)=%{z}<br>Type=%{marker.color}<extra></extra>",
         "legendgroup": "0.1469174604331337",
         "marker": {
          "color": [
           1,
           1,
           1,
           1,
           1,
           1,
           1,
           1,
           1,
           1,
           1,
           1
          ],
          "coloraxis": "coloraxis",
          "symbol": "circle"
         },
         "mode": "markers",
         "name": "0.1469174604331337",
         "scene": "scene",
         "showlegend": true,
         "x": [
          0.676439830938158,
          -0.3627564953964219,
          -0.2472902369148024,
          -0.13182397843318183,
          -0.2472902369148024,
          0.4455073139749179,
          0.5609735724565375,
          -0.13182397843318183,
          -0.13182397843318183,
          -0.2472902369148024,
          -0.3627564953964219,
          0.3300410554932973
         ],
         "y": [
          -0.329863049903099,
          -1.295315878887766,
          -0.329863049903099,
          -0.329863049903099,
          -0.8125894643954319,
          -0.329863049903099,
          -1.7780422933801,
          -0.571226257149266,
          -0.571226257149266,
          -0.088499842656932,
          -1.7780422933801,
          -0.571226257149266
         ],
         "z": [
          0.32312776686413774,
          0.15281152078640747,
          -0.07427680731723292,
          0.2663556848382278,
          0.2663556848382278,
          0.32312776686413774,
          0.37989984889004813,
          0.2095836028123174,
          0.4366719309159581,
          0.2095836028123174,
          0.15281152078640747,
          0.15281152078640747
         ],
         "type": "scatter3d"
        },
        {
         "hovertemplate": "petal width (cm)=-1.0371934146995818<br>sepal length (cm)=%{x}<br>sepal width (cm)=%{y}<br>petal length (cm)=%{z}<br>Type=%{marker.color}<extra></extra>",
         "legendgroup": "-1.0371934146995818",
         "marker": {
          "color": [
           0,
           0,
           0,
           0
          ],
          "coloraxis": "coloraxis",
          "symbol": "diamond"
         },
         "mode": "markers",
         "name": "-1.0371934146995818",
         "scene": "scene",
         "showlegend": true,
         "x": [
          -0.4782227538780415,
          -0.9400877878045216,
          -0.8246215293229021,
          -0.8246215293229021
         ],
         "y": [
          2.083769022558569,
          0.8769529863277349,
          1.8424058153124019,
          1.6010426080662359
         ],
         "z": [
          -1.3800346939131654,
          -1.2097184478354353,
          -1.039402201757705,
          -1.2664905298613454
         ],
         "type": "scatter3d"
        },
        {
         "hovertemplate": "petal width (cm)=-1.3003291647290742<br>sepal length (cm)=%{x}<br>sepal width (cm)=%{y}<br>petal length (cm)=%{z}<br>Type=%{marker.color}<extra></extra>",
         "legendgroup": "-1.3003291647290742",
         "marker": {
          "color": [
           0,
           0,
           0,
           0,
           0,
           0,
           0,
           0,
           0,
           0,
           0,
           0,
           0,
           0,
           0,
           0,
           0,
           0,
           0,
           0,
           0,
           0,
           0,
           0,
           0
          ],
          "coloraxis": "coloraxis",
          "symbol": "square"
         },
         "mode": "markers",
         "name": "-1.3003291647290742",
         "scene": "scene",
         "showlegend": true,
         "x": [
          -1.1710203047677616,
          -1.2864865632493814,
          -1.2864865632493814,
          -0.016357719951562304,
          -1.1710203047677616,
          -0.593689012359662,
          -1.4019528217310018,
          -0.9400877878045216,
          -0.9400877878045216,
          -0.9400877878045216,
          -1.6328853386942408,
          -0.8246215293229021,
          -0.9400877878045216,
          -1.6328853386942408,
          -0.7091552708412816,
          -0.4782227538780415,
          -1.4019528217310018,
          -1.1710203047677616,
          -1.6328853386942408,
          -0.7091552708412816,
          -0.8246215293229021,
          -0.9400877878045216,
          -0.4782227538780415,
          -1.4019528217310018,
          -1.0555540462861412
         ],
         "y": [
          0.152863364589235,
          0.394226571835402,
          0.394226571835402,
          2.3251322298047357,
          0.8769529863277349,
          1.6010426080662359,
          0.394226571835402,
          0.8769529863277349,
          0.394226571835402,
          1.359679400820069,
          0.394226571835402,
          1.1183161935739019,
          0.6355897790815679,
          -0.088499842656932,
          0.8769529863277349,
          1.6010426080662359,
          1.359679400820069,
          0.8769529863277349,
          -0.329863049903099,
          1.1183161935739019,
          1.8424058153124019,
          -0.088499842656932,
          0.8769529863277349,
          0.152863364589235,
          -0.088499842656932
         ],
         "z": [
          -1.2097184478354353,
          -1.2097184478354353,
          -1.3800346939131654,
          -1.436806775939076,
          -1.039402201757705,
          -1.2664905298613454,
          -1.3232626118872555,
          -1.2664905298613454,
          -1.436806775939076,
          -1.3232626118872555,
          -1.3800346939131654,
          -1.3232626118872555,
          -1.3232626118872555,
          -1.3800346939131654,
          -1.3232626118872555,
          -1.2664905298613454,
          -1.550350939990896,
          -1.2097184478354353,
          -1.3232626118872555,
          -1.2664905298613454,
          -1.2097184478354353,
          -1.2097184478354353,
          -1.1529463658095254,
          -1.2664905298613454,
          -1.3232626118872555
         ],
         "type": "scatter3d"
        },
        {
         "hovertemplate": "petal width (cm)=1.4625962105805952<br>sepal length (cm)=%{x}<br>sepal width (cm)=%{y}<br>petal length (cm)=%{z}<br>Type=%{marker.color}<extra></extra>",
         "legendgroup": "1.4625962105805952",
         "marker": {
          "color": [
           2,
           2,
           2,
           2,
           2,
           2
          ],
          "coloraxis": "coloraxis",
          "symbol": "x"
         },
         "mode": "markers",
         "name": "1.4625962105805952",
         "scene": "scene",
         "showlegend": true,
         "x": [
          1.2537711233462576,
          0.676439830938158,
          1.0228386063830175,
          1.2537711233462576,
          2.177501191199217,
          2.177501191199217
         ],
         "y": [
          0.394226571835402,
          0.394226571835402,
          -0.088499842656932,
          0.152863364589235,
          -0.088499842656932,
          -1.053952671641599
         ],
         "z": [
          1.1179369152268794,
          0.8908485871232389,
          0.8340765050973289,
          0.7773044230714186,
          1.3450252433305196,
          1.799201899537801
         ],
         "type": "scatter3d"
        },
        {
         "hovertemplate": "petal width (cm)=0.5416210854773723<br>sepal length (cm)=%{x}<br>sepal width (cm)=%{y}<br>petal length (cm)=%{z}<br>Type=%{marker.color}<extra></extra>",
         "legendgroup": "0.5416210854773723",
         "marker": {
          "color": [
           1,
           2,
           1,
           1
          ],
          "coloraxis": "coloraxis",
          "symbol": "cross"
         },
         "mode": "markers",
         "name": "0.5416210854773723",
         "scene": "scene",
         "showlegend": true,
         "x": [
          0.21457479701167778,
          1.6001698987911173,
          0.5609735724565375,
          0.21457479701167778
         ],
         "y": [
          0.8769529863277349,
          -0.088499842656932,
          0.6355897790815679,
          -0.8125894643954319
         ],
         "z": [
          0.4366719309159581,
          1.1747089972527893,
          0.5502160949677783,
          0.7773044230714186
         ],
         "type": "scatter3d"
        },
        {
         "hovertemplate": "petal width (cm)=1.0678925855363568<br>sepal length (cm)=%{x}<br>sepal width (cm)=%{y}<br>petal length (cm)=%{z}<br>Type=%{marker.color}<extra></extra>",
         "legendgroup": "1.0678925855363568",
         "marker": {
          "color": [
           2,
           2,
           2
          ],
          "coloraxis": "coloraxis",
          "symbol": "circle"
         },
         "mode": "markers",
         "name": "1.0678925855363568",
         "scene": "scene",
         "showlegend": true,
         "x": [
          2.408433708162457,
          2.177501191199217,
          -0.2472902369148024
         ],
         "y": [
          1.8424058153124019,
          -0.571226257149266,
          -0.571226257149266
         ],
         "z": [
          1.5153414894082504,
          1.6856577354859805,
          0.6637602590195987
         ],
         "type": "scatter3d"
        },
        {
         "hovertemplate": "petal width (cm)=-1.168761289714328<br>sepal length (cm)=%{x}<br>sepal width (cm)=%{y}<br>petal length (cm)=%{z}<br>Type=%{marker.color}<extra></extra>",
         "legendgroup": "-1.168761289714328",
         "marker": {
          "color": [
           0,
           0,
           0,
           0,
           0
          ],
          "coloraxis": "coloraxis",
          "symbol": "diamond"
         },
         "mode": "markers",
         "name": "-1.168761289714328",
         "scene": "scene",
         "showlegend": true,
         "x": [
          -1.4019528217310018,
          -0.8246215293229021,
          -1.5174190802126213,
          -0.8246215293229021,
          -0.9400877878045216
         ],
         "y": [
          0.8769529863277349,
          1.8424058153124019,
          -1.7780422933801,
          1.1183161935739019,
          1.1183161935739019
         ],
         "z": [
          -1.3232626118872555,
          -1.2664905298613454,
          -1.3800346939131654,
          -1.3232626118872555,
          -1.3800346939131654
         ],
         "type": "scatter3d"
        },
        {
         "hovertemplate": "petal width (cm)=-1.4318970397438204<br>sepal length (cm)=%{x}<br>sepal width (cm)=%{y}<br>petal length (cm)=%{z}<br>Type=%{marker.color}<extra></extra>",
         "legendgroup": "-1.4318970397438204",
         "marker": {
          "color": [
           0,
           0,
           0,
           0
          ],
          "coloraxis": "coloraxis",
          "symbol": "square"
         },
         "mode": "markers",
         "name": "-1.4318970397438204",
         "scene": "scene",
         "showlegend": true,
         "x": [
          -0.7091552708412816,
          -1.7483515971758614,
          -1.0555540462861412,
          -1.1710203047677616
         ],
         "y": [
          2.566495437050902,
          -0.088499842656932,
          0.152863364589235,
          -0.088499842656932
         ],
         "z": [
          -1.2664905298613454,
          -1.4935788579649858,
          -1.2664905298613454,
          -1.3232626118872555
         ],
         "type": "scatter3d"
        },
        {
         "hovertemplate": "petal width (cm)=0.9363247105216106<br>sepal length (cm)=%{x}<br>sepal width (cm)=%{y}<br>petal length (cm)=%{z}<br>Type=%{marker.color}<extra></extra>",
         "legendgroup": "0.9363247105216106",
         "marker": {
          "color": [
           2,
           2
          ],
          "coloraxis": "coloraxis",
          "symbol": "x"
         },
         "mode": "markers",
         "name": "0.9363247105216106",
         "scene": "scene",
         "showlegend": true,
         "x": [
          -0.016357719951562304,
          0.676439830938158
         ],
         "y": [
          -0.8125894643954319,
          -0.8125894643954319
         ],
         "z": [
          0.7773044230714186,
          0.8908485871232389
         ],
         "type": "scatter3d"
        },
        {
         "hovertemplate": "petal width (cm)=1.3310283355658494<br>sepal length (cm)=%{x}<br>sepal width (cm)=%{y}<br>petal length (cm)=%{z}<br>Type=%{marker.color}<extra></extra>",
         "legendgroup": "1.3310283355658494",
         "marker": {
          "color": [
           2,
           2,
           2
          ],
          "coloraxis": "coloraxis",
          "symbol": "cross"
         },
         "mode": "markers",
         "name": "1.3310283355658494",
         "scene": "scene",
         "showlegend": true,
         "x": [
          0.676439830938158,
          2.177501191199217,
          0.7919060894197775
         ],
         "y": [
          -0.571226257149266,
          1.8424058153124019,
          -0.088499842656932
         ],
         "z": [
          1.061164833200969,
          1.6856577354859805,
          1.1747089972527893
         ],
         "type": "scatter3d"
        },
        {
         "hovertemplate": "petal width (cm)=0.6731889604921183<br>sepal length (cm)=%{x}<br>sepal width (cm)=%{y}<br>petal length (cm)=%{z}<br>Type=%{marker.color}<extra></extra>",
         "legendgroup": "0.6731889604921183",
         "marker": {
          "color": [
           1,
           2
          ],
          "coloraxis": "coloraxis",
          "symbol": "circle"
         },
         "mode": "markers",
         "name": "0.6731889604921183",
         "scene": "scene",
         "showlegend": true,
         "x": [
          1.0228386063830175,
          -1.0555540462861412
         ],
         "y": [
          -0.088499842656932,
          -1.295315878887766
         ],
         "z": [
          0.7205323410455086,
          0.4366719309159581
         ],
         "type": "scatter3d"
        },
        {
         "hovertemplate": "petal width (cm)=-0.11621828959635859<br>sepal length (cm)=%{x}<br>sepal width (cm)=%{y}<br>petal length (cm)=%{z}<br>Type=%{marker.color}<extra></extra>",
         "legendgroup": "-0.11621828959635859",
         "marker": {
          "color": [
           1,
           1,
           1
          ],
          "coloraxis": "coloraxis",
          "symbol": "diamond"
         },
         "mode": "markers",
         "name": "-0.11621828959635859",
         "scene": "scene",
         "showlegend": true,
         "x": [
          -0.8246215293229021,
          -0.3627564953964219,
          -0.2472902369148024
         ],
         "y": [
          -1.295315878887766,
          -1.536679086133933,
          -1.295315878887766
         ],
         "z": [
          -0.4149092994726936,
          0.03926735673458716,
          0.09603943876049732
         ],
         "type": "scatter3d"
        },
        {
         "hovertemplate": "petal width (cm)=0.410053210462626<br>sepal length (cm)=%{x}<br>sepal width (cm)=%{y}<br>petal length (cm)=%{z}<br>Type=%{marker.color}<extra></extra>",
         "legendgroup": "0.410053210462626",
         "marker": {
          "color": [
           1,
           1,
           1,
           1,
           1,
           1,
           1
          ],
          "coloraxis": "coloraxis",
          "symbol": "square"
         },
         "mode": "markers",
         "name": "0.410053210462626",
         "scene": "scene",
         "showlegend": true,
         "x": [
          0.7919060894197775,
          0.4455073139749179,
          0.09910853853005826,
          0.5609735724565375,
          1.2537711233462576,
          0.21457479701167778,
          -0.4782227538780415
         ],
         "y": [
          -0.571226257149266,
          -2.0194055006262657,
          -0.088499842656932,
          -1.295315878887766,
          0.152863364589235,
          -0.329863049903099,
          -0.088499842656932
         ],
         "z": [
          0.49344401294186796,
          0.4366719309159581,
          0.2663556848382278,
          0.6637602590195987,
          0.6637602590195987,
          0.4366719309159581,
          0.4366719309159581
         ],
         "type": "scatter3d"
        },
        {
         "hovertemplate": "petal width (cm)=0.8047568355068646<br>sepal length (cm)=%{x}<br>sepal width (cm)=%{y}<br>petal length (cm)=%{z}<br>Type=%{marker.color}<extra></extra>",
         "legendgroup": "0.8047568355068646",
         "marker": {
          "color": [
           2,
           2,
           1,
           2,
           2,
           2,
           2,
           2,
           2,
           2,
           2
          ],
          "coloraxis": "coloraxis",
          "symbol": "x"
         },
         "mode": "markers",
         "name": "0.8047568355068646",
         "scene": "scene",
         "showlegend": true,
         "x": [
          0.21457479701167778,
          0.5609735724565375,
          0.09910853853005826,
          0.3300410554932973,
          1.7156361572727368,
          0.7919060894197775,
          0.09910853853005826,
          1.0228386063830175,
          0.4455073139749179,
          1.6001698987911173,
          0.5609735724565375
         ],
         "y": [
          -0.088499842656932,
          -0.8125894643954319,
          0.394226571835402,
          -0.088499842656932,
          -0.329863049903099,
          -0.088499842656932,
          -0.088499842656932,
          -1.295315878887766,
          -0.571226257149266,
          0.394226571835402,
          -0.329863049903099
         ],
         "z": [
          0.6069881769936882,
          0.6637602590195987,
          0.6069881769936882,
          0.6637602590195987,
          1.4585694073823399,
          1.0043927511750592,
          0.7773044230714186,
          1.1747089972527893,
          0.6069881769936882,
          1.2882531613046098,
          1.061164833200969
         ],
         "type": "scatter3d"
        },
        {
         "hovertemplate": "petal width (cm)=-0.7740576646700896<br>sepal length (cm)=%{x}<br>sepal width (cm)=%{y}<br>petal length (cm)=%{z}<br>Type=%{marker.color}<extra></extra>",
         "legendgroup": "-0.7740576646700896",
         "marker": {
          "color": [
           0
          ],
          "coloraxis": "coloraxis",
          "symbol": "cross"
         },
         "mode": "markers",
         "name": "-0.7740576646700896",
         "scene": "scene",
         "showlegend": true,
         "x": [
          -0.9400877878045216
         ],
         "y": [
          1.1183161935739019
         ],
         "z": [
          -1.2097184478354353
         ],
         "type": "scatter3d"
        },
        {
         "hovertemplate": "petal width (cm)=-0.2477861646111049<br>sepal length (cm)=%{x}<br>sepal width (cm)=%{y}<br>petal length (cm)=%{z}<br>Type=%{marker.color}<extra></extra>",
         "legendgroup": "-0.2477861646111049",
         "marker": {
          "color": [
           1,
           1,
           1,
           1,
           1,
           1
          ],
          "coloraxis": "coloraxis",
          "symbol": "circle"
         },
         "mode": "markers",
         "name": "-0.2477861646111049",
         "scene": "scene",
         "showlegend": true,
         "x": [
          0.21457479701167778,
          -1.0555540462861412,
          -0.9400877878045216,
          -0.13182397843318183,
          -0.016357719951562304,
          -0.9400877878045216
         ],
         "y": [
          -2.0194055006262657,
          -1.536679086133933,
          -1.7780422933801,
          -1.053952671641599,
          -0.8125894643954319,
          -2.5021319151186
         ],
         "z": [
          0.15281152078640747,
          -0.2445930533949634,
          -0.2445930533949634,
          -0.13104888934314307,
          0.2095836028123174,
          -0.13104888934314307
         ],
         "type": "scatter3d"
        },
        {
         "hovertemplate": "petal width (cm)=1.1994604605511032<br>sepal length (cm)=%{x}<br>sepal width (cm)=%{y}<br>petal length (cm)=%{z}<br>Type=%{marker.color}<extra></extra>",
         "legendgroup": "1.1994604605511032",
         "marker": {
          "color": [
           2,
           2,
           2,
           2,
           2,
           2
          ],
          "coloraxis": "coloraxis",
          "symbol": "diamond"
         },
         "mode": "markers",
         "name": "1.1994604605511032",
         "scene": "scene",
         "showlegend": true,
         "x": [
          1.2537711233462576,
          1.0228386063830175,
          1.1383048648646372,
          2.0620349327175966,
          0.676439830938158,
          1.4847036403094969
         ],
         "y": [
          0.152863364589235,
          0.6355897790815679,
          -0.088499842656932,
          -0.088499842656932,
          -0.571226257149266,
          -0.088499842656932
         ],
         "z": [
          0.9476206691491492,
          1.1179369152268794,
          1.0043927511750592,
          1.6288856534600702,
          1.061164833200969,
          1.2314810792786999
         ],
         "type": "scatter3d"
        },
        {
         "hovertemplate": "petal width (cm)=0.2784853354478797<br>sepal length (cm)=%{x}<br>sepal width (cm)=%{y}<br>petal length (cm)=%{z}<br>Type=%{marker.color}<extra></extra>",
         "legendgroup": "0.2784853354478797",
         "marker": {
          "color": [
           1,
           1,
           1,
           1,
           1
          ],
          "coloraxis": "coloraxis",
          "symbol": "square"
         },
         "mode": "markers",
         "name": "0.2784853354478797",
         "scene": "scene",
         "showlegend": true,
         "x": [
          0.9073723479013971,
          0.3300410554932973,
          1.3692373818278771,
          1.1383048648646372,
          -0.7091552708412816
         ],
         "y": [
          -0.088499842656932,
          -0.088499842656932,
          0.394226571835402,
          -0.571226257149266,
          -0.8125894643954319
         ],
         "z": [
          0.37989984889004813,
          0.49344401294186796,
          0.5502160949677783,
          0.6069881769936882,
          0.09603943876049732
         ],
         "type": "scatter3d"
        },
        {
         "hovertemplate": "petal width (cm)=0.015349585418387409<br>sepal length (cm)=%{x}<br>sepal width (cm)=%{y}<br>petal length (cm)=%{z}<br>Type=%{marker.color}<extra></extra>",
         "legendgroup": "0.015349585418387409",
         "marker": {
          "color": [
           1,
           1,
           1,
           1,
           1
          ],
          "coloraxis": "coloraxis",
          "symbol": "x"
         },
         "mode": "markers",
         "name": "0.015349585418387409",
         "scene": "scene",
         "showlegend": true,
         "x": [
          -0.016357719951562304,
          0.3300410554932973,
          -0.13182397843318183,
          -0.016357719951562304,
          -0.3627564953964219
         ],
         "y": [
          -1.053952671641599,
          -0.571226257149266,
          -0.088499842656932,
          -0.8125894643954319,
          -1.053952671641599
         ],
         "z": [
          0.15281152078640747,
          0.5502160949677783,
          0.2663556848382278,
          0.09603943876049732,
          0.37989984889004813
         ],
         "type": "scatter3d"
        },
        {
         "hovertemplate": "petal width (cm)=1.5941640855953414<br>sepal length (cm)=%{x}<br>sepal width (cm)=%{y}<br>petal length (cm)=%{z}<br>Type=%{marker.color}<extra></extra>",
         "legendgroup": "1.5941640855953414",
         "marker": {
          "color": [
           2,
           2,
           2
          ],
          "coloraxis": "coloraxis",
          "symbol": "cross"
         },
         "mode": "markers",
         "name": "1.5941640855953414",
         "scene": "scene",
         "showlegend": true,
         "x": [
          -0.016357719951562304,
          0.5609735724565375,
          1.0228386063830175
         ],
         "y": [
          -0.571226257149266,
          0.8769529863277349,
          0.152863364589235
         ],
         "z": [
          0.7773044230714186,
          1.061164833200969,
          1.061164833200969
         ],
         "type": "scatter3d"
        },
        {
         "hovertemplate": "petal width (cm)=1.7257319606100878<br>sepal length (cm)=%{x}<br>sepal width (cm)=%{y}<br>petal length (cm)=%{z}<br>Type=%{marker.color}<extra></extra>",
         "legendgroup": "1.7257319606100878",
         "marker": {
          "color": [
           2,
           2
          ],
          "coloraxis": "coloraxis",
          "symbol": "circle"
         },
         "mode": "markers",
         "name": "1.7257319606100878",
         "scene": "scene",
         "showlegend": true,
         "x": [
          1.0228386063830175,
          1.6001698987911173
         ],
         "y": [
          0.6355897790815679,
          1.359679400820069
         ],
         "z": [
          1.1179369152268794,
          1.3450252433305196
         ],
         "type": "scatter3d"
        },
        {
         "hovertemplate": "petal width (cm)=-0.9056255396848357<br>sepal length (cm)=%{x}<br>sepal width (cm)=%{y}<br>petal length (cm)=%{z}<br>Type=%{marker.color}<extra></extra>",
         "legendgroup": "-0.9056255396848357",
         "marker": {
          "color": [
           0
          ],
          "coloraxis": "coloraxis",
          "symbol": "diamond"
         },
         "mode": "markers",
         "name": "-0.9056255396848357",
         "scene": "scene",
         "showlegend": true,
         "x": [
          -0.8246215293229021
         ],
         "y": [
          0.6355897790815679
         ],
         "z": [
          -1.1529463658095254
         ],
         "type": "scatter3d"
        }
       ],
       "layout": {
        "template": {
         "data": {
          "histogram2dcontour": [
           {
            "type": "histogram2dcontour",
            "colorbar": {
             "outlinewidth": 0,
             "ticks": ""
            },
            "colorscale": [
             [
              0.0,
              "#0d0887"
             ],
             [
              0.1111111111111111,
              "#46039f"
             ],
             [
              0.2222222222222222,
              "#7201a8"
             ],
             [
              0.3333333333333333,
              "#9c179e"
             ],
             [
              0.4444444444444444,
              "#bd3786"
             ],
             [
              0.5555555555555556,
              "#d8576b"
             ],
             [
              0.6666666666666666,
              "#ed7953"
             ],
             [
              0.7777777777777778,
              "#fb9f3a"
             ],
             [
              0.8888888888888888,
              "#fdca26"
             ],
             [
              1.0,
              "#f0f921"
             ]
            ]
           }
          ],
          "choropleth": [
           {
            "type": "choropleth",
            "colorbar": {
             "outlinewidth": 0,
             "ticks": ""
            }
           }
          ],
          "histogram2d": [
           {
            "type": "histogram2d",
            "colorbar": {
             "outlinewidth": 0,
             "ticks": ""
            },
            "colorscale": [
             [
              0.0,
              "#0d0887"
             ],
             [
              0.1111111111111111,
              "#46039f"
             ],
             [
              0.2222222222222222,
              "#7201a8"
             ],
             [
              0.3333333333333333,
              "#9c179e"
             ],
             [
              0.4444444444444444,
              "#bd3786"
             ],
             [
              0.5555555555555556,
              "#d8576b"
             ],
             [
              0.6666666666666666,
              "#ed7953"
             ],
             [
              0.7777777777777778,
              "#fb9f3a"
             ],
             [
              0.8888888888888888,
              "#fdca26"
             ],
             [
              1.0,
              "#f0f921"
             ]
            ]
           }
          ],
          "heatmap": [
           {
            "type": "heatmap",
            "colorbar": {
             "outlinewidth": 0,
             "ticks": ""
            },
            "colorscale": [
             [
              0.0,
              "#0d0887"
             ],
             [
              0.1111111111111111,
              "#46039f"
             ],
             [
              0.2222222222222222,
              "#7201a8"
             ],
             [
              0.3333333333333333,
              "#9c179e"
             ],
             [
              0.4444444444444444,
              "#bd3786"
             ],
             [
              0.5555555555555556,
              "#d8576b"
             ],
             [
              0.6666666666666666,
              "#ed7953"
             ],
             [
              0.7777777777777778,
              "#fb9f3a"
             ],
             [
              0.8888888888888888,
              "#fdca26"
             ],
             [
              1.0,
              "#f0f921"
             ]
            ]
           }
          ],
          "heatmapgl": [
           {
            "type": "heatmapgl",
            "colorbar": {
             "outlinewidth": 0,
             "ticks": ""
            },
            "colorscale": [
             [
              0.0,
              "#0d0887"
             ],
             [
              0.1111111111111111,
              "#46039f"
             ],
             [
              0.2222222222222222,
              "#7201a8"
             ],
             [
              0.3333333333333333,
              "#9c179e"
             ],
             [
              0.4444444444444444,
              "#bd3786"
             ],
             [
              0.5555555555555556,
              "#d8576b"
             ],
             [
              0.6666666666666666,
              "#ed7953"
             ],
             [
              0.7777777777777778,
              "#fb9f3a"
             ],
             [
              0.8888888888888888,
              "#fdca26"
             ],
             [
              1.0,
              "#f0f921"
             ]
            ]
           }
          ],
          "contourcarpet": [
           {
            "type": "contourcarpet",
            "colorbar": {
             "outlinewidth": 0,
             "ticks": ""
            }
           }
          ],
          "contour": [
           {
            "type": "contour",
            "colorbar": {
             "outlinewidth": 0,
             "ticks": ""
            },
            "colorscale": [
             [
              0.0,
              "#0d0887"
             ],
             [
              0.1111111111111111,
              "#46039f"
             ],
             [
              0.2222222222222222,
              "#7201a8"
             ],
             [
              0.3333333333333333,
              "#9c179e"
             ],
             [
              0.4444444444444444,
              "#bd3786"
             ],
             [
              0.5555555555555556,
              "#d8576b"
             ],
             [
              0.6666666666666666,
              "#ed7953"
             ],
             [
              0.7777777777777778,
              "#fb9f3a"
             ],
             [
              0.8888888888888888,
              "#fdca26"
             ],
             [
              1.0,
              "#f0f921"
             ]
            ]
           }
          ],
          "surface": [
           {
            "type": "surface",
            "colorbar": {
             "outlinewidth": 0,
             "ticks": ""
            },
            "colorscale": [
             [
              0.0,
              "#0d0887"
             ],
             [
              0.1111111111111111,
              "#46039f"
             ],
             [
              0.2222222222222222,
              "#7201a8"
             ],
             [
              0.3333333333333333,
              "#9c179e"
             ],
             [
              0.4444444444444444,
              "#bd3786"
             ],
             [
              0.5555555555555556,
              "#d8576b"
             ],
             [
              0.6666666666666666,
              "#ed7953"
             ],
             [
              0.7777777777777778,
              "#fb9f3a"
             ],
             [
              0.8888888888888888,
              "#fdca26"
             ],
             [
              1.0,
              "#f0f921"
             ]
            ]
           }
          ],
          "mesh3d": [
           {
            "type": "mesh3d",
            "colorbar": {
             "outlinewidth": 0,
             "ticks": ""
            }
           }
          ],
          "scatter": [
           {
            "marker": {
             "line": {
              "color": "#283442"
             }
            },
            "type": "scatter"
           }
          ],
          "parcoords": [
           {
            "type": "parcoords",
            "line": {
             "colorbar": {
              "outlinewidth": 0,
              "ticks": ""
             }
            }
           }
          ],
          "scatterpolargl": [
           {
            "type": "scatterpolargl",
            "marker": {
             "colorbar": {
              "outlinewidth": 0,
              "ticks": ""
             }
            }
           }
          ],
          "bar": [
           {
            "error_x": {
             "color": "#f2f5fa"
            },
            "error_y": {
             "color": "#f2f5fa"
            },
            "marker": {
             "line": {
              "color": "rgb(17,17,17)",
              "width": 0.5
             },
             "pattern": {
              "fillmode": "overlay",
              "size": 10,
              "solidity": 0.2
             }
            },
            "type": "bar"
           }
          ],
          "scattergeo": [
           {
            "type": "scattergeo",
            "marker": {
             "colorbar": {
              "outlinewidth": 0,
              "ticks": ""
             }
            }
           }
          ],
          "scatterpolar": [
           {
            "type": "scatterpolar",
            "marker": {
             "colorbar": {
              "outlinewidth": 0,
              "ticks": ""
             }
            }
           }
          ],
          "histogram": [
           {
            "marker": {
             "pattern": {
              "fillmode": "overlay",
              "size": 10,
              "solidity": 0.2
             }
            },
            "type": "histogram"
           }
          ],
          "scattergl": [
           {
            "marker": {
             "line": {
              "color": "#283442"
             }
            },
            "type": "scattergl"
           }
          ],
          "scatter3d": [
           {
            "type": "scatter3d",
            "line": {
             "colorbar": {
              "outlinewidth": 0,
              "ticks": ""
             }
            },
            "marker": {
             "colorbar": {
              "outlinewidth": 0,
              "ticks": ""
             }
            }
           }
          ],
          "scattermapbox": [
           {
            "type": "scattermapbox",
            "marker": {
             "colorbar": {
              "outlinewidth": 0,
              "ticks": ""
             }
            }
           }
          ],
          "scatterternary": [
           {
            "type": "scatterternary",
            "marker": {
             "colorbar": {
              "outlinewidth": 0,
              "ticks": ""
             }
            }
           }
          ],
          "scattercarpet": [
           {
            "type": "scattercarpet",
            "marker": {
             "colorbar": {
              "outlinewidth": 0,
              "ticks": ""
             }
            }
           }
          ],
          "carpet": [
           {
            "aaxis": {
             "endlinecolor": "#A2B1C6",
             "gridcolor": "#506784",
             "linecolor": "#506784",
             "minorgridcolor": "#506784",
             "startlinecolor": "#A2B1C6"
            },
            "baxis": {
             "endlinecolor": "#A2B1C6",
             "gridcolor": "#506784",
             "linecolor": "#506784",
             "minorgridcolor": "#506784",
             "startlinecolor": "#A2B1C6"
            },
            "type": "carpet"
           }
          ],
          "table": [
           {
            "cells": {
             "fill": {
              "color": "#506784"
             },
             "line": {
              "color": "rgb(17,17,17)"
             }
            },
            "header": {
             "fill": {
              "color": "#2a3f5f"
             },
             "line": {
              "color": "rgb(17,17,17)"
             }
            },
            "type": "table"
           }
          ],
          "barpolar": [
           {
            "marker": {
             "line": {
              "color": "rgb(17,17,17)",
              "width": 0.5
             },
             "pattern": {
              "fillmode": "overlay",
              "size": 10,
              "solidity": 0.2
             }
            },
            "type": "barpolar"
           }
          ],
          "pie": [
           {
            "automargin": true,
            "type": "pie"
           }
          ]
         },
         "layout": {
          "autotypenumbers": "strict",
          "colorway": [
           "#636efa",
           "#EF553B",
           "#00cc96",
           "#ab63fa",
           "#FFA15A",
           "#19d3f3",
           "#FF6692",
           "#B6E880",
           "#FF97FF",
           "#FECB52"
          ],
          "font": {
           "color": "#f2f5fa"
          },
          "hovermode": "closest",
          "hoverlabel": {
           "align": "left"
          },
          "paper_bgcolor": "rgb(17,17,17)",
          "plot_bgcolor": "rgb(17,17,17)",
          "polar": {
           "bgcolor": "rgb(17,17,17)",
           "angularaxis": {
            "gridcolor": "#506784",
            "linecolor": "#506784",
            "ticks": ""
           },
           "radialaxis": {
            "gridcolor": "#506784",
            "linecolor": "#506784",
            "ticks": ""
           }
          },
          "ternary": {
           "bgcolor": "rgb(17,17,17)",
           "aaxis": {
            "gridcolor": "#506784",
            "linecolor": "#506784",
            "ticks": ""
           },
           "baxis": {
            "gridcolor": "#506784",
            "linecolor": "#506784",
            "ticks": ""
           },
           "caxis": {
            "gridcolor": "#506784",
            "linecolor": "#506784",
            "ticks": ""
           }
          },
          "coloraxis": {
           "colorbar": {
            "outlinewidth": 0,
            "ticks": ""
           }
          },
          "colorscale": {
           "sequential": [
            [
             0.0,
             "#0d0887"
            ],
            [
             0.1111111111111111,
             "#46039f"
            ],
            [
             0.2222222222222222,
             "#7201a8"
            ],
            [
             0.3333333333333333,
             "#9c179e"
            ],
            [
             0.4444444444444444,
             "#bd3786"
            ],
            [
             0.5555555555555556,
             "#d8576b"
            ],
            [
             0.6666666666666666,
             "#ed7953"
            ],
            [
             0.7777777777777778,
             "#fb9f3a"
            ],
            [
             0.8888888888888888,
             "#fdca26"
            ],
            [
             1.0,
             "#f0f921"
            ]
           ],
           "sequentialminus": [
            [
             0.0,
             "#0d0887"
            ],
            [
             0.1111111111111111,
             "#46039f"
            ],
            [
             0.2222222222222222,
             "#7201a8"
            ],
            [
             0.3333333333333333,
             "#9c179e"
            ],
            [
             0.4444444444444444,
             "#bd3786"
            ],
            [
             0.5555555555555556,
             "#d8576b"
            ],
            [
             0.6666666666666666,
             "#ed7953"
            ],
            [
             0.7777777777777778,
             "#fb9f3a"
            ],
            [
             0.8888888888888888,
             "#fdca26"
            ],
            [
             1.0,
             "#f0f921"
            ]
           ],
           "diverging": [
            [
             0,
             "#8e0152"
            ],
            [
             0.1,
             "#c51b7d"
            ],
            [
             0.2,
             "#de77ae"
            ],
            [
             0.3,
             "#f1b6da"
            ],
            [
             0.4,
             "#fde0ef"
            ],
            [
             0.5,
             "#f7f7f7"
            ],
            [
             0.6,
             "#e6f5d0"
            ],
            [
             0.7,
             "#b8e186"
            ],
            [
             0.8,
             "#7fbc41"
            ],
            [
             0.9,
             "#4d9221"
            ],
            [
             1,
             "#276419"
            ]
           ]
          },
          "xaxis": {
           "gridcolor": "#283442",
           "linecolor": "#506784",
           "ticks": "",
           "title": {
            "standoff": 15
           },
           "zerolinecolor": "#283442",
           "automargin": true,
           "zerolinewidth": 2
          },
          "yaxis": {
           "gridcolor": "#283442",
           "linecolor": "#506784",
           "ticks": "",
           "title": {
            "standoff": 15
           },
           "zerolinecolor": "#283442",
           "automargin": true,
           "zerolinewidth": 2
          },
          "scene": {
           "xaxis": {
            "backgroundcolor": "rgb(17,17,17)",
            "gridcolor": "#506784",
            "linecolor": "#506784",
            "showbackground": true,
            "ticks": "",
            "zerolinecolor": "#C8D4E3",
            "gridwidth": 2
           },
           "yaxis": {
            "backgroundcolor": "rgb(17,17,17)",
            "gridcolor": "#506784",
            "linecolor": "#506784",
            "showbackground": true,
            "ticks": "",
            "zerolinecolor": "#C8D4E3",
            "gridwidth": 2
           },
           "zaxis": {
            "backgroundcolor": "rgb(17,17,17)",
            "gridcolor": "#506784",
            "linecolor": "#506784",
            "showbackground": true,
            "ticks": "",
            "zerolinecolor": "#C8D4E3",
            "gridwidth": 2
           }
          },
          "shapedefaults": {
           "line": {
            "color": "#f2f5fa"
           }
          },
          "annotationdefaults": {
           "arrowcolor": "#f2f5fa",
           "arrowhead": 0,
           "arrowwidth": 1
          },
          "geo": {
           "bgcolor": "rgb(17,17,17)",
           "landcolor": "rgb(17,17,17)",
           "subunitcolor": "#506784",
           "showland": true,
           "showlakes": true,
           "lakecolor": "rgb(17,17,17)"
          },
          "title": {
           "x": 0.05
          },
          "updatemenudefaults": {
           "bgcolor": "#506784",
           "borderwidth": 0
          },
          "sliderdefaults": {
           "bgcolor": "#C8D4E3",
           "borderwidth": 1,
           "bordercolor": "rgb(17,17,17)",
           "tickwidth": 0
          },
          "mapbox": {
           "style": "dark"
          }
         }
        },
        "scene": {
         "domain": {
          "x": [
           0.0,
           1.0
          ],
          "y": [
           0.0,
           1.0
          ]
         },
         "xaxis": {
          "title": {
           "text": "sepal length (cm)"
          }
         },
         "yaxis": {
          "title": {
           "text": "sepal width (cm)"
          }
         },
         "zaxis": {
          "title": {
           "text": "petal length (cm)"
          }
         }
        },
        "coloraxis": {
         "colorbar": {
          "title": {
           "text": "Type"
          }
         },
         "colorscale": [
          [
           0.0,
           "#0d0887"
          ],
          [
           0.1111111111111111,
           "#46039f"
          ],
          [
           0.2222222222222222,
           "#7201a8"
          ],
          [
           0.3333333333333333,
           "#9c179e"
          ],
          [
           0.4444444444444444,
           "#bd3786"
          ],
          [
           0.5555555555555556,
           "#d8576b"
          ],
          [
           0.6666666666666666,
           "#ed7953"
          ],
          [
           0.7777777777777778,
           "#fb9f3a"
          ],
          [
           0.8888888888888888,
           "#fdca26"
          ],
          [
           1.0,
           "#f0f921"
          ]
         ]
        },
        "legend": {
         "title": {
          "text": "petal width (cm)"
         },
         "tracegroupgap": 0,
         "orientation": "v",
         "yanchor": "top",
         "xanchor": "right"
        },
        "title": {
         "text": "Normalised flowers' data"
        }
       },
       "config": {
        "plotlyServerURL": "https://plot.ly"
       }
      },
      "text/html": "<div>                            <div id=\"88d9a24a-78ee-4e5f-bd96-44c4147b89a1\" class=\"plotly-graph-div\" style=\"height:525px; width:100%;\"></div>            <script type=\"text/javascript\">                require([\"plotly\"], function(Plotly) {                    window.PLOTLYENV=window.PLOTLYENV || {};                                    if (document.getElementById(\"88d9a24a-78ee-4e5f-bd96-44c4147b89a1\")) {                    Plotly.newPlot(                        \"88d9a24a-78ee-4e5f-bd96-44c4147b89a1\",                        [{\"hovertemplate\":\"petal width (cm)=0.1469174604331337<br>sepal length (cm)=%{x}<br>sepal width (cm)=%{y}<br>petal length (cm)=%{z}<br>Type=%{marker.color}<extra></extra>\",\"legendgroup\":\"0.1469174604331337\",\"marker\":{\"color\":[1,1,1,1,1,1,1,1,1,1,1,1],\"coloraxis\":\"coloraxis\",\"symbol\":\"circle\"},\"mode\":\"markers\",\"name\":\"0.1469174604331337\",\"scene\":\"scene\",\"showlegend\":true,\"x\":[0.676439830938158,-0.3627564953964219,-0.2472902369148024,-0.13182397843318183,-0.2472902369148024,0.4455073139749179,0.5609735724565375,-0.13182397843318183,-0.13182397843318183,-0.2472902369148024,-0.3627564953964219,0.3300410554932973],\"y\":[-0.329863049903099,-1.295315878887766,-0.329863049903099,-0.329863049903099,-0.8125894643954319,-0.329863049903099,-1.7780422933801,-0.571226257149266,-0.571226257149266,-0.088499842656932,-1.7780422933801,-0.571226257149266],\"z\":[0.32312776686413774,0.15281152078640747,-0.07427680731723292,0.2663556848382278,0.2663556848382278,0.32312776686413774,0.37989984889004813,0.2095836028123174,0.4366719309159581,0.2095836028123174,0.15281152078640747,0.15281152078640747],\"type\":\"scatter3d\"},{\"hovertemplate\":\"petal width (cm)=-1.0371934146995818<br>sepal length (cm)=%{x}<br>sepal width (cm)=%{y}<br>petal length (cm)=%{z}<br>Type=%{marker.color}<extra></extra>\",\"legendgroup\":\"-1.0371934146995818\",\"marker\":{\"color\":[0,0,0,0],\"coloraxis\":\"coloraxis\",\"symbol\":\"diamond\"},\"mode\":\"markers\",\"name\":\"-1.0371934146995818\",\"scene\":\"scene\",\"showlegend\":true,\"x\":[-0.4782227538780415,-0.9400877878045216,-0.8246215293229021,-0.8246215293229021],\"y\":[2.083769022558569,0.8769529863277349,1.8424058153124019,1.6010426080662359],\"z\":[-1.3800346939131654,-1.2097184478354353,-1.039402201757705,-1.2664905298613454],\"type\":\"scatter3d\"},{\"hovertemplate\":\"petal width (cm)=-1.3003291647290742<br>sepal length (cm)=%{x}<br>sepal width (cm)=%{y}<br>petal length (cm)=%{z}<br>Type=%{marker.color}<extra></extra>\",\"legendgroup\":\"-1.3003291647290742\",\"marker\":{\"color\":[0,0,0,0,0,0,0,0,0,0,0,0,0,0,0,0,0,0,0,0,0,0,0,0,0],\"coloraxis\":\"coloraxis\",\"symbol\":\"square\"},\"mode\":\"markers\",\"name\":\"-1.3003291647290742\",\"scene\":\"scene\",\"showlegend\":true,\"x\":[-1.1710203047677616,-1.2864865632493814,-1.2864865632493814,-0.016357719951562304,-1.1710203047677616,-0.593689012359662,-1.4019528217310018,-0.9400877878045216,-0.9400877878045216,-0.9400877878045216,-1.6328853386942408,-0.8246215293229021,-0.9400877878045216,-1.6328853386942408,-0.7091552708412816,-0.4782227538780415,-1.4019528217310018,-1.1710203047677616,-1.6328853386942408,-0.7091552708412816,-0.8246215293229021,-0.9400877878045216,-0.4782227538780415,-1.4019528217310018,-1.0555540462861412],\"y\":[0.152863364589235,0.394226571835402,0.394226571835402,2.3251322298047357,0.8769529863277349,1.6010426080662359,0.394226571835402,0.8769529863277349,0.394226571835402,1.359679400820069,0.394226571835402,1.1183161935739019,0.6355897790815679,-0.088499842656932,0.8769529863277349,1.6010426080662359,1.359679400820069,0.8769529863277349,-0.329863049903099,1.1183161935739019,1.8424058153124019,-0.088499842656932,0.8769529863277349,0.152863364589235,-0.088499842656932],\"z\":[-1.2097184478354353,-1.2097184478354353,-1.3800346939131654,-1.436806775939076,-1.039402201757705,-1.2664905298613454,-1.3232626118872555,-1.2664905298613454,-1.436806775939076,-1.3232626118872555,-1.3800346939131654,-1.3232626118872555,-1.3232626118872555,-1.3800346939131654,-1.3232626118872555,-1.2664905298613454,-1.550350939990896,-1.2097184478354353,-1.3232626118872555,-1.2664905298613454,-1.2097184478354353,-1.2097184478354353,-1.1529463658095254,-1.2664905298613454,-1.3232626118872555],\"type\":\"scatter3d\"},{\"hovertemplate\":\"petal width (cm)=1.4625962105805952<br>sepal length (cm)=%{x}<br>sepal width (cm)=%{y}<br>petal length (cm)=%{z}<br>Type=%{marker.color}<extra></extra>\",\"legendgroup\":\"1.4625962105805952\",\"marker\":{\"color\":[2,2,2,2,2,2],\"coloraxis\":\"coloraxis\",\"symbol\":\"x\"},\"mode\":\"markers\",\"name\":\"1.4625962105805952\",\"scene\":\"scene\",\"showlegend\":true,\"x\":[1.2537711233462576,0.676439830938158,1.0228386063830175,1.2537711233462576,2.177501191199217,2.177501191199217],\"y\":[0.394226571835402,0.394226571835402,-0.088499842656932,0.152863364589235,-0.088499842656932,-1.053952671641599],\"z\":[1.1179369152268794,0.8908485871232389,0.8340765050973289,0.7773044230714186,1.3450252433305196,1.799201899537801],\"type\":\"scatter3d\"},{\"hovertemplate\":\"petal width (cm)=0.5416210854773723<br>sepal length (cm)=%{x}<br>sepal width (cm)=%{y}<br>petal length (cm)=%{z}<br>Type=%{marker.color}<extra></extra>\",\"legendgroup\":\"0.5416210854773723\",\"marker\":{\"color\":[1,2,1,1],\"coloraxis\":\"coloraxis\",\"symbol\":\"cross\"},\"mode\":\"markers\",\"name\":\"0.5416210854773723\",\"scene\":\"scene\",\"showlegend\":true,\"x\":[0.21457479701167778,1.6001698987911173,0.5609735724565375,0.21457479701167778],\"y\":[0.8769529863277349,-0.088499842656932,0.6355897790815679,-0.8125894643954319],\"z\":[0.4366719309159581,1.1747089972527893,0.5502160949677783,0.7773044230714186],\"type\":\"scatter3d\"},{\"hovertemplate\":\"petal width (cm)=1.0678925855363568<br>sepal length (cm)=%{x}<br>sepal width (cm)=%{y}<br>petal length (cm)=%{z}<br>Type=%{marker.color}<extra></extra>\",\"legendgroup\":\"1.0678925855363568\",\"marker\":{\"color\":[2,2,2],\"coloraxis\":\"coloraxis\",\"symbol\":\"circle\"},\"mode\":\"markers\",\"name\":\"1.0678925855363568\",\"scene\":\"scene\",\"showlegend\":true,\"x\":[2.408433708162457,2.177501191199217,-0.2472902369148024],\"y\":[1.8424058153124019,-0.571226257149266,-0.571226257149266],\"z\":[1.5153414894082504,1.6856577354859805,0.6637602590195987],\"type\":\"scatter3d\"},{\"hovertemplate\":\"petal width (cm)=-1.168761289714328<br>sepal length (cm)=%{x}<br>sepal width (cm)=%{y}<br>petal length (cm)=%{z}<br>Type=%{marker.color}<extra></extra>\",\"legendgroup\":\"-1.168761289714328\",\"marker\":{\"color\":[0,0,0,0,0],\"coloraxis\":\"coloraxis\",\"symbol\":\"diamond\"},\"mode\":\"markers\",\"name\":\"-1.168761289714328\",\"scene\":\"scene\",\"showlegend\":true,\"x\":[-1.4019528217310018,-0.8246215293229021,-1.5174190802126213,-0.8246215293229021,-0.9400877878045216],\"y\":[0.8769529863277349,1.8424058153124019,-1.7780422933801,1.1183161935739019,1.1183161935739019],\"z\":[-1.3232626118872555,-1.2664905298613454,-1.3800346939131654,-1.3232626118872555,-1.3800346939131654],\"type\":\"scatter3d\"},{\"hovertemplate\":\"petal width (cm)=-1.4318970397438204<br>sepal length (cm)=%{x}<br>sepal width (cm)=%{y}<br>petal length (cm)=%{z}<br>Type=%{marker.color}<extra></extra>\",\"legendgroup\":\"-1.4318970397438204\",\"marker\":{\"color\":[0,0,0,0],\"coloraxis\":\"coloraxis\",\"symbol\":\"square\"},\"mode\":\"markers\",\"name\":\"-1.4318970397438204\",\"scene\":\"scene\",\"showlegend\":true,\"x\":[-0.7091552708412816,-1.7483515971758614,-1.0555540462861412,-1.1710203047677616],\"y\":[2.566495437050902,-0.088499842656932,0.152863364589235,-0.088499842656932],\"z\":[-1.2664905298613454,-1.4935788579649858,-1.2664905298613454,-1.3232626118872555],\"type\":\"scatter3d\"},{\"hovertemplate\":\"petal width (cm)=0.9363247105216106<br>sepal length (cm)=%{x}<br>sepal width (cm)=%{y}<br>petal length (cm)=%{z}<br>Type=%{marker.color}<extra></extra>\",\"legendgroup\":\"0.9363247105216106\",\"marker\":{\"color\":[2,2],\"coloraxis\":\"coloraxis\",\"symbol\":\"x\"},\"mode\":\"markers\",\"name\":\"0.9363247105216106\",\"scene\":\"scene\",\"showlegend\":true,\"x\":[-0.016357719951562304,0.676439830938158],\"y\":[-0.8125894643954319,-0.8125894643954319],\"z\":[0.7773044230714186,0.8908485871232389],\"type\":\"scatter3d\"},{\"hovertemplate\":\"petal width (cm)=1.3310283355658494<br>sepal length (cm)=%{x}<br>sepal width (cm)=%{y}<br>petal length (cm)=%{z}<br>Type=%{marker.color}<extra></extra>\",\"legendgroup\":\"1.3310283355658494\",\"marker\":{\"color\":[2,2,2],\"coloraxis\":\"coloraxis\",\"symbol\":\"cross\"},\"mode\":\"markers\",\"name\":\"1.3310283355658494\",\"scene\":\"scene\",\"showlegend\":true,\"x\":[0.676439830938158,2.177501191199217,0.7919060894197775],\"y\":[-0.571226257149266,1.8424058153124019,-0.088499842656932],\"z\":[1.061164833200969,1.6856577354859805,1.1747089972527893],\"type\":\"scatter3d\"},{\"hovertemplate\":\"petal width (cm)=0.6731889604921183<br>sepal length (cm)=%{x}<br>sepal width (cm)=%{y}<br>petal length (cm)=%{z}<br>Type=%{marker.color}<extra></extra>\",\"legendgroup\":\"0.6731889604921183\",\"marker\":{\"color\":[1,2],\"coloraxis\":\"coloraxis\",\"symbol\":\"circle\"},\"mode\":\"markers\",\"name\":\"0.6731889604921183\",\"scene\":\"scene\",\"showlegend\":true,\"x\":[1.0228386063830175,-1.0555540462861412],\"y\":[-0.088499842656932,-1.295315878887766],\"z\":[0.7205323410455086,0.4366719309159581],\"type\":\"scatter3d\"},{\"hovertemplate\":\"petal width (cm)=-0.11621828959635859<br>sepal length (cm)=%{x}<br>sepal width (cm)=%{y}<br>petal length (cm)=%{z}<br>Type=%{marker.color}<extra></extra>\",\"legendgroup\":\"-0.11621828959635859\",\"marker\":{\"color\":[1,1,1],\"coloraxis\":\"coloraxis\",\"symbol\":\"diamond\"},\"mode\":\"markers\",\"name\":\"-0.11621828959635859\",\"scene\":\"scene\",\"showlegend\":true,\"x\":[-0.8246215293229021,-0.3627564953964219,-0.2472902369148024],\"y\":[-1.295315878887766,-1.536679086133933,-1.295315878887766],\"z\":[-0.4149092994726936,0.03926735673458716,0.09603943876049732],\"type\":\"scatter3d\"},{\"hovertemplate\":\"petal width (cm)=0.410053210462626<br>sepal length (cm)=%{x}<br>sepal width (cm)=%{y}<br>petal length (cm)=%{z}<br>Type=%{marker.color}<extra></extra>\",\"legendgroup\":\"0.410053210462626\",\"marker\":{\"color\":[1,1,1,1,1,1,1],\"coloraxis\":\"coloraxis\",\"symbol\":\"square\"},\"mode\":\"markers\",\"name\":\"0.410053210462626\",\"scene\":\"scene\",\"showlegend\":true,\"x\":[0.7919060894197775,0.4455073139749179,0.09910853853005826,0.5609735724565375,1.2537711233462576,0.21457479701167778,-0.4782227538780415],\"y\":[-0.571226257149266,-2.0194055006262657,-0.088499842656932,-1.295315878887766,0.152863364589235,-0.329863049903099,-0.088499842656932],\"z\":[0.49344401294186796,0.4366719309159581,0.2663556848382278,0.6637602590195987,0.6637602590195987,0.4366719309159581,0.4366719309159581],\"type\":\"scatter3d\"},{\"hovertemplate\":\"petal width (cm)=0.8047568355068646<br>sepal length (cm)=%{x}<br>sepal width (cm)=%{y}<br>petal length (cm)=%{z}<br>Type=%{marker.color}<extra></extra>\",\"legendgroup\":\"0.8047568355068646\",\"marker\":{\"color\":[2,2,1,2,2,2,2,2,2,2,2],\"coloraxis\":\"coloraxis\",\"symbol\":\"x\"},\"mode\":\"markers\",\"name\":\"0.8047568355068646\",\"scene\":\"scene\",\"showlegend\":true,\"x\":[0.21457479701167778,0.5609735724565375,0.09910853853005826,0.3300410554932973,1.7156361572727368,0.7919060894197775,0.09910853853005826,1.0228386063830175,0.4455073139749179,1.6001698987911173,0.5609735724565375],\"y\":[-0.088499842656932,-0.8125894643954319,0.394226571835402,-0.088499842656932,-0.329863049903099,-0.088499842656932,-0.088499842656932,-1.295315878887766,-0.571226257149266,0.394226571835402,-0.329863049903099],\"z\":[0.6069881769936882,0.6637602590195987,0.6069881769936882,0.6637602590195987,1.4585694073823399,1.0043927511750592,0.7773044230714186,1.1747089972527893,0.6069881769936882,1.2882531613046098,1.061164833200969],\"type\":\"scatter3d\"},{\"hovertemplate\":\"petal width (cm)=-0.7740576646700896<br>sepal length (cm)=%{x}<br>sepal width (cm)=%{y}<br>petal length (cm)=%{z}<br>Type=%{marker.color}<extra></extra>\",\"legendgroup\":\"-0.7740576646700896\",\"marker\":{\"color\":[0],\"coloraxis\":\"coloraxis\",\"symbol\":\"cross\"},\"mode\":\"markers\",\"name\":\"-0.7740576646700896\",\"scene\":\"scene\",\"showlegend\":true,\"x\":[-0.9400877878045216],\"y\":[1.1183161935739019],\"z\":[-1.2097184478354353],\"type\":\"scatter3d\"},{\"hovertemplate\":\"petal width (cm)=-0.2477861646111049<br>sepal length (cm)=%{x}<br>sepal width (cm)=%{y}<br>petal length (cm)=%{z}<br>Type=%{marker.color}<extra></extra>\",\"legendgroup\":\"-0.2477861646111049\",\"marker\":{\"color\":[1,1,1,1,1,1],\"coloraxis\":\"coloraxis\",\"symbol\":\"circle\"},\"mode\":\"markers\",\"name\":\"-0.2477861646111049\",\"scene\":\"scene\",\"showlegend\":true,\"x\":[0.21457479701167778,-1.0555540462861412,-0.9400877878045216,-0.13182397843318183,-0.016357719951562304,-0.9400877878045216],\"y\":[-2.0194055006262657,-1.536679086133933,-1.7780422933801,-1.053952671641599,-0.8125894643954319,-2.5021319151186],\"z\":[0.15281152078640747,-0.2445930533949634,-0.2445930533949634,-0.13104888934314307,0.2095836028123174,-0.13104888934314307],\"type\":\"scatter3d\"},{\"hovertemplate\":\"petal width (cm)=1.1994604605511032<br>sepal length (cm)=%{x}<br>sepal width (cm)=%{y}<br>petal length (cm)=%{z}<br>Type=%{marker.color}<extra></extra>\",\"legendgroup\":\"1.1994604605511032\",\"marker\":{\"color\":[2,2,2,2,2,2],\"coloraxis\":\"coloraxis\",\"symbol\":\"diamond\"},\"mode\":\"markers\",\"name\":\"1.1994604605511032\",\"scene\":\"scene\",\"showlegend\":true,\"x\":[1.2537711233462576,1.0228386063830175,1.1383048648646372,2.0620349327175966,0.676439830938158,1.4847036403094969],\"y\":[0.152863364589235,0.6355897790815679,-0.088499842656932,-0.088499842656932,-0.571226257149266,-0.088499842656932],\"z\":[0.9476206691491492,1.1179369152268794,1.0043927511750592,1.6288856534600702,1.061164833200969,1.2314810792786999],\"type\":\"scatter3d\"},{\"hovertemplate\":\"petal width (cm)=0.2784853354478797<br>sepal length (cm)=%{x}<br>sepal width (cm)=%{y}<br>petal length (cm)=%{z}<br>Type=%{marker.color}<extra></extra>\",\"legendgroup\":\"0.2784853354478797\",\"marker\":{\"color\":[1,1,1,1,1],\"coloraxis\":\"coloraxis\",\"symbol\":\"square\"},\"mode\":\"markers\",\"name\":\"0.2784853354478797\",\"scene\":\"scene\",\"showlegend\":true,\"x\":[0.9073723479013971,0.3300410554932973,1.3692373818278771,1.1383048648646372,-0.7091552708412816],\"y\":[-0.088499842656932,-0.088499842656932,0.394226571835402,-0.571226257149266,-0.8125894643954319],\"z\":[0.37989984889004813,0.49344401294186796,0.5502160949677783,0.6069881769936882,0.09603943876049732],\"type\":\"scatter3d\"},{\"hovertemplate\":\"petal width (cm)=0.015349585418387409<br>sepal length (cm)=%{x}<br>sepal width (cm)=%{y}<br>petal length (cm)=%{z}<br>Type=%{marker.color}<extra></extra>\",\"legendgroup\":\"0.015349585418387409\",\"marker\":{\"color\":[1,1,1,1,1],\"coloraxis\":\"coloraxis\",\"symbol\":\"x\"},\"mode\":\"markers\",\"name\":\"0.015349585418387409\",\"scene\":\"scene\",\"showlegend\":true,\"x\":[-0.016357719951562304,0.3300410554932973,-0.13182397843318183,-0.016357719951562304,-0.3627564953964219],\"y\":[-1.053952671641599,-0.571226257149266,-0.088499842656932,-0.8125894643954319,-1.053952671641599],\"z\":[0.15281152078640747,0.5502160949677783,0.2663556848382278,0.09603943876049732,0.37989984889004813],\"type\":\"scatter3d\"},{\"hovertemplate\":\"petal width (cm)=1.5941640855953414<br>sepal length (cm)=%{x}<br>sepal width (cm)=%{y}<br>petal length (cm)=%{z}<br>Type=%{marker.color}<extra></extra>\",\"legendgroup\":\"1.5941640855953414\",\"marker\":{\"color\":[2,2,2],\"coloraxis\":\"coloraxis\",\"symbol\":\"cross\"},\"mode\":\"markers\",\"name\":\"1.5941640855953414\",\"scene\":\"scene\",\"showlegend\":true,\"x\":[-0.016357719951562304,0.5609735724565375,1.0228386063830175],\"y\":[-0.571226257149266,0.8769529863277349,0.152863364589235],\"z\":[0.7773044230714186,1.061164833200969,1.061164833200969],\"type\":\"scatter3d\"},{\"hovertemplate\":\"petal width (cm)=1.7257319606100878<br>sepal length (cm)=%{x}<br>sepal width (cm)=%{y}<br>petal length (cm)=%{z}<br>Type=%{marker.color}<extra></extra>\",\"legendgroup\":\"1.7257319606100878\",\"marker\":{\"color\":[2,2],\"coloraxis\":\"coloraxis\",\"symbol\":\"circle\"},\"mode\":\"markers\",\"name\":\"1.7257319606100878\",\"scene\":\"scene\",\"showlegend\":true,\"x\":[1.0228386063830175,1.6001698987911173],\"y\":[0.6355897790815679,1.359679400820069],\"z\":[1.1179369152268794,1.3450252433305196],\"type\":\"scatter3d\"},{\"hovertemplate\":\"petal width (cm)=-0.9056255396848357<br>sepal length (cm)=%{x}<br>sepal width (cm)=%{y}<br>petal length (cm)=%{z}<br>Type=%{marker.color}<extra></extra>\",\"legendgroup\":\"-0.9056255396848357\",\"marker\":{\"color\":[0],\"coloraxis\":\"coloraxis\",\"symbol\":\"diamond\"},\"mode\":\"markers\",\"name\":\"-0.9056255396848357\",\"scene\":\"scene\",\"showlegend\":true,\"x\":[-0.8246215293229021],\"y\":[0.6355897790815679],\"z\":[-1.1529463658095254],\"type\":\"scatter3d\"}],                        {\"template\":{\"data\":{\"histogram2dcontour\":[{\"type\":\"histogram2dcontour\",\"colorbar\":{\"outlinewidth\":0,\"ticks\":\"\"},\"colorscale\":[[0.0,\"#0d0887\"],[0.1111111111111111,\"#46039f\"],[0.2222222222222222,\"#7201a8\"],[0.3333333333333333,\"#9c179e\"],[0.4444444444444444,\"#bd3786\"],[0.5555555555555556,\"#d8576b\"],[0.6666666666666666,\"#ed7953\"],[0.7777777777777778,\"#fb9f3a\"],[0.8888888888888888,\"#fdca26\"],[1.0,\"#f0f921\"]]}],\"choropleth\":[{\"type\":\"choropleth\",\"colorbar\":{\"outlinewidth\":0,\"ticks\":\"\"}}],\"histogram2d\":[{\"type\":\"histogram2d\",\"colorbar\":{\"outlinewidth\":0,\"ticks\":\"\"},\"colorscale\":[[0.0,\"#0d0887\"],[0.1111111111111111,\"#46039f\"],[0.2222222222222222,\"#7201a8\"],[0.3333333333333333,\"#9c179e\"],[0.4444444444444444,\"#bd3786\"],[0.5555555555555556,\"#d8576b\"],[0.6666666666666666,\"#ed7953\"],[0.7777777777777778,\"#fb9f3a\"],[0.8888888888888888,\"#fdca26\"],[1.0,\"#f0f921\"]]}],\"heatmap\":[{\"type\":\"heatmap\",\"colorbar\":{\"outlinewidth\":0,\"ticks\":\"\"},\"colorscale\":[[0.0,\"#0d0887\"],[0.1111111111111111,\"#46039f\"],[0.2222222222222222,\"#7201a8\"],[0.3333333333333333,\"#9c179e\"],[0.4444444444444444,\"#bd3786\"],[0.5555555555555556,\"#d8576b\"],[0.6666666666666666,\"#ed7953\"],[0.7777777777777778,\"#fb9f3a\"],[0.8888888888888888,\"#fdca26\"],[1.0,\"#f0f921\"]]}],\"heatmapgl\":[{\"type\":\"heatmapgl\",\"colorbar\":{\"outlinewidth\":0,\"ticks\":\"\"},\"colorscale\":[[0.0,\"#0d0887\"],[0.1111111111111111,\"#46039f\"],[0.2222222222222222,\"#7201a8\"],[0.3333333333333333,\"#9c179e\"],[0.4444444444444444,\"#bd3786\"],[0.5555555555555556,\"#d8576b\"],[0.6666666666666666,\"#ed7953\"],[0.7777777777777778,\"#fb9f3a\"],[0.8888888888888888,\"#fdca26\"],[1.0,\"#f0f921\"]]}],\"contourcarpet\":[{\"type\":\"contourcarpet\",\"colorbar\":{\"outlinewidth\":0,\"ticks\":\"\"}}],\"contour\":[{\"type\":\"contour\",\"colorbar\":{\"outlinewidth\":0,\"ticks\":\"\"},\"colorscale\":[[0.0,\"#0d0887\"],[0.1111111111111111,\"#46039f\"],[0.2222222222222222,\"#7201a8\"],[0.3333333333333333,\"#9c179e\"],[0.4444444444444444,\"#bd3786\"],[0.5555555555555556,\"#d8576b\"],[0.6666666666666666,\"#ed7953\"],[0.7777777777777778,\"#fb9f3a\"],[0.8888888888888888,\"#fdca26\"],[1.0,\"#f0f921\"]]}],\"surface\":[{\"type\":\"surface\",\"colorbar\":{\"outlinewidth\":0,\"ticks\":\"\"},\"colorscale\":[[0.0,\"#0d0887\"],[0.1111111111111111,\"#46039f\"],[0.2222222222222222,\"#7201a8\"],[0.3333333333333333,\"#9c179e\"],[0.4444444444444444,\"#bd3786\"],[0.5555555555555556,\"#d8576b\"],[0.6666666666666666,\"#ed7953\"],[0.7777777777777778,\"#fb9f3a\"],[0.8888888888888888,\"#fdca26\"],[1.0,\"#f0f921\"]]}],\"mesh3d\":[{\"type\":\"mesh3d\",\"colorbar\":{\"outlinewidth\":0,\"ticks\":\"\"}}],\"scatter\":[{\"marker\":{\"line\":{\"color\":\"#283442\"}},\"type\":\"scatter\"}],\"parcoords\":[{\"type\":\"parcoords\",\"line\":{\"colorbar\":{\"outlinewidth\":0,\"ticks\":\"\"}}}],\"scatterpolargl\":[{\"type\":\"scatterpolargl\",\"marker\":{\"colorbar\":{\"outlinewidth\":0,\"ticks\":\"\"}}}],\"bar\":[{\"error_x\":{\"color\":\"#f2f5fa\"},\"error_y\":{\"color\":\"#f2f5fa\"},\"marker\":{\"line\":{\"color\":\"rgb(17,17,17)\",\"width\":0.5},\"pattern\":{\"fillmode\":\"overlay\",\"size\":10,\"solidity\":0.2}},\"type\":\"bar\"}],\"scattergeo\":[{\"type\":\"scattergeo\",\"marker\":{\"colorbar\":{\"outlinewidth\":0,\"ticks\":\"\"}}}],\"scatterpolar\":[{\"type\":\"scatterpolar\",\"marker\":{\"colorbar\":{\"outlinewidth\":0,\"ticks\":\"\"}}}],\"histogram\":[{\"marker\":{\"pattern\":{\"fillmode\":\"overlay\",\"size\":10,\"solidity\":0.2}},\"type\":\"histogram\"}],\"scattergl\":[{\"marker\":{\"line\":{\"color\":\"#283442\"}},\"type\":\"scattergl\"}],\"scatter3d\":[{\"type\":\"scatter3d\",\"line\":{\"colorbar\":{\"outlinewidth\":0,\"ticks\":\"\"}},\"marker\":{\"colorbar\":{\"outlinewidth\":0,\"ticks\":\"\"}}}],\"scattermapbox\":[{\"type\":\"scattermapbox\",\"marker\":{\"colorbar\":{\"outlinewidth\":0,\"ticks\":\"\"}}}],\"scatterternary\":[{\"type\":\"scatterternary\",\"marker\":{\"colorbar\":{\"outlinewidth\":0,\"ticks\":\"\"}}}],\"scattercarpet\":[{\"type\":\"scattercarpet\",\"marker\":{\"colorbar\":{\"outlinewidth\":0,\"ticks\":\"\"}}}],\"carpet\":[{\"aaxis\":{\"endlinecolor\":\"#A2B1C6\",\"gridcolor\":\"#506784\",\"linecolor\":\"#506784\",\"minorgridcolor\":\"#506784\",\"startlinecolor\":\"#A2B1C6\"},\"baxis\":{\"endlinecolor\":\"#A2B1C6\",\"gridcolor\":\"#506784\",\"linecolor\":\"#506784\",\"minorgridcolor\":\"#506784\",\"startlinecolor\":\"#A2B1C6\"},\"type\":\"carpet\"}],\"table\":[{\"cells\":{\"fill\":{\"color\":\"#506784\"},\"line\":{\"color\":\"rgb(17,17,17)\"}},\"header\":{\"fill\":{\"color\":\"#2a3f5f\"},\"line\":{\"color\":\"rgb(17,17,17)\"}},\"type\":\"table\"}],\"barpolar\":[{\"marker\":{\"line\":{\"color\":\"rgb(17,17,17)\",\"width\":0.5},\"pattern\":{\"fillmode\":\"overlay\",\"size\":10,\"solidity\":0.2}},\"type\":\"barpolar\"}],\"pie\":[{\"automargin\":true,\"type\":\"pie\"}]},\"layout\":{\"autotypenumbers\":\"strict\",\"colorway\":[\"#636efa\",\"#EF553B\",\"#00cc96\",\"#ab63fa\",\"#FFA15A\",\"#19d3f3\",\"#FF6692\",\"#B6E880\",\"#FF97FF\",\"#FECB52\"],\"font\":{\"color\":\"#f2f5fa\"},\"hovermode\":\"closest\",\"hoverlabel\":{\"align\":\"left\"},\"paper_bgcolor\":\"rgb(17,17,17)\",\"plot_bgcolor\":\"rgb(17,17,17)\",\"polar\":{\"bgcolor\":\"rgb(17,17,17)\",\"angularaxis\":{\"gridcolor\":\"#506784\",\"linecolor\":\"#506784\",\"ticks\":\"\"},\"radialaxis\":{\"gridcolor\":\"#506784\",\"linecolor\":\"#506784\",\"ticks\":\"\"}},\"ternary\":{\"bgcolor\":\"rgb(17,17,17)\",\"aaxis\":{\"gridcolor\":\"#506784\",\"linecolor\":\"#506784\",\"ticks\":\"\"},\"baxis\":{\"gridcolor\":\"#506784\",\"linecolor\":\"#506784\",\"ticks\":\"\"},\"caxis\":{\"gridcolor\":\"#506784\",\"linecolor\":\"#506784\",\"ticks\":\"\"}},\"coloraxis\":{\"colorbar\":{\"outlinewidth\":0,\"ticks\":\"\"}},\"colorscale\":{\"sequential\":[[0.0,\"#0d0887\"],[0.1111111111111111,\"#46039f\"],[0.2222222222222222,\"#7201a8\"],[0.3333333333333333,\"#9c179e\"],[0.4444444444444444,\"#bd3786\"],[0.5555555555555556,\"#d8576b\"],[0.6666666666666666,\"#ed7953\"],[0.7777777777777778,\"#fb9f3a\"],[0.8888888888888888,\"#fdca26\"],[1.0,\"#f0f921\"]],\"sequentialminus\":[[0.0,\"#0d0887\"],[0.1111111111111111,\"#46039f\"],[0.2222222222222222,\"#7201a8\"],[0.3333333333333333,\"#9c179e\"],[0.4444444444444444,\"#bd3786\"],[0.5555555555555556,\"#d8576b\"],[0.6666666666666666,\"#ed7953\"],[0.7777777777777778,\"#fb9f3a\"],[0.8888888888888888,\"#fdca26\"],[1.0,\"#f0f921\"]],\"diverging\":[[0,\"#8e0152\"],[0.1,\"#c51b7d\"],[0.2,\"#de77ae\"],[0.3,\"#f1b6da\"],[0.4,\"#fde0ef\"],[0.5,\"#f7f7f7\"],[0.6,\"#e6f5d0\"],[0.7,\"#b8e186\"],[0.8,\"#7fbc41\"],[0.9,\"#4d9221\"],[1,\"#276419\"]]},\"xaxis\":{\"gridcolor\":\"#283442\",\"linecolor\":\"#506784\",\"ticks\":\"\",\"title\":{\"standoff\":15},\"zerolinecolor\":\"#283442\",\"automargin\":true,\"zerolinewidth\":2},\"yaxis\":{\"gridcolor\":\"#283442\",\"linecolor\":\"#506784\",\"ticks\":\"\",\"title\":{\"standoff\":15},\"zerolinecolor\":\"#283442\",\"automargin\":true,\"zerolinewidth\":2},\"scene\":{\"xaxis\":{\"backgroundcolor\":\"rgb(17,17,17)\",\"gridcolor\":\"#506784\",\"linecolor\":\"#506784\",\"showbackground\":true,\"ticks\":\"\",\"zerolinecolor\":\"#C8D4E3\",\"gridwidth\":2},\"yaxis\":{\"backgroundcolor\":\"rgb(17,17,17)\",\"gridcolor\":\"#506784\",\"linecolor\":\"#506784\",\"showbackground\":true,\"ticks\":\"\",\"zerolinecolor\":\"#C8D4E3\",\"gridwidth\":2},\"zaxis\":{\"backgroundcolor\":\"rgb(17,17,17)\",\"gridcolor\":\"#506784\",\"linecolor\":\"#506784\",\"showbackground\":true,\"ticks\":\"\",\"zerolinecolor\":\"#C8D4E3\",\"gridwidth\":2}},\"shapedefaults\":{\"line\":{\"color\":\"#f2f5fa\"}},\"annotationdefaults\":{\"arrowcolor\":\"#f2f5fa\",\"arrowhead\":0,\"arrowwidth\":1},\"geo\":{\"bgcolor\":\"rgb(17,17,17)\",\"landcolor\":\"rgb(17,17,17)\",\"subunitcolor\":\"#506784\",\"showland\":true,\"showlakes\":true,\"lakecolor\":\"rgb(17,17,17)\"},\"title\":{\"x\":0.05},\"updatemenudefaults\":{\"bgcolor\":\"#506784\",\"borderwidth\":0},\"sliderdefaults\":{\"bgcolor\":\"#C8D4E3\",\"borderwidth\":1,\"bordercolor\":\"rgb(17,17,17)\",\"tickwidth\":0},\"mapbox\":{\"style\":\"dark\"}}},\"scene\":{\"domain\":{\"x\":[0.0,1.0],\"y\":[0.0,1.0]},\"xaxis\":{\"title\":{\"text\":\"sepal length (cm)\"}},\"yaxis\":{\"title\":{\"text\":\"sepal width (cm)\"}},\"zaxis\":{\"title\":{\"text\":\"petal length (cm)\"}}},\"coloraxis\":{\"colorbar\":{\"title\":{\"text\":\"Type\"}},\"colorscale\":[[0.0,\"#0d0887\"],[0.1111111111111111,\"#46039f\"],[0.2222222222222222,\"#7201a8\"],[0.3333333333333333,\"#9c179e\"],[0.4444444444444444,\"#bd3786\"],[0.5555555555555556,\"#d8576b\"],[0.6666666666666666,\"#ed7953\"],[0.7777777777777778,\"#fb9f3a\"],[0.8888888888888888,\"#fdca26\"],[1.0,\"#f0f921\"]]},\"legend\":{\"title\":{\"text\":\"petal width (cm)\"},\"tracegroupgap\":0,\"orientation\":\"v\",\"yanchor\":\"top\",\"xanchor\":\"right\"},\"title\":{\"text\":\"Normalised flowers' data\"}},                        {\"responsive\": true}                    ).then(function(){\n                            \nvar gd = document.getElementById('88d9a24a-78ee-4e5f-bd96-44c4147b89a1');\nvar x = new MutationObserver(function (mutations, observer) {{\n        var display = window.getComputedStyle(gd).display;\n        if (!display || display === 'none') {{\n            console.log([gd, 'removed!']);\n            Plotly.purge(gd);\n            observer.disconnect();\n        }}\n}});\n\n// Listen for the removal of the full notebook cells\nvar notebookContainer = gd.closest('#notebook-container');\nif (notebookContainer) {{\n    x.observe(notebookContainer, {childList: true});\n}}\n\n// Listen for the clearing of the current output cell\nvar outputEl = gd.closest('.output');\nif (outputEl) {{\n    x.observe(outputEl, {childList: true});\n}}\n\n                        })                };                });            </script>        </div>"
     },
     "metadata": {},
     "output_type": "display_data"
    },
    {
     "name": "stdout",
     "output_type": "stream",
     "text": [
      "Classification model by tool first label: y = -0.26656813344943225 + -1.0431888352824648 * feat1 + 0.9549697953361411 * feat2 + -1.7839034284640767 * feat3 + -1.6935988542217728 * feat4\n",
      "Classification model by tool second label: y = 1.9336966040526526 + 0.5241486084719197 * feat1 + -0.4771008594792409 * feat2 + -0.0920998197182451 * feat3 + -0.8380770661521544 * feat4\n",
      "Classification model by tool third label: y = -1.6671284706032194 + 0.5190402268105448 * feat1 + -0.47786893585689927 * feat2 + 1.8760032481823223 * feat3 + 2.5316759203739267 * feat4\n",
      "Accuracy score: 0.9\n"
     ]
    },
    {
     "data": {
      "text/plain": "<Figure size 640x480 with 1 Axes>",
      "image/png": "[encoded data removed]"
     },
     "metadata": {},
     "output_type": "display_data"
    },
    {
     "name": "stdout",
     "output_type": "stream",
     "text": [
      "Classification error by tool : 0.1\n",
      "\n",
      "Classification model by me first label: y = -2.03229512422711 + -1.190305439431309 * feat1 + 1.9486215063913639 * feat2 + -2.4451301759911117 * feat3 + -1.6943902163233242 * feat4\n",
      "Classification model by me second label: y = -0.8939464637208479 + 0.011615992497046389 * feat1 + -1.6166826735314819 * feat2 + 1.0471173952730748 * feat3 + -1.0529296605572782 * feat4\n",
      "Classification model by me third label: y = -3.4207705496324694 + -0.02931515632280349 * feat1 + 0.13307478542091752 * feat2 + 2.06241847664456 * feat3 + 3.3668691866220306 * feat4\n",
      "Accuracy score: 0.8333333333333334\n"
     ]
    },
    {
     "data": {
      "text/plain": "<Figure size 640x480 with 1 Axes>",
      "image/png": "[encoded data removed]"
     },
     "metadata": {},
     "output_type": "display_data"
    },
    {
     "name": "stdout",
     "output_type": "stream",
     "text": [
      "Classification error by me : 0.16666666666666666\n",
      "\n",
      "Cross validation:\n",
      "Classification model by me first label: y = -1.8998974185896924 + -1.261586655458312 * feat1 + 1.9758379780396318 * feat2 + -2.1693621512617836 * feat3 + -1.9595500073118568 * feat4\n",
      "Classification model by me second label: y = -1.1402173862588751 + 0.11838477772895052 * feat1 + -1.557546219623167 * feat2 + 0.8655108322400094 * feat3 + -1.0102067179146794 * feat4\n",
      "Classification model by me third label: y = -3.3439076385479223 + 0.2651794164171092 * feat1 + 0.07830215449007129 * feat2 + 2.0547133779091546 * feat3 + 3.4180824979014233 * feat4\n",
      "Accuracy score: 0.8\n",
      "Classification error by me : 0.2\n",
      "\n",
      "Classification model by me first label: y = -2.0429442810621214 + -1.1696393163949246 * feat1 + 1.9604647482014212 * feat2 + -2.0091547567675834 * feat3 + -2.0463956578615554 * feat4\n",
      "Classification model by me second label: y = -0.8809017453315738 + 0.35925706279660174 * feat1 + -1.460889803535347 * feat2 + 0.5084886224982902 * feat3 + -0.802774723500595 * feat4\n",
      "Classification model by me third label: y = -3.5007748268247485 + 0.04940890461731985 * feat1 + -0.31027712893217474 * feat2 + 2.1101943145998114 * feat3 + 3.251751873722234 * feat4\n",
      "Accuracy score: 0.9666666666666667\n",
      "Classification error by me : 0.03333333333333333\n",
      "\n",
      "Classification model by me first label: y = -1.9398217466651388 + -1.095236659082685 * feat1 + 2.2100911342270675 * feat2 + -1.7103571079730169 * feat3 + -2.1741816821182125 * feat4\n",
      "Classification model by me second label: y = -1.0474559321202546 + -0.14884685724939772 * feat1 + -1.5872396511291194 * feat2 + 1.073810958662098 * feat3 + -1.0597799061559112 * feat4\n",
      "Classification model by me third label: y = -3.4412710756968266 + 0.01725698970220257 * feat1 + -0.16627803522143 * feat2 + 2.0308828705595845 * feat3 + 3.3475540107778285 * feat4\n",
      "Accuracy score: 0.8666666666666667\n",
      "Classification error by me : 0.13333333333333333\n",
      "\n",
      "Classification model by me first label: y = -2.2791996646363524 + -1.0485380330080722 * feat1 + 1.82052260121854 * feat2 + -1.9293205169558365 * feat3 + -2.1644564821007597 * feat4\n",
      "Classification model by me second label: y = -0.903493468200141 + 0.6516602727882733 * feat1 + -1.4896894718240092 * feat2 + 0.4617347666369748 * feat3 + -1.0749361301684082 * feat4\n",
      "Classification model by me third label: y = -3.2059203901235445 + -0.1907834138450174 * feat1 + -0.2511513311674951 * feat2 + 2.3386948855760803 * feat3 + 3.5111402442879114 * feat4\n",
      "Accuracy score: 0.9666666666666667\n",
      "Classification error by me : 0.03333333333333333\n",
      "\n",
      "Classification model by me first label: y = -2.2334096466416793 + -1.5014861245167537 * feat1 + 1.7861518220499994 * feat2 + -2.00859440410755 * feat3 + -1.771738811151959 * feat4\n",
      "Classification model by me second label: y = -0.9163861648139064 + 0.19941689819503358 * feat1 + -1.0120570652792409 * feat2 + 0.9976986924050589 * feat3 + -1.2054281892223722 * feat4\n",
      "Classification model by me third label: y = -3.379156959885469 + 0.08160675203483621 * feat1 + -0.6710670680765275 * feat2 + 1.984448318553428 * feat3 + 3.6404961077954594 * feat4\n",
      "Accuracy score: 0.9666666666666667\n",
      "Classification error by me : 0.03333333333333333\n",
      "\n",
      "Other loss functions:\n",
      "Accuracy score (log loss by tool): 0.9666666666666667\n",
      "Accuracy score (hinge loss by tool): 0.9\n",
      "Accuracy score (squared hinge loss by tool): 0.9333333333333333\n"
     ]
    }
   ],
   "source": [
    "main_flowers()"
   ],
   "metadata": {
    "collapsed": false,
    "ExecuteTime": {
     "start_time": "2023-05-07T17:53:52.119411Z",
     "end_time": "2023-05-07T17:54:01.791732Z"
    }
   }
  },
  {
   "cell_type": "code",
   "execution_count": 17,
   "outputs": [],
   "source": [],
   "metadata": {
    "collapsed": false,
    "ExecuteTime": {
     "start_time": "2023-05-07T17:55:20.937745Z",
     "end_time": "2023-05-07T17:55:20.956235Z"
    }
   }
  }
 ],
 "metadata": {
  "kernelspec": {
   "display_name": "Python 3",
   "language": "python",
   "name": "python3"
  },
  "language_info": {
   "codemirror_mode": {
    "name": "ipython",
    "version": 2
   },
   "file_extension": ".py",
   "mimetype": "text/x-python",
   "name": "python",
   "nbconvert_exporter": "python",
   "pygments_lexer": "ipython2",
   "version": "2.7.6"
  }
 },
 "nbformat": 4,
 "nbformat_minor": 0
}
