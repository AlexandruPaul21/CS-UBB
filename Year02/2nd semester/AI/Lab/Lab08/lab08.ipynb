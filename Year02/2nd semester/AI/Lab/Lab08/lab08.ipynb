{
 "cells": [
  {
   "cell_type": "code",
   "execution_count": 12,
   "metadata": {
    "collapsed": true,
    "ExecuteTime": {
     "start_time": "2023-05-15T15:21:02.814449Z",
     "end_time": "2023-05-15T15:21:03.739513Z"
    }
   },
   "outputs": [],
   "source": [
    "from sklearn.datasets import load_breast_cancer\n",
    "from sklearn.datasets import load_iris\n",
    "from sklearn.preprocessing import StandardScaler\n",
    "from sklearn import linear_model\n",
    "import matplotlib.pyplot as plt\n",
    "import numpy as np\n",
    "import plotly.express as px\n",
    "from sklearn.linear_model import SGDClassifier\n",
    "from math import exp\n",
    "from random import random"
   ]
  },
  {
   "cell_type": "code",
   "execution_count": 13,
   "outputs": [],
   "source": [
    "def sigmoid(x):\n",
    "    return 1 / (1 + exp(-x))"
   ],
   "metadata": {
    "collapsed": false,
    "ExecuteTime": {
     "start_time": "2023-05-15T15:21:03.703298Z",
     "end_time": "2023-05-15T15:21:03.739860Z"
    }
   }
  },
  {
   "cell_type": "code",
   "execution_count": 14,
   "outputs": [],
   "source": [
    "from numpy import mean\n",
    "\n",
    "\n",
    "class MyLogisticRegression:\n",
    "    def __init__(self):\n",
    "        self.intercept_ = 0.0\n",
    "        self.coefficient_ = []\n",
    "        self.loss = []\n",
    "\n",
    "    def fit(self, x, y, learning_rate=0.001, no_epochs=1000):\n",
    "        self.coefficient_ = [random() for _ in range(len(x[0]) + 1)]\n",
    "        for epoch in range(no_epochs):\n",
    "            epoch_loss = []\n",
    "            for i in range(len(x)):\n",
    "                y_computed = sigmoid(self.evaluate(x[i], self.coefficient_))\n",
    "                crt_error = y_computed - y[i]\n",
    "                epoch_loss.append(crt_error)\n",
    "                for j in range(0, len(x[0])):\n",
    "                    self.coefficient_[j + 1] = self.coefficient_[j + 1] - learning_rate * crt_error * x[i][j]\n",
    "                self.coefficient_[0] = self.coefficient_[0] - learning_rate * crt_error * 1\n",
    "            self.loss.append(mean(epoch_loss))\n",
    "        self.intercept_ = self.coefficient_[0]\n",
    "        self.coefficient_ = self.coefficient_[1:]\n",
    "\n",
    "    def evaluate(self, xi, coefficient):\n",
    "        yi = coefficient[0]\n",
    "        for j in range(len(xi)):\n",
    "            yi += coefficient[j + 1] * xi[j]\n",
    "        return yi\n",
    "\n",
    "    def predict_one_sample(self, sample_features):\n",
    "        threshold = 0.5\n",
    "        coefficients = [self.intercept_] + [c for c in self.coefficient_]\n",
    "        computed_float_value = self.evaluate(sample_features, coefficients)\n",
    "        computed01_value = sigmoid(computed_float_value)\n",
    "        computed_label = 0 if computed01_value < threshold else 1\n",
    "        return computed_label\n",
    "\n",
    "    def predict(self, in_test):\n",
    "        computed_labels = [self.predict_one_sample(sample) for sample in in_test]\n",
    "        return computed_labels\n"
   ],
   "metadata": {
    "collapsed": false,
    "ExecuteTime": {
     "start_time": "2023-05-15T15:21:04.090576Z",
     "end_time": "2023-05-15T15:21:04.098187Z"
    }
   }
  },
  {
   "cell_type": "code",
   "execution_count": 15,
   "outputs": [],
   "source": [
    "class MyLogisticRegressionMultipleLabels:\n",
    "\n",
    "    def __init__(self):\n",
    "        self.intercept_ = []\n",
    "        self.coefficient_ = []\n",
    "\n",
    "    def fit_batch(self, x, y, learning_rate=0.0001, no_epochs=1000):\n",
    "        self.coefficient_ = []\n",
    "        self.intercept_ = []\n",
    "        labels = list(set(y))\n",
    "        for label in labels:\n",
    "            coefficient = [random() for _ in range(len(x[0]) + 1)]\n",
    "            for _ in range(no_epochs):\n",
    "                errors = [0] * len(coefficient)\n",
    "                for input, output in zip(x, y):\n",
    "                    y_computed = sigmoid(self.evaluate(input, coefficient))\n",
    "                    error = y_computed - 1 if output == label else y_computed\n",
    "                    for i, xi in enumerate([1] + list(input)):\n",
    "                        errors[i] += error * xi\n",
    "                for i in range(len(coefficient)):\n",
    "                    coefficient[i] = coefficient[i] - learning_rate * errors[i]\n",
    "            self.intercept_.append(coefficient[0])\n",
    "            self.coefficient_.append(coefficient[1:])\n",
    "\n",
    "    def fit(self, x, y, learning_rate=0.001, no_epochs=1000):\n",
    "        self.intercept_ = []\n",
    "        self.coefficient_ = []\n",
    "        labels = list(set(y))\n",
    "        for label in labels:\n",
    "            coefficient = [random() for _ in range(len(x[0]) + 1)]\n",
    "            for _ in range(no_epochs):\n",
    "                for input, output in zip(x, y):\n",
    "                    y_computed = sigmoid(self.evaluate(input, coefficient))\n",
    "                    error = y_computed - 1 if output == label else y_computed\n",
    "                    for j in range(len(x[0])):\n",
    "                        coefficient[j + 1] = coefficient[j + 1] - learning_rate * error * input[j]\n",
    "                    coefficient[0] = coefficient[0] - learning_rate * error\n",
    "            self.intercept_.append(coefficient[0])\n",
    "            self.coefficient_.append(coefficient[1:])\n",
    "\n",
    "    def evaluate(self, xi, coefficient):\n",
    "        yi = coefficient[0]\n",
    "        for j in range(len(xi)):\n",
    "            yi += coefficient[j + 1] * xi[j]\n",
    "        return yi\n",
    "\n",
    "    def predict_one_sample(self, sample_features):\n",
    "        predictions = []\n",
    "        for intercept, coefficient in zip(self.intercept_, self.coefficient_):\n",
    "            computed_value = self.evaluate(sample_features, [intercept] + coefficient)\n",
    "            predictions.append(sigmoid(computed_value))\n",
    "        return predictions.index(max(predictions))\n",
    "\n",
    "    def predict(self, in_test):\n",
    "        computed_labels = [self.predict_one_sample(sample) for sample in in_test]\n",
    "        return computed_labels"
   ],
   "metadata": {
    "collapsed": false,
    "ExecuteTime": {
     "start_time": "2023-05-15T15:21:04.757058Z",
     "end_time": "2023-05-15T15:21:04.763701Z"
    }
   }
  },
  {
   "cell_type": "code",
   "execution_count": 16,
   "outputs": [],
   "source": [
    "def load_data():\n",
    "    data = load_breast_cancer()\n",
    "    inputs = data['data']\n",
    "    outputs = data['target']\n",
    "    output_names = data['target_names']\n",
    "    feature_names = list(data['feature_names'])\n",
    "    feature1 = [feat[feature_names.index('mean radius')] for feat in inputs]\n",
    "    feature2 = [feat[feature_names.index('mean texture')] for feat in inputs]\n",
    "    inputs = [[feat[feature_names.index('mean radius')], feat[feature_names.index('mean texture')]] for feat in inputs]\n",
    "    return inputs, outputs, output_names, feature1, feature2, feature_names[:2]"
   ],
   "metadata": {
    "collapsed": false,
    "ExecuteTime": {
     "start_time": "2023-05-15T15:21:05.378546Z",
     "end_time": "2023-05-15T15:21:05.384040Z"
    }
   }
  },
  {
   "cell_type": "code",
   "execution_count": 17,
   "outputs": [],
   "source": [
    "def plot_data(inputs, outputs, output_names, feature_names, title=None):\n",
    "    labels = set(outputs)\n",
    "    no_data = len(inputs)\n",
    "    for crt_label in labels:\n",
    "        x = [inputs[i][0] for i in range(no_data) if outputs[i] == crt_label]\n",
    "        y = [inputs[i][1] for i in range(no_data) if outputs[i] == crt_label]\n",
    "        plt.scatter(x, y, label=output_names[crt_label])\n",
    "    plt.xlabel(feature_names[0])\n",
    "    plt.ylabel(feature_names[1])\n",
    "    plt.legend()\n",
    "    plt.title(title)\n",
    "    plt.show()\n",
    "\n",
    "\n",
    "def plot_histogram_feature(feature, variableName):\n",
    "    plt.hist(feature, 10)\n",
    "    plt.title('Histogram of ' + variableName)\n",
    "    plt.show()"
   ],
   "metadata": {
    "collapsed": false,
    "ExecuteTime": {
     "start_time": "2023-05-15T15:21:05.835043Z",
     "end_time": "2023-05-15T15:21:05.840969Z"
    }
   }
  },
  {
   "cell_type": "code",
   "execution_count": 18,
   "outputs": [],
   "source": [
    "def train_and_test(inputs, outputs):\n",
    "    indexes = [i for i in range(len(inputs))]\n",
    "    train_sample = np.random.choice(indexes, int(0.8 * len(inputs)), replace=False)\n",
    "    test_sample = [i for i in indexes if i not in train_sample]\n",
    "    train_inputs = [inputs[i] for i in train_sample]\n",
    "    train_outputs = [outputs[i] for i in train_sample]\n",
    "    test_inputs = [inputs[i] for i in test_sample]\n",
    "    test_outputs = [outputs[i] for i in test_sample]\n",
    "    return train_inputs, train_outputs, test_inputs, test_outputs\n",
    "\n",
    "\n",
    "def normalisation(train_data, test_data):\n",
    "    scaler = StandardScaler()\n",
    "    if not isinstance(train_data[0], list):\n",
    "        train_data = [[d] for d in train_data]\n",
    "        test_data = [[d] for d in test_data]\n",
    "        scaler.fit(train_data)\n",
    "        normalisedTrainData = scaler.transform(train_data)\n",
    "        normalisedTestData = scaler.transform(test_data)\n",
    "        normalisedTrainData = [el[0] for el in normalisedTrainData]\n",
    "        normalisedTestData = [el[0] for el in normalisedTestData]\n",
    "    else:\n",
    "        scaler.fit(train_data)\n",
    "        normalisedTrainData = scaler.transform(train_data)\n",
    "        normalisedTestData = scaler.transform(test_data)\n",
    "    return normalisedTrainData, normalisedTestData"
   ],
   "metadata": {
    "collapsed": false,
    "ExecuteTime": {
     "start_time": "2023-05-15T15:21:06.393728Z",
     "end_time": "2023-05-15T15:21:06.402929Z"
    }
   }
  },
  {
   "cell_type": "code",
   "execution_count": 19,
   "outputs": [],
   "source": [
    "def learn_by_tool(train_inputs, train_outputs, test_inputs, test_outputs):\n",
    "    classifier = linear_model.LogisticRegression()\n",
    "    classifier.fit(train_inputs, train_outputs)\n",
    "    w0, w1, w2 = classifier.intercept_[0], classifier.coef_[0][0], classifier.coef_[0][1]\n",
    "    print('Classification model by tool: y =', w0, '+', w1, '* feat1 +', w2, '* feat2')\n",
    "    computed_outputs = classifier.predict(test_inputs)\n",
    "    print(\"Accuracy score:\", classifier.score(test_inputs, test_outputs))\n",
    "    return computed_outputs\n",
    "\n",
    "\n",
    "def learn_by_me(train_inputs, train_outputs, test_inputs, test_outputs):\n",
    "    classifier = MyLogisticRegression()\n",
    "    classifier.fit(train_inputs, train_outputs)\n",
    "    plt.plot(classifier.loss, [index for index in range(len(classifier.loss))])\n",
    "    plt.show()\n",
    "    w0, w1, w2 = classifier.intercept_, classifier.coefficient_[0], classifier.coefficient_[1]\n",
    "    print('Classification model by me: y =', w0, '+', w1, '* feat1 +', w2, '* feat2')\n",
    "    computed_outputs = [1 if sigmoid(w0 + w1 * el[0] + w2 * el[1]) > 0.5 else 0 for el in test_inputs]\n",
    "    no_data = len(test_inputs)\n",
    "    accuracy = 0.0\n",
    "    for i in range(no_data):\n",
    "        if test_outputs[i] == computed_outputs[i]:\n",
    "            accuracy += 1\n",
    "    print(\"Accuracy score:\", accuracy / no_data)\n",
    "    return computed_outputs"
   ],
   "metadata": {
    "collapsed": false,
    "ExecuteTime": {
     "start_time": "2023-05-15T15:21:07.015879Z",
     "end_time": "2023-05-15T15:21:07.022586Z"
    }
   }
  },
  {
   "cell_type": "code",
   "execution_count": 20,
   "outputs": [],
   "source": [
    "def plot_predictions(inputs, real_outputs, computed_outputs, label_names, feature_names, title=None):\n",
    "    labels = list(set(real_outputs))\n",
    "    no_data = len(inputs)\n",
    "    for crt_label in labels:\n",
    "        x = [inputs[i][0] for i in range(no_data) if real_outputs[i] == crt_label and computed_outputs[i] == crt_label]\n",
    "        y = [inputs[i][1] for i in range(no_data) if real_outputs[i] == crt_label and computed_outputs[i] == crt_label]\n",
    "        plt.scatter(x, y, label=label_names[crt_label] + ' (correct)')\n",
    "    for crt_label in labels:\n",
    "        x = [inputs[i][0] for i in range(no_data) if real_outputs[i] == crt_label and computed_outputs[i] != crt_label]\n",
    "        y = [inputs[i][1] for i in range(no_data) if real_outputs[i] == crt_label and computed_outputs[i] != crt_label]\n",
    "        plt.scatter(x, y, label=label_names[crt_label] + ' (incorrect)')\n",
    "    plt.xlabel(feature_names[0])\n",
    "    plt.ylabel(feature_names[1])\n",
    "    plt.title(title)\n",
    "    plt.legend()\n",
    "    plt.show()\n",
    "\n",
    "\n",
    "def calculate_performance(computed_outputs, test_outputs, method):\n",
    "    error = 0.0\n",
    "    for t1, t2 in zip(computed_outputs, test_outputs):\n",
    "        if t1 != t2:\n",
    "            error += 1\n",
    "    error = error / len(test_outputs)\n",
    "    print('Classification error by', method, ':', error)\n"
   ],
   "metadata": {
    "collapsed": false,
    "ExecuteTime": {
     "start_time": "2023-05-15T15:21:07.527784Z",
     "end_time": "2023-05-15T15:21:07.536270Z"
    }
   }
  },
  {
   "cell_type": "code",
   "execution_count": 21,
   "outputs": [],
   "source": [
    "def load_data_flowers():\n",
    "    data = load_iris()\n",
    "    inputs = data['data']\n",
    "    outputs = data['target']\n",
    "    outputs_name = data['target_names']\n",
    "    feature_names = list(data['feature_names'])\n",
    "    feature1 = [feat[feature_names.index('sepal length (cm)')] for feat in inputs]\n",
    "    feature2 = [feat[feature_names.index('sepal width (cm)')] for feat in inputs]\n",
    "    feature3 = [feat[feature_names.index('petal length (cm)')] for feat in inputs]\n",
    "    feature4 = [feat[feature_names.index('petal width (cm)')] for feat in inputs]\n",
    "    inputs = [[feat[feature_names.index('sepal length (cm)')],\n",
    "               feat[feature_names.index('sepal width (cm)')],\n",
    "               feat[feature_names.index('petal length (cm)')],\n",
    "               feat[feature_names.index('petal width (cm)')]] for feat in inputs]\n",
    "    return inputs, outputs, outputs_name, feature1, feature2, feature3, feature4, feature_names\n",
    "\n",
    "\n",
    "def plot_data_four_features(inputs, outputs, output_names, feature_names, title=None):\n",
    "    x = [i[0] for i in inputs]\n",
    "    y = [i[1] for i in inputs]\n",
    "    z = [i[2] for i in inputs]\n",
    "    v = [i[3] for i in inputs]\n",
    "    figure = px.scatter_3d(x=x, y=y, z=z, symbol=v, color=outputs, title=title,\n",
    "                           labels=dict(x=feature_names[0], y=feature_names[1], z=feature_names[2],\n",
    "                                       symbol=feature_names[3], color=\"Type\"))\n",
    "    figure.update_layout(legend=dict(orientation=\"v\", yanchor='top', xanchor=\"right\"))\n",
    "    figure.show()"
   ],
   "metadata": {
    "collapsed": false,
    "ExecuteTime": {
     "start_time": "2023-05-15T15:21:08.074170Z",
     "end_time": "2023-05-15T15:21:08.081536Z"
    }
   }
  },
  {
   "cell_type": "code",
   "execution_count": 22,
   "outputs": [],
   "source": [
    "def learn_by_tool_multi_label(train_inputs, train_outputs, test_inputs, test_outputs):\n",
    "    classifier = linear_model.LogisticRegression()\n",
    "    classifier.fit(train_inputs, train_outputs)\n",
    "    w0, w1, w2, w3, w4 = classifier.intercept_[0], classifier.coef_[0][0], classifier.coef_[0][1], classifier.coef_[0][\n",
    "        2], classifier.coef_[0][3]\n",
    "    print('Classification model by tool first label: y =', w0, '+', w1, '* feat1 +', w2, '* feat2 +', w3, '* feat3 +',\n",
    "          w4, '* feat4')\n",
    "    w0, w1, w2, w3, w4 = classifier.intercept_[1], classifier.coef_[1][0], classifier.coef_[1][1], classifier.coef_[1][\n",
    "        2], classifier.coef_[1][3]\n",
    "    print('Classification model by tool second label: y =', w0, '+', w1, '* feat1 +', w2, '* feat2 +', w3, '* feat3 +',\n",
    "          w4, '* feat4')\n",
    "    w0, w1, w2, w3, w4 = classifier.intercept_[2], classifier.coef_[2][0], classifier.coef_[2][1], classifier.coef_[2][\n",
    "        2], classifier.coef_[2][3]\n",
    "    print('Classification model by tool third label: y =', w0, '+', w1, '* feat1 +', w2, '* feat2 +', w3, '* feat3 +',\n",
    "          w4, '* feat4')\n",
    "    computed_outputs = classifier.predict(test_inputs)\n",
    "    print(\"Accuracy score:\", classifier.score(test_inputs, test_outputs))\n",
    "    return computed_outputs\n",
    "\n",
    "\n",
    "def learn_by_me_multi_label(train_inputs, train_outputs, test_inputs, test_outputs):\n",
    "    classifier = MyLogisticRegressionMultipleLabels()\n",
    "    classifier.fit_batch(train_inputs, train_outputs)\n",
    "    w0, w1, w2, w3, w4 = classifier.intercept_[0], classifier.coefficient_[0][0], classifier.coefficient_[\n",
    "        0][1], classifier.coefficient_[0][2], classifier.coefficient_[0][3]\n",
    "    print('Classification model by me first label: y =', w0, '+', w1, '* feat1 +', w2, '* feat2 +', w3, '* feat3 +',\n",
    "          w4, '* feat4')\n",
    "    w0, w1, w2, w3, w4 = classifier.intercept_[1], classifier.coefficient_[1][0], classifier.coefficient_[\n",
    "        1][1], classifier.coefficient_[1][2], classifier.coefficient_[1][3]\n",
    "    print('Classification model by me second label: y =', w0, '+', w1, '* feat1 +', w2, '* feat2 +', w3, '* feat3 +',\n",
    "          w4, '* feat4')\n",
    "    w0, w1, w2, w3, w4 = classifier.intercept_[2], classifier.coefficient_[2][0], classifier.coefficient_[\n",
    "        2][1], classifier.coefficient_[2][2], classifier.coefficient_[2][3]\n",
    "    print('Classification model by me third label: y =', w0, '+', w1, '* feat1 +', w2, '* feat2 +', w3, '* feat3 +',\n",
    "          w4, '* feat4')\n",
    "    computed_outputs = classifier.predict(test_inputs)\n",
    "    no_data = len(test_inputs)\n",
    "    accuracy = 0.0\n",
    "    for i in range(no_data):\n",
    "        if test_outputs[i] == computed_outputs[i]:\n",
    "            accuracy += 1\n",
    "    print(\"Accuracy score:\", accuracy / no_data)\n",
    "    return computed_outputs"
   ],
   "metadata": {
    "collapsed": false,
    "ExecuteTime": {
     "start_time": "2023-05-15T15:21:08.599156Z",
     "end_time": "2023-05-15T15:21:08.603886Z"
    }
   }
  },
  {
   "cell_type": "code",
   "execution_count": 23,
   "outputs": [],
   "source": [
    "def cross_validation(inputs, outputs):\n",
    "    indexes = [i for i in range(len(inputs))]\n",
    "    first_set_index = []\n",
    "    second_set_index = []\n",
    "    third_set_index = []\n",
    "    forth_set_index = []\n",
    "    fifth_set_index = []\n",
    "    for i in range(5):\n",
    "        first_set_index = np.random.choice(indexes, int(0.2 * len(inputs)), replace=False)\n",
    "        used = list(first_set_index)\n",
    "        second_set_index = np.random.choice([i for i in indexes if i not in used], int(0.2 * len(inputs)),\n",
    "                                            replace=False)\n",
    "        used += list(second_set_index)\n",
    "        third_set_index = np.random.choice([i for i in indexes if i not in used], int(0.20 * len(inputs)),\n",
    "                                           replace=False)\n",
    "        used += list(third_set_index)\n",
    "        forth_set_index = np.random.choice([i for i in indexes if i not in used], int(0.20 * len(inputs)),\n",
    "                                           replace=False)\n",
    "        used += list(forth_set_index)\n",
    "        fifth_set_index = [i for i in indexes if i not in used]\n",
    "    first_set = {\n",
    "        'inputs': [inputs[i] for i in first_set_index],\n",
    "        'outputs': [outputs[i] for i in first_set_index]\n",
    "    }\n",
    "    second_set = {\n",
    "        'inputs': [inputs[i] for i in second_set_index],\n",
    "        'outputs': [outputs[i] for i in second_set_index]\n",
    "    }\n",
    "    third_set = {\n",
    "        'inputs': [inputs[i] for i in third_set_index],\n",
    "        'outputs': [outputs[i] for i in third_set_index]\n",
    "    }\n",
    "    forth_set = {\n",
    "        'inputs': [inputs[i] for i in forth_set_index],\n",
    "        'outputs': [outputs[i] for i in forth_set_index]\n",
    "    }\n",
    "    fifth_set = {\n",
    "        'inputs': [inputs[i] for i in fifth_set_index],\n",
    "        'outputs': [outputs[i] for i in fifth_set_index]\n",
    "    }\n",
    "    return [first_set, second_set, third_set, forth_set, fifth_set]\n",
    "\n",
    "\n",
    "def other_loss_function(train_inputs, train_outputs, test_inputs, test_outputs):\n",
    "    classifier = SGDClassifier(loss='log_loss')\n",
    "    classifier.fit(train_inputs, train_outputs)\n",
    "    print('Accuracy score (log loss by tool):', classifier.score(test_inputs, test_outputs))\n",
    "    classifier = SGDClassifier(loss='hinge')\n",
    "    classifier.fit(train_inputs, train_outputs)\n",
    "    print('Accuracy score (hinge loss by tool):', classifier.score(test_inputs, test_outputs))\n",
    "    classifier = SGDClassifier(loss='squared_hinge')\n",
    "    classifier.fit(train_inputs, train_outputs)\n",
    "    print('Accuracy score (squared hinge loss by tool):', classifier.score(test_inputs, test_outputs))\n"
   ],
   "metadata": {
    "collapsed": false,
    "ExecuteTime": {
     "start_time": "2023-05-15T15:21:09.125983Z",
     "end_time": "2023-05-15T15:21:09.132728Z"
    }
   }
  },
  {
   "cell_type": "code",
   "execution_count": 24,
   "outputs": [],
   "source": [
    "def main_breast_cancer():\n",
    "    print(\"Two classes:\")\n",
    "    inputs, outputs, outputNames, feature1, feature2, featureNames = load_data()\n",
    "    plot_data(inputs, outputs, outputNames, featureNames, \"Initial data\")\n",
    "    plot_histogram_feature(feature1, featureNames[0])\n",
    "    plot_histogram_feature(feature2, featureNames[1])\n",
    "    plot_histogram_feature(outputs, 'Cancer class')\n",
    "    trainInputs, trainOutputs, testInputs, testOutputs = train_and_test(inputs, outputs)\n",
    "    trainInputs, testInputs = normalisation(trainInputs, testInputs)\n",
    "    plot_data(trainInputs, trainOutputs, outputNames, featureNames, \"Normalised data\")\n",
    "    computedTestOutputs = learn_by_tool(trainInputs, trainOutputs, testInputs, testOutputs)\n",
    "    plot_predictions(testInputs, testOutputs, computedTestOutputs, outputNames, featureNames, \"Results by tool\")\n",
    "    calculate_performance(computedTestOutputs, testOutputs, \"tool\")\n",
    "    print()\n",
    "    computedTestOutputs = learn_by_me(trainInputs, trainOutputs, testInputs, testOutputs)\n",
    "    plot_predictions(testInputs, testOutputs, computedTestOutputs, outputNames, featureNames, \"Results by me\")\n",
    "    calculate_performance(computedTestOutputs, testOutputs, \"me\")\n",
    "\n",
    "def main_flowers():\n",
    "    inputs, outputs, outputNames, feature1, feature2, feature3, feature4, featureNames = load_data_flowers()\n",
    "    plot_data_four_features(inputs, outputs, outputNames, featureNames, \"Initial data for flowers\")\n",
    "    plot_histogram_feature(feature1, featureNames[0])\n",
    "    plot_histogram_feature(feature2, featureNames[1])\n",
    "    plot_histogram_feature(feature3, featureNames[2])\n",
    "    plot_histogram_feature(feature4, featureNames[3])\n",
    "    plot_histogram_feature(outputs, 'Flowers class')\n",
    "    trainInputs, trainOutputs, testInputs, testOutputs = train_and_test(inputs, outputs)\n",
    "    trainInputs, testInputs = normalisation(trainInputs, testInputs)\n",
    "    plot_data_four_features(trainInputs, trainOutputs, outputNames, featureNames, \"Normalised flowers' data\")\n",
    "    computedTestOutputs = learn_by_tool_multi_label(trainInputs, trainOutputs, testInputs, testOutputs)\n",
    "    plot_predictions(testInputs, testOutputs, computedTestOutputs, outputNames, featureNames[:2], \"Results by tool\")\n",
    "    calculate_performance(computedTestOutputs, testOutputs, \"tool\")\n",
    "    print()\n",
    "    computedTestOutputs = learn_by_me_multi_label(trainInputs, trainOutputs, testInputs, testOutputs)\n",
    "    plot_predictions(testInputs, testOutputs, computedTestOutputs, outputNames, featureNames[:2], \"Results by me\")\n",
    "    calculate_performance(computedTestOutputs, testOutputs, \"me\")\n",
    "    print()\n",
    "    print(\"Cross validation:\")\n",
    "    data = cross_validation(inputs, outputs)\n",
    "    for index in range(5):\n",
    "        testInputs = data[index]['inputs']\n",
    "        testOutputs = data[index]['outputs']\n",
    "        trainInputs = []\n",
    "        trainOutputs = []\n",
    "        for dictionary in data[:index] + data[index + 1:]:\n",
    "            trainInputs += dictionary['inputs']\n",
    "            trainOutputs += dictionary['outputs']\n",
    "        trainInputs, testInputs = normalisation(trainInputs, testInputs)\n",
    "        computedTestOutputs = learn_by_me_multi_label(trainInputs, trainOutputs, testInputs, testOutputs)\n",
    "        calculate_performance(computedTestOutputs, testOutputs, \"me\")\n",
    "        print()\n",
    "    print(\"Other loss functions:\")\n",
    "    trainInputs, trainOutputs, testInputs, testOutputs = train_and_test(inputs, outputs)\n",
    "    trainInputs, testInputs = normalisation(trainInputs, testInputs)\n",
    "    other_loss_function(trainInputs, trainOutputs, testInputs, testOutputs)\n"
   ],
   "metadata": {
    "collapsed": false,
    "ExecuteTime": {
     "start_time": "2023-05-15T15:21:09.740908Z",
     "end_time": "2023-05-15T15:21:09.742649Z"
    }
   }
  },
  {
   "cell_type": "code",
   "execution_count": 25,
   "outputs": [
    {
     "name": "stdout",
     "output_type": "stream",
     "text": [
      "Two classes:\n"
     ]
    },
    {
     "data": {
      "text/plain": "<Figure size 640x480 with 1 Axes>",
      "image/png": "[encoded data removed]"
     },
     "metadata": {},
     "output_type": "display_data"
    },
    {
     "data": {
      "text/plain": "<Figure size 640x480 with 1 Axes>",
      "image/png": "[encoded data removed]"
     },
     "metadata": {},
     "output_type": "display_data"
    },
    {
     "data": {
      "text/plain": "<Figure size 640x480 with 1 Axes>",
      "image/png": "[encoded data removed]"
     },
     "metadata": {},
     "output_type": "display_data"
    },
    {
     "data": {
      "text/plain": "<Figure size 640x480 with 1 Axes>",
      "image/png": "[encoded data removed]"
     },
     "metadata": {},
     "output_type": "display_data"
    },
    {
     "data": {
      "text/plain": "<Figure size 640x480 with 1 Axes>",
      "image/png": "[encoded data removed]"
     },
     "metadata": {},
     "output_type": "display_data"
    },
    {
     "name": "stdout",
     "output_type": "stream",
     "text": [
      "Classification model by tool: y = 0.627783095941894 + -3.5091410430856462 * feat1 + -0.8424375480937997 * feat2\n",
      "Accuracy score: 0.8771929824561403\n"
     ]
    },
    {
     "data": {
      "text/plain": "<Figure size 640x480 with 1 Axes>",
      "image/png": "[encoded data removed]"
     },
     "metadata": {},
     "output_type": "display_data"
    },
    {
     "name": "stdout",
     "output_type": "stream",
     "text": [
      "Classification error by tool : 0.12280701754385964\n",
      "\n"
     ]
    },
    {
     "data": {
      "text/plain": "<Figure size 640x480 with 1 Axes>",
      "image/png": "[encoded data removed]"
     },
     "metadata": {},
     "output_type": "display_data"
    },
    {
     "name": "stdout",
     "output_type": "stream",
     "text": [
      "Classification model by me: y = 0.630905503429743 + -4.09358299951499 * feat1 + -0.9311116517663149 * feat2\n",
      "Accuracy score: 0.8859649122807017\n"
     ]
    },
    {
     "data": {
      "text/plain": "<Figure size 640x480 with 1 Axes>",
      "image/png": "[encoded data removed]"
     },
     "metadata": {},
     "output_type": "display_data"
    },
    {
     "name": "stdout",
     "output_type": "stream",
     "text": [
      "Classification error by me : 0.11403508771929824\n"
     ]
    }
   ],
   "source": [
    "main_breast_cancer()"
   ],
   "metadata": {
    "collapsed": false,
    "ExecuteTime": {
     "start_time": "2023-05-15T15:21:10.264864Z",
     "end_time": "2023-05-15T15:21:12.524410Z"
    }
   }
  },
  {
   "cell_type": "code",
   "execution_count": 39,
   "outputs": [
    {
     "data": {
      "application/vnd.plotly.v1+json": {
       "data": [
        {
         "hovertemplate": "petal width (cm)=0.2<br>sepal length (cm)=%{x}<br>sepal width (cm)=%{y}<br>petal length (cm)=%{z}<br>Type=%{marker.color}<extra></extra>",
         "legendgroup": "0.2",
         "marker": {
          "color": [
           0,
           0,
           0,
           0,
           0,
           0,
           0,
           0,
           0,
           0,
           0,
           0,
           0,
           0,
           0,
           0,
           0,
           0,
           0,
           0,
           0,
           0,
           0,
           0,
           0,
           0,
           0,
           0,
           0
          ],
          "coloraxis": "coloraxis",
          "symbol": "circle"
         },
         "mode": "markers",
         "name": "0.2",
         "scene": "scene",
         "showlegend": true,
         "x": [
          5.1,
          4.9,
          4.7,
          4.6,
          5.0,
          5.0,
          4.4,
          5.4,
          4.8,
          5.8,
          5.4,
          4.6,
          4.8,
          5.0,
          5.2,
          5.2,
          4.7,
          4.8,
          5.5,
          4.9,
          5.0,
          5.5,
          4.4,
          5.1,
          4.4,
          5.1,
          4.6,
          5.3,
          5.0
         ],
         "y": [
          3.5,
          3.0,
          3.2,
          3.1,
          3.6,
          3.4,
          2.9,
          3.7,
          3.4,
          4.0,
          3.4,
          3.6,
          3.4,
          3.0,
          3.5,
          3.4,
          3.2,
          3.1,
          4.2,
          3.1,
          3.2,
          3.5,
          3.0,
          3.4,
          3.2,
          3.8,
          3.2,
          3.7,
          3.3
         ],
         "z": [
          1.4,
          1.4,
          1.3,
          1.5,
          1.4,
          1.5,
          1.4,
          1.5,
          1.6,
          1.2,
          1.7,
          1.0,
          1.9,
          1.6,
          1.5,
          1.4,
          1.6,
          1.6,
          1.4,
          1.5,
          1.2,
          1.3,
          1.3,
          1.5,
          1.3,
          1.6,
          1.4,
          1.5,
          1.4
         ],
         "type": "scatter3d"
        },
        {
         "hovertemplate": "petal width (cm)=0.4<br>sepal length (cm)=%{x}<br>sepal width (cm)=%{y}<br>petal length (cm)=%{z}<br>Type=%{marker.color}<extra></extra>",
         "legendgroup": "0.4",
         "marker": {
          "color": [
           0,
           0,
           0,
           0,
           0,
           0,
           0
          ],
          "coloraxis": "coloraxis",
          "symbol": "diamond"
         },
         "mode": "markers",
         "name": "0.4",
         "scene": "scene",
         "showlegend": true,
         "x": [
          5.4,
          5.7,
          5.4,
          5.1,
          5.0,
          5.4,
          5.1
         ],
         "y": [
          3.9,
          4.4,
          3.9,
          3.7,
          3.4,
          3.4,
          3.8
         ],
         "z": [
          1.7,
          1.5,
          1.3,
          1.5,
          1.6,
          1.5,
          1.9
         ],
         "type": "scatter3d"
        },
        {
         "hovertemplate": "petal width (cm)=0.3<br>sepal length (cm)=%{x}<br>sepal width (cm)=%{y}<br>petal length (cm)=%{z}<br>Type=%{marker.color}<extra></extra>",
         "legendgroup": "0.3",
         "marker": {
          "color": [
           0,
           0,
           0,
           0,
           0,
           0,
           0
          ],
          "coloraxis": "coloraxis",
          "symbol": "square"
         },
         "mode": "markers",
         "name": "0.3",
         "scene": "scene",
         "showlegend": true,
         "x": [
          4.6,
          5.1,
          5.7,
          5.1,
          5.0,
          4.5,
          4.8
         ],
         "y": [
          3.4,
          3.5,
          3.8,
          3.8,
          3.5,
          2.3,
          3.0
         ],
         "z": [
          1.4,
          1.4,
          1.7,
          1.5,
          1.3,
          1.3,
          1.4
         ],
         "type": "scatter3d"
        },
        {
         "hovertemplate": "petal width (cm)=0.1<br>sepal length (cm)=%{x}<br>sepal width (cm)=%{y}<br>petal length (cm)=%{z}<br>Type=%{marker.color}<extra></extra>",
         "legendgroup": "0.1",
         "marker": {
          "color": [
           0,
           0,
           0,
           0,
           0
          ],
          "coloraxis": "coloraxis",
          "symbol": "x"
         },
         "mode": "markers",
         "name": "0.1",
         "scene": "scene",
         "showlegend": true,
         "x": [
          4.9,
          4.8,
          4.3,
          5.2,
          4.9
         ],
         "y": [
          3.1,
          3.0,
          3.0,
          4.1,
          3.6
         ],
         "z": [
          1.5,
          1.4,
          1.1,
          1.5,
          1.4
         ],
         "type": "scatter3d"
        },
        {
         "hovertemplate": "petal width (cm)=0.5<br>sepal length (cm)=%{x}<br>sepal width (cm)=%{y}<br>petal length (cm)=%{z}<br>Type=%{marker.color}<extra></extra>",
         "legendgroup": "0.5",
         "marker": {
          "color": [
           0
          ],
          "coloraxis": "coloraxis",
          "symbol": "cross"
         },
         "mode": "markers",
         "name": "0.5",
         "scene": "scene",
         "showlegend": true,
         "x": [
          5.1
         ],
         "y": [
          3.3
         ],
         "z": [
          1.7
         ],
         "type": "scatter3d"
        },
        {
         "hovertemplate": "petal width (cm)=0.6<br>sepal length (cm)=%{x}<br>sepal width (cm)=%{y}<br>petal length (cm)=%{z}<br>Type=%{marker.color}<extra></extra>",
         "legendgroup": "0.6",
         "marker": {
          "color": [
           0
          ],
          "coloraxis": "coloraxis",
          "symbol": "circle"
         },
         "mode": "markers",
         "name": "0.6",
         "scene": "scene",
         "showlegend": true,
         "x": [
          5.0
         ],
         "y": [
          3.5
         ],
         "z": [
          1.6
         ],
         "type": "scatter3d"
        },
        {
         "hovertemplate": "petal width (cm)=1.4<br>sepal length (cm)=%{x}<br>sepal width (cm)=%{y}<br>petal length (cm)=%{z}<br>Type=%{marker.color}<extra></extra>",
         "legendgroup": "1.4",
         "marker": {
          "color": [
           1,
           1,
           1,
           1,
           1,
           1,
           1,
           2
          ],
          "coloraxis": "coloraxis",
          "symbol": "diamond"
         },
         "mode": "markers",
         "name": "1.4",
         "scene": "scene",
         "showlegend": true,
         "x": [
          7.0,
          5.2,
          6.1,
          6.7,
          6.6,
          6.8,
          6.1,
          6.1
         ],
         "y": [
          3.2,
          2.7,
          2.9,
          3.1,
          3.0,
          2.8,
          3.0,
          2.6
         ],
         "z": [
          4.7,
          3.9,
          4.7,
          4.4,
          4.4,
          4.8,
          4.6,
          5.6
         ],
         "type": "scatter3d"
        },
        {
         "hovertemplate": "petal width (cm)=1.5<br>sepal length (cm)=%{x}<br>sepal width (cm)=%{y}<br>petal length (cm)=%{z}<br>Type=%{marker.color}<extra></extra>",
         "legendgroup": "1.5",
         "marker": {
          "color": [
           1,
           1,
           1,
           1,
           1,
           1,
           1,
           1,
           1,
           1,
           2,
           2
          ],
          "coloraxis": "coloraxis",
          "symbol": "square"
         },
         "mode": "markers",
         "name": "1.5",
         "scene": "scene",
         "showlegend": true,
         "x": [
          6.4,
          6.9,
          6.5,
          5.9,
          5.6,
          6.2,
          6.3,
          6.0,
          5.4,
          6.7,
          6.0,
          6.3
         ],
         "y": [
          3.2,
          3.1,
          2.8,
          3.0,
          3.0,
          2.2,
          2.5,
          2.9,
          3.0,
          3.1,
          2.2,
          2.8
         ],
         "z": [
          4.5,
          4.9,
          4.6,
          4.2,
          4.5,
          4.5,
          4.9,
          4.5,
          4.5,
          4.7,
          5.0,
          5.1
         ],
         "type": "scatter3d"
        },
        {
         "hovertemplate": "petal width (cm)=1.3<br>sepal length (cm)=%{x}<br>sepal width (cm)=%{y}<br>petal length (cm)=%{z}<br>Type=%{marker.color}<extra></extra>",
         "legendgroup": "1.3",
         "marker": {
          "color": [
           1,
           1,
           1,
           1,
           1,
           1,
           1,
           1,
           1,
           1,
           1,
           1,
           1
          ],
          "coloraxis": "coloraxis",
          "symbol": "x"
         },
         "mode": "markers",
         "name": "1.3",
         "scene": "scene",
         "showlegend": true,
         "x": [
          5.5,
          5.7,
          6.6,
          5.6,
          6.1,
          6.4,
          6.3,
          5.6,
          5.5,
          5.6,
          5.7,
          6.2,
          5.7
         ],
         "y": [
          2.3,
          2.8,
          2.9,
          2.9,
          2.8,
          2.9,
          2.3,
          3.0,
          2.5,
          2.7,
          2.9,
          2.9,
          2.8
         ],
         "z": [
          4.0,
          4.5,
          4.6,
          3.6,
          4.0,
          4.3,
          4.4,
          4.1,
          4.0,
          4.2,
          4.2,
          4.3,
          4.1
         ],
         "type": "scatter3d"
        },
        {
         "hovertemplate": "petal width (cm)=1.6<br>sepal length (cm)=%{x}<br>sepal width (cm)=%{y}<br>petal length (cm)=%{z}<br>Type=%{marker.color}<extra></extra>",
         "legendgroup": "1.6",
         "marker": {
          "color": [
           1,
           1,
           1,
           2
          ],
          "coloraxis": "coloraxis",
          "symbol": "cross"
         },
         "mode": "markers",
         "name": "1.6",
         "scene": "scene",
         "showlegend": true,
         "x": [
          6.3,
          6.0,
          6.0,
          7.2
         ],
         "y": [
          3.3,
          2.7,
          3.4,
          3.0
         ],
         "z": [
          4.7,
          5.1,
          4.5,
          5.8
         ],
         "type": "scatter3d"
        },
        {
         "hovertemplate": "petal width (cm)=1.0<br>sepal length (cm)=%{x}<br>sepal width (cm)=%{y}<br>petal length (cm)=%{z}<br>Type=%{marker.color}<extra></extra>",
         "legendgroup": "1.0",
         "marker": {
          "color": [
           1,
           1,
           1,
           1,
           1,
           1,
           1
          ],
          "coloraxis": "coloraxis",
          "symbol": "circle"
         },
         "mode": "markers",
         "name": "1.0",
         "scene": "scene",
         "showlegend": true,
         "x": [
          4.9,
          5.0,
          6.0,
          5.8,
          5.7,
          5.5,
          5.0
         ],
         "y": [
          2.4,
          2.0,
          2.2,
          2.7,
          2.6,
          2.4,
          2.3
         ],
         "z": [
          3.3,
          3.5,
          4.0,
          4.1,
          3.5,
          3.7,
          3.3
         ],
         "type": "scatter3d"
        },
        {
         "hovertemplate": "petal width (cm)=1.1<br>sepal length (cm)=%{x}<br>sepal width (cm)=%{y}<br>petal length (cm)=%{z}<br>Type=%{marker.color}<extra></extra>",
         "legendgroup": "1.1",
         "marker": {
          "color": [
           1,
           1,
           1
          ],
          "coloraxis": "coloraxis",
          "symbol": "diamond"
         },
         "mode": "markers",
         "name": "1.1",
         "scene": "scene",
         "showlegend": true,
         "x": [
          5.6,
          5.5,
          5.1
         ],
         "y": [
          2.5,
          2.4,
          2.5
         ],
         "z": [
          3.9,
          3.8,
          3.0
         ],
         "type": "scatter3d"
        },
        {
         "hovertemplate": "petal width (cm)=1.8<br>sepal length (cm)=%{x}<br>sepal width (cm)=%{y}<br>petal length (cm)=%{z}<br>Type=%{marker.color}<extra></extra>",
         "legendgroup": "1.8",
         "marker": {
          "color": [
           1,
           2,
           2,
           2,
           2,
           2,
           2,
           2,
           2,
           2,
           2,
           2
          ],
          "coloraxis": "coloraxis",
          "symbol": "square"
         },
         "mode": "markers",
         "name": "1.8",
         "scene": "scene",
         "showlegend": true,
         "x": [
          5.9,
          6.3,
          7.3,
          6.7,
          6.5,
          6.3,
          7.2,
          6.2,
          6.1,
          6.4,
          6.0,
          5.9
         ],
         "y": [
          3.2,
          2.9,
          2.9,
          2.5,
          3.0,
          2.7,
          3.2,
          2.8,
          3.0,
          3.1,
          3.0,
          3.0
         ],
         "z": [
          4.8,
          5.6,
          6.3,
          5.8,
          5.5,
          4.9,
          6.0,
          4.8,
          4.9,
          5.5,
          4.8,
          5.1
         ],
         "type": "scatter3d"
        },
        {
         "hovertemplate": "petal width (cm)=1.2<br>sepal length (cm)=%{x}<br>sepal width (cm)=%{y}<br>petal length (cm)=%{z}<br>Type=%{marker.color}<extra></extra>",
         "legendgroup": "1.2",
         "marker": {
          "color": [
           1,
           1,
           1,
           1,
           1
          ],
          "coloraxis": "coloraxis",
          "symbol": "x"
         },
         "mode": "markers",
         "name": "1.2",
         "scene": "scene",
         "showlegend": true,
         "x": [
          6.1,
          5.8,
          5.5,
          5.8,
          5.7
         ],
         "y": [
          2.8,
          2.7,
          2.6,
          2.6,
          3.0
         ],
         "z": [
          4.7,
          3.9,
          4.4,
          4.0,
          4.2
         ],
         "type": "scatter3d"
        },
        {
         "hovertemplate": "petal width (cm)=1.7<br>sepal length (cm)=%{x}<br>sepal width (cm)=%{y}<br>petal length (cm)=%{z}<br>Type=%{marker.color}<extra></extra>",
         "legendgroup": "1.7",
         "marker": {
          "color": [
           1,
           2
          ],
          "coloraxis": "coloraxis",
          "symbol": "cross"
         },
         "mode": "markers",
         "name": "1.7",
         "scene": "scene",
         "showlegend": true,
         "x": [
          6.7,
          4.9
         ],
         "y": [
          3.0,
          2.5
         ],
         "z": [
          5.0,
          4.5
         ],
         "type": "scatter3d"
        },
        {
         "hovertemplate": "petal width (cm)=2.5<br>sepal length (cm)=%{x}<br>sepal width (cm)=%{y}<br>petal length (cm)=%{z}<br>Type=%{marker.color}<extra></extra>",
         "legendgroup": "2.5",
         "marker": {
          "color": [
           2,
           2,
           2
          ],
          "coloraxis": "coloraxis",
          "symbol": "circle"
         },
         "mode": "markers",
         "name": "2.5",
         "scene": "scene",
         "showlegend": true,
         "x": [
          6.3,
          7.2,
          6.7
         ],
         "y": [
          3.3,
          3.6,
          3.3
         ],
         "z": [
          6.0,
          6.1,
          5.7
         ],
         "type": "scatter3d"
        },
        {
         "hovertemplate": "petal width (cm)=1.9<br>sepal length (cm)=%{x}<br>sepal width (cm)=%{y}<br>petal length (cm)=%{z}<br>Type=%{marker.color}<extra></extra>",
         "legendgroup": "1.9",
         "marker": {
          "color": [
           2,
           2,
           2,
           2,
           2
          ],
          "coloraxis": "coloraxis",
          "symbol": "diamond"
         },
         "mode": "markers",
         "name": "1.9",
         "scene": "scene",
         "showlegend": true,
         "x": [
          5.8,
          6.4,
          7.4,
          5.8,
          6.3
         ],
         "y": [
          2.7,
          2.7,
          2.8,
          2.7,
          2.5
         ],
         "z": [
          5.1,
          5.3,
          6.1,
          5.1,
          5.0
         ],
         "type": "scatter3d"
        },
        {
         "hovertemplate": "petal width (cm)=2.1<br>sepal length (cm)=%{x}<br>sepal width (cm)=%{y}<br>petal length (cm)=%{z}<br>Type=%{marker.color}<extra></extra>",
         "legendgroup": "2.1",
         "marker": {
          "color": [
           2,
           2,
           2,
           2,
           2,
           2
          ],
          "coloraxis": "coloraxis",
          "symbol": "square"
         },
         "mode": "markers",
         "name": "2.1",
         "scene": "scene",
         "showlegend": true,
         "x": [
          7.1,
          7.6,
          6.8,
          6.7,
          6.4,
          6.9
         ],
         "y": [
          3.0,
          3.0,
          3.0,
          3.3,
          2.8,
          3.1
         ],
         "z": [
          5.9,
          6.6,
          5.5,
          5.7,
          5.6,
          5.4
         ],
         "type": "scatter3d"
        },
        {
         "hovertemplate": "petal width (cm)=2.2<br>sepal length (cm)=%{x}<br>sepal width (cm)=%{y}<br>petal length (cm)=%{z}<br>Type=%{marker.color}<extra></extra>",
         "legendgroup": "2.2",
         "marker": {
          "color": [
           2,
           2,
           2
          ],
          "coloraxis": "coloraxis",
          "symbol": "x"
         },
         "mode": "markers",
         "name": "2.2",
         "scene": "scene",
         "showlegend": true,
         "x": [
          6.5,
          7.7,
          6.4
         ],
         "y": [
          3.0,
          3.8,
          2.8
         ],
         "z": [
          5.8,
          6.7,
          5.6
         ],
         "type": "scatter3d"
        },
        {
         "hovertemplate": "petal width (cm)=2.0<br>sepal length (cm)=%{x}<br>sepal width (cm)=%{y}<br>petal length (cm)=%{z}<br>Type=%{marker.color}<extra></extra>",
         "legendgroup": "2.0",
         "marker": {
          "color": [
           2,
           2,
           2,
           2,
           2,
           2
          ],
          "coloraxis": "coloraxis",
          "symbol": "cross"
         },
         "mode": "markers",
         "name": "2.0",
         "scene": "scene",
         "showlegend": true,
         "x": [
          6.5,
          5.7,
          5.6,
          7.7,
          7.9,
          6.5
         ],
         "y": [
          3.2,
          2.5,
          2.8,
          2.8,
          3.8,
          3.0
         ],
         "z": [
          5.1,
          5.0,
          4.9,
          6.7,
          6.4,
          5.2
         ],
         "type": "scatter3d"
        },
        {
         "hovertemplate": "petal width (cm)=2.4<br>sepal length (cm)=%{x}<br>sepal width (cm)=%{y}<br>petal length (cm)=%{z}<br>Type=%{marker.color}<extra></extra>",
         "legendgroup": "2.4",
         "marker": {
          "color": [
           2,
           2,
           2
          ],
          "coloraxis": "coloraxis",
          "symbol": "circle"
         },
         "mode": "markers",
         "name": "2.4",
         "scene": "scene",
         "showlegend": true,
         "x": [
          5.8,
          6.3,
          6.7
         ],
         "y": [
          2.8,
          3.4,
          3.1
         ],
         "z": [
          5.1,
          5.6,
          5.6
         ],
         "type": "scatter3d"
        },
        {
         "hovertemplate": "petal width (cm)=2.3<br>sepal length (cm)=%{x}<br>sepal width (cm)=%{y}<br>petal length (cm)=%{z}<br>Type=%{marker.color}<extra></extra>",
         "legendgroup": "2.3",
         "marker": {
          "color": [
           2,
           2,
           2,
           2,
           2,
           2,
           2,
           2
          ],
          "coloraxis": "coloraxis",
          "symbol": "diamond"
         },
         "mode": "markers",
         "name": "2.3",
         "scene": "scene",
         "showlegend": true,
         "x": [
          6.4,
          7.7,
          6.9,
          7.7,
          6.9,
          6.8,
          6.7,
          6.2
         ],
         "y": [
          3.2,
          2.6,
          3.2,
          3.0,
          3.1,
          3.2,
          3.0,
          3.4
         ],
         "z": [
          5.3,
          6.9,
          5.7,
          6.1,
          5.1,
          5.9,
          5.2,
          5.4
         ],
         "type": "scatter3d"
        }
       ],
       "layout": {
        "template": {
         "data": {
          "histogram2dcontour": [
           {
            "type": "histogram2dcontour",
            "colorbar": {
             "outlinewidth": 0,
             "ticks": ""
            },
            "colorscale": [
             [
              0.0,
              "#0d0887"
             ],
             [
              0.1111111111111111,
              "#46039f"
             ],
             [
              0.2222222222222222,
              "#7201a8"
             ],
             [
              0.3333333333333333,
              "#9c179e"
             ],
             [
              0.4444444444444444,
              "#bd3786"
             ],
             [
              0.5555555555555556,
              "#d8576b"
             ],
             [
              0.6666666666666666,
              "#ed7953"
             ],
             [
              0.7777777777777778,
              "#fb9f3a"
             ],
             [
              0.8888888888888888,
              "#fdca26"
             ],
             [
              1.0,
              "#f0f921"
             ]
            ]
           }
          ],
          "choropleth": [
           {
            "type": "choropleth",
            "colorbar": {
             "outlinewidth": 0,
             "ticks": ""
            }
           }
          ],
          "histogram2d": [
           {
            "type": "histogram2d",
            "colorbar": {
             "outlinewidth": 0,
             "ticks": ""
            },
            "colorscale": [
             [
              0.0,
              "#0d0887"
             ],
             [
              0.1111111111111111,
              "#46039f"
             ],
             [
              0.2222222222222222,
              "#7201a8"
             ],
             [
              0.3333333333333333,
              "#9c179e"
             ],
             [
              0.4444444444444444,
              "#bd3786"
             ],
             [
              0.5555555555555556,
              "#d8576b"
             ],
             [
              0.6666666666666666,
              "#ed7953"
             ],
             [
              0.7777777777777778,
              "#fb9f3a"
             ],
             [
              0.8888888888888888,
              "#fdca26"
             ],
             [
              1.0,
              "#f0f921"
             ]
            ]
           }
          ],
          "heatmap": [
           {
            "type": "heatmap",
            "colorbar": {
             "outlinewidth": 0,
             "ticks": ""
            },
            "colorscale": [
             [
              0.0,
              "#0d0887"
             ],
             [
              0.1111111111111111,
              "#46039f"
             ],
             [
              0.2222222222222222,
              "#7201a8"
             ],
             [
              0.3333333333333333,
              "#9c179e"
             ],
             [
              0.4444444444444444,
              "#bd3786"
             ],
             [
              0.5555555555555556,
              "#d8576b"
             ],
             [
              0.6666666666666666,
              "#ed7953"
             ],
             [
              0.7777777777777778,
              "#fb9f3a"
             ],
             [
              0.8888888888888888,
              "#fdca26"
             ],
             [
              1.0,
              "#f0f921"
             ]
            ]
           }
          ],
          "heatmapgl": [
           {
            "type": "heatmapgl",
            "colorbar": {
             "outlinewidth": 0,
             "ticks": ""
            },
            "colorscale": [
             [
              0.0,
              "#0d0887"
             ],
             [
              0.1111111111111111,
              "#46039f"
             ],
             [
              0.2222222222222222,
              "#7201a8"
             ],
             [
              0.3333333333333333,
              "#9c179e"
             ],
             [
              0.4444444444444444,
              "#bd3786"
             ],
             [
              0.5555555555555556,
              "#d8576b"
             ],
             [
              0.6666666666666666,
              "#ed7953"
             ],
             [
              0.7777777777777778,
              "#fb9f3a"
             ],
             [
              0.8888888888888888,
              "#fdca26"
             ],
             [
              1.0,
              "#f0f921"
             ]
            ]
           }
          ],
          "contourcarpet": [
           {
            "type": "contourcarpet",
            "colorbar": {
             "outlinewidth": 0,
             "ticks": ""
            }
           }
          ],
          "contour": [
           {
            "type": "contour",
            "colorbar": {
             "outlinewidth": 0,
             "ticks": ""
            },
            "colorscale": [
             [
              0.0,
              "#0d0887"
             ],
             [
              0.1111111111111111,
              "#46039f"
             ],
             [
              0.2222222222222222,
              "#7201a8"
             ],
             [
              0.3333333333333333,
              "#9c179e"
             ],
             [
              0.4444444444444444,
              "#bd3786"
             ],
             [
              0.5555555555555556,
              "#d8576b"
             ],
             [
              0.6666666666666666,
              "#ed7953"
             ],
             [
              0.7777777777777778,
              "#fb9f3a"
             ],
             [
              0.8888888888888888,
              "#fdca26"
             ],
             [
              1.0,
              "#f0f921"
             ]
            ]
           }
          ],
          "surface": [
           {
            "type": "surface",
            "colorbar": {
             "outlinewidth": 0,
             "ticks": ""
            },
            "colorscale": [
             [
              0.0,
              "#0d0887"
             ],
             [
              0.1111111111111111,
              "#46039f"
             ],
             [
              0.2222222222222222,
              "#7201a8"
             ],
             [
              0.3333333333333333,
              "#9c179e"
             ],
             [
              0.4444444444444444,
              "#bd3786"
             ],
             [
              0.5555555555555556,
              "#d8576b"
             ],
             [
              0.6666666666666666,
              "#ed7953"
             ],
             [
              0.7777777777777778,
              "#fb9f3a"
             ],
             [
              0.8888888888888888,
              "#fdca26"
             ],
             [
              1.0,
              "#f0f921"
             ]
            ]
           }
          ],
          "mesh3d": [
           {
            "type": "mesh3d",
            "colorbar": {
             "outlinewidth": 0,
             "ticks": ""
            }
           }
          ],
          "scatter": [
           {
            "marker": {
             "line": {
              "color": "#283442"
             }
            },
            "type": "scatter"
           }
          ],
          "parcoords": [
           {
            "type": "parcoords",
            "line": {
             "colorbar": {
              "outlinewidth": 0,
              "ticks": ""
             }
            }
           }
          ],
          "scatterpolargl": [
           {
            "type": "scatterpolargl",
            "marker": {
             "colorbar": {
              "outlinewidth": 0,
              "ticks": ""
             }
            }
           }
          ],
          "bar": [
           {
            "error_x": {
             "color": "#f2f5fa"
            },
            "error_y": {
             "color": "#f2f5fa"
            },
            "marker": {
             "line": {
              "color": "rgb(17,17,17)",
              "width": 0.5
             },
             "pattern": {
              "fillmode": "overlay",
              "size": 10,
              "solidity": 0.2
             }
            },
            "type": "bar"
           }
          ],
          "scattergeo": [
           {
            "type": "scattergeo",
            "marker": {
             "colorbar": {
              "outlinewidth": 0,
              "ticks": ""
             }
            }
           }
          ],
          "scatterpolar": [
           {
            "type": "scatterpolar",
            "marker": {
             "colorbar": {
              "outlinewidth": 0,
              "ticks": ""
             }
            }
           }
          ],
          "histogram": [
           {
            "marker": {
             "pattern": {
              "fillmode": "overlay",
              "size": 10,
              "solidity": 0.2
             }
            },
            "type": "histogram"
           }
          ],
          "scattergl": [
           {
            "marker": {
             "line": {
              "color": "#283442"
             }
            },
            "type": "scattergl"
           }
          ],
          "scatter3d": [
           {
            "type": "scatter3d",
            "line": {
             "colorbar": {
              "outlinewidth": 0,
              "ticks": ""
             }
            },
            "marker": {
             "colorbar": {
              "outlinewidth": 0,
              "ticks": ""
             }
            }
           }
          ],
          "scattermapbox": [
           {
            "type": "scattermapbox",
            "marker": {
             "colorbar": {
              "outlinewidth": 0,
              "ticks": ""
             }
            }
           }
          ],
          "scatterternary": [
           {
            "type": "scatterternary",
            "marker": {
             "colorbar": {
              "outlinewidth": 0,
              "ticks": ""
             }
            }
           }
          ],
          "scattercarpet": [
           {
            "type": "scattercarpet",
            "marker": {
             "colorbar": {
              "outlinewidth": 0,
              "ticks": ""
             }
            }
           }
          ],
          "carpet": [
           {
            "aaxis": {
             "endlinecolor": "#A2B1C6",
             "gridcolor": "#506784",
             "linecolor": "#506784",
             "minorgridcolor": "#506784",
             "startlinecolor": "#A2B1C6"
            },
            "baxis": {
             "endlinecolor": "#A2B1C6",
             "gridcolor": "#506784",
             "linecolor": "#506784",
             "minorgridcolor": "#506784",
             "startlinecolor": "#A2B1C6"
            },
            "type": "carpet"
           }
          ],
          "table": [
           {
            "cells": {
             "fill": {
              "color": "#506784"
             },
             "line": {
              "color": "rgb(17,17,17)"
             }
            },
            "header": {
             "fill": {
              "color": "#2a3f5f"
             },
             "line": {
              "color": "rgb(17,17,17)"
             }
            },
            "type": "table"
           }
          ],
          "barpolar": [
           {
            "marker": {
             "line": {
              "color": "rgb(17,17,17)",
              "width": 0.5
             },
             "pattern": {
              "fillmode": "overlay",
              "size": 10,
              "solidity": 0.2
             }
            },
            "type": "barpolar"
           }
          ],
          "pie": [
           {
            "automargin": true,
            "type": "pie"
           }
          ]
         },
         "layout": {
          "autotypenumbers": "strict",
          "colorway": [
           "#636efa",
           "#EF553B",
           "#00cc96",
           "#ab63fa",
           "#FFA15A",
           "#19d3f3",
           "#FF6692",
           "#B6E880",
           "#FF97FF",
           "#FECB52"
          ],
          "font": {
           "color": "#f2f5fa"
          },
          "hovermode": "closest",
          "hoverlabel": {
           "align": "left"
          },
          "paper_bgcolor": "rgb(17,17,17)",
          "plot_bgcolor": "rgb(17,17,17)",
          "polar": {
           "bgcolor": "rgb(17,17,17)",
           "angularaxis": {
            "gridcolor": "#506784",
            "linecolor": "#506784",
            "ticks": ""
           },
           "radialaxis": {
            "gridcolor": "#506784",
            "linecolor": "#506784",
            "ticks": ""
           }
          },
          "ternary": {
           "bgcolor": "rgb(17,17,17)",
           "aaxis": {
            "gridcolor": "#506784",
            "linecolor": "#506784",
            "ticks": ""
           },
           "baxis": {
            "gridcolor": "#506784",
            "linecolor": "#506784",
            "ticks": ""
           },
           "caxis": {
            "gridcolor": "#506784",
            "linecolor": "#506784",
            "ticks": ""
           }
          },
          "coloraxis": {
           "colorbar": {
            "outlinewidth": 0,
            "ticks": ""
           }
          },
          "colorscale": {
           "sequential": [
            [
             0.0,
             "#0d0887"
            ],
            [
             0.1111111111111111,
             "#46039f"
            ],
            [
             0.2222222222222222,
             "#7201a8"
            ],
            [
             0.3333333333333333,
             "#9c179e"
            ],
            [
             0.4444444444444444,
             "#bd3786"
            ],
            [
             0.5555555555555556,
             "#d8576b"
            ],
            [
             0.6666666666666666,
             "#ed7953"
            ],
            [
             0.7777777777777778,
             "#fb9f3a"
            ],
            [
             0.8888888888888888,
             "#fdca26"
            ],
            [
             1.0,
             "#f0f921"
            ]
           ],
           "sequentialminus": [
            [
             0.0,
             "#0d0887"
            ],
            [
             0.1111111111111111,
             "#46039f"
            ],
            [
             0.2222222222222222,
             "#7201a8"
            ],
            [
             0.3333333333333333,
             "#9c179e"
            ],
            [
             0.4444444444444444,
             "#bd3786"
            ],
            [
             0.5555555555555556,
             "#d8576b"
            ],
            [
             0.6666666666666666,
             "#ed7953"
            ],
            [
             0.7777777777777778,
             "#fb9f3a"
            ],
            [
             0.8888888888888888,
             "#fdca26"
            ],
            [
             1.0,
             "#f0f921"
            ]
           ],
           "diverging": [
            [
             0,
             "#8e0152"
            ],
            [
             0.1,
             "#c51b7d"
            ],
            [
             0.2,
             "#de77ae"
            ],
            [
             0.3,
             "#f1b6da"
            ],
            [
             0.4,
             "#fde0ef"
            ],
            [
             0.5,
             "#f7f7f7"
            ],
            [
             0.6,
             "#e6f5d0"
            ],
            [
             0.7,
             "#b8e186"
            ],
            [
             0.8,
             "#7fbc41"
            ],
            [
             0.9,
             "#4d9221"
            ],
            [
             1,
             "#276419"
            ]
           ]
          },
          "xaxis": {
           "gridcolor": "#283442",
           "linecolor": "#506784",
           "ticks": "",
           "title": {
            "standoff": 15
           },
           "zerolinecolor": "#283442",
           "automargin": true,
           "zerolinewidth": 2
          },
          "yaxis": {
           "gridcolor": "#283442",
           "linecolor": "#506784",
           "ticks": "",
           "title": {
            "standoff": 15
           },
           "zerolinecolor": "#283442",
           "automargin": true,
           "zerolinewidth": 2
          },
          "scene": {
           "xaxis": {
            "backgroundcolor": "rgb(17,17,17)",
            "gridcolor": "#506784",
            "linecolor": "#506784",
            "showbackground": true,
            "ticks": "",
            "zerolinecolor": "#C8D4E3",
            "gridwidth": 2
           },
           "yaxis": {
            "backgroundcolor": "rgb(17,17,17)",
            "gridcolor": "#506784",
            "linecolor": "#506784",
            "showbackground": true,
            "ticks": "",
            "zerolinecolor": "#C8D4E3",
            "gridwidth": 2
           },
           "zaxis": {
            "backgroundcolor": "rgb(17,17,17)",
            "gridcolor": "#506784",
            "linecolor": "#506784",
            "showbackground": true,
            "ticks": "",
            "zerolinecolor": "#C8D4E3",
            "gridwidth": 2
           }
          },
          "shapedefaults": {
           "line": {
            "color": "#f2f5fa"
           }
          },
          "annotationdefaults": {
           "arrowcolor": "#f2f5fa",
           "arrowhead": 0,
           "arrowwidth": 1
          },
          "geo": {
           "bgcolor": "rgb(17,17,17)",
           "landcolor": "rgb(17,17,17)",
           "subunitcolor": "#506784",
           "showland": true,
           "showlakes": true,
           "lakecolor": "rgb(17,17,17)"
          },
          "title": {
           "x": 0.05
          },
          "updatemenudefaults": {
           "bgcolor": "#506784",
           "borderwidth": 0
          },
          "sliderdefaults": {
           "bgcolor": "#C8D4E3",
           "borderwidth": 1,
           "bordercolor": "rgb(17,17,17)",
           "tickwidth": 0
          },
          "mapbox": {
           "style": "dark"
          }
         }
        },
        "scene": {
         "domain": {
          "x": [
           0.0,
           1.0
          ],
          "y": [
           0.0,
           1.0
          ]
         },
         "xaxis": {
          "title": {
           "text": "sepal length (cm)"
          }
         },
         "yaxis": {
          "title": {
           "text": "sepal width (cm)"
          }
         },
         "zaxis": {
          "title": {
           "text": "petal length (cm)"
          }
         }
        },
        "coloraxis": {
         "colorbar": {
          "title": {
           "text": "Type"
          }
         },
         "colorscale": [
          [
           0.0,
           "#0d0887"
          ],
          [
           0.1111111111111111,
           "#46039f"
          ],
          [
           0.2222222222222222,
           "#7201a8"
          ],
          [
           0.3333333333333333,
           "#9c179e"
          ],
          [
           0.4444444444444444,
           "#bd3786"
          ],
          [
           0.5555555555555556,
           "#d8576b"
          ],
          [
           0.6666666666666666,
           "#ed7953"
          ],
          [
           0.7777777777777778,
           "#fb9f3a"
          ],
          [
           0.8888888888888888,
           "#fdca26"
          ],
          [
           1.0,
           "#f0f921"
          ]
         ]
        },
        "legend": {
         "title": {
          "text": "petal width (cm)"
         },
         "tracegroupgap": 0,
         "orientation": "v",
         "yanchor": "top",
         "xanchor": "right"
        },
        "title": {
         "text": "Initial data for flowers"
        }
       },
       "config": {
        "plotlyServerURL": "https://plot.ly"
       }
      },
      "text/html": "<div>                            <div id=\"ff14b445-bf7e-4687-ba59-6b563b52c8c6\" class=\"plotly-graph-div\" style=\"height:525px; width:100%;\"></div>            <script type=\"text/javascript\">                require([\"plotly\"], function(Plotly) {                    window.PLOTLYENV=window.PLOTLYENV || {};                                    if (document.getElementById(\"ff14b445-bf7e-4687-ba59-6b563b52c8c6\")) {                    Plotly.newPlot(                        \"ff14b445-bf7e-4687-ba59-6b563b52c8c6\",                        [{\"hovertemplate\":\"petal width (cm)=0.2<br>sepal length (cm)=%{x}<br>sepal width (cm)=%{y}<br>petal length (cm)=%{z}<br>Type=%{marker.color}<extra></extra>\",\"legendgroup\":\"0.2\",\"marker\":{\"color\":[0,0,0,0,0,0,0,0,0,0,0,0,0,0,0,0,0,0,0,0,0,0,0,0,0,0,0,0,0],\"coloraxis\":\"coloraxis\",\"symbol\":\"circle\"},\"mode\":\"markers\",\"name\":\"0.2\",\"scene\":\"scene\",\"showlegend\":true,\"x\":[5.1,4.9,4.7,4.6,5.0,5.0,4.4,5.4,4.8,5.8,5.4,4.6,4.8,5.0,5.2,5.2,4.7,4.8,5.5,4.9,5.0,5.5,4.4,5.1,4.4,5.1,4.6,5.3,5.0],\"y\":[3.5,3.0,3.2,3.1,3.6,3.4,2.9,3.7,3.4,4.0,3.4,3.6,3.4,3.0,3.5,3.4,3.2,3.1,4.2,3.1,3.2,3.5,3.0,3.4,3.2,3.8,3.2,3.7,3.3],\"z\":[1.4,1.4,1.3,1.5,1.4,1.5,1.4,1.5,1.6,1.2,1.7,1.0,1.9,1.6,1.5,1.4,1.6,1.6,1.4,1.5,1.2,1.3,1.3,1.5,1.3,1.6,1.4,1.5,1.4],\"type\":\"scatter3d\"},{\"hovertemplate\":\"petal width (cm)=0.4<br>sepal length (cm)=%{x}<br>sepal width (cm)=%{y}<br>petal length (cm)=%{z}<br>Type=%{marker.color}<extra></extra>\",\"legendgroup\":\"0.4\",\"marker\":{\"color\":[0,0,0,0,0,0,0],\"coloraxis\":\"coloraxis\",\"symbol\":\"diamond\"},\"mode\":\"markers\",\"name\":\"0.4\",\"scene\":\"scene\",\"showlegend\":true,\"x\":[5.4,5.7,5.4,5.1,5.0,5.4,5.1],\"y\":[3.9,4.4,3.9,3.7,3.4,3.4,3.8],\"z\":[1.7,1.5,1.3,1.5,1.6,1.5,1.9],\"type\":\"scatter3d\"},{\"hovertemplate\":\"petal width (cm)=0.3<br>sepal length (cm)=%{x}<br>sepal width (cm)=%{y}<br>petal length (cm)=%{z}<br>Type=%{marker.color}<extra></extra>\",\"legendgroup\":\"0.3\",\"marker\":{\"color\":[0,0,0,0,0,0,0],\"coloraxis\":\"coloraxis\",\"symbol\":\"square\"},\"mode\":\"markers\",\"name\":\"0.3\",\"scene\":\"scene\",\"showlegend\":true,\"x\":[4.6,5.1,5.7,5.1,5.0,4.5,4.8],\"y\":[3.4,3.5,3.8,3.8,3.5,2.3,3.0],\"z\":[1.4,1.4,1.7,1.5,1.3,1.3,1.4],\"type\":\"scatter3d\"},{\"hovertemplate\":\"petal width (cm)=0.1<br>sepal length (cm)=%{x}<br>sepal width (cm)=%{y}<br>petal length (cm)=%{z}<br>Type=%{marker.color}<extra></extra>\",\"legendgroup\":\"0.1\",\"marker\":{\"color\":[0,0,0,0,0],\"coloraxis\":\"coloraxis\",\"symbol\":\"x\"},\"mode\":\"markers\",\"name\":\"0.1\",\"scene\":\"scene\",\"showlegend\":true,\"x\":[4.9,4.8,4.3,5.2,4.9],\"y\":[3.1,3.0,3.0,4.1,3.6],\"z\":[1.5,1.4,1.1,1.5,1.4],\"type\":\"scatter3d\"},{\"hovertemplate\":\"petal width (cm)=0.5<br>sepal length (cm)=%{x}<br>sepal width (cm)=%{y}<br>petal length (cm)=%{z}<br>Type=%{marker.color}<extra></extra>\",\"legendgroup\":\"0.5\",\"marker\":{\"color\":[0],\"coloraxis\":\"coloraxis\",\"symbol\":\"cross\"},\"mode\":\"markers\",\"name\":\"0.5\",\"scene\":\"scene\",\"showlegend\":true,\"x\":[5.1],\"y\":[3.3],\"z\":[1.7],\"type\":\"scatter3d\"},{\"hovertemplate\":\"petal width (cm)=0.6<br>sepal length (cm)=%{x}<br>sepal width (cm)=%{y}<br>petal length (cm)=%{z}<br>Type=%{marker.color}<extra></extra>\",\"legendgroup\":\"0.6\",\"marker\":{\"color\":[0],\"coloraxis\":\"coloraxis\",\"symbol\":\"circle\"},\"mode\":\"markers\",\"name\":\"0.6\",\"scene\":\"scene\",\"showlegend\":true,\"x\":[5.0],\"y\":[3.5],\"z\":[1.6],\"type\":\"scatter3d\"},{\"hovertemplate\":\"petal width (cm)=1.4<br>sepal length (cm)=%{x}<br>sepal width (cm)=%{y}<br>petal length (cm)=%{z}<br>Type=%{marker.color}<extra></extra>\",\"legendgroup\":\"1.4\",\"marker\":{\"color\":[1,1,1,1,1,1,1,2],\"coloraxis\":\"coloraxis\",\"symbol\":\"diamond\"},\"mode\":\"markers\",\"name\":\"1.4\",\"scene\":\"scene\",\"showlegend\":true,\"x\":[7.0,5.2,6.1,6.7,6.6,6.8,6.1,6.1],\"y\":[3.2,2.7,2.9,3.1,3.0,2.8,3.0,2.6],\"z\":[4.7,3.9,4.7,4.4,4.4,4.8,4.6,5.6],\"type\":\"scatter3d\"},{\"hovertemplate\":\"petal width (cm)=1.5<br>sepal length (cm)=%{x}<br>sepal width (cm)=%{y}<br>petal length (cm)=%{z}<br>Type=%{marker.color}<extra></extra>\",\"legendgroup\":\"1.5\",\"marker\":{\"color\":[1,1,1,1,1,1,1,1,1,1,2,2],\"coloraxis\":\"coloraxis\",\"symbol\":\"square\"},\"mode\":\"markers\",\"name\":\"1.5\",\"scene\":\"scene\",\"showlegend\":true,\"x\":[6.4,6.9,6.5,5.9,5.6,6.2,6.3,6.0,5.4,6.7,6.0,6.3],\"y\":[3.2,3.1,2.8,3.0,3.0,2.2,2.5,2.9,3.0,3.1,2.2,2.8],\"z\":[4.5,4.9,4.6,4.2,4.5,4.5,4.9,4.5,4.5,4.7,5.0,5.1],\"type\":\"scatter3d\"},{\"hovertemplate\":\"petal width (cm)=1.3<br>sepal length (cm)=%{x}<br>sepal width (cm)=%{y}<br>petal length (cm)=%{z}<br>Type=%{marker.color}<extra></extra>\",\"legendgroup\":\"1.3\",\"marker\":{\"color\":[1,1,1,1,1,1,1,1,1,1,1,1,1],\"coloraxis\":\"coloraxis\",\"symbol\":\"x\"},\"mode\":\"markers\",\"name\":\"1.3\",\"scene\":\"scene\",\"showlegend\":true,\"x\":[5.5,5.7,6.6,5.6,6.1,6.4,6.3,5.6,5.5,5.6,5.7,6.2,5.7],\"y\":[2.3,2.8,2.9,2.9,2.8,2.9,2.3,3.0,2.5,2.7,2.9,2.9,2.8],\"z\":[4.0,4.5,4.6,3.6,4.0,4.3,4.4,4.1,4.0,4.2,4.2,4.3,4.1],\"type\":\"scatter3d\"},{\"hovertemplate\":\"petal width (cm)=1.6<br>sepal length (cm)=%{x}<br>sepal width (cm)=%{y}<br>petal length (cm)=%{z}<br>Type=%{marker.color}<extra></extra>\",\"legendgroup\":\"1.6\",\"marker\":{\"color\":[1,1,1,2],\"coloraxis\":\"coloraxis\",\"symbol\":\"cross\"},\"mode\":\"markers\",\"name\":\"1.6\",\"scene\":\"scene\",\"showlegend\":true,\"x\":[6.3,6.0,6.0,7.2],\"y\":[3.3,2.7,3.4,3.0],\"z\":[4.7,5.1,4.5,5.8],\"type\":\"scatter3d\"},{\"hovertemplate\":\"petal width (cm)=1.0<br>sepal length (cm)=%{x}<br>sepal width (cm)=%{y}<br>petal length (cm)=%{z}<br>Type=%{marker.color}<extra></extra>\",\"legendgroup\":\"1.0\",\"marker\":{\"color\":[1,1,1,1,1,1,1],\"coloraxis\":\"coloraxis\",\"symbol\":\"circle\"},\"mode\":\"markers\",\"name\":\"1.0\",\"scene\":\"scene\",\"showlegend\":true,\"x\":[4.9,5.0,6.0,5.8,5.7,5.5,5.0],\"y\":[2.4,2.0,2.2,2.7,2.6,2.4,2.3],\"z\":[3.3,3.5,4.0,4.1,3.5,3.7,3.3],\"type\":\"scatter3d\"},{\"hovertemplate\":\"petal width (cm)=1.1<br>sepal length (cm)=%{x}<br>sepal width (cm)=%{y}<br>petal length (cm)=%{z}<br>Type=%{marker.color}<extra></extra>\",\"legendgroup\":\"1.1\",\"marker\":{\"color\":[1,1,1],\"coloraxis\":\"coloraxis\",\"symbol\":\"diamond\"},\"mode\":\"markers\",\"name\":\"1.1\",\"scene\":\"scene\",\"showlegend\":true,\"x\":[5.6,5.5,5.1],\"y\":[2.5,2.4,2.5],\"z\":[3.9,3.8,3.0],\"type\":\"scatter3d\"},{\"hovertemplate\":\"petal width (cm)=1.8<br>sepal length (cm)=%{x}<br>sepal width (cm)=%{y}<br>petal length (cm)=%{z}<br>Type=%{marker.color}<extra></extra>\",\"legendgroup\":\"1.8\",\"marker\":{\"color\":[1,2,2,2,2,2,2,2,2,2,2,2],\"coloraxis\":\"coloraxis\",\"symbol\":\"square\"},\"mode\":\"markers\",\"name\":\"1.8\",\"scene\":\"scene\",\"showlegend\":true,\"x\":[5.9,6.3,7.3,6.7,6.5,6.3,7.2,6.2,6.1,6.4,6.0,5.9],\"y\":[3.2,2.9,2.9,2.5,3.0,2.7,3.2,2.8,3.0,3.1,3.0,3.0],\"z\":[4.8,5.6,6.3,5.8,5.5,4.9,6.0,4.8,4.9,5.5,4.8,5.1],\"type\":\"scatter3d\"},{\"hovertemplate\":\"petal width (cm)=1.2<br>sepal length (cm)=%{x}<br>sepal width (cm)=%{y}<br>petal length (cm)=%{z}<br>Type=%{marker.color}<extra></extra>\",\"legendgroup\":\"1.2\",\"marker\":{\"color\":[1,1,1,1,1],\"coloraxis\":\"coloraxis\",\"symbol\":\"x\"},\"mode\":\"markers\",\"name\":\"1.2\",\"scene\":\"scene\",\"showlegend\":true,\"x\":[6.1,5.8,5.5,5.8,5.7],\"y\":[2.8,2.7,2.6,2.6,3.0],\"z\":[4.7,3.9,4.4,4.0,4.2],\"type\":\"scatter3d\"},{\"hovertemplate\":\"petal width (cm)=1.7<br>sepal length (cm)=%{x}<br>sepal width (cm)=%{y}<br>petal length (cm)=%{z}<br>Type=%{marker.color}<extra></extra>\",\"legendgroup\":\"1.7\",\"marker\":{\"color\":[1,2],\"coloraxis\":\"coloraxis\",\"symbol\":\"cross\"},\"mode\":\"markers\",\"name\":\"1.7\",\"scene\":\"scene\",\"showlegend\":true,\"x\":[6.7,4.9],\"y\":[3.0,2.5],\"z\":[5.0,4.5],\"type\":\"scatter3d\"},{\"hovertemplate\":\"petal width (cm)=2.5<br>sepal length (cm)=%{x}<br>sepal width (cm)=%{y}<br>petal length (cm)=%{z}<br>Type=%{marker.color}<extra></extra>\",\"legendgroup\":\"2.5\",\"marker\":{\"color\":[2,2,2],\"coloraxis\":\"coloraxis\",\"symbol\":\"circle\"},\"mode\":\"markers\",\"name\":\"2.5\",\"scene\":\"scene\",\"showlegend\":true,\"x\":[6.3,7.2,6.7],\"y\":[3.3,3.6,3.3],\"z\":[6.0,6.1,5.7],\"type\":\"scatter3d\"},{\"hovertemplate\":\"petal width (cm)=1.9<br>sepal length (cm)=%{x}<br>sepal width (cm)=%{y}<br>petal length (cm)=%{z}<br>Type=%{marker.color}<extra></extra>\",\"legendgroup\":\"1.9\",\"marker\":{\"color\":[2,2,2,2,2],\"coloraxis\":\"coloraxis\",\"symbol\":\"diamond\"},\"mode\":\"markers\",\"name\":\"1.9\",\"scene\":\"scene\",\"showlegend\":true,\"x\":[5.8,6.4,7.4,5.8,6.3],\"y\":[2.7,2.7,2.8,2.7,2.5],\"z\":[5.1,5.3,6.1,5.1,5.0],\"type\":\"scatter3d\"},{\"hovertemplate\":\"petal width (cm)=2.1<br>sepal length (cm)=%{x}<br>sepal width (cm)=%{y}<br>petal length (cm)=%{z}<br>Type=%{marker.color}<extra></extra>\",\"legendgroup\":\"2.1\",\"marker\":{\"color\":[2,2,2,2,2,2],\"coloraxis\":\"coloraxis\",\"symbol\":\"square\"},\"mode\":\"markers\",\"name\":\"2.1\",\"scene\":\"scene\",\"showlegend\":true,\"x\":[7.1,7.6,6.8,6.7,6.4,6.9],\"y\":[3.0,3.0,3.0,3.3,2.8,3.1],\"z\":[5.9,6.6,5.5,5.7,5.6,5.4],\"type\":\"scatter3d\"},{\"hovertemplate\":\"petal width (cm)=2.2<br>sepal length (cm)=%{x}<br>sepal width (cm)=%{y}<br>petal length (cm)=%{z}<br>Type=%{marker.color}<extra></extra>\",\"legendgroup\":\"2.2\",\"marker\":{\"color\":[2,2,2],\"coloraxis\":\"coloraxis\",\"symbol\":\"x\"},\"mode\":\"markers\",\"name\":\"2.2\",\"scene\":\"scene\",\"showlegend\":true,\"x\":[6.5,7.7,6.4],\"y\":[3.0,3.8,2.8],\"z\":[5.8,6.7,5.6],\"type\":\"scatter3d\"},{\"hovertemplate\":\"petal width (cm)=2.0<br>sepal length (cm)=%{x}<br>sepal width (cm)=%{y}<br>petal length (cm)=%{z}<br>Type=%{marker.color}<extra></extra>\",\"legendgroup\":\"2.0\",\"marker\":{\"color\":[2,2,2,2,2,2],\"coloraxis\":\"coloraxis\",\"symbol\":\"cross\"},\"mode\":\"markers\",\"name\":\"2.0\",\"scene\":\"scene\",\"showlegend\":true,\"x\":[6.5,5.7,5.6,7.7,7.9,6.5],\"y\":[3.2,2.5,2.8,2.8,3.8,3.0],\"z\":[5.1,5.0,4.9,6.7,6.4,5.2],\"type\":\"scatter3d\"},{\"hovertemplate\":\"petal width (cm)=2.4<br>sepal length (cm)=%{x}<br>sepal width (cm)=%{y}<br>petal length (cm)=%{z}<br>Type=%{marker.color}<extra></extra>\",\"legendgroup\":\"2.4\",\"marker\":{\"color\":[2,2,2],\"coloraxis\":\"coloraxis\",\"symbol\":\"circle\"},\"mode\":\"markers\",\"name\":\"2.4\",\"scene\":\"scene\",\"showlegend\":true,\"x\":[5.8,6.3,6.7],\"y\":[2.8,3.4,3.1],\"z\":[5.1,5.6,5.6],\"type\":\"scatter3d\"},{\"hovertemplate\":\"petal width (cm)=2.3<br>sepal length (cm)=%{x}<br>sepal width (cm)=%{y}<br>petal length (cm)=%{z}<br>Type=%{marker.color}<extra></extra>\",\"legendgroup\":\"2.3\",\"marker\":{\"color\":[2,2,2,2,2,2,2,2],\"coloraxis\":\"coloraxis\",\"symbol\":\"diamond\"},\"mode\":\"markers\",\"name\":\"2.3\",\"scene\":\"scene\",\"showlegend\":true,\"x\":[6.4,7.7,6.9,7.7,6.9,6.8,6.7,6.2],\"y\":[3.2,2.6,3.2,3.0,3.1,3.2,3.0,3.4],\"z\":[5.3,6.9,5.7,6.1,5.1,5.9,5.2,5.4],\"type\":\"scatter3d\"}],                        {\"template\":{\"data\":{\"histogram2dcontour\":[{\"type\":\"histogram2dcontour\",\"colorbar\":{\"outlinewidth\":0,\"ticks\":\"\"},\"colorscale\":[[0.0,\"#0d0887\"],[0.1111111111111111,\"#46039f\"],[0.2222222222222222,\"#7201a8\"],[0.3333333333333333,\"#9c179e\"],[0.4444444444444444,\"#bd3786\"],[0.5555555555555556,\"#d8576b\"],[0.6666666666666666,\"#ed7953\"],[0.7777777777777778,\"#fb9f3a\"],[0.8888888888888888,\"#fdca26\"],[1.0,\"#f0f921\"]]}],\"choropleth\":[{\"type\":\"choropleth\",\"colorbar\":{\"outlinewidth\":0,\"ticks\":\"\"}}],\"histogram2d\":[{\"type\":\"histogram2d\",\"colorbar\":{\"outlinewidth\":0,\"ticks\":\"\"},\"colorscale\":[[0.0,\"#0d0887\"],[0.1111111111111111,\"#46039f\"],[0.2222222222222222,\"#7201a8\"],[0.3333333333333333,\"#9c179e\"],[0.4444444444444444,\"#bd3786\"],[0.5555555555555556,\"#d8576b\"],[0.6666666666666666,\"#ed7953\"],[0.7777777777777778,\"#fb9f3a\"],[0.8888888888888888,\"#fdca26\"],[1.0,\"#f0f921\"]]}],\"heatmap\":[{\"type\":\"heatmap\",\"colorbar\":{\"outlinewidth\":0,\"ticks\":\"\"},\"colorscale\":[[0.0,\"#0d0887\"],[0.1111111111111111,\"#46039f\"],[0.2222222222222222,\"#7201a8\"],[0.3333333333333333,\"#9c179e\"],[0.4444444444444444,\"#bd3786\"],[0.5555555555555556,\"#d8576b\"],[0.6666666666666666,\"#ed7953\"],[0.7777777777777778,\"#fb9f3a\"],[0.8888888888888888,\"#fdca26\"],[1.0,\"#f0f921\"]]}],\"heatmapgl\":[{\"type\":\"heatmapgl\",\"colorbar\":{\"outlinewidth\":0,\"ticks\":\"\"},\"colorscale\":[[0.0,\"#0d0887\"],[0.1111111111111111,\"#46039f\"],[0.2222222222222222,\"#7201a8\"],[0.3333333333333333,\"#9c179e\"],[0.4444444444444444,\"#bd3786\"],[0.5555555555555556,\"#d8576b\"],[0.6666666666666666,\"#ed7953\"],[0.7777777777777778,\"#fb9f3a\"],[0.8888888888888888,\"#fdca26\"],[1.0,\"#f0f921\"]]}],\"contourcarpet\":[{\"type\":\"contourcarpet\",\"colorbar\":{\"outlinewidth\":0,\"ticks\":\"\"}}],\"contour\":[{\"type\":\"contour\",\"colorbar\":{\"outlinewidth\":0,\"ticks\":\"\"},\"colorscale\":[[0.0,\"#0d0887\"],[0.1111111111111111,\"#46039f\"],[0.2222222222222222,\"#7201a8\"],[0.3333333333333333,\"#9c179e\"],[0.4444444444444444,\"#bd3786\"],[0.5555555555555556,\"#d8576b\"],[0.6666666666666666,\"#ed7953\"],[0.7777777777777778,\"#fb9f3a\"],[0.8888888888888888,\"#fdca26\"],[1.0,\"#f0f921\"]]}],\"surface\":[{\"type\":\"surface\",\"colorbar\":{\"outlinewidth\":0,\"ticks\":\"\"},\"colorscale\":[[0.0,\"#0d0887\"],[0.1111111111111111,\"#46039f\"],[0.2222222222222222,\"#7201a8\"],[0.3333333333333333,\"#9c179e\"],[0.4444444444444444,\"#bd3786\"],[0.5555555555555556,\"#d8576b\"],[0.6666666666666666,\"#ed7953\"],[0.7777777777777778,\"#fb9f3a\"],[0.8888888888888888,\"#fdca26\"],[1.0,\"#f0f921\"]]}],\"mesh3d\":[{\"type\":\"mesh3d\",\"colorbar\":{\"outlinewidth\":0,\"ticks\":\"\"}}],\"scatter\":[{\"marker\":{\"line\":{\"color\":\"#283442\"}},\"type\":\"scatter\"}],\"parcoords\":[{\"type\":\"parcoords\",\"line\":{\"colorbar\":{\"outlinewidth\":0,\"ticks\":\"\"}}}],\"scatterpolargl\":[{\"type\":\"scatterpolargl\",\"marker\":{\"colorbar\":{\"outlinewidth\":0,\"ticks\":\"\"}}}],\"bar\":[{\"error_x\":{\"color\":\"#f2f5fa\"},\"error_y\":{\"color\":\"#f2f5fa\"},\"marker\":{\"line\":{\"color\":\"rgb(17,17,17)\",\"width\":0.5},\"pattern\":{\"fillmode\":\"overlay\",\"size\":10,\"solidity\":0.2}},\"type\":\"bar\"}],\"scattergeo\":[{\"type\":\"scattergeo\",\"marker\":{\"colorbar\":{\"outlinewidth\":0,\"ticks\":\"\"}}}],\"scatterpolar\":[{\"type\":\"scatterpolar\",\"marker\":{\"colorbar\":{\"outlinewidth\":0,\"ticks\":\"\"}}}],\"histogram\":[{\"marker\":{\"pattern\":{\"fillmode\":\"overlay\",\"size\":10,\"solidity\":0.2}},\"type\":\"histogram\"}],\"scattergl\":[{\"marker\":{\"line\":{\"color\":\"#283442\"}},\"type\":\"scattergl\"}],\"scatter3d\":[{\"type\":\"scatter3d\",\"line\":{\"colorbar\":{\"outlinewidth\":0,\"ticks\":\"\"}},\"marker\":{\"colorbar\":{\"outlinewidth\":0,\"ticks\":\"\"}}}],\"scattermapbox\":[{\"type\":\"scattermapbox\",\"marker\":{\"colorbar\":{\"outlinewidth\":0,\"ticks\":\"\"}}}],\"scatterternary\":[{\"type\":\"scatterternary\",\"marker\":{\"colorbar\":{\"outlinewidth\":0,\"ticks\":\"\"}}}],\"scattercarpet\":[{\"type\":\"scattercarpet\",\"marker\":{\"colorbar\":{\"outlinewidth\":0,\"ticks\":\"\"}}}],\"carpet\":[{\"aaxis\":{\"endlinecolor\":\"#A2B1C6\",\"gridcolor\":\"#506784\",\"linecolor\":\"#506784\",\"minorgridcolor\":\"#506784\",\"startlinecolor\":\"#A2B1C6\"},\"baxis\":{\"endlinecolor\":\"#A2B1C6\",\"gridcolor\":\"#506784\",\"linecolor\":\"#506784\",\"minorgridcolor\":\"#506784\",\"startlinecolor\":\"#A2B1C6\"},\"type\":\"carpet\"}],\"table\":[{\"cells\":{\"fill\":{\"color\":\"#506784\"},\"line\":{\"color\":\"rgb(17,17,17)\"}},\"header\":{\"fill\":{\"color\":\"#2a3f5f\"},\"line\":{\"color\":\"rgb(17,17,17)\"}},\"type\":\"table\"}],\"barpolar\":[{\"marker\":{\"line\":{\"color\":\"rgb(17,17,17)\",\"width\":0.5},\"pattern\":{\"fillmode\":\"overlay\",\"size\":10,\"solidity\":0.2}},\"type\":\"barpolar\"}],\"pie\":[{\"automargin\":true,\"type\":\"pie\"}]},\"layout\":{\"autotypenumbers\":\"strict\",\"colorway\":[\"#636efa\",\"#EF553B\",\"#00cc96\",\"#ab63fa\",\"#FFA15A\",\"#19d3f3\",\"#FF6692\",\"#B6E880\",\"#FF97FF\",\"#FECB52\"],\"font\":{\"color\":\"#f2f5fa\"},\"hovermode\":\"closest\",\"hoverlabel\":{\"align\":\"left\"},\"paper_bgcolor\":\"rgb(17,17,17)\",\"plot_bgcolor\":\"rgb(17,17,17)\",\"polar\":{\"bgcolor\":\"rgb(17,17,17)\",\"angularaxis\":{\"gridcolor\":\"#506784\",\"linecolor\":\"#506784\",\"ticks\":\"\"},\"radialaxis\":{\"gridcolor\":\"#506784\",\"linecolor\":\"#506784\",\"ticks\":\"\"}},\"ternary\":{\"bgcolor\":\"rgb(17,17,17)\",\"aaxis\":{\"gridcolor\":\"#506784\",\"linecolor\":\"#506784\",\"ticks\":\"\"},\"baxis\":{\"gridcolor\":\"#506784\",\"linecolor\":\"#506784\",\"ticks\":\"\"},\"caxis\":{\"gridcolor\":\"#506784\",\"linecolor\":\"#506784\",\"ticks\":\"\"}},\"coloraxis\":{\"colorbar\":{\"outlinewidth\":0,\"ticks\":\"\"}},\"colorscale\":{\"sequential\":[[0.0,\"#0d0887\"],[0.1111111111111111,\"#46039f\"],[0.2222222222222222,\"#7201a8\"],[0.3333333333333333,\"#9c179e\"],[0.4444444444444444,\"#bd3786\"],[0.5555555555555556,\"#d8576b\"],[0.6666666666666666,\"#ed7953\"],[0.7777777777777778,\"#fb9f3a\"],[0.8888888888888888,\"#fdca26\"],[1.0,\"#f0f921\"]],\"sequentialminus\":[[0.0,\"#0d0887\"],[0.1111111111111111,\"#46039f\"],[0.2222222222222222,\"#7201a8\"],[0.3333333333333333,\"#9c179e\"],[0.4444444444444444,\"#bd3786\"],[0.5555555555555556,\"#d8576b\"],[0.6666666666666666,\"#ed7953\"],[0.7777777777777778,\"#fb9f3a\"],[0.8888888888888888,\"#fdca26\"],[1.0,\"#f0f921\"]],\"diverging\":[[0,\"#8e0152\"],[0.1,\"#c51b7d\"],[0.2,\"#de77ae\"],[0.3,\"#f1b6da\"],[0.4,\"#fde0ef\"],[0.5,\"#f7f7f7\"],[0.6,\"#e6f5d0\"],[0.7,\"#b8e186\"],[0.8,\"#7fbc41\"],[0.9,\"#4d9221\"],[1,\"#276419\"]]},\"xaxis\":{\"gridcolor\":\"#283442\",\"linecolor\":\"#506784\",\"ticks\":\"\",\"title\":{\"standoff\":15},\"zerolinecolor\":\"#283442\",\"automargin\":true,\"zerolinewidth\":2},\"yaxis\":{\"gridcolor\":\"#283442\",\"linecolor\":\"#506784\",\"ticks\":\"\",\"title\":{\"standoff\":15},\"zerolinecolor\":\"#283442\",\"automargin\":true,\"zerolinewidth\":2},\"scene\":{\"xaxis\":{\"backgroundcolor\":\"rgb(17,17,17)\",\"gridcolor\":\"#506784\",\"linecolor\":\"#506784\",\"showbackground\":true,\"ticks\":\"\",\"zerolinecolor\":\"#C8D4E3\",\"gridwidth\":2},\"yaxis\":{\"backgroundcolor\":\"rgb(17,17,17)\",\"gridcolor\":\"#506784\",\"linecolor\":\"#506784\",\"showbackground\":true,\"ticks\":\"\",\"zerolinecolor\":\"#C8D4E3\",\"gridwidth\":2},\"zaxis\":{\"backgroundcolor\":\"rgb(17,17,17)\",\"gridcolor\":\"#506784\",\"linecolor\":\"#506784\",\"showbackground\":true,\"ticks\":\"\",\"zerolinecolor\":\"#C8D4E3\",\"gridwidth\":2}},\"shapedefaults\":{\"line\":{\"color\":\"#f2f5fa\"}},\"annotationdefaults\":{\"arrowcolor\":\"#f2f5fa\",\"arrowhead\":0,\"arrowwidth\":1},\"geo\":{\"bgcolor\":\"rgb(17,17,17)\",\"landcolor\":\"rgb(17,17,17)\",\"subunitcolor\":\"#506784\",\"showland\":true,\"showlakes\":true,\"lakecolor\":\"rgb(17,17,17)\"},\"title\":{\"x\":0.05},\"updatemenudefaults\":{\"bgcolor\":\"#506784\",\"borderwidth\":0},\"sliderdefaults\":{\"bgcolor\":\"#C8D4E3\",\"borderwidth\":1,\"bordercolor\":\"rgb(17,17,17)\",\"tickwidth\":0},\"mapbox\":{\"style\":\"dark\"}}},\"scene\":{\"domain\":{\"x\":[0.0,1.0],\"y\":[0.0,1.0]},\"xaxis\":{\"title\":{\"text\":\"sepal length (cm)\"}},\"yaxis\":{\"title\":{\"text\":\"sepal width (cm)\"}},\"zaxis\":{\"title\":{\"text\":\"petal length (cm)\"}}},\"coloraxis\":{\"colorbar\":{\"title\":{\"text\":\"Type\"}},\"colorscale\":[[0.0,\"#0d0887\"],[0.1111111111111111,\"#46039f\"],[0.2222222222222222,\"#7201a8\"],[0.3333333333333333,\"#9c179e\"],[0.4444444444444444,\"#bd3786\"],[0.5555555555555556,\"#d8576b\"],[0.6666666666666666,\"#ed7953\"],[0.7777777777777778,\"#fb9f3a\"],[0.8888888888888888,\"#fdca26\"],[1.0,\"#f0f921\"]]},\"legend\":{\"title\":{\"text\":\"petal width (cm)\"},\"tracegroupgap\":0,\"orientation\":\"v\",\"yanchor\":\"top\",\"xanchor\":\"right\"},\"title\":{\"text\":\"Initial data for flowers\"}},                        {\"responsive\": true}                    ).then(function(){\n                            \nvar gd = document.getElementById('ff14b445-bf7e-4687-ba59-6b563b52c8c6');\nvar x = new MutationObserver(function (mutations, observer) {{\n        var display = window.getComputedStyle(gd).display;\n        if (!display || display === 'none') {{\n            console.log([gd, 'removed!']);\n            Plotly.purge(gd);\n            observer.disconnect();\n        }}\n}});\n\n// Listen for the removal of the full notebook cells\nvar notebookContainer = gd.closest('#notebook-container');\nif (notebookContainer) {{\n    x.observe(notebookContainer, {childList: true});\n}}\n\n// Listen for the clearing of the current output cell\nvar outputEl = gd.closest('.output');\nif (outputEl) {{\n    x.observe(outputEl, {childList: true});\n}}\n\n                        })                };                });            </script>        </div>"
     },
     "metadata": {},
     "output_type": "display_data"
    },
    {
     "data": {
      "text/plain": "<Figure size 640x480 with 1 Axes>",
      "image/png": "[encoded data removed]"
     },
     "metadata": {},
     "output_type": "display_data"
    },
    {
     "data": {
      "text/plain": "<Figure size 640x480 with 1 Axes>",
      "image/png": "[encoded data removed]"
     },
     "metadata": {},
     "output_type": "display_data"
    },
    {
     "data": {
      "text/plain": "<Figure size 640x480 with 1 Axes>",
      "image/png": "[encoded data removed]"
     },
     "metadata": {},
     "output_type": "display_data"
    },
    {
     "data": {
      "text/plain": "<Figure size 640x480 with 1 Axes>",
      "image/png": "[encoded data removed]"
     },
     "metadata": {},
     "output_type": "display_data"
    },
    {
     "data": {
      "text/plain": "<Figure size 640x480 with 1 Axes>",
      "image/png": "[encoded data removed]"
     },
     "metadata": {},
     "output_type": "display_data"
    },
    {
     "data": {
      "application/vnd.plotly.v1+json": {
       "data": [
        {
         "hovertemplate": "petal width (cm)=-0.8866027965354446<br>sepal length (cm)=%{x}<br>sepal width (cm)=%{y}<br>petal length (cm)=%{z}<br>Type=%{marker.color}<extra></extra>",
         "legendgroup": "-0.8866027965354446",
         "marker": {
          "color": [
           0
          ],
          "coloraxis": "coloraxis",
          "symbol": "circle"
         },
         "mode": "markers",
         "name": "-0.8866027965354446",
         "scene": "scene",
         "showlegend": true,
         "x": [
          -0.8945427754677681
         ],
         "y": [
          0.5175041717719884
         ],
         "z": [
          -1.1302798211725331
         ],
         "type": "scatter3d"
        },
        {
         "hovertemplate": "petal width (cm)=-1.2744241899166842<br>sepal length (cm)=%{x}<br>sepal width (cm)=%{y}<br>petal length (cm)=%{z}<br>Type=%{marker.color}<extra></extra>",
         "legendgroup": "-1.2744241899166842",
         "marker": {
          "color": [
           0,
           0,
           0,
           0,
           0,
           0,
           0,
           0,
           0,
           0,
           0,
           0,
           0,
           0,
           0,
           0,
           0,
           0,
           0,
           0,
           0,
           0,
           0
          ],
          "coloraxis": "coloraxis",
          "symbol": "diamond"
         },
         "mode": "markers",
         "name": "-1.2744241899166842",
         "scene": "scene",
         "showlegend": true,
         "x": [
          -1.5058476334184063,
          -0.7722818038776398,
          -0.6500208322875126,
          -0.40549888910725707,
          -0.7722818038776398,
          -1.5058476334184063,
          -1.7503695765986607,
          -1.383586661828278,
          -1.383586661828278,
          -1.0168037470578952,
          -1.2613256902381507,
          -1.2613256902381507,
          -0.5277598606973842,
          -0.40549888910725707,
          -0.038715974336874376,
          -1.5058476334184063,
          -1.0168037470578952,
          -1.0168037470578952,
          -0.8945427754677681,
          -1.7503695765986607,
          -0.8945427754677681,
          -0.5277598606973842,
          -1.0168037470578952
         ],
         "y": [
          0.2965059489512118,
          0.9595006174135434,
          1.4014970630550985,
          0.9595006174135434,
          0.7385023945927659,
          1.180498840234321,
          -0.14549049669034328,
          0.2965059489512118,
          0.2965059489512118,
          0.7385023945927659,
          0.07550772613043424,
          0.7385023945927659,
          1.4014970630550985,
          2.5064881771589853,
          2.06449173151743,
          0.07550772613043424,
          0.2965059489512118,
          0.5175041717719884,
          1.622495285875875,
          -0.36648871951112083,
          0.9595006174135434,
          0.7385023945927659,
          -0.14549049669034328
         ],
         "z": [
          -1.298629318740639,
          -1.2425128195512702,
          -1.2425128195512702,
          -1.3547458179300074,
          -1.298629318740639,
          -1.5230953154981135,
          -1.3547458179300074,
          -1.3547458179300074,
          -1.1863963203619017,
          -1.2425128195512702,
          -1.1863963203619017,
          -1.1863963203619017,
          -1.2425128195512702,
          -1.298629318740639,
          -1.4108623171193764,
          -1.2425128195512702,
          -1.4108623171193764,
          -1.298629318740639,
          -1.1863963203619017,
          -1.298629318740639,
          -1.298629318740639,
          -1.1302798211725331,
          -1.1863963203619017
         ],
         "type": "scatter3d"
        },
        {
         "hovertemplate": "petal width (cm)=1.4403255637519912<br>sepal length (cm)=%{x}<br>sepal width (cm)=%{y}<br>petal length (cm)=%{z}<br>Type=%{marker.color}<extra></extra>",
         "legendgroup": "1.4403255637519912",
         "marker": {
          "color": [
           2,
           2,
           2,
           2,
           2,
           2,
           2
          ],
          "coloraxis": "coloraxis",
          "symbol": "square"
         },
         "mode": "markers",
         "name": "1.4403255637519912",
         "scene": "scene",
         "showlegend": true,
         "x": [
          1.3061547131545304,
          0.4503279120236366,
          0.6948498552038921,
          2.2842424858755512,
          1.3061547131545304,
          1.061632769974275,
          1.183893741564402
         ],
         "y": [
          0.2965059489512118,
          0.7385023945927659,
          0.2965059489512118,
          -0.14549049669034328,
          0.07550772613043424,
          -0.14549049669034328,
          0.2965059489512118
         ],
         "z": [
          1.1143801464022118,
          0.9460306488341061,
          0.8899141496447371,
          1.338846143159686,
          0.7776811512659998,
          0.8337976504553688,
          1.2266131447809492
         ],
         "type": "scatter3d"
        },
        {
         "hovertemplate": "petal width (cm)=-0.11096000977296583<br>sepal length (cm)=%{x}<br>sepal width (cm)=%{y}<br>petal length (cm)=%{z}<br>Type=%{marker.color}<extra></extra>",
         "legendgroup": "-0.11096000977296583",
         "marker": {
          "color": [
           1,
           1,
           1
          ],
          "coloraxis": "coloraxis",
          "symbol": "x"
         },
         "mode": "markers",
         "name": "-0.11096000977296583",
         "scene": "scene",
         "showlegend": true,
         "x": [
          -0.40549888910725707,
          -0.28323791751712984,
          -0.8945427754677681
         ],
         "y": [
          -1.4714798336150074,
          -1.25048161079423,
          -1.25048161079423
         ],
         "z": [
          0.04816666180420787,
          0.10428316099357654,
          -0.40076533171074097
         ],
         "type": "scatter3d"
        },
        {
         "hovertemplate": "petal width (cm)=0.14758758581452702<br>sepal length (cm)=%{x}<br>sepal width (cm)=%{y}<br>petal length (cm)=%{z}<br>Type=%{marker.color}<extra></extra>",
         "legendgroup": "0.14758758581452702",
         "marker": {
          "color": [
           1,
           1,
           1,
           1,
           1,
           1,
           1,
           1,
           1,
           1
          ],
          "coloraxis": "coloraxis",
          "symbol": "cross"
         },
         "mode": "markers",
         "name": "0.14758758581452702",
         "scene": "scene",
         "showlegend": true,
         "x": [
          -0.40549888910725707,
          -0.16097694592700157,
          -0.28323791751712984,
          -0.40549888910725707,
          0.5725888836137638,
          0.4503279120236366,
          0.9393717983841465,
          -0.28323791751712984,
          -0.16097694592700157,
          -0.16097694592700157
         ],
         "y": [
          -1.692478056435785,
          -0.5874869423318984,
          -0.36648871951112083,
          -1.25048161079423,
          -1.692478056435785,
          -0.36648871951112083,
          -0.36648871951112083,
          -0.14549049669034328,
          -0.36648871951112083,
          -0.5874869423318984
         ],
         "z": [
          0.16039966018294521,
          0.4409821561297883,
          -0.06406633657452922,
          0.16039966018294521,
          0.3848656569404199,
          0.32874915775105096,
          0.49709865531915676,
          0.21651615937231364,
          0.27263265856168256,
          0.21651615937231364
         ],
         "type": "scatter3d"
        },
        {
         "hovertemplate": "petal width (cm)=1.3110517659582452<br>sepal length (cm)=%{x}<br>sepal width (cm)=%{y}<br>petal length (cm)=%{z}<br>Type=%{marker.color}<extra></extra>",
         "legendgroup": "1.3110517659582452",
         "marker": {
          "color": [
           2,
           2,
           2
          ],
          "coloraxis": "coloraxis",
          "symbol": "circle"
         },
         "mode": "markers",
         "name": "1.3110517659582452",
         "scene": "scene",
         "showlegend": true,
         "x": [
          2.2842424858755512,
          0.8171108267940194,
          0.6948498552038921
         ],
         "y": [
          1.622495285875875,
          -0.14549049669034328,
          -0.5874869423318984
         ],
         "z": [
          1.6755451382958981,
          1.1704966455915802,
          1.058263647212843
         ],
         "type": "scatter3d"
        },
        {
         "hovertemplate": "petal width (cm)=-0.2402338075667124<br>sepal length (cm)=%{x}<br>sepal width (cm)=%{y}<br>petal length (cm)=%{z}<br>Type=%{marker.color}<extra></extra>",
         "legendgroup": "-0.2402338075667124",
         "marker": {
          "color": [
           1,
           1,
           1,
           1,
           1,
           1
          ],
          "coloraxis": "coloraxis",
          "symbol": "diamond"
         },
         "mode": "markers",
         "name": "-0.2402338075667124",
         "scene": "scene",
         "showlegend": true,
         "x": [
          -1.0168037470578952,
          -0.038715974336874376,
          -0.16097694592700157,
          -1.1390647186480225,
          -0.40549888910725707,
          0.20580596884338112
         ],
         "y": [
          -2.355472724898117,
          -0.8084851651526749,
          -1.0294833879734524,
          -1.4714798336150074,
          -1.4714798336150074,
          -1.9134762792565616
         ],
         "z": [
          -0.12018283576389789,
          0.21651615937231364,
          -0.12018283576389789,
          -0.23241583414263522,
          -0.00794983738516055,
          0.16039966018294521
         ],
         "type": "scatter3d"
        },
        {
         "hovertemplate": "petal width (cm)=0.9232303725770056<br>sepal length (cm)=%{x}<br>sepal width (cm)=%{y}<br>petal length (cm)=%{z}<br>Type=%{marker.color}<extra></extra>",
         "legendgroup": "0.9232303725770056",
         "marker": {
          "color": [
           2,
           2,
           2,
           2
          ],
          "coloraxis": "coloraxis",
          "symbol": "square"
         },
         "mode": "markers",
         "name": "0.9232303725770056",
         "scene": "scene",
         "showlegend": true,
         "x": [
          1.9174595711051685,
          -0.038715974336874376,
          -0.038715974336874376,
          0.6948498552038921
         ],
         "y": [
          -0.5874869423318984,
          -0.8084851651526749,
          -0.8084851651526749,
          -0.8084851651526749
         ],
         "z": [
          1.338846143159686,
          0.7776811512659998,
          0.7776811512659998,
          0.8899141496447371
         ],
         "type": "scatter3d"
        },
        {
         "hovertemplate": "petal width (cm)=0.7939565747832593<br>sepal length (cm)=%{x}<br>sepal width (cm)=%{y}<br>petal length (cm)=%{z}<br>Type=%{marker.color}<extra></extra>",
         "legendgroup": "0.7939565747832593",
         "marker": {
          "color": [
           2,
           2,
           2,
           2,
           2,
           2,
           2,
           2,
           2
          ],
          "coloraxis": "coloraxis",
          "symbol": "x"
         },
         "mode": "markers",
         "name": "0.7939565747832593",
         "scene": "scene",
         "showlegend": true,
         "x": [
          0.6948498552038921,
          0.4503279120236366,
          1.7951985995150401,
          0.8171108267940194,
          0.5725888836137638,
          0.5725888836137638,
          0.20580596884338112,
          1.061632769974275,
          0.08354499725325391
         ],
         "y": [
          0.07550772613043424,
          -0.5874869423318984,
          -0.36648871951112083,
          -0.14549049669034328,
          -0.36648871951112083,
          -0.8084851651526749,
          -0.14549049669034328,
          -1.25048161079423,
          -0.14549049669034328
         ],
         "z": [
          1.0021471480234745,
          0.6093316536978941,
          1.4510791415384234,
          1.0021471480234745,
          1.058263647212843,
          0.665448152887263,
          0.6093316536978941,
          1.1704966455915802,
          0.7776811512659998
         ],
         "type": "scatter3d"
        },
        {
         "hovertemplate": "petal width (cm)=-1.1451503921229376<br>sepal length (cm)=%{x}<br>sepal width (cm)=%{y}<br>petal length (cm)=%{z}<br>Type=%{marker.color}<extra></extra>",
         "legendgroup": "-1.1451503921229376",
         "marker": {
          "color": [
           0,
           0,
           0,
           0,
           0,
           0,
           0
          ],
          "coloraxis": "coloraxis",
          "symbol": "cross"
         },
         "mode": "markers",
         "name": "-1.1451503921229376",
         "scene": "scene",
         "showlegend": true,
         "x": [
          -0.8945427754677681,
          -0.8945427754677681,
          -1.5058476334184063,
          -1.6281086050085334,
          -1.2613256902381507,
          -0.16097694592700157,
          -1.0168037470578952
         ],
         "y": [
          1.622495285875875,
          0.9595006174135434,
          0.7385023945927659,
          -1.692478056435785,
          -0.14549049669034328,
          1.622495285875875,
          0.9595006174135434
         ],
         "z": [
          -1.2425128195512702,
          -1.298629318740639,
          -1.298629318740639,
          -1.3547458179300074,
          -1.298629318740639,
          -1.1302798211725331,
          -1.3547458179300074
         ],
         "type": "scatter3d"
        },
        {
         "hovertemplate": "petal width (cm)=1.1817779681644986<br>sepal length (cm)=%{x}<br>sepal width (cm)=%{y}<br>petal length (cm)=%{z}<br>Type=%{marker.color}<extra></extra>",
         "legendgroup": "1.1817779681644986",
         "marker": {
          "color": [
           2,
           2,
           2,
           2,
           2,
           2
          ],
          "coloraxis": "coloraxis",
          "symbol": "circle"
         },
         "mode": "markers",
         "name": "1.1817779681644986",
         "scene": "scene",
         "showlegend": true,
         "x": [
          1.3061547131545304,
          1.5506766563347847,
          1.061632769974275,
          2.161981514285423,
          0.6948498552038921,
          1.183893741564402
         ],
         "y": [
          0.07550772613043424,
          -0.14549049669034328,
          0.5175041717719884,
          -0.14549049669034328,
          -0.5874869423318984,
          -0.14549049669034328
         ],
         "z": [
          0.9460306488341061,
          1.2266131447809492,
          1.1143801464022118,
          1.6194286391065291,
          1.058263647212843,
          1.0021471480234745
         ],
         "type": "scatter3d"
        },
        {
         "hovertemplate": "petal width (cm)=0.2768613836082733<br>sepal length (cm)=%{x}<br>sepal width (cm)=%{y}<br>petal length (cm)=%{z}<br>Type=%{marker.color}<extra></extra>",
         "legendgroup": "0.2768613836082733",
         "marker": {
          "color": [
           2,
           1,
           1,
           1
          ],
          "coloraxis": "coloraxis",
          "symbol": "diamond"
         },
         "mode": "markers",
         "name": "0.2768613836082733",
         "scene": "scene",
         "showlegend": true,
         "x": [
          0.3280669404335083,
          0.9393717983841465,
          1.4284156847446574,
          0.3280669404335083
         ],
         "y": [
          -1.0294833879734524,
          -0.14549049669034328,
          0.2965059489512118,
          -0.14549049669034328
         ],
         "z": [
          1.058263647212843,
          0.3848656569404199,
          0.5532151545085257,
          0.49709865531915676
         ],
         "type": "scatter3d"
        },
        {
         "hovertemplate": "petal width (cm)=-1.4036979877104303<br>sepal length (cm)=%{x}<br>sepal width (cm)=%{y}<br>petal length (cm)=%{z}<br>Type=%{marker.color}<extra></extra>",
         "legendgroup": "-1.4036979877104303",
         "marker": {
          "color": [
           0,
           0,
           0,
           0
          ],
          "coloraxis": "coloraxis",
          "symbol": "square"
         },
         "mode": "markers",
         "name": "-1.4036979877104303",
         "scene": "scene",
         "showlegend": true,
         "x": [
          -1.2613256902381507,
          -1.872630548188789,
          -0.7722818038776398,
          -1.1390647186480225
         ],
         "y": [
          -0.14549049669034328,
          -0.14549049669034328,
          2.285489954338207,
          0.07550772613043424
         ],
         "z": [
          -1.298629318740639,
          -1.4669788163087447,
          -1.2425128195512702,
          -1.2425128195512702
         ],
         "type": "scatter3d"
        },
        {
         "hovertemplate": "petal width (cm)=0.4061351814020199<br>sepal length (cm)=%{x}<br>sepal width (cm)=%{y}<br>petal length (cm)=%{z}<br>Type=%{marker.color}<extra></extra>",
         "legendgroup": "0.4061351814020199",
         "marker": {
          "color": [
           1,
           1,
           1,
           2,
           1,
           2,
           1,
           1,
           1
          ],
          "coloraxis": "coloraxis",
          "symbol": "x"
         },
         "mode": "markers",
         "name": "0.4061351814020199",
         "scene": "scene",
         "showlegend": true,
         "x": [
          0.8171108267940194,
          0.5725888836137638,
          0.08354499725325391,
          0.20580596884338112,
          0.20580596884338112,
          0.5725888836137638,
          1.3061547131545304,
          0.4503279120236366,
          -0.28323791751712984
         ],
         "y": [
          -0.5874869423318984,
          -1.25048161079423,
          -0.14549049669034328,
          -1.9134762792565616,
          -0.36648871951112083,
          -0.5874869423318984,
          0.07550772613043424,
          -1.9134762792565616,
          -0.14549049669034328
         ],
         "z": [
          0.49709865531915676,
          0.665448152887263,
          0.27263265856168256,
          0.7215646520766315,
          0.4409821561297883,
          0.7776811512659998,
          0.665448152887263,
          0.4409821561297883,
          0.4409821561297883
         ],
         "type": "scatter3d"
        },
        {
         "hovertemplate": "petal width (cm)=0.6646827769895127<br>sepal length (cm)=%{x}<br>sepal width (cm)=%{y}<br>petal length (cm)=%{z}<br>Type=%{marker.color}<extra></extra>",
         "legendgroup": "0.6646827769895127",
         "marker": {
          "color": [
           2
          ],
          "coloraxis": "coloraxis",
          "symbol": "cross"
         },
         "mode": "markers",
         "name": "0.6646827769895127",
         "scene": "scene",
         "showlegend": true,
         "x": [
          -1.1390647186480225
         ],
         "y": [
          -1.25048161079423
         ],
         "z": [
          0.4409821561297883
         ],
         "type": "scatter3d"
        },
        {
         "hovertemplate": "petal width (cm)=0.01831378802078045<br>sepal length (cm)=%{x}<br>sepal width (cm)=%{y}<br>petal length (cm)=%{z}<br>Type=%{marker.color}<extra></extra>",
         "legendgroup": "0.01831378802078045",
         "marker": {
          "color": [
           1,
           1,
           1,
           1
          ],
          "coloraxis": "coloraxis",
          "symbol": "circle"
         },
         "mode": "markers",
         "name": "0.01831378802078045",
         "scene": "scene",
         "showlegend": true,
         "x": [
          0.3280669404335083,
          -0.038715974336874376,
          -0.038715974336874376,
          -0.40549888910725707
         ],
         "y": [
          -0.5874869423318984,
          -0.8084851651526749,
          -1.0294833879734524,
          -1.0294833879734524
         ],
         "z": [
          0.5532151545085257,
          0.10428316099357654,
          0.16039966018294521,
          0.3848656569404199
         ],
         "type": "scatter3d"
        },
        {
         "hovertemplate": "petal width (cm)=1.6988731593394844<br>sepal length (cm)=%{x}<br>sepal width (cm)=%{y}<br>petal length (cm)=%{z}<br>Type=%{marker.color}<extra></extra>",
         "legendgroup": "1.6988731593394844",
         "marker": {
          "color": [
           2,
           2,
           2
          ],
          "coloraxis": "coloraxis",
          "symbol": "diamond"
         },
         "mode": "markers",
         "name": "1.6988731593394844",
         "scene": "scene",
         "showlegend": true,
         "x": [
          0.5725888836137638,
          1.061632769974275,
          1.672937627924913
         ],
         "y": [
          0.5175041717719884,
          0.5175041717719884,
          1.180498840234321
         ],
         "z": [
          1.2827296439703175,
          1.1143801464022118,
          1.338846143159686
         ],
         "type": "scatter3d"
        },
        {
         "hovertemplate": "petal width (cm)=1.5695993615457378<br>sepal length (cm)=%{x}<br>sepal width (cm)=%{y}<br>petal length (cm)=%{z}<br>Type=%{marker.color}<extra></extra>",
         "legendgroup": "1.5695993615457378",
         "marker": {
          "color": [
           2,
           2
          ],
          "coloraxis": "coloraxis",
          "symbol": "square"
         },
         "mode": "markers",
         "name": "1.5695993615457378",
         "scene": "scene",
         "showlegend": true,
         "x": [
          -0.038715974336874376,
          1.061632769974275
         ],
         "y": [
          -0.5874869423318984,
          0.07550772613043424
         ],
         "z": [
          0.7776811512659998,
          1.058263647212843
         ],
         "type": "scatter3d"
        },
        {
         "hovertemplate": "petal width (cm)=1.052504170370752<br>sepal length (cm)=%{x}<br>sepal width (cm)=%{y}<br>petal length (cm)=%{z}<br>Type=%{marker.color}<extra></extra>",
         "legendgroup": "1.052504170370752",
         "marker": {
          "color": [
           2,
           2,
           2
          ],
          "coloraxis": "coloraxis",
          "symbol": "x"
         },
         "mode": "markers",
         "name": "1.052504170370752",
         "scene": "scene",
         "showlegend": true,
         "x": [
          0.8171108267940194,
          2.5287644290558067,
          0.8171108267940194
         ],
         "y": [
          0.2965059489512118,
          1.622495285875875,
          -0.14549049669034328
         ],
         "z": [
          0.7776811512659998,
          1.5071956407277922,
          0.8337976504553688
         ],
         "type": "scatter3d"
        },
        {
         "hovertemplate": "petal width (cm)=-1.015876594329191<br>sepal length (cm)=%{x}<br>sepal width (cm)=%{y}<br>petal length (cm)=%{z}<br>Type=%{marker.color}<extra></extra>",
         "legendgroup": "-1.015876594329191",
         "marker": {
          "color": [
           0,
           0,
           0,
           0,
           0,
           0
          ],
          "coloraxis": "coloraxis",
          "symbol": "cross"
         },
         "mode": "markers",
         "name": "-1.015876594329191",
         "scene": "scene",
         "showlegend": true,
         "x": [
          -0.8945427754677681,
          -0.5277598606973842,
          -0.16097694592700157,
          -0.8945427754677681,
          -1.0168037470578952,
          -0.5277598606973842
         ],
         "y": [
          1.4014970630550985,
          1.8434935086966526,
          2.94848462280054,
          1.622495285875875,
          0.7385023945927659,
          0.7385023945927659
         ],
         "z": [
          -1.2425128195512702,
          -1.1302798211725331,
          -1.2425128195512702,
          -1.0180468227937958,
          -1.1863963203619017,
          -1.2425128195512702
         ],
         "type": "scatter3d"
        },
        {
         "hovertemplate": "petal width (cm)=0.5354089791957665<br>sepal length (cm)=%{x}<br>sepal width (cm)=%{y}<br>petal length (cm)=%{z}<br>Type=%{marker.color}<extra></extra>",
         "legendgroup": "0.5354089791957665",
         "marker": {
          "color": [
           1,
           2,
           1,
           1
          ],
          "coloraxis": "coloraxis",
          "symbol": "circle"
         },
         "mode": "markers",
         "name": "0.5354089791957665",
         "scene": "scene",
         "showlegend": true,
         "x": [
          0.20580596884338112,
          1.672937627924913,
          0.20580596884338112,
          0.5725888836137638
         ],
         "y": [
          -0.8084851651526749,
          -0.14549049669034328,
          0.7385023945927659,
          0.5175041717719884
         ],
         "z": [
          0.7776811512659998,
          1.1704966455915802,
          0.4409821561297883,
          0.5532151545085257
         ],
         "type": "scatter3d"
        },
        {
         "hovertemplate": "petal width (cm)=-0.7573289987416982<br>sepal length (cm)=%{x}<br>sepal width (cm)=%{y}<br>petal length (cm)=%{z}<br>Type=%{marker.color}<extra></extra>",
         "legendgroup": "-0.7573289987416982",
         "marker": {
          "color": [
           0
          ],
          "coloraxis": "coloraxis",
          "symbol": "diamond"
         },
         "mode": "markers",
         "name": "-0.7573289987416982",
         "scene": "scene",
         "showlegend": true,
         "x": [
          -1.0168037470578952
         ],
         "y": [
          0.9595006174135434
         ],
         "z": [
          -1.1863963203619017
         ],
         "type": "scatter3d"
        }
       ],
       "layout": {
        "template": {
         "data": {
          "histogram2dcontour": [
           {
            "type": "histogram2dcontour",
            "colorbar": {
             "outlinewidth": 0,
             "ticks": ""
            },
            "colorscale": [
             [
              0.0,
              "#0d0887"
             ],
             [
              0.1111111111111111,
              "#46039f"
             ],
             [
              0.2222222222222222,
              "#7201a8"
             ],
             [
              0.3333333333333333,
              "#9c179e"
             ],
             [
              0.4444444444444444,
              "#bd3786"
             ],
             [
              0.5555555555555556,
              "#d8576b"
             ],
             [
              0.6666666666666666,
              "#ed7953"
             ],
             [
              0.7777777777777778,
              "#fb9f3a"
             ],
             [
              0.8888888888888888,
              "#fdca26"
             ],
             [
              1.0,
              "#f0f921"
             ]
            ]
           }
          ],
          "choropleth": [
           {
            "type": "choropleth",
            "colorbar": {
             "outlinewidth": 0,
             "ticks": ""
            }
           }
          ],
          "histogram2d": [
           {
            "type": "histogram2d",
            "colorbar": {
             "outlinewidth": 0,
             "ticks": ""
            },
            "colorscale": [
             [
              0.0,
              "#0d0887"
             ],
             [
              0.1111111111111111,
              "#46039f"
             ],
             [
              0.2222222222222222,
              "#7201a8"
             ],
             [
              0.3333333333333333,
              "#9c179e"
             ],
             [
              0.4444444444444444,
              "#bd3786"
             ],
             [
              0.5555555555555556,
              "#d8576b"
             ],
             [
              0.6666666666666666,
              "#ed7953"
             ],
             [
              0.7777777777777778,
              "#fb9f3a"
             ],
             [
              0.8888888888888888,
              "#fdca26"
             ],
             [
              1.0,
              "#f0f921"
             ]
            ]
           }
          ],
          "heatmap": [
           {
            "type": "heatmap",
            "colorbar": {
             "outlinewidth": 0,
             "ticks": ""
            },
            "colorscale": [
             [
              0.0,
              "#0d0887"
             ],
             [
              0.1111111111111111,
              "#46039f"
             ],
             [
              0.2222222222222222,
              "#7201a8"
             ],
             [
              0.3333333333333333,
              "#9c179e"
             ],
             [
              0.4444444444444444,
              "#bd3786"
             ],
             [
              0.5555555555555556,
              "#d8576b"
             ],
             [
              0.6666666666666666,
              "#ed7953"
             ],
             [
              0.7777777777777778,
              "#fb9f3a"
             ],
             [
              0.8888888888888888,
              "#fdca26"
             ],
             [
              1.0,
              "#f0f921"
             ]
            ]
           }
          ],
          "heatmapgl": [
           {
            "type": "heatmapgl",
            "colorbar": {
             "outlinewidth": 0,
             "ticks": ""
            },
            "colorscale": [
             [
              0.0,
              "#0d0887"
             ],
             [
              0.1111111111111111,
              "#46039f"
             ],
             [
              0.2222222222222222,
              "#7201a8"
             ],
             [
              0.3333333333333333,
              "#9c179e"
             ],
             [
              0.4444444444444444,
              "#bd3786"
             ],
             [
              0.5555555555555556,
              "#d8576b"
             ],
             [
              0.6666666666666666,
              "#ed7953"
             ],
             [
              0.7777777777777778,
              "#fb9f3a"
             ],
             [
              0.8888888888888888,
              "#fdca26"
             ],
             [
              1.0,
              "#f0f921"
             ]
            ]
           }
          ],
          "contourcarpet": [
           {
            "type": "contourcarpet",
            "colorbar": {
             "outlinewidth": 0,
             "ticks": ""
            }
           }
          ],
          "contour": [
           {
            "type": "contour",
            "colorbar": {
             "outlinewidth": 0,
             "ticks": ""
            },
            "colorscale": [
             [
              0.0,
              "#0d0887"
             ],
             [
              0.1111111111111111,
              "#46039f"
             ],
             [
              0.2222222222222222,
              "#7201a8"
             ],
             [
              0.3333333333333333,
              "#9c179e"
             ],
             [
              0.4444444444444444,
              "#bd3786"
             ],
             [
              0.5555555555555556,
              "#d8576b"
             ],
             [
              0.6666666666666666,
              "#ed7953"
             ],
             [
              0.7777777777777778,
              "#fb9f3a"
             ],
             [
              0.8888888888888888,
              "#fdca26"
             ],
             [
              1.0,
              "#f0f921"
             ]
            ]
           }
          ],
          "surface": [
           {
            "type": "surface",
            "colorbar": {
             "outlinewidth": 0,
             "ticks": ""
            },
            "colorscale": [
             [
              0.0,
              "#0d0887"
             ],
             [
              0.1111111111111111,
              "#46039f"
             ],
             [
              0.2222222222222222,
              "#7201a8"
             ],
             [
              0.3333333333333333,
              "#9c179e"
             ],
             [
              0.4444444444444444,
              "#bd3786"
             ],
             [
              0.5555555555555556,
              "#d8576b"
             ],
             [
              0.6666666666666666,
              "#ed7953"
             ],
             [
              0.7777777777777778,
              "#fb9f3a"
             ],
             [
              0.8888888888888888,
              "#fdca26"
             ],
             [
              1.0,
              "#f0f921"
             ]
            ]
           }
          ],
          "mesh3d": [
           {
            "type": "mesh3d",
            "colorbar": {
             "outlinewidth": 0,
             "ticks": ""
            }
           }
          ],
          "scatter": [
           {
            "marker": {
             "line": {
              "color": "#283442"
             }
            },
            "type": "scatter"
           }
          ],
          "parcoords": [
           {
            "type": "parcoords",
            "line": {
             "colorbar": {
              "outlinewidth": 0,
              "ticks": ""
             }
            }
           }
          ],
          "scatterpolargl": [
           {
            "type": "scatterpolargl",
            "marker": {
             "colorbar": {
              "outlinewidth": 0,
              "ticks": ""
             }
            }
           }
          ],
          "bar": [
           {
            "error_x": {
             "color": "#f2f5fa"
            },
            "error_y": {
             "color": "#f2f5fa"
            },
            "marker": {
             "line": {
              "color": "rgb(17,17,17)",
              "width": 0.5
             },
             "pattern": {
              "fillmode": "overlay",
              "size": 10,
              "solidity": 0.2
             }
            },
            "type": "bar"
           }
          ],
          "scattergeo": [
           {
            "type": "scattergeo",
            "marker": {
             "colorbar": {
              "outlinewidth": 0,
              "ticks": ""
             }
            }
           }
          ],
          "scatterpolar": [
           {
            "type": "scatterpolar",
            "marker": {
             "colorbar": {
              "outlinewidth": 0,
              "ticks": ""
             }
            }
           }
          ],
          "histogram": [
           {
            "marker": {
             "pattern": {
              "fillmode": "overlay",
              "size": 10,
              "solidity": 0.2
             }
            },
            "type": "histogram"
           }
          ],
          "scattergl": [
           {
            "marker": {
             "line": {
              "color": "#283442"
             }
            },
            "type": "scattergl"
           }
          ],
          "scatter3d": [
           {
            "type": "scatter3d",
            "line": {
             "colorbar": {
              "outlinewidth": 0,
              "ticks": ""
             }
            },
            "marker": {
             "colorbar": {
              "outlinewidth": 0,
              "ticks": ""
             }
            }
           }
          ],
          "scattermapbox": [
           {
            "type": "scattermapbox",
            "marker": {
             "colorbar": {
              "outlinewidth": 0,
              "ticks": ""
             }
            }
           }
          ],
          "scatterternary": [
           {
            "type": "scatterternary",
            "marker": {
             "colorbar": {
              "outlinewidth": 0,
              "ticks": ""
             }
            }
           }
          ],
          "scattercarpet": [
           {
            "type": "scattercarpet",
            "marker": {
             "colorbar": {
              "outlinewidth": 0,
              "ticks": ""
             }
            }
           }
          ],
          "carpet": [
           {
            "aaxis": {
             "endlinecolor": "#A2B1C6",
             "gridcolor": "#506784",
             "linecolor": "#506784",
             "minorgridcolor": "#506784",
             "startlinecolor": "#A2B1C6"
            },
            "baxis": {
             "endlinecolor": "#A2B1C6",
             "gridcolor": "#506784",
             "linecolor": "#506784",
             "minorgridcolor": "#506784",
             "startlinecolor": "#A2B1C6"
            },
            "type": "carpet"
           }
          ],
          "table": [
           {
            "cells": {
             "fill": {
              "color": "#506784"
             },
             "line": {
              "color": "rgb(17,17,17)"
             }
            },
            "header": {
             "fill": {
              "color": "#2a3f5f"
             },
             "line": {
              "color": "rgb(17,17,17)"
             }
            },
            "type": "table"
           }
          ],
          "barpolar": [
           {
            "marker": {
             "line": {
              "color": "rgb(17,17,17)",
              "width": 0.5
             },
             "pattern": {
              "fillmode": "overlay",
              "size": 10,
              "solidity": 0.2
             }
            },
            "type": "barpolar"
           }
          ],
          "pie": [
           {
            "automargin": true,
            "type": "pie"
           }
          ]
         },
         "layout": {
          "autotypenumbers": "strict",
          "colorway": [
           "#636efa",
           "#EF553B",
           "#00cc96",
           "#ab63fa",
           "#FFA15A",
           "#19d3f3",
           "#FF6692",
           "#B6E880",
           "#FF97FF",
           "#FECB52"
          ],
          "font": {
           "color": "#f2f5fa"
          },
          "hovermode": "closest",
          "hoverlabel": {
           "align": "left"
          },
          "paper_bgcolor": "rgb(17,17,17)",
          "plot_bgcolor": "rgb(17,17,17)",
          "polar": {
           "bgcolor": "rgb(17,17,17)",
           "angularaxis": {
            "gridcolor": "#506784",
            "linecolor": "#506784",
            "ticks": ""
           },
           "radialaxis": {
            "gridcolor": "#506784",
            "linecolor": "#506784",
            "ticks": ""
           }
          },
          "ternary": {
           "bgcolor": "rgb(17,17,17)",
           "aaxis": {
            "gridcolor": "#506784",
            "linecolor": "#506784",
            "ticks": ""
           },
           "baxis": {
            "gridcolor": "#506784",
            "linecolor": "#506784",
            "ticks": ""
           },
           "caxis": {
            "gridcolor": "#506784",
            "linecolor": "#506784",
            "ticks": ""
           }
          },
          "coloraxis": {
           "colorbar": {
            "outlinewidth": 0,
            "ticks": ""
           }
          },
          "colorscale": {
           "sequential": [
            [
             0.0,
             "#0d0887"
            ],
            [
             0.1111111111111111,
             "#46039f"
            ],
            [
             0.2222222222222222,
             "#7201a8"
            ],
            [
             0.3333333333333333,
             "#9c179e"
            ],
            [
             0.4444444444444444,
             "#bd3786"
            ],
            [
             0.5555555555555556,
             "#d8576b"
            ],
            [
             0.6666666666666666,
             "#ed7953"
            ],
            [
             0.7777777777777778,
             "#fb9f3a"
            ],
            [
             0.8888888888888888,
             "#fdca26"
            ],
            [
             1.0,
             "#f0f921"
            ]
           ],
           "sequentialminus": [
            [
             0.0,
             "#0d0887"
            ],
            [
             0.1111111111111111,
             "#46039f"
            ],
            [
             0.2222222222222222,
             "#7201a8"
            ],
            [
             0.3333333333333333,
             "#9c179e"
            ],
            [
             0.4444444444444444,
             "#bd3786"
            ],
            [
             0.5555555555555556,
             "#d8576b"
            ],
            [
             0.6666666666666666,
             "#ed7953"
            ],
            [
             0.7777777777777778,
             "#fb9f3a"
            ],
            [
             0.8888888888888888,
             "#fdca26"
            ],
            [
             1.0,
             "#f0f921"
            ]
           ],
           "diverging": [
            [
             0,
             "#8e0152"
            ],
            [
             0.1,
             "#c51b7d"
            ],
            [
             0.2,
             "#de77ae"
            ],
            [
             0.3,
             "#f1b6da"
            ],
            [
             0.4,
             "#fde0ef"
            ],
            [
             0.5,
             "#f7f7f7"
            ],
            [
             0.6,
             "#e6f5d0"
            ],
            [
             0.7,
             "#b8e186"
            ],
            [
             0.8,
             "#7fbc41"
            ],
            [
             0.9,
             "#4d9221"
            ],
            [
             1,
             "#276419"
            ]
           ]
          },
          "xaxis": {
           "gridcolor": "#283442",
           "linecolor": "#506784",
           "ticks": "",
           "title": {
            "standoff": 15
           },
           "zerolinecolor": "#283442",
           "automargin": true,
           "zerolinewidth": 2
          },
          "yaxis": {
           "gridcolor": "#283442",
           "linecolor": "#506784",
           "ticks": "",
           "title": {
            "standoff": 15
           },
           "zerolinecolor": "#283442",
           "automargin": true,
           "zerolinewidth": 2
          },
          "scene": {
           "xaxis": {
            "backgroundcolor": "rgb(17,17,17)",
            "gridcolor": "#506784",
            "linecolor": "#506784",
            "showbackground": true,
            "ticks": "",
            "zerolinecolor": "#C8D4E3",
            "gridwidth": 2
           },
           "yaxis": {
            "backgroundcolor": "rgb(17,17,17)",
            "gridcolor": "#506784",
            "linecolor": "#506784",
            "showbackground": true,
            "ticks": "",
            "zerolinecolor": "#C8D4E3",
            "gridwidth": 2
           },
           "zaxis": {
            "backgroundcolor": "rgb(17,17,17)",
            "gridcolor": "#506784",
            "linecolor": "#506784",
            "showbackground": true,
            "ticks": "",
            "zerolinecolor": "#C8D4E3",
            "gridwidth": 2
           }
          },
          "shapedefaults": {
           "line": {
            "color": "#f2f5fa"
           }
          },
          "annotationdefaults": {
           "arrowcolor": "#f2f5fa",
           "arrowhead": 0,
           "arrowwidth": 1
          },
          "geo": {
           "bgcolor": "rgb(17,17,17)",
           "landcolor": "rgb(17,17,17)",
           "subunitcolor": "#506784",
           "showland": true,
           "showlakes": true,
           "lakecolor": "rgb(17,17,17)"
          },
          "title": {
           "x": 0.05
          },
          "updatemenudefaults": {
           "bgcolor": "#506784",
           "borderwidth": 0
          },
          "sliderdefaults": {
           "bgcolor": "#C8D4E3",
           "borderwidth": 1,
           "bordercolor": "rgb(17,17,17)",
           "tickwidth": 0
          },
          "mapbox": {
           "style": "dark"
          }
         }
        },
        "scene": {
         "domain": {
          "x": [
           0.0,
           1.0
          ],
          "y": [
           0.0,
           1.0
          ]
         },
         "xaxis": {
          "title": {
           "text": "sepal length (cm)"
          }
         },
         "yaxis": {
          "title": {
           "text": "sepal width (cm)"
          }
         },
         "zaxis": {
          "title": {
           "text": "petal length (cm)"
          }
         }
        },
        "coloraxis": {
         "colorbar": {
          "title": {
           "text": "Type"
          }
         },
         "colorscale": [
          [
           0.0,
           "#0d0887"
          ],
          [
           0.1111111111111111,
           "#46039f"
          ],
          [
           0.2222222222222222,
           "#7201a8"
          ],
          [
           0.3333333333333333,
           "#9c179e"
          ],
          [
           0.4444444444444444,
           "#bd3786"
          ],
          [
           0.5555555555555556,
           "#d8576b"
          ],
          [
           0.6666666666666666,
           "#ed7953"
          ],
          [
           0.7777777777777778,
           "#fb9f3a"
          ],
          [
           0.8888888888888888,
           "#fdca26"
          ],
          [
           1.0,
           "#f0f921"
          ]
         ]
        },
        "legend": {
         "title": {
          "text": "petal width (cm)"
         },
         "tracegroupgap": 0,
         "orientation": "v",
         "yanchor": "top",
         "xanchor": "right"
        },
        "title": {
         "text": "Normalised flowers' data"
        }
       },
       "config": {
        "plotlyServerURL": "https://plot.ly"
       }
      },
      "text/html": "<div>                            <div id=\"c7429ceb-c656-41b5-91e2-760e77134f34\" class=\"plotly-graph-div\" style=\"height:525px; width:100%;\"></div>            <script type=\"text/javascript\">                require([\"plotly\"], function(Plotly) {                    window.PLOTLYENV=window.PLOTLYENV || {};                                    if (document.getElementById(\"c7429ceb-c656-41b5-91e2-760e77134f34\")) {                    Plotly.newPlot(                        \"c7429ceb-c656-41b5-91e2-760e77134f34\",                        [{\"hovertemplate\":\"petal width (cm)=-0.8866027965354446<br>sepal length (cm)=%{x}<br>sepal width (cm)=%{y}<br>petal length (cm)=%{z}<br>Type=%{marker.color}<extra></extra>\",\"legendgroup\":\"-0.8866027965354446\",\"marker\":{\"color\":[0],\"coloraxis\":\"coloraxis\",\"symbol\":\"circle\"},\"mode\":\"markers\",\"name\":\"-0.8866027965354446\",\"scene\":\"scene\",\"showlegend\":true,\"x\":[-0.8945427754677681],\"y\":[0.5175041717719884],\"z\":[-1.1302798211725331],\"type\":\"scatter3d\"},{\"hovertemplate\":\"petal width (cm)=-1.2744241899166842<br>sepal length (cm)=%{x}<br>sepal width (cm)=%{y}<br>petal length (cm)=%{z}<br>Type=%{marker.color}<extra></extra>\",\"legendgroup\":\"-1.2744241899166842\",\"marker\":{\"color\":[0,0,0,0,0,0,0,0,0,0,0,0,0,0,0,0,0,0,0,0,0,0,0],\"coloraxis\":\"coloraxis\",\"symbol\":\"diamond\"},\"mode\":\"markers\",\"name\":\"-1.2744241899166842\",\"scene\":\"scene\",\"showlegend\":true,\"x\":[-1.5058476334184063,-0.7722818038776398,-0.6500208322875126,-0.40549888910725707,-0.7722818038776398,-1.5058476334184063,-1.7503695765986607,-1.383586661828278,-1.383586661828278,-1.0168037470578952,-1.2613256902381507,-1.2613256902381507,-0.5277598606973842,-0.40549888910725707,-0.038715974336874376,-1.5058476334184063,-1.0168037470578952,-1.0168037470578952,-0.8945427754677681,-1.7503695765986607,-0.8945427754677681,-0.5277598606973842,-1.0168037470578952],\"y\":[0.2965059489512118,0.9595006174135434,1.4014970630550985,0.9595006174135434,0.7385023945927659,1.180498840234321,-0.14549049669034328,0.2965059489512118,0.2965059489512118,0.7385023945927659,0.07550772613043424,0.7385023945927659,1.4014970630550985,2.5064881771589853,2.06449173151743,0.07550772613043424,0.2965059489512118,0.5175041717719884,1.622495285875875,-0.36648871951112083,0.9595006174135434,0.7385023945927659,-0.14549049669034328],\"z\":[-1.298629318740639,-1.2425128195512702,-1.2425128195512702,-1.3547458179300074,-1.298629318740639,-1.5230953154981135,-1.3547458179300074,-1.3547458179300074,-1.1863963203619017,-1.2425128195512702,-1.1863963203619017,-1.1863963203619017,-1.2425128195512702,-1.298629318740639,-1.4108623171193764,-1.2425128195512702,-1.4108623171193764,-1.298629318740639,-1.1863963203619017,-1.298629318740639,-1.298629318740639,-1.1302798211725331,-1.1863963203619017],\"type\":\"scatter3d\"},{\"hovertemplate\":\"petal width (cm)=1.4403255637519912<br>sepal length (cm)=%{x}<br>sepal width (cm)=%{y}<br>petal length (cm)=%{z}<br>Type=%{marker.color}<extra></extra>\",\"legendgroup\":\"1.4403255637519912\",\"marker\":{\"color\":[2,2,2,2,2,2,2],\"coloraxis\":\"coloraxis\",\"symbol\":\"square\"},\"mode\":\"markers\",\"name\":\"1.4403255637519912\",\"scene\":\"scene\",\"showlegend\":true,\"x\":[1.3061547131545304,0.4503279120236366,0.6948498552038921,2.2842424858755512,1.3061547131545304,1.061632769974275,1.183893741564402],\"y\":[0.2965059489512118,0.7385023945927659,0.2965059489512118,-0.14549049669034328,0.07550772613043424,-0.14549049669034328,0.2965059489512118],\"z\":[1.1143801464022118,0.9460306488341061,0.8899141496447371,1.338846143159686,0.7776811512659998,0.8337976504553688,1.2266131447809492],\"type\":\"scatter3d\"},{\"hovertemplate\":\"petal width (cm)=-0.11096000977296583<br>sepal length (cm)=%{x}<br>sepal width (cm)=%{y}<br>petal length (cm)=%{z}<br>Type=%{marker.color}<extra></extra>\",\"legendgroup\":\"-0.11096000977296583\",\"marker\":{\"color\":[1,1,1],\"coloraxis\":\"coloraxis\",\"symbol\":\"x\"},\"mode\":\"markers\",\"name\":\"-0.11096000977296583\",\"scene\":\"scene\",\"showlegend\":true,\"x\":[-0.40549888910725707,-0.28323791751712984,-0.8945427754677681],\"y\":[-1.4714798336150074,-1.25048161079423,-1.25048161079423],\"z\":[0.04816666180420787,0.10428316099357654,-0.40076533171074097],\"type\":\"scatter3d\"},{\"hovertemplate\":\"petal width (cm)=0.14758758581452702<br>sepal length (cm)=%{x}<br>sepal width (cm)=%{y}<br>petal length (cm)=%{z}<br>Type=%{marker.color}<extra></extra>\",\"legendgroup\":\"0.14758758581452702\",\"marker\":{\"color\":[1,1,1,1,1,1,1,1,1,1],\"coloraxis\":\"coloraxis\",\"symbol\":\"cross\"},\"mode\":\"markers\",\"name\":\"0.14758758581452702\",\"scene\":\"scene\",\"showlegend\":true,\"x\":[-0.40549888910725707,-0.16097694592700157,-0.28323791751712984,-0.40549888910725707,0.5725888836137638,0.4503279120236366,0.9393717983841465,-0.28323791751712984,-0.16097694592700157,-0.16097694592700157],\"y\":[-1.692478056435785,-0.5874869423318984,-0.36648871951112083,-1.25048161079423,-1.692478056435785,-0.36648871951112083,-0.36648871951112083,-0.14549049669034328,-0.36648871951112083,-0.5874869423318984],\"z\":[0.16039966018294521,0.4409821561297883,-0.06406633657452922,0.16039966018294521,0.3848656569404199,0.32874915775105096,0.49709865531915676,0.21651615937231364,0.27263265856168256,0.21651615937231364],\"type\":\"scatter3d\"},{\"hovertemplate\":\"petal width (cm)=1.3110517659582452<br>sepal length (cm)=%{x}<br>sepal width (cm)=%{y}<br>petal length (cm)=%{z}<br>Type=%{marker.color}<extra></extra>\",\"legendgroup\":\"1.3110517659582452\",\"marker\":{\"color\":[2,2,2],\"coloraxis\":\"coloraxis\",\"symbol\":\"circle\"},\"mode\":\"markers\",\"name\":\"1.3110517659582452\",\"scene\":\"scene\",\"showlegend\":true,\"x\":[2.2842424858755512,0.8171108267940194,0.6948498552038921],\"y\":[1.622495285875875,-0.14549049669034328,-0.5874869423318984],\"z\":[1.6755451382958981,1.1704966455915802,1.058263647212843],\"type\":\"scatter3d\"},{\"hovertemplate\":\"petal width (cm)=-0.2402338075667124<br>sepal length (cm)=%{x}<br>sepal width (cm)=%{y}<br>petal length (cm)=%{z}<br>Type=%{marker.color}<extra></extra>\",\"legendgroup\":\"-0.2402338075667124\",\"marker\":{\"color\":[1,1,1,1,1,1],\"coloraxis\":\"coloraxis\",\"symbol\":\"diamond\"},\"mode\":\"markers\",\"name\":\"-0.2402338075667124\",\"scene\":\"scene\",\"showlegend\":true,\"x\":[-1.0168037470578952,-0.038715974336874376,-0.16097694592700157,-1.1390647186480225,-0.40549888910725707,0.20580596884338112],\"y\":[-2.355472724898117,-0.8084851651526749,-1.0294833879734524,-1.4714798336150074,-1.4714798336150074,-1.9134762792565616],\"z\":[-0.12018283576389789,0.21651615937231364,-0.12018283576389789,-0.23241583414263522,-0.00794983738516055,0.16039966018294521],\"type\":\"scatter3d\"},{\"hovertemplate\":\"petal width (cm)=0.9232303725770056<br>sepal length (cm)=%{x}<br>sepal width (cm)=%{y}<br>petal length (cm)=%{z}<br>Type=%{marker.color}<extra></extra>\",\"legendgroup\":\"0.9232303725770056\",\"marker\":{\"color\":[2,2,2,2],\"coloraxis\":\"coloraxis\",\"symbol\":\"square\"},\"mode\":\"markers\",\"name\":\"0.9232303725770056\",\"scene\":\"scene\",\"showlegend\":true,\"x\":[1.9174595711051685,-0.038715974336874376,-0.038715974336874376,0.6948498552038921],\"y\":[-0.5874869423318984,-0.8084851651526749,-0.8084851651526749,-0.8084851651526749],\"z\":[1.338846143159686,0.7776811512659998,0.7776811512659998,0.8899141496447371],\"type\":\"scatter3d\"},{\"hovertemplate\":\"petal width (cm)=0.7939565747832593<br>sepal length (cm)=%{x}<br>sepal width (cm)=%{y}<br>petal length (cm)=%{z}<br>Type=%{marker.color}<extra></extra>\",\"legendgroup\":\"0.7939565747832593\",\"marker\":{\"color\":[2,2,2,2,2,2,2,2,2],\"coloraxis\":\"coloraxis\",\"symbol\":\"x\"},\"mode\":\"markers\",\"name\":\"0.7939565747832593\",\"scene\":\"scene\",\"showlegend\":true,\"x\":[0.6948498552038921,0.4503279120236366,1.7951985995150401,0.8171108267940194,0.5725888836137638,0.5725888836137638,0.20580596884338112,1.061632769974275,0.08354499725325391],\"y\":[0.07550772613043424,-0.5874869423318984,-0.36648871951112083,-0.14549049669034328,-0.36648871951112083,-0.8084851651526749,-0.14549049669034328,-1.25048161079423,-0.14549049669034328],\"z\":[1.0021471480234745,0.6093316536978941,1.4510791415384234,1.0021471480234745,1.058263647212843,0.665448152887263,0.6093316536978941,1.1704966455915802,0.7776811512659998],\"type\":\"scatter3d\"},{\"hovertemplate\":\"petal width (cm)=-1.1451503921229376<br>sepal length (cm)=%{x}<br>sepal width (cm)=%{y}<br>petal length (cm)=%{z}<br>Type=%{marker.color}<extra></extra>\",\"legendgroup\":\"-1.1451503921229376\",\"marker\":{\"color\":[0,0,0,0,0,0,0],\"coloraxis\":\"coloraxis\",\"symbol\":\"cross\"},\"mode\":\"markers\",\"name\":\"-1.1451503921229376\",\"scene\":\"scene\",\"showlegend\":true,\"x\":[-0.8945427754677681,-0.8945427754677681,-1.5058476334184063,-1.6281086050085334,-1.2613256902381507,-0.16097694592700157,-1.0168037470578952],\"y\":[1.622495285875875,0.9595006174135434,0.7385023945927659,-1.692478056435785,-0.14549049669034328,1.622495285875875,0.9595006174135434],\"z\":[-1.2425128195512702,-1.298629318740639,-1.298629318740639,-1.3547458179300074,-1.298629318740639,-1.1302798211725331,-1.3547458179300074],\"type\":\"scatter3d\"},{\"hovertemplate\":\"petal width (cm)=1.1817779681644986<br>sepal length (cm)=%{x}<br>sepal width (cm)=%{y}<br>petal length (cm)=%{z}<br>Type=%{marker.color}<extra></extra>\",\"legendgroup\":\"1.1817779681644986\",\"marker\":{\"color\":[2,2,2,2,2,2],\"coloraxis\":\"coloraxis\",\"symbol\":\"circle\"},\"mode\":\"markers\",\"name\":\"1.1817779681644986\",\"scene\":\"scene\",\"showlegend\":true,\"x\":[1.3061547131545304,1.5506766563347847,1.061632769974275,2.161981514285423,0.6948498552038921,1.183893741564402],\"y\":[0.07550772613043424,-0.14549049669034328,0.5175041717719884,-0.14549049669034328,-0.5874869423318984,-0.14549049669034328],\"z\":[0.9460306488341061,1.2266131447809492,1.1143801464022118,1.6194286391065291,1.058263647212843,1.0021471480234745],\"type\":\"scatter3d\"},{\"hovertemplate\":\"petal width (cm)=0.2768613836082733<br>sepal length (cm)=%{x}<br>sepal width (cm)=%{y}<br>petal length (cm)=%{z}<br>Type=%{marker.color}<extra></extra>\",\"legendgroup\":\"0.2768613836082733\",\"marker\":{\"color\":[2,1,1,1],\"coloraxis\":\"coloraxis\",\"symbol\":\"diamond\"},\"mode\":\"markers\",\"name\":\"0.2768613836082733\",\"scene\":\"scene\",\"showlegend\":true,\"x\":[0.3280669404335083,0.9393717983841465,1.4284156847446574,0.3280669404335083],\"y\":[-1.0294833879734524,-0.14549049669034328,0.2965059489512118,-0.14549049669034328],\"z\":[1.058263647212843,0.3848656569404199,0.5532151545085257,0.49709865531915676],\"type\":\"scatter3d\"},{\"hovertemplate\":\"petal width (cm)=-1.4036979877104303<br>sepal length (cm)=%{x}<br>sepal width (cm)=%{y}<br>petal length (cm)=%{z}<br>Type=%{marker.color}<extra></extra>\",\"legendgroup\":\"-1.4036979877104303\",\"marker\":{\"color\":[0,0,0,0],\"coloraxis\":\"coloraxis\",\"symbol\":\"square\"},\"mode\":\"markers\",\"name\":\"-1.4036979877104303\",\"scene\":\"scene\",\"showlegend\":true,\"x\":[-1.2613256902381507,-1.872630548188789,-0.7722818038776398,-1.1390647186480225],\"y\":[-0.14549049669034328,-0.14549049669034328,2.285489954338207,0.07550772613043424],\"z\":[-1.298629318740639,-1.4669788163087447,-1.2425128195512702,-1.2425128195512702],\"type\":\"scatter3d\"},{\"hovertemplate\":\"petal width (cm)=0.4061351814020199<br>sepal length (cm)=%{x}<br>sepal width (cm)=%{y}<br>petal length (cm)=%{z}<br>Type=%{marker.color}<extra></extra>\",\"legendgroup\":\"0.4061351814020199\",\"marker\":{\"color\":[1,1,1,2,1,2,1,1,1],\"coloraxis\":\"coloraxis\",\"symbol\":\"x\"},\"mode\":\"markers\",\"name\":\"0.4061351814020199\",\"scene\":\"scene\",\"showlegend\":true,\"x\":[0.8171108267940194,0.5725888836137638,0.08354499725325391,0.20580596884338112,0.20580596884338112,0.5725888836137638,1.3061547131545304,0.4503279120236366,-0.28323791751712984],\"y\":[-0.5874869423318984,-1.25048161079423,-0.14549049669034328,-1.9134762792565616,-0.36648871951112083,-0.5874869423318984,0.07550772613043424,-1.9134762792565616,-0.14549049669034328],\"z\":[0.49709865531915676,0.665448152887263,0.27263265856168256,0.7215646520766315,0.4409821561297883,0.7776811512659998,0.665448152887263,0.4409821561297883,0.4409821561297883],\"type\":\"scatter3d\"},{\"hovertemplate\":\"petal width (cm)=0.6646827769895127<br>sepal length (cm)=%{x}<br>sepal width (cm)=%{y}<br>petal length (cm)=%{z}<br>Type=%{marker.color}<extra></extra>\",\"legendgroup\":\"0.6646827769895127\",\"marker\":{\"color\":[2],\"coloraxis\":\"coloraxis\",\"symbol\":\"cross\"},\"mode\":\"markers\",\"name\":\"0.6646827769895127\",\"scene\":\"scene\",\"showlegend\":true,\"x\":[-1.1390647186480225],\"y\":[-1.25048161079423],\"z\":[0.4409821561297883],\"type\":\"scatter3d\"},{\"hovertemplate\":\"petal width (cm)=0.01831378802078045<br>sepal length (cm)=%{x}<br>sepal width (cm)=%{y}<br>petal length (cm)=%{z}<br>Type=%{marker.color}<extra></extra>\",\"legendgroup\":\"0.01831378802078045\",\"marker\":{\"color\":[1,1,1,1],\"coloraxis\":\"coloraxis\",\"symbol\":\"circle\"},\"mode\":\"markers\",\"name\":\"0.01831378802078045\",\"scene\":\"scene\",\"showlegend\":true,\"x\":[0.3280669404335083,-0.038715974336874376,-0.038715974336874376,-0.40549888910725707],\"y\":[-0.5874869423318984,-0.8084851651526749,-1.0294833879734524,-1.0294833879734524],\"z\":[0.5532151545085257,0.10428316099357654,0.16039966018294521,0.3848656569404199],\"type\":\"scatter3d\"},{\"hovertemplate\":\"petal width (cm)=1.6988731593394844<br>sepal length (cm)=%{x}<br>sepal width (cm)=%{y}<br>petal length (cm)=%{z}<br>Type=%{marker.color}<extra></extra>\",\"legendgroup\":\"1.6988731593394844\",\"marker\":{\"color\":[2,2,2],\"coloraxis\":\"coloraxis\",\"symbol\":\"diamond\"},\"mode\":\"markers\",\"name\":\"1.6988731593394844\",\"scene\":\"scene\",\"showlegend\":true,\"x\":[0.5725888836137638,1.061632769974275,1.672937627924913],\"y\":[0.5175041717719884,0.5175041717719884,1.180498840234321],\"z\":[1.2827296439703175,1.1143801464022118,1.338846143159686],\"type\":\"scatter3d\"},{\"hovertemplate\":\"petal width (cm)=1.5695993615457378<br>sepal length (cm)=%{x}<br>sepal width (cm)=%{y}<br>petal length (cm)=%{z}<br>Type=%{marker.color}<extra></extra>\",\"legendgroup\":\"1.5695993615457378\",\"marker\":{\"color\":[2,2],\"coloraxis\":\"coloraxis\",\"symbol\":\"square\"},\"mode\":\"markers\",\"name\":\"1.5695993615457378\",\"scene\":\"scene\",\"showlegend\":true,\"x\":[-0.038715974336874376,1.061632769974275],\"y\":[-0.5874869423318984,0.07550772613043424],\"z\":[0.7776811512659998,1.058263647212843],\"type\":\"scatter3d\"},{\"hovertemplate\":\"petal width (cm)=1.052504170370752<br>sepal length (cm)=%{x}<br>sepal width (cm)=%{y}<br>petal length (cm)=%{z}<br>Type=%{marker.color}<extra></extra>\",\"legendgroup\":\"1.052504170370752\",\"marker\":{\"color\":[2,2,2],\"coloraxis\":\"coloraxis\",\"symbol\":\"x\"},\"mode\":\"markers\",\"name\":\"1.052504170370752\",\"scene\":\"scene\",\"showlegend\":true,\"x\":[0.8171108267940194,2.5287644290558067,0.8171108267940194],\"y\":[0.2965059489512118,1.622495285875875,-0.14549049669034328],\"z\":[0.7776811512659998,1.5071956407277922,0.8337976504553688],\"type\":\"scatter3d\"},{\"hovertemplate\":\"petal width (cm)=-1.015876594329191<br>sepal length (cm)=%{x}<br>sepal width (cm)=%{y}<br>petal length (cm)=%{z}<br>Type=%{marker.color}<extra></extra>\",\"legendgroup\":\"-1.015876594329191\",\"marker\":{\"color\":[0,0,0,0,0,0],\"coloraxis\":\"coloraxis\",\"symbol\":\"cross\"},\"mode\":\"markers\",\"name\":\"-1.015876594329191\",\"scene\":\"scene\",\"showlegend\":true,\"x\":[-0.8945427754677681,-0.5277598606973842,-0.16097694592700157,-0.8945427754677681,-1.0168037470578952,-0.5277598606973842],\"y\":[1.4014970630550985,1.8434935086966526,2.94848462280054,1.622495285875875,0.7385023945927659,0.7385023945927659],\"z\":[-1.2425128195512702,-1.1302798211725331,-1.2425128195512702,-1.0180468227937958,-1.1863963203619017,-1.2425128195512702],\"type\":\"scatter3d\"},{\"hovertemplate\":\"petal width (cm)=0.5354089791957665<br>sepal length (cm)=%{x}<br>sepal width (cm)=%{y}<br>petal length (cm)=%{z}<br>Type=%{marker.color}<extra></extra>\",\"legendgroup\":\"0.5354089791957665\",\"marker\":{\"color\":[1,2,1,1],\"coloraxis\":\"coloraxis\",\"symbol\":\"circle\"},\"mode\":\"markers\",\"name\":\"0.5354089791957665\",\"scene\":\"scene\",\"showlegend\":true,\"x\":[0.20580596884338112,1.672937627924913,0.20580596884338112,0.5725888836137638],\"y\":[-0.8084851651526749,-0.14549049669034328,0.7385023945927659,0.5175041717719884],\"z\":[0.7776811512659998,1.1704966455915802,0.4409821561297883,0.5532151545085257],\"type\":\"scatter3d\"},{\"hovertemplate\":\"petal width (cm)=-0.7573289987416982<br>sepal length (cm)=%{x}<br>sepal width (cm)=%{y}<br>petal length (cm)=%{z}<br>Type=%{marker.color}<extra></extra>\",\"legendgroup\":\"-0.7573289987416982\",\"marker\":{\"color\":[0],\"coloraxis\":\"coloraxis\",\"symbol\":\"diamond\"},\"mode\":\"markers\",\"name\":\"-0.7573289987416982\",\"scene\":\"scene\",\"showlegend\":true,\"x\":[-1.0168037470578952],\"y\":[0.9595006174135434],\"z\":[-1.1863963203619017],\"type\":\"scatter3d\"}],                        {\"template\":{\"data\":{\"histogram2dcontour\":[{\"type\":\"histogram2dcontour\",\"colorbar\":{\"outlinewidth\":0,\"ticks\":\"\"},\"colorscale\":[[0.0,\"#0d0887\"],[0.1111111111111111,\"#46039f\"],[0.2222222222222222,\"#7201a8\"],[0.3333333333333333,\"#9c179e\"],[0.4444444444444444,\"#bd3786\"],[0.5555555555555556,\"#d8576b\"],[0.6666666666666666,\"#ed7953\"],[0.7777777777777778,\"#fb9f3a\"],[0.8888888888888888,\"#fdca26\"],[1.0,\"#f0f921\"]]}],\"choropleth\":[{\"type\":\"choropleth\",\"colorbar\":{\"outlinewidth\":0,\"ticks\":\"\"}}],\"histogram2d\":[{\"type\":\"histogram2d\",\"colorbar\":{\"outlinewidth\":0,\"ticks\":\"\"},\"colorscale\":[[0.0,\"#0d0887\"],[0.1111111111111111,\"#46039f\"],[0.2222222222222222,\"#7201a8\"],[0.3333333333333333,\"#9c179e\"],[0.4444444444444444,\"#bd3786\"],[0.5555555555555556,\"#d8576b\"],[0.6666666666666666,\"#ed7953\"],[0.7777777777777778,\"#fb9f3a\"],[0.8888888888888888,\"#fdca26\"],[1.0,\"#f0f921\"]]}],\"heatmap\":[{\"type\":\"heatmap\",\"colorbar\":{\"outlinewidth\":0,\"ticks\":\"\"},\"colorscale\":[[0.0,\"#0d0887\"],[0.1111111111111111,\"#46039f\"],[0.2222222222222222,\"#7201a8\"],[0.3333333333333333,\"#9c179e\"],[0.4444444444444444,\"#bd3786\"],[0.5555555555555556,\"#d8576b\"],[0.6666666666666666,\"#ed7953\"],[0.7777777777777778,\"#fb9f3a\"],[0.8888888888888888,\"#fdca26\"],[1.0,\"#f0f921\"]]}],\"heatmapgl\":[{\"type\":\"heatmapgl\",\"colorbar\":{\"outlinewidth\":0,\"ticks\":\"\"},\"colorscale\":[[0.0,\"#0d0887\"],[0.1111111111111111,\"#46039f\"],[0.2222222222222222,\"#7201a8\"],[0.3333333333333333,\"#9c179e\"],[0.4444444444444444,\"#bd3786\"],[0.5555555555555556,\"#d8576b\"],[0.6666666666666666,\"#ed7953\"],[0.7777777777777778,\"#fb9f3a\"],[0.8888888888888888,\"#fdca26\"],[1.0,\"#f0f921\"]]}],\"contourcarpet\":[{\"type\":\"contourcarpet\",\"colorbar\":{\"outlinewidth\":0,\"ticks\":\"\"}}],\"contour\":[{\"type\":\"contour\",\"colorbar\":{\"outlinewidth\":0,\"ticks\":\"\"},\"colorscale\":[[0.0,\"#0d0887\"],[0.1111111111111111,\"#46039f\"],[0.2222222222222222,\"#7201a8\"],[0.3333333333333333,\"#9c179e\"],[0.4444444444444444,\"#bd3786\"],[0.5555555555555556,\"#d8576b\"],[0.6666666666666666,\"#ed7953\"],[0.7777777777777778,\"#fb9f3a\"],[0.8888888888888888,\"#fdca26\"],[1.0,\"#f0f921\"]]}],\"surface\":[{\"type\":\"surface\",\"colorbar\":{\"outlinewidth\":0,\"ticks\":\"\"},\"colorscale\":[[0.0,\"#0d0887\"],[0.1111111111111111,\"#46039f\"],[0.2222222222222222,\"#7201a8\"],[0.3333333333333333,\"#9c179e\"],[0.4444444444444444,\"#bd3786\"],[0.5555555555555556,\"#d8576b\"],[0.6666666666666666,\"#ed7953\"],[0.7777777777777778,\"#fb9f3a\"],[0.8888888888888888,\"#fdca26\"],[1.0,\"#f0f921\"]]}],\"mesh3d\":[{\"type\":\"mesh3d\",\"colorbar\":{\"outlinewidth\":0,\"ticks\":\"\"}}],\"scatter\":[{\"marker\":{\"line\":{\"color\":\"#283442\"}},\"type\":\"scatter\"}],\"parcoords\":[{\"type\":\"parcoords\",\"line\":{\"colorbar\":{\"outlinewidth\":0,\"ticks\":\"\"}}}],\"scatterpolargl\":[{\"type\":\"scatterpolargl\",\"marker\":{\"colorbar\":{\"outlinewidth\":0,\"ticks\":\"\"}}}],\"bar\":[{\"error_x\":{\"color\":\"#f2f5fa\"},\"error_y\":{\"color\":\"#f2f5fa\"},\"marker\":{\"line\":{\"color\":\"rgb(17,17,17)\",\"width\":0.5},\"pattern\":{\"fillmode\":\"overlay\",\"size\":10,\"solidity\":0.2}},\"type\":\"bar\"}],\"scattergeo\":[{\"type\":\"scattergeo\",\"marker\":{\"colorbar\":{\"outlinewidth\":0,\"ticks\":\"\"}}}],\"scatterpolar\":[{\"type\":\"scatterpolar\",\"marker\":{\"colorbar\":{\"outlinewidth\":0,\"ticks\":\"\"}}}],\"histogram\":[{\"marker\":{\"pattern\":{\"fillmode\":\"overlay\",\"size\":10,\"solidity\":0.2}},\"type\":\"histogram\"}],\"scattergl\":[{\"marker\":{\"line\":{\"color\":\"#283442\"}},\"type\":\"scattergl\"}],\"scatter3d\":[{\"type\":\"scatter3d\",\"line\":{\"colorbar\":{\"outlinewidth\":0,\"ticks\":\"\"}},\"marker\":{\"colorbar\":{\"outlinewidth\":0,\"ticks\":\"\"}}}],\"scattermapbox\":[{\"type\":\"scattermapbox\",\"marker\":{\"colorbar\":{\"outlinewidth\":0,\"ticks\":\"\"}}}],\"scatterternary\":[{\"type\":\"scatterternary\",\"marker\":{\"colorbar\":{\"outlinewidth\":0,\"ticks\":\"\"}}}],\"scattercarpet\":[{\"type\":\"scattercarpet\",\"marker\":{\"colorbar\":{\"outlinewidth\":0,\"ticks\":\"\"}}}],\"carpet\":[{\"aaxis\":{\"endlinecolor\":\"#A2B1C6\",\"gridcolor\":\"#506784\",\"linecolor\":\"#506784\",\"minorgridcolor\":\"#506784\",\"startlinecolor\":\"#A2B1C6\"},\"baxis\":{\"endlinecolor\":\"#A2B1C6\",\"gridcolor\":\"#506784\",\"linecolor\":\"#506784\",\"minorgridcolor\":\"#506784\",\"startlinecolor\":\"#A2B1C6\"},\"type\":\"carpet\"}],\"table\":[{\"cells\":{\"fill\":{\"color\":\"#506784\"},\"line\":{\"color\":\"rgb(17,17,17)\"}},\"header\":{\"fill\":{\"color\":\"#2a3f5f\"},\"line\":{\"color\":\"rgb(17,17,17)\"}},\"type\":\"table\"}],\"barpolar\":[{\"marker\":{\"line\":{\"color\":\"rgb(17,17,17)\",\"width\":0.5},\"pattern\":{\"fillmode\":\"overlay\",\"size\":10,\"solidity\":0.2}},\"type\":\"barpolar\"}],\"pie\":[{\"automargin\":true,\"type\":\"pie\"}]},\"layout\":{\"autotypenumbers\":\"strict\",\"colorway\":[\"#636efa\",\"#EF553B\",\"#00cc96\",\"#ab63fa\",\"#FFA15A\",\"#19d3f3\",\"#FF6692\",\"#B6E880\",\"#FF97FF\",\"#FECB52\"],\"font\":{\"color\":\"#f2f5fa\"},\"hovermode\":\"closest\",\"hoverlabel\":{\"align\":\"left\"},\"paper_bgcolor\":\"rgb(17,17,17)\",\"plot_bgcolor\":\"rgb(17,17,17)\",\"polar\":{\"bgcolor\":\"rgb(17,17,17)\",\"angularaxis\":{\"gridcolor\":\"#506784\",\"linecolor\":\"#506784\",\"ticks\":\"\"},\"radialaxis\":{\"gridcolor\":\"#506784\",\"linecolor\":\"#506784\",\"ticks\":\"\"}},\"ternary\":{\"bgcolor\":\"rgb(17,17,17)\",\"aaxis\":{\"gridcolor\":\"#506784\",\"linecolor\":\"#506784\",\"ticks\":\"\"},\"baxis\":{\"gridcolor\":\"#506784\",\"linecolor\":\"#506784\",\"ticks\":\"\"},\"caxis\":{\"gridcolor\":\"#506784\",\"linecolor\":\"#506784\",\"ticks\":\"\"}},\"coloraxis\":{\"colorbar\":{\"outlinewidth\":0,\"ticks\":\"\"}},\"colorscale\":{\"sequential\":[[0.0,\"#0d0887\"],[0.1111111111111111,\"#46039f\"],[0.2222222222222222,\"#7201a8\"],[0.3333333333333333,\"#9c179e\"],[0.4444444444444444,\"#bd3786\"],[0.5555555555555556,\"#d8576b\"],[0.6666666666666666,\"#ed7953\"],[0.7777777777777778,\"#fb9f3a\"],[0.8888888888888888,\"#fdca26\"],[1.0,\"#f0f921\"]],\"sequentialminus\":[[0.0,\"#0d0887\"],[0.1111111111111111,\"#46039f\"],[0.2222222222222222,\"#7201a8\"],[0.3333333333333333,\"#9c179e\"],[0.4444444444444444,\"#bd3786\"],[0.5555555555555556,\"#d8576b\"],[0.6666666666666666,\"#ed7953\"],[0.7777777777777778,\"#fb9f3a\"],[0.8888888888888888,\"#fdca26\"],[1.0,\"#f0f921\"]],\"diverging\":[[0,\"#8e0152\"],[0.1,\"#c51b7d\"],[0.2,\"#de77ae\"],[0.3,\"#f1b6da\"],[0.4,\"#fde0ef\"],[0.5,\"#f7f7f7\"],[0.6,\"#e6f5d0\"],[0.7,\"#b8e186\"],[0.8,\"#7fbc41\"],[0.9,\"#4d9221\"],[1,\"#276419\"]]},\"xaxis\":{\"gridcolor\":\"#283442\",\"linecolor\":\"#506784\",\"ticks\":\"\",\"title\":{\"standoff\":15},\"zerolinecolor\":\"#283442\",\"automargin\":true,\"zerolinewidth\":2},\"yaxis\":{\"gridcolor\":\"#283442\",\"linecolor\":\"#506784\",\"ticks\":\"\",\"title\":{\"standoff\":15},\"zerolinecolor\":\"#283442\",\"automargin\":true,\"zerolinewidth\":2},\"scene\":{\"xaxis\":{\"backgroundcolor\":\"rgb(17,17,17)\",\"gridcolor\":\"#506784\",\"linecolor\":\"#506784\",\"showbackground\":true,\"ticks\":\"\",\"zerolinecolor\":\"#C8D4E3\",\"gridwidth\":2},\"yaxis\":{\"backgroundcolor\":\"rgb(17,17,17)\",\"gridcolor\":\"#506784\",\"linecolor\":\"#506784\",\"showbackground\":true,\"ticks\":\"\",\"zerolinecolor\":\"#C8D4E3\",\"gridwidth\":2},\"zaxis\":{\"backgroundcolor\":\"rgb(17,17,17)\",\"gridcolor\":\"#506784\",\"linecolor\":\"#506784\",\"showbackground\":true,\"ticks\":\"\",\"zerolinecolor\":\"#C8D4E3\",\"gridwidth\":2}},\"shapedefaults\":{\"line\":{\"color\":\"#f2f5fa\"}},\"annotationdefaults\":{\"arrowcolor\":\"#f2f5fa\",\"arrowhead\":0,\"arrowwidth\":1},\"geo\":{\"bgcolor\":\"rgb(17,17,17)\",\"landcolor\":\"rgb(17,17,17)\",\"subunitcolor\":\"#506784\",\"showland\":true,\"showlakes\":true,\"lakecolor\":\"rgb(17,17,17)\"},\"title\":{\"x\":0.05},\"updatemenudefaults\":{\"bgcolor\":\"#506784\",\"borderwidth\":0},\"sliderdefaults\":{\"bgcolor\":\"#C8D4E3\",\"borderwidth\":1,\"bordercolor\":\"rgb(17,17,17)\",\"tickwidth\":0},\"mapbox\":{\"style\":\"dark\"}}},\"scene\":{\"domain\":{\"x\":[0.0,1.0],\"y\":[0.0,1.0]},\"xaxis\":{\"title\":{\"text\":\"sepal length (cm)\"}},\"yaxis\":{\"title\":{\"text\":\"sepal width (cm)\"}},\"zaxis\":{\"title\":{\"text\":\"petal length (cm)\"}}},\"coloraxis\":{\"colorbar\":{\"title\":{\"text\":\"Type\"}},\"colorscale\":[[0.0,\"#0d0887\"],[0.1111111111111111,\"#46039f\"],[0.2222222222222222,\"#7201a8\"],[0.3333333333333333,\"#9c179e\"],[0.4444444444444444,\"#bd3786\"],[0.5555555555555556,\"#d8576b\"],[0.6666666666666666,\"#ed7953\"],[0.7777777777777778,\"#fb9f3a\"],[0.8888888888888888,\"#fdca26\"],[1.0,\"#f0f921\"]]},\"legend\":{\"title\":{\"text\":\"petal width (cm)\"},\"tracegroupgap\":0,\"orientation\":\"v\",\"yanchor\":\"top\",\"xanchor\":\"right\"},\"title\":{\"text\":\"Normalised flowers' data\"}},                        {\"responsive\": true}                    ).then(function(){\n                            \nvar gd = document.getElementById('c7429ceb-c656-41b5-91e2-760e77134f34');\nvar x = new MutationObserver(function (mutations, observer) {{\n        var display = window.getComputedStyle(gd).display;\n        if (!display || display === 'none') {{\n            console.log([gd, 'removed!']);\n            Plotly.purge(gd);\n            observer.disconnect();\n        }}\n}});\n\n// Listen for the removal of the full notebook cells\nvar notebookContainer = gd.closest('#notebook-container');\nif (notebookContainer) {{\n    x.observe(notebookContainer, {childList: true});\n}}\n\n// Listen for the clearing of the current output cell\nvar outputEl = gd.closest('.output');\nif (outputEl) {{\n    x.observe(outputEl, {childList: true});\n}}\n\n                        })                };                });            </script>        </div>"
     },
     "metadata": {},
     "output_type": "display_data"
    },
    {
     "name": "stdout",
     "output_type": "stream",
     "text": [
      "Classification model by tool first label: y = -0.16514853337375063 + -1.039980908822508 * feat1 + 1.0735678927791088 * feat2 + -1.7731576458027638 * feat3 + -1.6410260966710264 * feat4\n",
      "Classification model by tool second label: y = 1.734337226574295 + 0.5447126380629423 * feat1 + -0.4709083958240955 * feat2 + -0.30774966044201607 * feat3 + -0.741760638125591 * feat4\n",
      "Classification model by tool third label: y = -1.5691886932005399 + 0.4952682707595655 * feat1 + -0.6026594969550132 * feat2 + 2.0809073062447796 * feat3 + 2.3827867347966176 * feat4\n",
      "Accuracy score: 0.9333333333333333\n"
     ]
    },
    {
     "data": {
      "text/plain": "<Figure size 640x480 with 1 Axes>",
      "image/png": "[encoded data removed]"
     },
     "metadata": {},
     "output_type": "display_data"
    },
    {
     "name": "stdout",
     "output_type": "stream",
     "text": [
      "Classification error by tool : 0.06666666666666667\n",
      "\n",
      "Classification model by me first label: y = -1.8063932166015066 + -1.024021360377017 * feat1 + 2.00222702191766 * feat2 + -2.3640380154332337 * feat3 + -1.8613395512693636 * feat4\n",
      "Classification model by me second label: y = -1.2679442622150707 + 0.3696879823111972 * feat1 + -1.7135323111332745 * feat2 + 0.6854914302099817 * feat3 + -1.1193853458033038 * feat4\n",
      "Classification model by me third label: y = -3.140649787634331 + -0.04739601727399737 * feat1 + 0.008104793493814882 * feat2 + 2.4837290163889425 * feat3 + 3.1617311889415327 * feat4\n",
      "Accuracy score: 0.8333333333333334\n"
     ]
    },
    {
     "data": {
      "text/plain": "<Figure size 640x480 with 1 Axes>",
      "image/png": "[encoded data removed]"
     },
     "metadata": {},
     "output_type": "display_data"
    },
    {
     "name": "stdout",
     "output_type": "stream",
     "text": [
      "Classification error by me : 0.16666666666666666\n",
      "\n",
      "Cross validation:\n",
      "Classification model by me first label: y = -1.7857301969499186 + -1.3836528066482114 * feat1 + 2.0171123440280936 * feat2 + -1.871015570652004 * feat3 + -2.232364238890156 * feat4\n",
      "Classification model by me second label: y = -1.0179349197667078 + -0.19366056172263693 * feat1 + -1.6082089453706006 * feat2 + 0.7193671860478746 * feat3 + -0.45577419485263115 * feat4\n",
      "Classification model by me third label: y = -3.5715780171354696 + 0.5174311209322402 * feat1 + 0.14894667004223852 * feat2 + 1.9558534408893324 * feat3 + 2.956701856501276 * feat4\n",
      "Accuracy score: 0.7666666666666667\n",
      "Classification error by me : 0.23333333333333334\n",
      "\n",
      "Classification model by me first label: y = -1.759164081128941 + -1.4096044388822124 * feat1 + 2.0744172926503186 * feat2 + -1.795488788848129 * feat3 + -2.141399555344289 * feat4\n",
      "Classification model by me second label: y = -1.0974194609565593 + 0.6512492650400893 * feat1 + -1.7611675434884468 * feat2 + 0.5718115310399704 * feat3 + -1.2521498983226853 * feat4\n",
      "Classification model by me third label: y = -3.336922031361866 + -0.30623009924771893 * feat1 + 0.10128778764580443 * feat2 + 2.1675440207991206 * feat3 + 3.453572954767531 * feat4\n",
      "Accuracy score: 0.8333333333333334\n",
      "Classification error by me : 0.16666666666666666\n",
      "\n",
      "Classification model by me first label: y = -2.1271561502138026 + -0.840788967675471 * feat1 + 1.955402027630377 * feat2 + -2.4360172230675388 * feat3 + -1.6421995450336218 * feat4\n",
      "Classification model by me second label: y = -1.0583318778030364 + 0.12788005052149276 * feat1 + -1.3870559466742887 * feat2 + 0.7710928034493398 * feat3 + -1.0002540309473997 * feat4\n",
      "Classification model by me third label: y = -3.201412198476355 + 0.06664581924724314 * feat1 + -0.37274871046466884 * feat2 + 2.1419166008506227 * feat3 + 3.459662072923812 * feat4\n",
      "Accuracy score: 0.9666666666666667\n",
      "Classification error by me : 0.03333333333333333\n",
      "\n",
      "Classification model by me first label: y = -2.3761951635032634 + -1.1651445075939433 * feat1 + 1.958079925015275 * feat2 + -2.3853671911265417 * feat3 + -1.4937579450343355 * feat4\n",
      "Classification model by me second label: y = -0.8196699398531281 + 0.5006995912075205 * feat1 + -1.2621144913893187 * feat2 + 0.7971355960034968 * feat3 + -1.3712284360438423 * feat4\n",
      "Classification model by me third label: y = -3.3658461043037047 + -0.10556569857959701 * feat1 + -0.4879243378270156 * feat2 + 2.410578047581467 * feat3 + 3.635353761831414 * feat4\n",
      "Accuracy score: 0.9666666666666667\n",
      "Classification error by me : 0.03333333333333333\n",
      "\n",
      "Classification model by me first label: y = -2.137450529306495 + -1.0229190933899859 * feat1 + 1.8406172542005355 * feat2 + -2.3110786373231504 * feat3 + -1.8395894691145176 * feat4\n",
      "Classification model by me second label: y = -0.9254723072692848 + 0.15158854795576956 * feat1 + -1.2667717488048726 * feat2 + 0.6075023424248004 * feat3 + -0.7334728609996226 * feat4\n",
      "Classification model by me third label: y = -3.3815593774318677 + 0.03844272482242269 * feat1 + -0.44236711418383173 * feat2 + 2.117181767942967 * feat3 + 3.4786358679255316 * feat4\n",
      "Accuracy score: 0.9666666666666667\n",
      "Classification error by me : 0.03333333333333333\n",
      "\n",
      "Other loss functions:\n",
      "Accuracy score (log loss by tool): 1.0\n",
      "Accuracy score (hinge loss by tool): 0.9333333333333333\n",
      "Accuracy score (squared hinge loss by tool): 0.8\n"
     ]
    }
   ],
   "source": [
    "main_flowers()"
   ],
   "metadata": {
    "collapsed": false,
    "ExecuteTime": {
     "start_time": "2023-05-15T00:59:04.606614Z",
     "end_time": "2023-05-15T00:59:14.061036Z"
    }
   }
  },
  {
   "cell_type": "code",
   "execution_count": null,
   "outputs": [],
   "source": [],
   "metadata": {
    "collapsed": false,
    "ExecuteTime": {
     "start_time": "2023-05-07T17:55:20.937745Z",
     "end_time": "2023-05-07T17:55:20.956235Z"
    },
    "pycharm": {
     "is_executing": true
    }
   }
  }
 ],
 "metadata": {
  "kernelspec": {
   "display_name": "Python 3",
   "language": "python",
   "name": "python3"
  },
  "language_info": {
   "codemirror_mode": {
    "name": "ipython",
    "version": 2
   },
   "file_extension": ".py",
   "mimetype": "text/x-python",
   "name": "python",
   "nbconvert_exporter": "python",
   "pygments_lexer": "ipython2",
   "version": "2.7.6"
  }
 },
 "nbformat": 4,
 "nbformat_minor": 0
}
