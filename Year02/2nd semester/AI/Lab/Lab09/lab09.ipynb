{
 "cells": [
  {
   "cell_type": "code",
   "execution_count": 33,
   "metadata": {
    "collapsed": true,
    "ExecuteTime": {
     "start_time": "2023-05-07T21:25:07.658012Z",
     "end_time": "2023-05-07T21:25:07.662308Z"
    }
   },
   "outputs": [],
   "source": [
    "import itertools\n",
    "import matplotlib.pyplot as plt\n",
    "import numpy as np\n",
    "import plotly.express as px\n",
    "from sklearn import neural_network\n",
    "from sklearn.datasets import load_iris\n",
    "from sklearn.datasets import load_digits\n",
    "from sklearn.preprocessing import StandardScaler\n",
    "from sklearn.metrics import confusion_matrix"
   ]
  },
  {
   "cell_type": "code",
   "execution_count": 34,
   "outputs": [],
   "source": [
    "class NeuralNetwork:\n",
    "    def __init__(self, hidden_layer_size=12, max_iter=7000, learning_rate=.001):\n",
    "        self.__weights = []\n",
    "        self.__hidden_layer_size = hidden_layer_size\n",
    "        self.__max_iter = max_iter\n",
    "        self.__learning_rate = learning_rate\n",
    "\n",
    "    def __softmax(self, x):\n",
    "        exp_vector = np.exp(x)\n",
    "        return exp_vector / exp_vector.sum(axis=1, keepdims=True)\n",
    "\n",
    "    def __sigmoid(self, x):\n",
    "        return 1 / (1 + np.exp(-x))\n",
    "\n",
    "    def __sigmoid_derivative(self, x):\n",
    "        return self.__sigmoid(x) * (1 - self.__sigmoid(x))\n",
    "\n",
    "    def fit(self, x, y):\n",
    "        no_features = len(x[0])\n",
    "        no_outputs = len(set(y))\n",
    "        new_y = np.zeros((len(y), no_outputs))\n",
    "        for i in range(len(y)):\n",
    "            new_y[i, y[i]] = 1\n",
    "        y = new_y\n",
    "        weight_ih = np.random.rand(no_features, self.__hidden_layer_size)  # input X hidden\n",
    "        coefficient_ih = np.random.randn(self.__hidden_layer_size)\n",
    "        weight_ho = np.random.rand(self.__hidden_layer_size, no_outputs)  # hidden  X output\n",
    "        coefficient_ho = np.random.randn(no_outputs)\n",
    "        for epoch in range(self.__max_iter):\n",
    "            y_ih = np.dot(x, weight_ih) + coefficient_ih  # forward propagation\n",
    "            y_ih_sigmoid = self.__sigmoid(y_ih)\n",
    "            y_output = np.dot(y_ih_sigmoid, weight_ho) + coefficient_ho\n",
    "            y_output_softmax = self.__softmax(y_output)\n",
    "            error = y_output_softmax - y  # back propagation\n",
    "            error_weight_ho = np.dot(y_ih_sigmoid.T, error)\n",
    "            error_coefficient_ho = error\n",
    "            error_dah = np.dot(error, weight_ho.T)\n",
    "            dah_dzh = self.__sigmoid_derivative(y_ih)\n",
    "            dzh_dwh = x\n",
    "            error_weight_ih = np.dot(dzh_dwh.T, dah_dzh * error_dah)\n",
    "            error_coefficient_ih = error_dah * dah_dzh\n",
    "            weight_ih -= self.__learning_rate * error_weight_ih\n",
    "            coefficient_ih -= self.__learning_rate * error_coefficient_ih.sum(axis=0)\n",
    "            weight_ho -= self.__learning_rate * error_weight_ho\n",
    "            coefficient_ho -= self.__learning_rate * error_coefficient_ho.sum(axis=0)\n",
    "        self.__weights = [weight_ih, coefficient_ih, weight_ho, coefficient_ho]\n",
    "\n",
    "    def predict(self, x):\n",
    "        weight_ih, coefficient_ih, weight_ho, coefficient_ho = self.__weights\n",
    "        y_ih = np.dot(x, weight_ih) + coefficient_ih\n",
    "        y_ih_sigmoid = self.__sigmoid(y_ih)\n",
    "        y_output = np.dot(y_ih_sigmoid, weight_ho) + coefficient_ho\n",
    "        y_output_softmax = self.__softmax(y_output)\n",
    "        computed_output = [list(output).index(max(output)) for output in y_output_softmax]\n",
    "        return computed_output"
   ],
   "metadata": {
    "collapsed": false,
    "ExecuteTime": {
     "start_time": "2023-05-07T21:25:08.078881Z",
     "end_time": "2023-05-07T21:25:08.086260Z"
    }
   }
  },
  {
   "cell_type": "code",
   "execution_count": 35,
   "outputs": [],
   "source": [
    "def load_data_flowers():\n",
    "    data = load_iris()\n",
    "    input_data = data['data']\n",
    "    output_data = data['target']\n",
    "    outputs_name = data['target_names']\n",
    "    feature_names = list(data['feature_names'])\n",
    "    feature_1 = [feat[feature_names.index('sepal length (cm)')] for feat in input_data]\n",
    "    feature_2 = [feat[feature_names.index('sepal width (cm)')] for feat in input_data]\n",
    "    feature_3 = [feat[feature_names.index('petal length (cm)')] for feat in input_data]\n",
    "    feature_4 = [feat[feature_names.index('petal width (cm)')] for feat in input_data]\n",
    "    input_data = [[feat[feature_names.index('sepal length (cm)')],\n",
    "                   feat[feature_names.index('sepal width (cm)')],\n",
    "                   feat[feature_names.index('petal length (cm)')],\n",
    "                   feat[feature_names.index('petal width (cm)')]] for feat in input_data]\n",
    "    return input_data, output_data, outputs_name, feature_1, feature_2, feature_3, feature_4, feature_names\n",
    "\n",
    "\n",
    "def load_data_digit():\n",
    "    data = load_digits()\n",
    "    input_data = data.images\n",
    "    output_data = data['target']\n",
    "    outputs_name = data['target_names']\n",
    "    return input_data, output_data, outputs_name\n"
   ],
   "metadata": {
    "collapsed": false,
    "ExecuteTime": {
     "start_time": "2023-05-07T21:25:08.618891Z",
     "end_time": "2023-05-07T21:25:08.628710Z"
    }
   }
  },
  {
   "cell_type": "code",
   "execution_count": 36,
   "outputs": [],
   "source": [
    "def plot_data_four_features(input_data, output_data, feature_names, title=None):\n",
    "    x = [i[0] for i in input_data]\n",
    "    y = [i[1] for i in input_data]\n",
    "    z = [i[2] for i in input_data]\n",
    "    v = [i[3] for i in input_data]\n",
    "    figure = px.scatter_3d(x=x, y=y, z=z, symbol=v, color=output_data, title=title,\n",
    "                           labels=dict(x=feature_names[0], y=feature_names[1], z=feature_names[2],\n",
    "                                       symbol=feature_names[3], color=\"Type\"))\n",
    "    figure.update_layout(legend=dict(orientation=\"v\", yanchor='top', xanchor=\"right\"))\n",
    "    figure.show()\n",
    "\n",
    "\n",
    "def plot_histogram_feature(feature, variableName):\n",
    "    plt.hist(feature, 10)\n",
    "    plt.title('Histogram of ' + variableName)\n",
    "    plt.show()\n",
    "\n",
    "\n",
    "def plot_histogram_data(output_data, outputs_name, title):\n",
    "    plt.hist(output_data, 10)\n",
    "    plt.title('Histogram of ' + title)\n",
    "    plt.xticks(np.arange(len(outputs_name)), outputs_name)\n",
    "    plt.show()\n"
   ],
   "metadata": {
    "collapsed": false,
    "ExecuteTime": {
     "start_time": "2023-05-07T21:25:09.065676Z",
     "end_time": "2023-05-07T21:25:09.069913Z"
    }
   }
  },
  {
   "cell_type": "code",
   "execution_count": 37,
   "outputs": [],
   "source": [
    "def train_and_test(input_data, output_data):\n",
    "    indexes = [i for i in range(len(input_data))]\n",
    "    train_sample = np.random.choice(indexes, int(0.8 * len(input_data)), replace=False)\n",
    "    test_sample = [i for i in indexes if i not in train_sample]\n",
    "    train_inputs = [input_data[i] for i in train_sample]\n",
    "    train_outputs = [output_data[i] for i in train_sample]\n",
    "    test_inputs = [input_data[i] for i in test_sample]\n",
    "    test_outputs = [output_data[i] for i in test_sample]\n",
    "    return train_inputs, train_outputs, test_inputs, test_outputs"
   ],
   "metadata": {
    "collapsed": false,
    "ExecuteTime": {
     "start_time": "2023-05-07T21:25:09.495251Z",
     "end_time": "2023-05-07T21:25:09.500885Z"
    }
   }
  },
  {
   "cell_type": "code",
   "execution_count": 38,
   "outputs": [],
   "source": [
    "def normalisation(train_data, test_data):\n",
    "    scaler = StandardScaler()\n",
    "    if not isinstance(train_data[0], list):\n",
    "        trainData = [[d] for d in train_data]\n",
    "        testData = [[d] for d in test_data]\n",
    "        scaler.fit(trainData)\n",
    "        normalisedTrainData = scaler.transform(trainData)\n",
    "        normalisedTestData = scaler.transform(testData)\n",
    "        normalisedTrainData = [el[0] for el in normalisedTrainData]\n",
    "        normalisedTestData = [el[0] for el in normalisedTestData]\n",
    "    else:\n",
    "        scaler.fit(train_data)\n",
    "        normalisedTrainData = scaler.transform(train_data)\n",
    "        normalisedTestData = scaler.transform(test_data)\n",
    "    return normalisedTrainData, normalisedTestData\n"
   ],
   "metadata": {
    "collapsed": false,
    "ExecuteTime": {
     "start_time": "2023-05-07T21:25:09.915369Z",
     "end_time": "2023-05-07T21:25:09.921596Z"
    }
   }
  },
  {
   "cell_type": "code",
   "execution_count": 39,
   "outputs": [],
   "source": [
    "def classifier_by_tool(train_inputs, train_outputs, test_inputs, test_outputs):\n",
    "    classifier = neural_network.MLPClassifier(hidden_layer_sizes=(5,), activation='relu', max_iter=100, solver='sgd',\n",
    "                                              verbose=0, random_state=1, learning_rate_init=.1)\n",
    "    classifier.fit(train_inputs, train_outputs)\n",
    "    computed_outputs = classifier.predict(test_inputs)\n",
    "    print('Accuracy by tool:', classifier.score(test_inputs, test_outputs))\n",
    "    return computed_outputs\n",
    "\n",
    "\n",
    "def classifier_by_me(train_inputs, train_outputs, test_inputs):\n",
    "    classifier = NeuralNetwork(hidden_layer_size=10)\n",
    "    classifier.fit(np.array(train_inputs), np.array(train_outputs))\n",
    "    computed_outputs = classifier.predict(test_inputs)\n",
    "    return computed_outputs\n"
   ],
   "metadata": {
    "collapsed": false,
    "ExecuteTime": {
     "start_time": "2023-05-07T21:25:10.393967Z",
     "end_time": "2023-05-07T21:25:10.400201Z"
    }
   }
  },
  {
   "cell_type": "code",
   "execution_count": 40,
   "outputs": [],
   "source": [
    "from sklearn.metrics import confusion_matrix as cm\n",
    "\n",
    "def evaluate(test_outputs, computed_labels, output_names):\n",
    "    confusion_matrix_calculated = cm(test_outputs, computed_labels)\n",
    "    acc = sum([confusion_matrix_calculated[i][i] for i in range(len(output_names))]) / len(test_outputs)\n",
    "    prec = {}\n",
    "    rec = {}\n",
    "    for i in range(len(output_names)):\n",
    "        prec[output_names[i]] = confusion_matrix_calculated[i][i] / sum([confusion_matrix_calculated[j][i]\n",
    "                                                                         for j in range(len(output_names))])\n",
    "        rec[output_names[i]] = confusion_matrix_calculated[i][i] / sum([confusion_matrix_calculated[i][j]\n",
    "                                                                        for j in range(len(output_names))])\n",
    "    print('Accuracy: ', acc)\n",
    "    print('Precision: ', prec)  # TP/TP+FP - cate din cele gasite sunt relevante\n",
    "    print('Recall: ', rec)  # TP/TP+FN - cate  relevante au fost gasite\n",
    "    return confusion_matrix_calculated\n"
   ],
   "metadata": {
    "collapsed": false,
    "ExecuteTime": {
     "start_time": "2023-05-07T21:25:10.879108Z",
     "end_time": "2023-05-07T21:25:10.884496Z"
    }
   }
  },
  {
   "cell_type": "code",
   "execution_count": 41,
   "outputs": [],
   "source": [
    "def plot_confusion_matrix(cm, class_names, title):\n",
    "    plt.figure()\n",
    "    plt.imshow(cm, interpolation='nearest', cmap='Blues')\n",
    "    plt.title('Confusion Matrix ' + title)\n",
    "    plt.colorbar()\n",
    "    tick_marks = np.arange(len(class_names))\n",
    "    plt.xticks(tick_marks, class_names, rotation=45)\n",
    "    plt.yticks(tick_marks, class_names)\n",
    "    text_format = 'd'\n",
    "    thresh = cm.max() / 2.\n",
    "    for row, column in itertools.product(range(cm.shape[0]), range(cm.shape[1])):\n",
    "        plt.text(column, row, format(cm[row, column], text_format),\n",
    "                 horizontalalignment='center',\n",
    "                 color='white' if cm[row, column] > thresh else 'black')\n",
    "    plt.ylabel('Real label')\n",
    "    plt.xlabel('Predicted label')\n",
    "    plt.tight_layout()\n",
    "    plt.show()"
   ],
   "metadata": {
    "collapsed": false,
    "ExecuteTime": {
     "start_time": "2023-05-07T21:25:11.401626Z",
     "end_time": "2023-05-07T21:25:11.407361Z"
    }
   }
  },
  {
   "cell_type": "code",
   "execution_count": 42,
   "outputs": [],
   "source": [
    "def flatten_data(train_data, test_data):\n",
    "    def flatten(mat):\n",
    "        x = []\n",
    "        for line in mat:\n",
    "            for el in line:\n",
    "                x.append(el)\n",
    "        return x\n",
    "    train_data = [flatten(data) for data in train_data]\n",
    "    test_data = [flatten(data) for data in test_data]\n",
    "    return train_data, test_data\n"
   ],
   "metadata": {
    "collapsed": false,
    "ExecuteTime": {
     "start_time": "2023-05-07T21:25:12.169830Z",
     "end_time": "2023-05-07T21:25:12.180448Z"
    }
   }
  },
  {
   "cell_type": "code",
   "execution_count": 45,
   "outputs": [
    {
     "name": "stdout",
     "output_type": "stream",
     "text": [
      "IRIS\n"
     ]
    },
    {
     "data": {
      "application/vnd.plotly.v1+json": {
       "data": [
        {
         "hovertemplate": "petal width (cm)=0.2<br>sepal length (cm)=%{x}<br>sepal width (cm)=%{y}<br>petal length (cm)=%{z}<br>Type=%{marker.color}<extra></extra>",
         "legendgroup": "0.2",
         "marker": {
          "color": [
           0,
           0,
           0,
           0,
           0,
           0,
           0,
           0,
           0,
           0,
           0,
           0,
           0,
           0,
           0,
           0,
           0,
           0,
           0,
           0,
           0,
           0,
           0,
           0,
           0,
           0,
           0,
           0,
           0
          ],
          "coloraxis": "coloraxis",
          "symbol": "circle"
         },
         "mode": "markers",
         "name": "0.2",
         "scene": "scene",
         "showlegend": true,
         "x": [
          5.1,
          4.9,
          4.7,
          4.6,
          5.0,
          5.0,
          4.4,
          5.4,
          4.8,
          5.8,
          5.4,
          4.6,
          4.8,
          5.0,
          5.2,
          5.2,
          4.7,
          4.8,
          5.5,
          4.9,
          5.0,
          5.5,
          4.4,
          5.1,
          4.4,
          5.1,
          4.6,
          5.3,
          5.0
         ],
         "y": [
          3.5,
          3.0,
          3.2,
          3.1,
          3.6,
          3.4,
          2.9,
          3.7,
          3.4,
          4.0,
          3.4,
          3.6,
          3.4,
          3.0,
          3.5,
          3.4,
          3.2,
          3.1,
          4.2,
          3.1,
          3.2,
          3.5,
          3.0,
          3.4,
          3.2,
          3.8,
          3.2,
          3.7,
          3.3
         ],
         "z": [
          1.4,
          1.4,
          1.3,
          1.5,
          1.4,
          1.5,
          1.4,
          1.5,
          1.6,
          1.2,
          1.7,
          1.0,
          1.9,
          1.6,
          1.5,
          1.4,
          1.6,
          1.6,
          1.4,
          1.5,
          1.2,
          1.3,
          1.3,
          1.5,
          1.3,
          1.6,
          1.4,
          1.5,
          1.4
         ],
         "type": "scatter3d"
        },
        {
         "hovertemplate": "petal width (cm)=0.4<br>sepal length (cm)=%{x}<br>sepal width (cm)=%{y}<br>petal length (cm)=%{z}<br>Type=%{marker.color}<extra></extra>",
         "legendgroup": "0.4",
         "marker": {
          "color": [
           0,
           0,
           0,
           0,
           0,
           0,
           0
          ],
          "coloraxis": "coloraxis",
          "symbol": "diamond"
         },
         "mode": "markers",
         "name": "0.4",
         "scene": "scene",
         "showlegend": true,
         "x": [
          5.4,
          5.7,
          5.4,
          5.1,
          5.0,
          5.4,
          5.1
         ],
         "y": [
          3.9,
          4.4,
          3.9,
          3.7,
          3.4,
          3.4,
          3.8
         ],
         "z": [
          1.7,
          1.5,
          1.3,
          1.5,
          1.6,
          1.5,
          1.9
         ],
         "type": "scatter3d"
        },
        {
         "hovertemplate": "petal width (cm)=0.3<br>sepal length (cm)=%{x}<br>sepal width (cm)=%{y}<br>petal length (cm)=%{z}<br>Type=%{marker.color}<extra></extra>",
         "legendgroup": "0.3",
         "marker": {
          "color": [
           0,
           0,
           0,
           0,
           0,
           0,
           0
          ],
          "coloraxis": "coloraxis",
          "symbol": "square"
         },
         "mode": "markers",
         "name": "0.3",
         "scene": "scene",
         "showlegend": true,
         "x": [
          4.6,
          5.1,
          5.7,
          5.1,
          5.0,
          4.5,
          4.8
         ],
         "y": [
          3.4,
          3.5,
          3.8,
          3.8,
          3.5,
          2.3,
          3.0
         ],
         "z": [
          1.4,
          1.4,
          1.7,
          1.5,
          1.3,
          1.3,
          1.4
         ],
         "type": "scatter3d"
        },
        {
         "hovertemplate": "petal width (cm)=0.1<br>sepal length (cm)=%{x}<br>sepal width (cm)=%{y}<br>petal length (cm)=%{z}<br>Type=%{marker.color}<extra></extra>",
         "legendgroup": "0.1",
         "marker": {
          "color": [
           0,
           0,
           0,
           0,
           0
          ],
          "coloraxis": "coloraxis",
          "symbol": "x"
         },
         "mode": "markers",
         "name": "0.1",
         "scene": "scene",
         "showlegend": true,
         "x": [
          4.9,
          4.8,
          4.3,
          5.2,
          4.9
         ],
         "y": [
          3.1,
          3.0,
          3.0,
          4.1,
          3.6
         ],
         "z": [
          1.5,
          1.4,
          1.1,
          1.5,
          1.4
         ],
         "type": "scatter3d"
        },
        {
         "hovertemplate": "petal width (cm)=0.5<br>sepal length (cm)=%{x}<br>sepal width (cm)=%{y}<br>petal length (cm)=%{z}<br>Type=%{marker.color}<extra></extra>",
         "legendgroup": "0.5",
         "marker": {
          "color": [
           0
          ],
          "coloraxis": "coloraxis",
          "symbol": "cross"
         },
         "mode": "markers",
         "name": "0.5",
         "scene": "scene",
         "showlegend": true,
         "x": [
          5.1
         ],
         "y": [
          3.3
         ],
         "z": [
          1.7
         ],
         "type": "scatter3d"
        },
        {
         "hovertemplate": "petal width (cm)=0.6<br>sepal length (cm)=%{x}<br>sepal width (cm)=%{y}<br>petal length (cm)=%{z}<br>Type=%{marker.color}<extra></extra>",
         "legendgroup": "0.6",
         "marker": {
          "color": [
           0
          ],
          "coloraxis": "coloraxis",
          "symbol": "circle"
         },
         "mode": "markers",
         "name": "0.6",
         "scene": "scene",
         "showlegend": true,
         "x": [
          5.0
         ],
         "y": [
          3.5
         ],
         "z": [
          1.6
         ],
         "type": "scatter3d"
        },
        {
         "hovertemplate": "petal width (cm)=1.4<br>sepal length (cm)=%{x}<br>sepal width (cm)=%{y}<br>petal length (cm)=%{z}<br>Type=%{marker.color}<extra></extra>",
         "legendgroup": "1.4",
         "marker": {
          "color": [
           1,
           1,
           1,
           1,
           1,
           1,
           1,
           2
          ],
          "coloraxis": "coloraxis",
          "symbol": "diamond"
         },
         "mode": "markers",
         "name": "1.4",
         "scene": "scene",
         "showlegend": true,
         "x": [
          7.0,
          5.2,
          6.1,
          6.7,
          6.6,
          6.8,
          6.1,
          6.1
         ],
         "y": [
          3.2,
          2.7,
          2.9,
          3.1,
          3.0,
          2.8,
          3.0,
          2.6
         ],
         "z": [
          4.7,
          3.9,
          4.7,
          4.4,
          4.4,
          4.8,
          4.6,
          5.6
         ],
         "type": "scatter3d"
        },
        {
         "hovertemplate": "petal width (cm)=1.5<br>sepal length (cm)=%{x}<br>sepal width (cm)=%{y}<br>petal length (cm)=%{z}<br>Type=%{marker.color}<extra></extra>",
         "legendgroup": "1.5",
         "marker": {
          "color": [
           1,
           1,
           1,
           1,
           1,
           1,
           1,
           1,
           1,
           1,
           2,
           2
          ],
          "coloraxis": "coloraxis",
          "symbol": "square"
         },
         "mode": "markers",
         "name": "1.5",
         "scene": "scene",
         "showlegend": true,
         "x": [
          6.4,
          6.9,
          6.5,
          5.9,
          5.6,
          6.2,
          6.3,
          6.0,
          5.4,
          6.7,
          6.0,
          6.3
         ],
         "y": [
          3.2,
          3.1,
          2.8,
          3.0,
          3.0,
          2.2,
          2.5,
          2.9,
          3.0,
          3.1,
          2.2,
          2.8
         ],
         "z": [
          4.5,
          4.9,
          4.6,
          4.2,
          4.5,
          4.5,
          4.9,
          4.5,
          4.5,
          4.7,
          5.0,
          5.1
         ],
         "type": "scatter3d"
        },
        {
         "hovertemplate": "petal width (cm)=1.3<br>sepal length (cm)=%{x}<br>sepal width (cm)=%{y}<br>petal length (cm)=%{z}<br>Type=%{marker.color}<extra></extra>",
         "legendgroup": "1.3",
         "marker": {
          "color": [
           1,
           1,
           1,
           1,
           1,
           1,
           1,
           1,
           1,
           1,
           1,
           1,
           1
          ],
          "coloraxis": "coloraxis",
          "symbol": "x"
         },
         "mode": "markers",
         "name": "1.3",
         "scene": "scene",
         "showlegend": true,
         "x": [
          5.5,
          5.7,
          6.6,
          5.6,
          6.1,
          6.4,
          6.3,
          5.6,
          5.5,
          5.6,
          5.7,
          6.2,
          5.7
         ],
         "y": [
          2.3,
          2.8,
          2.9,
          2.9,
          2.8,
          2.9,
          2.3,
          3.0,
          2.5,
          2.7,
          2.9,
          2.9,
          2.8
         ],
         "z": [
          4.0,
          4.5,
          4.6,
          3.6,
          4.0,
          4.3,
          4.4,
          4.1,
          4.0,
          4.2,
          4.2,
          4.3,
          4.1
         ],
         "type": "scatter3d"
        },
        {
         "hovertemplate": "petal width (cm)=1.6<br>sepal length (cm)=%{x}<br>sepal width (cm)=%{y}<br>petal length (cm)=%{z}<br>Type=%{marker.color}<extra></extra>",
         "legendgroup": "1.6",
         "marker": {
          "color": [
           1,
           1,
           1,
           2
          ],
          "coloraxis": "coloraxis",
          "symbol": "cross"
         },
         "mode": "markers",
         "name": "1.6",
         "scene": "scene",
         "showlegend": true,
         "x": [
          6.3,
          6.0,
          6.0,
          7.2
         ],
         "y": [
          3.3,
          2.7,
          3.4,
          3.0
         ],
         "z": [
          4.7,
          5.1,
          4.5,
          5.8
         ],
         "type": "scatter3d"
        },
        {
         "hovertemplate": "petal width (cm)=1.0<br>sepal length (cm)=%{x}<br>sepal width (cm)=%{y}<br>petal length (cm)=%{z}<br>Type=%{marker.color}<extra></extra>",
         "legendgroup": "1.0",
         "marker": {
          "color": [
           1,
           1,
           1,
           1,
           1,
           1,
           1
          ],
          "coloraxis": "coloraxis",
          "symbol": "circle"
         },
         "mode": "markers",
         "name": "1.0",
         "scene": "scene",
         "showlegend": true,
         "x": [
          4.9,
          5.0,
          6.0,
          5.8,
          5.7,
          5.5,
          5.0
         ],
         "y": [
          2.4,
          2.0,
          2.2,
          2.7,
          2.6,
          2.4,
          2.3
         ],
         "z": [
          3.3,
          3.5,
          4.0,
          4.1,
          3.5,
          3.7,
          3.3
         ],
         "type": "scatter3d"
        },
        {
         "hovertemplate": "petal width (cm)=1.1<br>sepal length (cm)=%{x}<br>sepal width (cm)=%{y}<br>petal length (cm)=%{z}<br>Type=%{marker.color}<extra></extra>",
         "legendgroup": "1.1",
         "marker": {
          "color": [
           1,
           1,
           1
          ],
          "coloraxis": "coloraxis",
          "symbol": "diamond"
         },
         "mode": "markers",
         "name": "1.1",
         "scene": "scene",
         "showlegend": true,
         "x": [
          5.6,
          5.5,
          5.1
         ],
         "y": [
          2.5,
          2.4,
          2.5
         ],
         "z": [
          3.9,
          3.8,
          3.0
         ],
         "type": "scatter3d"
        },
        {
         "hovertemplate": "petal width (cm)=1.8<br>sepal length (cm)=%{x}<br>sepal width (cm)=%{y}<br>petal length (cm)=%{z}<br>Type=%{marker.color}<extra></extra>",
         "legendgroup": "1.8",
         "marker": {
          "color": [
           1,
           2,
           2,
           2,
           2,
           2,
           2,
           2,
           2,
           2,
           2,
           2
          ],
          "coloraxis": "coloraxis",
          "symbol": "square"
         },
         "mode": "markers",
         "name": "1.8",
         "scene": "scene",
         "showlegend": true,
         "x": [
          5.9,
          6.3,
          7.3,
          6.7,
          6.5,
          6.3,
          7.2,
          6.2,
          6.1,
          6.4,
          6.0,
          5.9
         ],
         "y": [
          3.2,
          2.9,
          2.9,
          2.5,
          3.0,
          2.7,
          3.2,
          2.8,
          3.0,
          3.1,
          3.0,
          3.0
         ],
         "z": [
          4.8,
          5.6,
          6.3,
          5.8,
          5.5,
          4.9,
          6.0,
          4.8,
          4.9,
          5.5,
          4.8,
          5.1
         ],
         "type": "scatter3d"
        },
        {
         "hovertemplate": "petal width (cm)=1.2<br>sepal length (cm)=%{x}<br>sepal width (cm)=%{y}<br>petal length (cm)=%{z}<br>Type=%{marker.color}<extra></extra>",
         "legendgroup": "1.2",
         "marker": {
          "color": [
           1,
           1,
           1,
           1,
           1
          ],
          "coloraxis": "coloraxis",
          "symbol": "x"
         },
         "mode": "markers",
         "name": "1.2",
         "scene": "scene",
         "showlegend": true,
         "x": [
          6.1,
          5.8,
          5.5,
          5.8,
          5.7
         ],
         "y": [
          2.8,
          2.7,
          2.6,
          2.6,
          3.0
         ],
         "z": [
          4.7,
          3.9,
          4.4,
          4.0,
          4.2
         ],
         "type": "scatter3d"
        },
        {
         "hovertemplate": "petal width (cm)=1.7<br>sepal length (cm)=%{x}<br>sepal width (cm)=%{y}<br>petal length (cm)=%{z}<br>Type=%{marker.color}<extra></extra>",
         "legendgroup": "1.7",
         "marker": {
          "color": [
           1,
           2
          ],
          "coloraxis": "coloraxis",
          "symbol": "cross"
         },
         "mode": "markers",
         "name": "1.7",
         "scene": "scene",
         "showlegend": true,
         "x": [
          6.7,
          4.9
         ],
         "y": [
          3.0,
          2.5
         ],
         "z": [
          5.0,
          4.5
         ],
         "type": "scatter3d"
        },
        {
         "hovertemplate": "petal width (cm)=2.5<br>sepal length (cm)=%{x}<br>sepal width (cm)=%{y}<br>petal length (cm)=%{z}<br>Type=%{marker.color}<extra></extra>",
         "legendgroup": "2.5",
         "marker": {
          "color": [
           2,
           2,
           2
          ],
          "coloraxis": "coloraxis",
          "symbol": "circle"
         },
         "mode": "markers",
         "name": "2.5",
         "scene": "scene",
         "showlegend": true,
         "x": [
          6.3,
          7.2,
          6.7
         ],
         "y": [
          3.3,
          3.6,
          3.3
         ],
         "z": [
          6.0,
          6.1,
          5.7
         ],
         "type": "scatter3d"
        },
        {
         "hovertemplate": "petal width (cm)=1.9<br>sepal length (cm)=%{x}<br>sepal width (cm)=%{y}<br>petal length (cm)=%{z}<br>Type=%{marker.color}<extra></extra>",
         "legendgroup": "1.9",
         "marker": {
          "color": [
           2,
           2,
           2,
           2,
           2
          ],
          "coloraxis": "coloraxis",
          "symbol": "diamond"
         },
         "mode": "markers",
         "name": "1.9",
         "scene": "scene",
         "showlegend": true,
         "x": [
          5.8,
          6.4,
          7.4,
          5.8,
          6.3
         ],
         "y": [
          2.7,
          2.7,
          2.8,
          2.7,
          2.5
         ],
         "z": [
          5.1,
          5.3,
          6.1,
          5.1,
          5.0
         ],
         "type": "scatter3d"
        },
        {
         "hovertemplate": "petal width (cm)=2.1<br>sepal length (cm)=%{x}<br>sepal width (cm)=%{y}<br>petal length (cm)=%{z}<br>Type=%{marker.color}<extra></extra>",
         "legendgroup": "2.1",
         "marker": {
          "color": [
           2,
           2,
           2,
           2,
           2,
           2
          ],
          "coloraxis": "coloraxis",
          "symbol": "square"
         },
         "mode": "markers",
         "name": "2.1",
         "scene": "scene",
         "showlegend": true,
         "x": [
          7.1,
          7.6,
          6.8,
          6.7,
          6.4,
          6.9
         ],
         "y": [
          3.0,
          3.0,
          3.0,
          3.3,
          2.8,
          3.1
         ],
         "z": [
          5.9,
          6.6,
          5.5,
          5.7,
          5.6,
          5.4
         ],
         "type": "scatter3d"
        },
        {
         "hovertemplate": "petal width (cm)=2.2<br>sepal length (cm)=%{x}<br>sepal width (cm)=%{y}<br>petal length (cm)=%{z}<br>Type=%{marker.color}<extra></extra>",
         "legendgroup": "2.2",
         "marker": {
          "color": [
           2,
           2,
           2
          ],
          "coloraxis": "coloraxis",
          "symbol": "x"
         },
         "mode": "markers",
         "name": "2.2",
         "scene": "scene",
         "showlegend": true,
         "x": [
          6.5,
          7.7,
          6.4
         ],
         "y": [
          3.0,
          3.8,
          2.8
         ],
         "z": [
          5.8,
          6.7,
          5.6
         ],
         "type": "scatter3d"
        },
        {
         "hovertemplate": "petal width (cm)=2.0<br>sepal length (cm)=%{x}<br>sepal width (cm)=%{y}<br>petal length (cm)=%{z}<br>Type=%{marker.color}<extra></extra>",
         "legendgroup": "2.0",
         "marker": {
          "color": [
           2,
           2,
           2,
           2,
           2,
           2
          ],
          "coloraxis": "coloraxis",
          "symbol": "cross"
         },
         "mode": "markers",
         "name": "2.0",
         "scene": "scene",
         "showlegend": true,
         "x": [
          6.5,
          5.7,
          5.6,
          7.7,
          7.9,
          6.5
         ],
         "y": [
          3.2,
          2.5,
          2.8,
          2.8,
          3.8,
          3.0
         ],
         "z": [
          5.1,
          5.0,
          4.9,
          6.7,
          6.4,
          5.2
         ],
         "type": "scatter3d"
        },
        {
         "hovertemplate": "petal width (cm)=2.4<br>sepal length (cm)=%{x}<br>sepal width (cm)=%{y}<br>petal length (cm)=%{z}<br>Type=%{marker.color}<extra></extra>",
         "legendgroup": "2.4",
         "marker": {
          "color": [
           2,
           2,
           2
          ],
          "coloraxis": "coloraxis",
          "symbol": "circle"
         },
         "mode": "markers",
         "name": "2.4",
         "scene": "scene",
         "showlegend": true,
         "x": [
          5.8,
          6.3,
          6.7
         ],
         "y": [
          2.8,
          3.4,
          3.1
         ],
         "z": [
          5.1,
          5.6,
          5.6
         ],
         "type": "scatter3d"
        },
        {
         "hovertemplate": "petal width (cm)=2.3<br>sepal length (cm)=%{x}<br>sepal width (cm)=%{y}<br>petal length (cm)=%{z}<br>Type=%{marker.color}<extra></extra>",
         "legendgroup": "2.3",
         "marker": {
          "color": [
           2,
           2,
           2,
           2,
           2,
           2,
           2,
           2
          ],
          "coloraxis": "coloraxis",
          "symbol": "diamond"
         },
         "mode": "markers",
         "name": "2.3",
         "scene": "scene",
         "showlegend": true,
         "x": [
          6.4,
          7.7,
          6.9,
          7.7,
          6.9,
          6.8,
          6.7,
          6.2
         ],
         "y": [
          3.2,
          2.6,
          3.2,
          3.0,
          3.1,
          3.2,
          3.0,
          3.4
         ],
         "z": [
          5.3,
          6.9,
          5.7,
          6.1,
          5.1,
          5.9,
          5.2,
          5.4
         ],
         "type": "scatter3d"
        }
       ],
       "layout": {
        "template": {
         "data": {
          "histogram2dcontour": [
           {
            "type": "histogram2dcontour",
            "colorbar": {
             "outlinewidth": 0,
             "ticks": ""
            },
            "colorscale": [
             [
              0.0,
              "#0d0887"
             ],
             [
              0.1111111111111111,
              "#46039f"
             ],
             [
              0.2222222222222222,
              "#7201a8"
             ],
             [
              0.3333333333333333,
              "#9c179e"
             ],
             [
              0.4444444444444444,
              "#bd3786"
             ],
             [
              0.5555555555555556,
              "#d8576b"
             ],
             [
              0.6666666666666666,
              "#ed7953"
             ],
             [
              0.7777777777777778,
              "#fb9f3a"
             ],
             [
              0.8888888888888888,
              "#fdca26"
             ],
             [
              1.0,
              "#f0f921"
             ]
            ]
           }
          ],
          "choropleth": [
           {
            "type": "choropleth",
            "colorbar": {
             "outlinewidth": 0,
             "ticks": ""
            }
           }
          ],
          "histogram2d": [
           {
            "type": "histogram2d",
            "colorbar": {
             "outlinewidth": 0,
             "ticks": ""
            },
            "colorscale": [
             [
              0.0,
              "#0d0887"
             ],
             [
              0.1111111111111111,
              "#46039f"
             ],
             [
              0.2222222222222222,
              "#7201a8"
             ],
             [
              0.3333333333333333,
              "#9c179e"
             ],
             [
              0.4444444444444444,
              "#bd3786"
             ],
             [
              0.5555555555555556,
              "#d8576b"
             ],
             [
              0.6666666666666666,
              "#ed7953"
             ],
             [
              0.7777777777777778,
              "#fb9f3a"
             ],
             [
              0.8888888888888888,
              "#fdca26"
             ],
             [
              1.0,
              "#f0f921"
             ]
            ]
           }
          ],
          "heatmap": [
           {
            "type": "heatmap",
            "colorbar": {
             "outlinewidth": 0,
             "ticks": ""
            },
            "colorscale": [
             [
              0.0,
              "#0d0887"
             ],
             [
              0.1111111111111111,
              "#46039f"
             ],
             [
              0.2222222222222222,
              "#7201a8"
             ],
             [
              0.3333333333333333,
              "#9c179e"
             ],
             [
              0.4444444444444444,
              "#bd3786"
             ],
             [
              0.5555555555555556,
              "#d8576b"
             ],
             [
              0.6666666666666666,
              "#ed7953"
             ],
             [
              0.7777777777777778,
              "#fb9f3a"
             ],
             [
              0.8888888888888888,
              "#fdca26"
             ],
             [
              1.0,
              "#f0f921"
             ]
            ]
           }
          ],
          "heatmapgl": [
           {
            "type": "heatmapgl",
            "colorbar": {
             "outlinewidth": 0,
             "ticks": ""
            },
            "colorscale": [
             [
              0.0,
              "#0d0887"
             ],
             [
              0.1111111111111111,
              "#46039f"
             ],
             [
              0.2222222222222222,
              "#7201a8"
             ],
             [
              0.3333333333333333,
              "#9c179e"
             ],
             [
              0.4444444444444444,
              "#bd3786"
             ],
             [
              0.5555555555555556,
              "#d8576b"
             ],
             [
              0.6666666666666666,
              "#ed7953"
             ],
             [
              0.7777777777777778,
              "#fb9f3a"
             ],
             [
              0.8888888888888888,
              "#fdca26"
             ],
             [
              1.0,
              "#f0f921"
             ]
            ]
           }
          ],
          "contourcarpet": [
           {
            "type": "contourcarpet",
            "colorbar": {
             "outlinewidth": 0,
             "ticks": ""
            }
           }
          ],
          "contour": [
           {
            "type": "contour",
            "colorbar": {
             "outlinewidth": 0,
             "ticks": ""
            },
            "colorscale": [
             [
              0.0,
              "#0d0887"
             ],
             [
              0.1111111111111111,
              "#46039f"
             ],
             [
              0.2222222222222222,
              "#7201a8"
             ],
             [
              0.3333333333333333,
              "#9c179e"
             ],
             [
              0.4444444444444444,
              "#bd3786"
             ],
             [
              0.5555555555555556,
              "#d8576b"
             ],
             [
              0.6666666666666666,
              "#ed7953"
             ],
             [
              0.7777777777777778,
              "#fb9f3a"
             ],
             [
              0.8888888888888888,
              "#fdca26"
             ],
             [
              1.0,
              "#f0f921"
             ]
            ]
           }
          ],
          "surface": [
           {
            "type": "surface",
            "colorbar": {
             "outlinewidth": 0,
             "ticks": ""
            },
            "colorscale": [
             [
              0.0,
              "#0d0887"
             ],
             [
              0.1111111111111111,
              "#46039f"
             ],
             [
              0.2222222222222222,
              "#7201a8"
             ],
             [
              0.3333333333333333,
              "#9c179e"
             ],
             [
              0.4444444444444444,
              "#bd3786"
             ],
             [
              0.5555555555555556,
              "#d8576b"
             ],
             [
              0.6666666666666666,
              "#ed7953"
             ],
             [
              0.7777777777777778,
              "#fb9f3a"
             ],
             [
              0.8888888888888888,
              "#fdca26"
             ],
             [
              1.0,
              "#f0f921"
             ]
            ]
           }
          ],
          "mesh3d": [
           {
            "type": "mesh3d",
            "colorbar": {
             "outlinewidth": 0,
             "ticks": ""
            }
           }
          ],
          "scatter": [
           {
            "marker": {
             "line": {
              "color": "#283442"
             }
            },
            "type": "scatter"
           }
          ],
          "parcoords": [
           {
            "type": "parcoords",
            "line": {
             "colorbar": {
              "outlinewidth": 0,
              "ticks": ""
             }
            }
           }
          ],
          "scatterpolargl": [
           {
            "type": "scatterpolargl",
            "marker": {
             "colorbar": {
              "outlinewidth": 0,
              "ticks": ""
             }
            }
           }
          ],
          "bar": [
           {
            "error_x": {
             "color": "#f2f5fa"
            },
            "error_y": {
             "color": "#f2f5fa"
            },
            "marker": {
             "line": {
              "color": "rgb(17,17,17)",
              "width": 0.5
             },
             "pattern": {
              "fillmode": "overlay",
              "size": 10,
              "solidity": 0.2
             }
            },
            "type": "bar"
           }
          ],
          "scattergeo": [
           {
            "type": "scattergeo",
            "marker": {
             "colorbar": {
              "outlinewidth": 0,
              "ticks": ""
             }
            }
           }
          ],
          "scatterpolar": [
           {
            "type": "scatterpolar",
            "marker": {
             "colorbar": {
              "outlinewidth": 0,
              "ticks": ""
             }
            }
           }
          ],
          "histogram": [
           {
            "marker": {
             "pattern": {
              "fillmode": "overlay",
              "size": 10,
              "solidity": 0.2
             }
            },
            "type": "histogram"
           }
          ],
          "scattergl": [
           {
            "marker": {
             "line": {
              "color": "#283442"
             }
            },
            "type": "scattergl"
           }
          ],
          "scatter3d": [
           {
            "type": "scatter3d",
            "line": {
             "colorbar": {
              "outlinewidth": 0,
              "ticks": ""
             }
            },
            "marker": {
             "colorbar": {
              "outlinewidth": 0,
              "ticks": ""
             }
            }
           }
          ],
          "scattermapbox": [
           {
            "type": "scattermapbox",
            "marker": {
             "colorbar": {
              "outlinewidth": 0,
              "ticks": ""
             }
            }
           }
          ],
          "scatterternary": [
           {
            "type": "scatterternary",
            "marker": {
             "colorbar": {
              "outlinewidth": 0,
              "ticks": ""
             }
            }
           }
          ],
          "scattercarpet": [
           {
            "type": "scattercarpet",
            "marker": {
             "colorbar": {
              "outlinewidth": 0,
              "ticks": ""
             }
            }
           }
          ],
          "carpet": [
           {
            "aaxis": {
             "endlinecolor": "#A2B1C6",
             "gridcolor": "#506784",
             "linecolor": "#506784",
             "minorgridcolor": "#506784",
             "startlinecolor": "#A2B1C6"
            },
            "baxis": {
             "endlinecolor": "#A2B1C6",
             "gridcolor": "#506784",
             "linecolor": "#506784",
             "minorgridcolor": "#506784",
             "startlinecolor": "#A2B1C6"
            },
            "type": "carpet"
           }
          ],
          "table": [
           {
            "cells": {
             "fill": {
              "color": "#506784"
             },
             "line": {
              "color": "rgb(17,17,17)"
             }
            },
            "header": {
             "fill": {
              "color": "#2a3f5f"
             },
             "line": {
              "color": "rgb(17,17,17)"
             }
            },
            "type": "table"
           }
          ],
          "barpolar": [
           {
            "marker": {
             "line": {
              "color": "rgb(17,17,17)",
              "width": 0.5
             },
             "pattern": {
              "fillmode": "overlay",
              "size": 10,
              "solidity": 0.2
             }
            },
            "type": "barpolar"
           }
          ],
          "pie": [
           {
            "automargin": true,
            "type": "pie"
           }
          ]
         },
         "layout": {
          "autotypenumbers": "strict",
          "colorway": [
           "#636efa",
           "#EF553B",
           "#00cc96",
           "#ab63fa",
           "#FFA15A",
           "#19d3f3",
           "#FF6692",
           "#B6E880",
           "#FF97FF",
           "#FECB52"
          ],
          "font": {
           "color": "#f2f5fa"
          },
          "hovermode": "closest",
          "hoverlabel": {
           "align": "left"
          },
          "paper_bgcolor": "rgb(17,17,17)",
          "plot_bgcolor": "rgb(17,17,17)",
          "polar": {
           "bgcolor": "rgb(17,17,17)",
           "angularaxis": {
            "gridcolor": "#506784",
            "linecolor": "#506784",
            "ticks": ""
           },
           "radialaxis": {
            "gridcolor": "#506784",
            "linecolor": "#506784",
            "ticks": ""
           }
          },
          "ternary": {
           "bgcolor": "rgb(17,17,17)",
           "aaxis": {
            "gridcolor": "#506784",
            "linecolor": "#506784",
            "ticks": ""
           },
           "baxis": {
            "gridcolor": "#506784",
            "linecolor": "#506784",
            "ticks": ""
           },
           "caxis": {
            "gridcolor": "#506784",
            "linecolor": "#506784",
            "ticks": ""
           }
          },
          "coloraxis": {
           "colorbar": {
            "outlinewidth": 0,
            "ticks": ""
           }
          },
          "colorscale": {
           "sequential": [
            [
             0.0,
             "#0d0887"
            ],
            [
             0.1111111111111111,
             "#46039f"
            ],
            [
             0.2222222222222222,
             "#7201a8"
            ],
            [
             0.3333333333333333,
             "#9c179e"
            ],
            [
             0.4444444444444444,
             "#bd3786"
            ],
            [
             0.5555555555555556,
             "#d8576b"
            ],
            [
             0.6666666666666666,
             "#ed7953"
            ],
            [
             0.7777777777777778,
             "#fb9f3a"
            ],
            [
             0.8888888888888888,
             "#fdca26"
            ],
            [
             1.0,
             "#f0f921"
            ]
           ],
           "sequentialminus": [
            [
             0.0,
             "#0d0887"
            ],
            [
             0.1111111111111111,
             "#46039f"
            ],
            [
             0.2222222222222222,
             "#7201a8"
            ],
            [
             0.3333333333333333,
             "#9c179e"
            ],
            [
             0.4444444444444444,
             "#bd3786"
            ],
            [
             0.5555555555555556,
             "#d8576b"
            ],
            [
             0.6666666666666666,
             "#ed7953"
            ],
            [
             0.7777777777777778,
             "#fb9f3a"
            ],
            [
             0.8888888888888888,
             "#fdca26"
            ],
            [
             1.0,
             "#f0f921"
            ]
           ],
           "diverging": [
            [
             0,
             "#8e0152"
            ],
            [
             0.1,
             "#c51b7d"
            ],
            [
             0.2,
             "#de77ae"
            ],
            [
             0.3,
             "#f1b6da"
            ],
            [
             0.4,
             "#fde0ef"
            ],
            [
             0.5,
             "#f7f7f7"
            ],
            [
             0.6,
             "#e6f5d0"
            ],
            [
             0.7,
             "#b8e186"
            ],
            [
             0.8,
             "#7fbc41"
            ],
            [
             0.9,
             "#4d9221"
            ],
            [
             1,
             "#276419"
            ]
           ]
          },
          "xaxis": {
           "gridcolor": "#283442",
           "linecolor": "#506784",
           "ticks": "",
           "title": {
            "standoff": 15
           },
           "zerolinecolor": "#283442",
           "automargin": true,
           "zerolinewidth": 2
          },
          "yaxis": {
           "gridcolor": "#283442",
           "linecolor": "#506784",
           "ticks": "",
           "title": {
            "standoff": 15
           },
           "zerolinecolor": "#283442",
           "automargin": true,
           "zerolinewidth": 2
          },
          "scene": {
           "xaxis": {
            "backgroundcolor": "rgb(17,17,17)",
            "gridcolor": "#506784",
            "linecolor": "#506784",
            "showbackground": true,
            "ticks": "",
            "zerolinecolor": "#C8D4E3",
            "gridwidth": 2
           },
           "yaxis": {
            "backgroundcolor": "rgb(17,17,17)",
            "gridcolor": "#506784",
            "linecolor": "#506784",
            "showbackground": true,
            "ticks": "",
            "zerolinecolor": "#C8D4E3",
            "gridwidth": 2
           },
           "zaxis": {
            "backgroundcolor": "rgb(17,17,17)",
            "gridcolor": "#506784",
            "linecolor": "#506784",
            "showbackground": true,
            "ticks": "",
            "zerolinecolor": "#C8D4E3",
            "gridwidth": 2
           }
          },
          "shapedefaults": {
           "line": {
            "color": "#f2f5fa"
           }
          },
          "annotationdefaults": {
           "arrowcolor": "#f2f5fa",
           "arrowhead": 0,
           "arrowwidth": 1
          },
          "geo": {
           "bgcolor": "rgb(17,17,17)",
           "landcolor": "rgb(17,17,17)",
           "subunitcolor": "#506784",
           "showland": true,
           "showlakes": true,
           "lakecolor": "rgb(17,17,17)"
          },
          "title": {
           "x": 0.05
          },
          "updatemenudefaults": {
           "bgcolor": "#506784",
           "borderwidth": 0
          },
          "sliderdefaults": {
           "bgcolor": "#C8D4E3",
           "borderwidth": 1,
           "bordercolor": "rgb(17,17,17)",
           "tickwidth": 0
          },
          "mapbox": {
           "style": "dark"
          }
         }
        },
        "scene": {
         "domain": {
          "x": [
           0.0,
           1.0
          ],
          "y": [
           0.0,
           1.0
          ]
         },
         "xaxis": {
          "title": {
           "text": "sepal length (cm)"
          }
         },
         "yaxis": {
          "title": {
           "text": "sepal width (cm)"
          }
         },
         "zaxis": {
          "title": {
           "text": "petal length (cm)"
          }
         }
        },
        "coloraxis": {
         "colorbar": {
          "title": {
           "text": "Type"
          }
         },
         "colorscale": [
          [
           0.0,
           "#0d0887"
          ],
          [
           0.1111111111111111,
           "#46039f"
          ],
          [
           0.2222222222222222,
           "#7201a8"
          ],
          [
           0.3333333333333333,
           "#9c179e"
          ],
          [
           0.4444444444444444,
           "#bd3786"
          ],
          [
           0.5555555555555556,
           "#d8576b"
          ],
          [
           0.6666666666666666,
           "#ed7953"
          ],
          [
           0.7777777777777778,
           "#fb9f3a"
          ],
          [
           0.8888888888888888,
           "#fdca26"
          ],
          [
           1.0,
           "#f0f921"
          ]
         ]
        },
        "legend": {
         "title": {
          "text": "petal width (cm)"
         },
         "tracegroupgap": 0,
         "orientation": "v",
         "yanchor": "top",
         "xanchor": "right"
        },
        "title": {
         "text": "Initial data for flowers"
        }
       },
       "config": {
        "plotlyServerURL": "https://plot.ly"
       }
      },
      "text/html": "<div>                            <div id=\"276e39b4-f8c5-4c58-9859-19ee8917acc1\" class=\"plotly-graph-div\" style=\"height:525px; width:100%;\"></div>            <script type=\"text/javascript\">                require([\"plotly\"], function(Plotly) {                    window.PLOTLYENV=window.PLOTLYENV || {};                                    if (document.getElementById(\"276e39b4-f8c5-4c58-9859-19ee8917acc1\")) {                    Plotly.newPlot(                        \"276e39b4-f8c5-4c58-9859-19ee8917acc1\",                        [{\"hovertemplate\":\"petal width (cm)=0.2<br>sepal length (cm)=%{x}<br>sepal width (cm)=%{y}<br>petal length (cm)=%{z}<br>Type=%{marker.color}<extra></extra>\",\"legendgroup\":\"0.2\",\"marker\":{\"color\":[0,0,0,0,0,0,0,0,0,0,0,0,0,0,0,0,0,0,0,0,0,0,0,0,0,0,0,0,0],\"coloraxis\":\"coloraxis\",\"symbol\":\"circle\"},\"mode\":\"markers\",\"name\":\"0.2\",\"scene\":\"scene\",\"showlegend\":true,\"x\":[5.1,4.9,4.7,4.6,5.0,5.0,4.4,5.4,4.8,5.8,5.4,4.6,4.8,5.0,5.2,5.2,4.7,4.8,5.5,4.9,5.0,5.5,4.4,5.1,4.4,5.1,4.6,5.3,5.0],\"y\":[3.5,3.0,3.2,3.1,3.6,3.4,2.9,3.7,3.4,4.0,3.4,3.6,3.4,3.0,3.5,3.4,3.2,3.1,4.2,3.1,3.2,3.5,3.0,3.4,3.2,3.8,3.2,3.7,3.3],\"z\":[1.4,1.4,1.3,1.5,1.4,1.5,1.4,1.5,1.6,1.2,1.7,1.0,1.9,1.6,1.5,1.4,1.6,1.6,1.4,1.5,1.2,1.3,1.3,1.5,1.3,1.6,1.4,1.5,1.4],\"type\":\"scatter3d\"},{\"hovertemplate\":\"petal width (cm)=0.4<br>sepal length (cm)=%{x}<br>sepal width (cm)=%{y}<br>petal length (cm)=%{z}<br>Type=%{marker.color}<extra></extra>\",\"legendgroup\":\"0.4\",\"marker\":{\"color\":[0,0,0,0,0,0,0],\"coloraxis\":\"coloraxis\",\"symbol\":\"diamond\"},\"mode\":\"markers\",\"name\":\"0.4\",\"scene\":\"scene\",\"showlegend\":true,\"x\":[5.4,5.7,5.4,5.1,5.0,5.4,5.1],\"y\":[3.9,4.4,3.9,3.7,3.4,3.4,3.8],\"z\":[1.7,1.5,1.3,1.5,1.6,1.5,1.9],\"type\":\"scatter3d\"},{\"hovertemplate\":\"petal width (cm)=0.3<br>sepal length (cm)=%{x}<br>sepal width (cm)=%{y}<br>petal length (cm)=%{z}<br>Type=%{marker.color}<extra></extra>\",\"legendgroup\":\"0.3\",\"marker\":{\"color\":[0,0,0,0,0,0,0],\"coloraxis\":\"coloraxis\",\"symbol\":\"square\"},\"mode\":\"markers\",\"name\":\"0.3\",\"scene\":\"scene\",\"showlegend\":true,\"x\":[4.6,5.1,5.7,5.1,5.0,4.5,4.8],\"y\":[3.4,3.5,3.8,3.8,3.5,2.3,3.0],\"z\":[1.4,1.4,1.7,1.5,1.3,1.3,1.4],\"type\":\"scatter3d\"},{\"hovertemplate\":\"petal width (cm)=0.1<br>sepal length (cm)=%{x}<br>sepal width (cm)=%{y}<br>petal length (cm)=%{z}<br>Type=%{marker.color}<extra></extra>\",\"legendgroup\":\"0.1\",\"marker\":{\"color\":[0,0,0,0,0],\"coloraxis\":\"coloraxis\",\"symbol\":\"x\"},\"mode\":\"markers\",\"name\":\"0.1\",\"scene\":\"scene\",\"showlegend\":true,\"x\":[4.9,4.8,4.3,5.2,4.9],\"y\":[3.1,3.0,3.0,4.1,3.6],\"z\":[1.5,1.4,1.1,1.5,1.4],\"type\":\"scatter3d\"},{\"hovertemplate\":\"petal width (cm)=0.5<br>sepal length (cm)=%{x}<br>sepal width (cm)=%{y}<br>petal length (cm)=%{z}<br>Type=%{marker.color}<extra></extra>\",\"legendgroup\":\"0.5\",\"marker\":{\"color\":[0],\"coloraxis\":\"coloraxis\",\"symbol\":\"cross\"},\"mode\":\"markers\",\"name\":\"0.5\",\"scene\":\"scene\",\"showlegend\":true,\"x\":[5.1],\"y\":[3.3],\"z\":[1.7],\"type\":\"scatter3d\"},{\"hovertemplate\":\"petal width (cm)=0.6<br>sepal length (cm)=%{x}<br>sepal width (cm)=%{y}<br>petal length (cm)=%{z}<br>Type=%{marker.color}<extra></extra>\",\"legendgroup\":\"0.6\",\"marker\":{\"color\":[0],\"coloraxis\":\"coloraxis\",\"symbol\":\"circle\"},\"mode\":\"markers\",\"name\":\"0.6\",\"scene\":\"scene\",\"showlegend\":true,\"x\":[5.0],\"y\":[3.5],\"z\":[1.6],\"type\":\"scatter3d\"},{\"hovertemplate\":\"petal width (cm)=1.4<br>sepal length (cm)=%{x}<br>sepal width (cm)=%{y}<br>petal length (cm)=%{z}<br>Type=%{marker.color}<extra></extra>\",\"legendgroup\":\"1.4\",\"marker\":{\"color\":[1,1,1,1,1,1,1,2],\"coloraxis\":\"coloraxis\",\"symbol\":\"diamond\"},\"mode\":\"markers\",\"name\":\"1.4\",\"scene\":\"scene\",\"showlegend\":true,\"x\":[7.0,5.2,6.1,6.7,6.6,6.8,6.1,6.1],\"y\":[3.2,2.7,2.9,3.1,3.0,2.8,3.0,2.6],\"z\":[4.7,3.9,4.7,4.4,4.4,4.8,4.6,5.6],\"type\":\"scatter3d\"},{\"hovertemplate\":\"petal width (cm)=1.5<br>sepal length (cm)=%{x}<br>sepal width (cm)=%{y}<br>petal length (cm)=%{z}<br>Type=%{marker.color}<extra></extra>\",\"legendgroup\":\"1.5\",\"marker\":{\"color\":[1,1,1,1,1,1,1,1,1,1,2,2],\"coloraxis\":\"coloraxis\",\"symbol\":\"square\"},\"mode\":\"markers\",\"name\":\"1.5\",\"scene\":\"scene\",\"showlegend\":true,\"x\":[6.4,6.9,6.5,5.9,5.6,6.2,6.3,6.0,5.4,6.7,6.0,6.3],\"y\":[3.2,3.1,2.8,3.0,3.0,2.2,2.5,2.9,3.0,3.1,2.2,2.8],\"z\":[4.5,4.9,4.6,4.2,4.5,4.5,4.9,4.5,4.5,4.7,5.0,5.1],\"type\":\"scatter3d\"},{\"hovertemplate\":\"petal width (cm)=1.3<br>sepal length (cm)=%{x}<br>sepal width (cm)=%{y}<br>petal length (cm)=%{z}<br>Type=%{marker.color}<extra></extra>\",\"legendgroup\":\"1.3\",\"marker\":{\"color\":[1,1,1,1,1,1,1,1,1,1,1,1,1],\"coloraxis\":\"coloraxis\",\"symbol\":\"x\"},\"mode\":\"markers\",\"name\":\"1.3\",\"scene\":\"scene\",\"showlegend\":true,\"x\":[5.5,5.7,6.6,5.6,6.1,6.4,6.3,5.6,5.5,5.6,5.7,6.2,5.7],\"y\":[2.3,2.8,2.9,2.9,2.8,2.9,2.3,3.0,2.5,2.7,2.9,2.9,2.8],\"z\":[4.0,4.5,4.6,3.6,4.0,4.3,4.4,4.1,4.0,4.2,4.2,4.3,4.1],\"type\":\"scatter3d\"},{\"hovertemplate\":\"petal width (cm)=1.6<br>sepal length (cm)=%{x}<br>sepal width (cm)=%{y}<br>petal length (cm)=%{z}<br>Type=%{marker.color}<extra></extra>\",\"legendgroup\":\"1.6\",\"marker\":{\"color\":[1,1,1,2],\"coloraxis\":\"coloraxis\",\"symbol\":\"cross\"},\"mode\":\"markers\",\"name\":\"1.6\",\"scene\":\"scene\",\"showlegend\":true,\"x\":[6.3,6.0,6.0,7.2],\"y\":[3.3,2.7,3.4,3.0],\"z\":[4.7,5.1,4.5,5.8],\"type\":\"scatter3d\"},{\"hovertemplate\":\"petal width (cm)=1.0<br>sepal length (cm)=%{x}<br>sepal width (cm)=%{y}<br>petal length (cm)=%{z}<br>Type=%{marker.color}<extra></extra>\",\"legendgroup\":\"1.0\",\"marker\":{\"color\":[1,1,1,1,1,1,1],\"coloraxis\":\"coloraxis\",\"symbol\":\"circle\"},\"mode\":\"markers\",\"name\":\"1.0\",\"scene\":\"scene\",\"showlegend\":true,\"x\":[4.9,5.0,6.0,5.8,5.7,5.5,5.0],\"y\":[2.4,2.0,2.2,2.7,2.6,2.4,2.3],\"z\":[3.3,3.5,4.0,4.1,3.5,3.7,3.3],\"type\":\"scatter3d\"},{\"hovertemplate\":\"petal width (cm)=1.1<br>sepal length (cm)=%{x}<br>sepal width (cm)=%{y}<br>petal length (cm)=%{z}<br>Type=%{marker.color}<extra></extra>\",\"legendgroup\":\"1.1\",\"marker\":{\"color\":[1,1,1],\"coloraxis\":\"coloraxis\",\"symbol\":\"diamond\"},\"mode\":\"markers\",\"name\":\"1.1\",\"scene\":\"scene\",\"showlegend\":true,\"x\":[5.6,5.5,5.1],\"y\":[2.5,2.4,2.5],\"z\":[3.9,3.8,3.0],\"type\":\"scatter3d\"},{\"hovertemplate\":\"petal width (cm)=1.8<br>sepal length (cm)=%{x}<br>sepal width (cm)=%{y}<br>petal length (cm)=%{z}<br>Type=%{marker.color}<extra></extra>\",\"legendgroup\":\"1.8\",\"marker\":{\"color\":[1,2,2,2,2,2,2,2,2,2,2,2],\"coloraxis\":\"coloraxis\",\"symbol\":\"square\"},\"mode\":\"markers\",\"name\":\"1.8\",\"scene\":\"scene\",\"showlegend\":true,\"x\":[5.9,6.3,7.3,6.7,6.5,6.3,7.2,6.2,6.1,6.4,6.0,5.9],\"y\":[3.2,2.9,2.9,2.5,3.0,2.7,3.2,2.8,3.0,3.1,3.0,3.0],\"z\":[4.8,5.6,6.3,5.8,5.5,4.9,6.0,4.8,4.9,5.5,4.8,5.1],\"type\":\"scatter3d\"},{\"hovertemplate\":\"petal width (cm)=1.2<br>sepal length (cm)=%{x}<br>sepal width (cm)=%{y}<br>petal length (cm)=%{z}<br>Type=%{marker.color}<extra></extra>\",\"legendgroup\":\"1.2\",\"marker\":{\"color\":[1,1,1,1,1],\"coloraxis\":\"coloraxis\",\"symbol\":\"x\"},\"mode\":\"markers\",\"name\":\"1.2\",\"scene\":\"scene\",\"showlegend\":true,\"x\":[6.1,5.8,5.5,5.8,5.7],\"y\":[2.8,2.7,2.6,2.6,3.0],\"z\":[4.7,3.9,4.4,4.0,4.2],\"type\":\"scatter3d\"},{\"hovertemplate\":\"petal width (cm)=1.7<br>sepal length (cm)=%{x}<br>sepal width (cm)=%{y}<br>petal length (cm)=%{z}<br>Type=%{marker.color}<extra></extra>\",\"legendgroup\":\"1.7\",\"marker\":{\"color\":[1,2],\"coloraxis\":\"coloraxis\",\"symbol\":\"cross\"},\"mode\":\"markers\",\"name\":\"1.7\",\"scene\":\"scene\",\"showlegend\":true,\"x\":[6.7,4.9],\"y\":[3.0,2.5],\"z\":[5.0,4.5],\"type\":\"scatter3d\"},{\"hovertemplate\":\"petal width (cm)=2.5<br>sepal length (cm)=%{x}<br>sepal width (cm)=%{y}<br>petal length (cm)=%{z}<br>Type=%{marker.color}<extra></extra>\",\"legendgroup\":\"2.5\",\"marker\":{\"color\":[2,2,2],\"coloraxis\":\"coloraxis\",\"symbol\":\"circle\"},\"mode\":\"markers\",\"name\":\"2.5\",\"scene\":\"scene\",\"showlegend\":true,\"x\":[6.3,7.2,6.7],\"y\":[3.3,3.6,3.3],\"z\":[6.0,6.1,5.7],\"type\":\"scatter3d\"},{\"hovertemplate\":\"petal width (cm)=1.9<br>sepal length (cm)=%{x}<br>sepal width (cm)=%{y}<br>petal length (cm)=%{z}<br>Type=%{marker.color}<extra></extra>\",\"legendgroup\":\"1.9\",\"marker\":{\"color\":[2,2,2,2,2],\"coloraxis\":\"coloraxis\",\"symbol\":\"diamond\"},\"mode\":\"markers\",\"name\":\"1.9\",\"scene\":\"scene\",\"showlegend\":true,\"x\":[5.8,6.4,7.4,5.8,6.3],\"y\":[2.7,2.7,2.8,2.7,2.5],\"z\":[5.1,5.3,6.1,5.1,5.0],\"type\":\"scatter3d\"},{\"hovertemplate\":\"petal width (cm)=2.1<br>sepal length (cm)=%{x}<br>sepal width (cm)=%{y}<br>petal length (cm)=%{z}<br>Type=%{marker.color}<extra></extra>\",\"legendgroup\":\"2.1\",\"marker\":{\"color\":[2,2,2,2,2,2],\"coloraxis\":\"coloraxis\",\"symbol\":\"square\"},\"mode\":\"markers\",\"name\":\"2.1\",\"scene\":\"scene\",\"showlegend\":true,\"x\":[7.1,7.6,6.8,6.7,6.4,6.9],\"y\":[3.0,3.0,3.0,3.3,2.8,3.1],\"z\":[5.9,6.6,5.5,5.7,5.6,5.4],\"type\":\"scatter3d\"},{\"hovertemplate\":\"petal width (cm)=2.2<br>sepal length (cm)=%{x}<br>sepal width (cm)=%{y}<br>petal length (cm)=%{z}<br>Type=%{marker.color}<extra></extra>\",\"legendgroup\":\"2.2\",\"marker\":{\"color\":[2,2,2],\"coloraxis\":\"coloraxis\",\"symbol\":\"x\"},\"mode\":\"markers\",\"name\":\"2.2\",\"scene\":\"scene\",\"showlegend\":true,\"x\":[6.5,7.7,6.4],\"y\":[3.0,3.8,2.8],\"z\":[5.8,6.7,5.6],\"type\":\"scatter3d\"},{\"hovertemplate\":\"petal width (cm)=2.0<br>sepal length (cm)=%{x}<br>sepal width (cm)=%{y}<br>petal length (cm)=%{z}<br>Type=%{marker.color}<extra></extra>\",\"legendgroup\":\"2.0\",\"marker\":{\"color\":[2,2,2,2,2,2],\"coloraxis\":\"coloraxis\",\"symbol\":\"cross\"},\"mode\":\"markers\",\"name\":\"2.0\",\"scene\":\"scene\",\"showlegend\":true,\"x\":[6.5,5.7,5.6,7.7,7.9,6.5],\"y\":[3.2,2.5,2.8,2.8,3.8,3.0],\"z\":[5.1,5.0,4.9,6.7,6.4,5.2],\"type\":\"scatter3d\"},{\"hovertemplate\":\"petal width (cm)=2.4<br>sepal length (cm)=%{x}<br>sepal width (cm)=%{y}<br>petal length (cm)=%{z}<br>Type=%{marker.color}<extra></extra>\",\"legendgroup\":\"2.4\",\"marker\":{\"color\":[2,2,2],\"coloraxis\":\"coloraxis\",\"symbol\":\"circle\"},\"mode\":\"markers\",\"name\":\"2.4\",\"scene\":\"scene\",\"showlegend\":true,\"x\":[5.8,6.3,6.7],\"y\":[2.8,3.4,3.1],\"z\":[5.1,5.6,5.6],\"type\":\"scatter3d\"},{\"hovertemplate\":\"petal width (cm)=2.3<br>sepal length (cm)=%{x}<br>sepal width (cm)=%{y}<br>petal length (cm)=%{z}<br>Type=%{marker.color}<extra></extra>\",\"legendgroup\":\"2.3\",\"marker\":{\"color\":[2,2,2,2,2,2,2,2],\"coloraxis\":\"coloraxis\",\"symbol\":\"diamond\"},\"mode\":\"markers\",\"name\":\"2.3\",\"scene\":\"scene\",\"showlegend\":true,\"x\":[6.4,7.7,6.9,7.7,6.9,6.8,6.7,6.2],\"y\":[3.2,2.6,3.2,3.0,3.1,3.2,3.0,3.4],\"z\":[5.3,6.9,5.7,6.1,5.1,5.9,5.2,5.4],\"type\":\"scatter3d\"}],                        {\"template\":{\"data\":{\"histogram2dcontour\":[{\"type\":\"histogram2dcontour\",\"colorbar\":{\"outlinewidth\":0,\"ticks\":\"\"},\"colorscale\":[[0.0,\"#0d0887\"],[0.1111111111111111,\"#46039f\"],[0.2222222222222222,\"#7201a8\"],[0.3333333333333333,\"#9c179e\"],[0.4444444444444444,\"#bd3786\"],[0.5555555555555556,\"#d8576b\"],[0.6666666666666666,\"#ed7953\"],[0.7777777777777778,\"#fb9f3a\"],[0.8888888888888888,\"#fdca26\"],[1.0,\"#f0f921\"]]}],\"choropleth\":[{\"type\":\"choropleth\",\"colorbar\":{\"outlinewidth\":0,\"ticks\":\"\"}}],\"histogram2d\":[{\"type\":\"histogram2d\",\"colorbar\":{\"outlinewidth\":0,\"ticks\":\"\"},\"colorscale\":[[0.0,\"#0d0887\"],[0.1111111111111111,\"#46039f\"],[0.2222222222222222,\"#7201a8\"],[0.3333333333333333,\"#9c179e\"],[0.4444444444444444,\"#bd3786\"],[0.5555555555555556,\"#d8576b\"],[0.6666666666666666,\"#ed7953\"],[0.7777777777777778,\"#fb9f3a\"],[0.8888888888888888,\"#fdca26\"],[1.0,\"#f0f921\"]]}],\"heatmap\":[{\"type\":\"heatmap\",\"colorbar\":{\"outlinewidth\":0,\"ticks\":\"\"},\"colorscale\":[[0.0,\"#0d0887\"],[0.1111111111111111,\"#46039f\"],[0.2222222222222222,\"#7201a8\"],[0.3333333333333333,\"#9c179e\"],[0.4444444444444444,\"#bd3786\"],[0.5555555555555556,\"#d8576b\"],[0.6666666666666666,\"#ed7953\"],[0.7777777777777778,\"#fb9f3a\"],[0.8888888888888888,\"#fdca26\"],[1.0,\"#f0f921\"]]}],\"heatmapgl\":[{\"type\":\"heatmapgl\",\"colorbar\":{\"outlinewidth\":0,\"ticks\":\"\"},\"colorscale\":[[0.0,\"#0d0887\"],[0.1111111111111111,\"#46039f\"],[0.2222222222222222,\"#7201a8\"],[0.3333333333333333,\"#9c179e\"],[0.4444444444444444,\"#bd3786\"],[0.5555555555555556,\"#d8576b\"],[0.6666666666666666,\"#ed7953\"],[0.7777777777777778,\"#fb9f3a\"],[0.8888888888888888,\"#fdca26\"],[1.0,\"#f0f921\"]]}],\"contourcarpet\":[{\"type\":\"contourcarpet\",\"colorbar\":{\"outlinewidth\":0,\"ticks\":\"\"}}],\"contour\":[{\"type\":\"contour\",\"colorbar\":{\"outlinewidth\":0,\"ticks\":\"\"},\"colorscale\":[[0.0,\"#0d0887\"],[0.1111111111111111,\"#46039f\"],[0.2222222222222222,\"#7201a8\"],[0.3333333333333333,\"#9c179e\"],[0.4444444444444444,\"#bd3786\"],[0.5555555555555556,\"#d8576b\"],[0.6666666666666666,\"#ed7953\"],[0.7777777777777778,\"#fb9f3a\"],[0.8888888888888888,\"#fdca26\"],[1.0,\"#f0f921\"]]}],\"surface\":[{\"type\":\"surface\",\"colorbar\":{\"outlinewidth\":0,\"ticks\":\"\"},\"colorscale\":[[0.0,\"#0d0887\"],[0.1111111111111111,\"#46039f\"],[0.2222222222222222,\"#7201a8\"],[0.3333333333333333,\"#9c179e\"],[0.4444444444444444,\"#bd3786\"],[0.5555555555555556,\"#d8576b\"],[0.6666666666666666,\"#ed7953\"],[0.7777777777777778,\"#fb9f3a\"],[0.8888888888888888,\"#fdca26\"],[1.0,\"#f0f921\"]]}],\"mesh3d\":[{\"type\":\"mesh3d\",\"colorbar\":{\"outlinewidth\":0,\"ticks\":\"\"}}],\"scatter\":[{\"marker\":{\"line\":{\"color\":\"#283442\"}},\"type\":\"scatter\"}],\"parcoords\":[{\"type\":\"parcoords\",\"line\":{\"colorbar\":{\"outlinewidth\":0,\"ticks\":\"\"}}}],\"scatterpolargl\":[{\"type\":\"scatterpolargl\",\"marker\":{\"colorbar\":{\"outlinewidth\":0,\"ticks\":\"\"}}}],\"bar\":[{\"error_x\":{\"color\":\"#f2f5fa\"},\"error_y\":{\"color\":\"#f2f5fa\"},\"marker\":{\"line\":{\"color\":\"rgb(17,17,17)\",\"width\":0.5},\"pattern\":{\"fillmode\":\"overlay\",\"size\":10,\"solidity\":0.2}},\"type\":\"bar\"}],\"scattergeo\":[{\"type\":\"scattergeo\",\"marker\":{\"colorbar\":{\"outlinewidth\":0,\"ticks\":\"\"}}}],\"scatterpolar\":[{\"type\":\"scatterpolar\",\"marker\":{\"colorbar\":{\"outlinewidth\":0,\"ticks\":\"\"}}}],\"histogram\":[{\"marker\":{\"pattern\":{\"fillmode\":\"overlay\",\"size\":10,\"solidity\":0.2}},\"type\":\"histogram\"}],\"scattergl\":[{\"marker\":{\"line\":{\"color\":\"#283442\"}},\"type\":\"scattergl\"}],\"scatter3d\":[{\"type\":\"scatter3d\",\"line\":{\"colorbar\":{\"outlinewidth\":0,\"ticks\":\"\"}},\"marker\":{\"colorbar\":{\"outlinewidth\":0,\"ticks\":\"\"}}}],\"scattermapbox\":[{\"type\":\"scattermapbox\",\"marker\":{\"colorbar\":{\"outlinewidth\":0,\"ticks\":\"\"}}}],\"scatterternary\":[{\"type\":\"scatterternary\",\"marker\":{\"colorbar\":{\"outlinewidth\":0,\"ticks\":\"\"}}}],\"scattercarpet\":[{\"type\":\"scattercarpet\",\"marker\":{\"colorbar\":{\"outlinewidth\":0,\"ticks\":\"\"}}}],\"carpet\":[{\"aaxis\":{\"endlinecolor\":\"#A2B1C6\",\"gridcolor\":\"#506784\",\"linecolor\":\"#506784\",\"minorgridcolor\":\"#506784\",\"startlinecolor\":\"#A2B1C6\"},\"baxis\":{\"endlinecolor\":\"#A2B1C6\",\"gridcolor\":\"#506784\",\"linecolor\":\"#506784\",\"minorgridcolor\":\"#506784\",\"startlinecolor\":\"#A2B1C6\"},\"type\":\"carpet\"}],\"table\":[{\"cells\":{\"fill\":{\"color\":\"#506784\"},\"line\":{\"color\":\"rgb(17,17,17)\"}},\"header\":{\"fill\":{\"color\":\"#2a3f5f\"},\"line\":{\"color\":\"rgb(17,17,17)\"}},\"type\":\"table\"}],\"barpolar\":[{\"marker\":{\"line\":{\"color\":\"rgb(17,17,17)\",\"width\":0.5},\"pattern\":{\"fillmode\":\"overlay\",\"size\":10,\"solidity\":0.2}},\"type\":\"barpolar\"}],\"pie\":[{\"automargin\":true,\"type\":\"pie\"}]},\"layout\":{\"autotypenumbers\":\"strict\",\"colorway\":[\"#636efa\",\"#EF553B\",\"#00cc96\",\"#ab63fa\",\"#FFA15A\",\"#19d3f3\",\"#FF6692\",\"#B6E880\",\"#FF97FF\",\"#FECB52\"],\"font\":{\"color\":\"#f2f5fa\"},\"hovermode\":\"closest\",\"hoverlabel\":{\"align\":\"left\"},\"paper_bgcolor\":\"rgb(17,17,17)\",\"plot_bgcolor\":\"rgb(17,17,17)\",\"polar\":{\"bgcolor\":\"rgb(17,17,17)\",\"angularaxis\":{\"gridcolor\":\"#506784\",\"linecolor\":\"#506784\",\"ticks\":\"\"},\"radialaxis\":{\"gridcolor\":\"#506784\",\"linecolor\":\"#506784\",\"ticks\":\"\"}},\"ternary\":{\"bgcolor\":\"rgb(17,17,17)\",\"aaxis\":{\"gridcolor\":\"#506784\",\"linecolor\":\"#506784\",\"ticks\":\"\"},\"baxis\":{\"gridcolor\":\"#506784\",\"linecolor\":\"#506784\",\"ticks\":\"\"},\"caxis\":{\"gridcolor\":\"#506784\",\"linecolor\":\"#506784\",\"ticks\":\"\"}},\"coloraxis\":{\"colorbar\":{\"outlinewidth\":0,\"ticks\":\"\"}},\"colorscale\":{\"sequential\":[[0.0,\"#0d0887\"],[0.1111111111111111,\"#46039f\"],[0.2222222222222222,\"#7201a8\"],[0.3333333333333333,\"#9c179e\"],[0.4444444444444444,\"#bd3786\"],[0.5555555555555556,\"#d8576b\"],[0.6666666666666666,\"#ed7953\"],[0.7777777777777778,\"#fb9f3a\"],[0.8888888888888888,\"#fdca26\"],[1.0,\"#f0f921\"]],\"sequentialminus\":[[0.0,\"#0d0887\"],[0.1111111111111111,\"#46039f\"],[0.2222222222222222,\"#7201a8\"],[0.3333333333333333,\"#9c179e\"],[0.4444444444444444,\"#bd3786\"],[0.5555555555555556,\"#d8576b\"],[0.6666666666666666,\"#ed7953\"],[0.7777777777777778,\"#fb9f3a\"],[0.8888888888888888,\"#fdca26\"],[1.0,\"#f0f921\"]],\"diverging\":[[0,\"#8e0152\"],[0.1,\"#c51b7d\"],[0.2,\"#de77ae\"],[0.3,\"#f1b6da\"],[0.4,\"#fde0ef\"],[0.5,\"#f7f7f7\"],[0.6,\"#e6f5d0\"],[0.7,\"#b8e186\"],[0.8,\"#7fbc41\"],[0.9,\"#4d9221\"],[1,\"#276419\"]]},\"xaxis\":{\"gridcolor\":\"#283442\",\"linecolor\":\"#506784\",\"ticks\":\"\",\"title\":{\"standoff\":15},\"zerolinecolor\":\"#283442\",\"automargin\":true,\"zerolinewidth\":2},\"yaxis\":{\"gridcolor\":\"#283442\",\"linecolor\":\"#506784\",\"ticks\":\"\",\"title\":{\"standoff\":15},\"zerolinecolor\":\"#283442\",\"automargin\":true,\"zerolinewidth\":2},\"scene\":{\"xaxis\":{\"backgroundcolor\":\"rgb(17,17,17)\",\"gridcolor\":\"#506784\",\"linecolor\":\"#506784\",\"showbackground\":true,\"ticks\":\"\",\"zerolinecolor\":\"#C8D4E3\",\"gridwidth\":2},\"yaxis\":{\"backgroundcolor\":\"rgb(17,17,17)\",\"gridcolor\":\"#506784\",\"linecolor\":\"#506784\",\"showbackground\":true,\"ticks\":\"\",\"zerolinecolor\":\"#C8D4E3\",\"gridwidth\":2},\"zaxis\":{\"backgroundcolor\":\"rgb(17,17,17)\",\"gridcolor\":\"#506784\",\"linecolor\":\"#506784\",\"showbackground\":true,\"ticks\":\"\",\"zerolinecolor\":\"#C8D4E3\",\"gridwidth\":2}},\"shapedefaults\":{\"line\":{\"color\":\"#f2f5fa\"}},\"annotationdefaults\":{\"arrowcolor\":\"#f2f5fa\",\"arrowhead\":0,\"arrowwidth\":1},\"geo\":{\"bgcolor\":\"rgb(17,17,17)\",\"landcolor\":\"rgb(17,17,17)\",\"subunitcolor\":\"#506784\",\"showland\":true,\"showlakes\":true,\"lakecolor\":\"rgb(17,17,17)\"},\"title\":{\"x\":0.05},\"updatemenudefaults\":{\"bgcolor\":\"#506784\",\"borderwidth\":0},\"sliderdefaults\":{\"bgcolor\":\"#C8D4E3\",\"borderwidth\":1,\"bordercolor\":\"rgb(17,17,17)\",\"tickwidth\":0},\"mapbox\":{\"style\":\"dark\"}}},\"scene\":{\"domain\":{\"x\":[0.0,1.0],\"y\":[0.0,1.0]},\"xaxis\":{\"title\":{\"text\":\"sepal length (cm)\"}},\"yaxis\":{\"title\":{\"text\":\"sepal width (cm)\"}},\"zaxis\":{\"title\":{\"text\":\"petal length (cm)\"}}},\"coloraxis\":{\"colorbar\":{\"title\":{\"text\":\"Type\"}},\"colorscale\":[[0.0,\"#0d0887\"],[0.1111111111111111,\"#46039f\"],[0.2222222222222222,\"#7201a8\"],[0.3333333333333333,\"#9c179e\"],[0.4444444444444444,\"#bd3786\"],[0.5555555555555556,\"#d8576b\"],[0.6666666666666666,\"#ed7953\"],[0.7777777777777778,\"#fb9f3a\"],[0.8888888888888888,\"#fdca26\"],[1.0,\"#f0f921\"]]},\"legend\":{\"title\":{\"text\":\"petal width (cm)\"},\"tracegroupgap\":0,\"orientation\":\"v\",\"yanchor\":\"top\",\"xanchor\":\"right\"},\"title\":{\"text\":\"Initial data for flowers\"}},                        {\"responsive\": true}                    ).then(function(){\n                            \nvar gd = document.getElementById('276e39b4-f8c5-4c58-9859-19ee8917acc1');\nvar x = new MutationObserver(function (mutations, observer) {{\n        var display = window.getComputedStyle(gd).display;\n        if (!display || display === 'none') {{\n            console.log([gd, 'removed!']);\n            Plotly.purge(gd);\n            observer.disconnect();\n        }}\n}});\n\n// Listen for the removal of the full notebook cells\nvar notebookContainer = gd.closest('#notebook-container');\nif (notebookContainer) {{\n    x.observe(notebookContainer, {childList: true});\n}}\n\n// Listen for the clearing of the current output cell\nvar outputEl = gd.closest('.output');\nif (outputEl) {{\n    x.observe(outputEl, {childList: true});\n}}\n\n                        })                };                });            </script>        </div>"
     },
     "metadata": {},
     "output_type": "display_data"
    },
    {
     "data": {
      "text/plain": "<Figure size 640x480 with 1 Axes>",
      "image/png": "[encoded data removed]"
     },
     "metadata": {},
     "output_type": "display_data"
    },
    {
     "data": {
      "text/plain": "<Figure size 640x480 with 1 Axes>",
      "image/png": "[encoded data removed]"
     },
     "metadata": {},
     "output_type": "display_data"
    },
    {
     "data": {
      "text/plain": "<Figure size 640x480 with 1 Axes>",
      "image/png": "[encoded data removed]"
     },
     "metadata": {},
     "output_type": "display_data"
    },
    {
     "data": {
      "text/plain": "<Figure size 640x480 with 1 Axes>",
      "image/png": "[encoded data removed]"
     },
     "metadata": {},
     "output_type": "display_data"
    },
    {
     "data": {
      "text/plain": "<Figure size 640x480 with 1 Axes>",
      "image/png": "[encoded data removed]"
     },
     "metadata": {},
     "output_type": "display_data"
    },
    {
     "data": {
      "application/vnd.plotly.v1+json": {
       "data": [
        {
         "hovertemplate": "petal width (cm)=0.19932046966859163<br>sepal length (cm)=%{x}<br>sepal width (cm)=%{y}<br>petal length (cm)=%{z}<br>Type=%{marker.color}<extra></extra>",
         "legendgroup": "0.19932046966859163",
         "marker": {
          "color": [
           1,
           1,
           1,
           1,
           1,
           1,
           2,
           1
          ],
          "coloraxis": "coloraxis",
          "symbol": "circle"
         },
         "mode": "markers",
         "name": "0.19932046966859163",
         "scene": "scene",
         "showlegend": true,
         "x": [
          1.2996920480440919,
          0.8252797415337005,
          0.23226435839571172,
          -0.8351633312526675,
          0.23226435839571172,
          0.9438828181612989,
          0.23226435839571172,
          1.0624858947888962
         ],
         "y": [
          0.3226014997065374,
          -0.16434416022786133,
          -0.40781699019506074,
          -0.8947626501294584,
          -0.16434416022786133,
          0.07912866973933805,
          -1.1382354800966579,
          -0.6512898201622601
         ],
         "z": [
          0.47434921205130237,
          0.3049387791758372,
          0.47434921205130237,
          0.02258805771672822,
          0.4178790677594803,
          0.3049387791758372,
          0.9825805106776978,
          0.5308193563431239
         ],
         "type": "scatter3d"
        },
        {
         "hovertemplate": "petal width (cm)=1.250681188799628<br>sepal length (cm)=%{x}<br>sepal width (cm)=%{y}<br>petal length (cm)=%{z}<br>Type=%{marker.color}<extra></extra>",
         "legendgroup": "1.250681188799628",
         "marker": {
          "color": [
           2,
           2,
           2
          ],
          "coloraxis": "coloraxis",
          "symbol": "diamond"
         },
         "mode": "markers",
         "name": "1.250681188799628",
         "scene": "scene",
         "showlegend": true,
         "x": [
          0.7066766649061031,
          0.5880735882785059,
          2.1299135844372765
         ],
         "y": [
          -0.16434416022786133,
          -0.6512898201622601,
          1.7834384795097316
         ],
         "z": [
          1.0955207992613414,
          0.9825805106776978,
          1.6037520978877373
         ],
         "type": "scatter3d"
        },
        {
         "hovertemplate": "petal width (cm)=0.7250008292341098<br>sepal length (cm)=%{x}<br>sepal width (cm)=%{y}<br>petal length (cm)=%{z}<br>Type=%{marker.color}<extra></extra>",
         "legendgroup": "0.7250008292341098",
         "marker": {
          "color": [
           2,
           2,
           2,
           2,
           2,
           2,
           2,
           2,
           1,
           2,
           2
          ],
          "coloraxis": "coloraxis",
          "symbol": "square"
         },
         "mode": "markers",
         "name": "0.7250008292341098",
         "scene": "scene",
         "showlegend": true,
         "x": [
          0.11366128176811438,
          1.5368982012992878,
          -0.004941794859482959,
          0.4694705116509075,
          0.4694705116509075,
          0.23226435839571172,
          1.655501277926885,
          0.7066766649061031,
          -0.004941794859482959,
          0.5880735882785059,
          0.35086743502331014
         ],
         "y": [
          -0.16434416022786133,
          0.3226014997065374,
          -0.16434416022786133,
          -0.8947626501294584,
          -0.40781699019506074,
          -0.16434416022786133,
          -0.40781699019506074,
          -0.16434416022786133,
          0.3226014997065374,
          0.07912866973933805,
          -0.6512898201622601
         ],
         "z": [
          0.5308193563431239,
          1.208461087844985,
          0.700229789218589,
          0.587289500634946,
          0.9825805106776978,
          0.587289500634946,
          1.3778715207204502,
          0.9261103663858763,
          0.5308193563431239,
          0.9261103663858763,
          0.5308193563431239
         ],
         "type": "scatter3d"
        },
        {
         "hovertemplate": "petal width (cm)=-1.3777206090279626<br>sepal length (cm)=%{x}<br>sepal width (cm)=%{y}<br>petal length (cm)=%{z}<br>Type=%{marker.color}<extra></extra>",
         "legendgroup": "-1.3777206090279626",
         "marker": {
          "color": [
           0,
           0,
           0,
           0,
           0,
           0,
           0,
           0,
           0,
           0,
           0,
           0,
           0,
           0,
           0,
           0,
           0,
           0,
           0,
           0,
           0,
           0
          ],
          "coloraxis": "coloraxis",
          "symbol": "x"
         },
         "mode": "markers",
         "name": "-1.3777206090279626",
         "scene": "scene",
         "showlegend": true,
         "x": [
          -1.0723694845078633,
          -1.4281787143906564,
          -0.9537664078802659,
          -0.12354487148708135,
          -1.1909725611354605,
          -1.0723694845078633,
          -1.0723694845078633,
          -1.5467817910182546,
          -0.9537664078802659,
          -1.5467817910182546,
          -0.7165602546250701,
          -1.1909725611354605,
          -0.9537664078802659,
          -0.5979571779974717,
          -1.4281787143906564,
          -1.0723694845078633,
          -1.0723694845078633,
          -1.7839879442734494,
          -1.7839879442734494,
          -0.8351633312526675,
          -0.5979571779974717,
          -1.309575637763059
         ],
         "y": [
          0.5660743296737357,
          0.3226014997065374,
          0.809547159640935,
          2.2703841394441304,
          0.07912866973933805,
          0.809547159640935,
          1.2964928195753338,
          0.3226014997065374,
          1.7834384795097316,
          0.07912866973933805,
          1.5399656495425331,
          -0.16434416022786133,
          1.0530199896081345,
          1.5399656495425331,
          0.3226014997065374,
          0.3226014997065374,
          -0.16434416022786133,
          -0.40781699019506074,
          0.3226014997065374,
          0.809547159640935,
          0.809547159640935,
          0.07912866973933805
         ],
         "z": [
          -1.3891655495788156,
          -1.4456356938706372,
          -1.3326954052869937,
          -1.5021058381624592,
          -1.3326954052869937,
          -1.3326954052869937,
          -1.3891655495788156,
          -1.3891655495788156,
          -1.2762252609951719,
          -1.3326954052869937,
          -1.3326954052869937,
          -1.3891655495788156,
          -1.3891655495788156,
          -1.3326954052869937,
          -1.2762252609951719,
          -1.5021058381624592,
          -1.2762252609951719,
          -1.3891655495788156,
          -1.4456356938706372,
          -1.3891655495788156,
          -1.2197551167033505,
          -1.2762252609951719
         ],
         "type": "scatter3d"
        },
        {
         "hovertemplate": "petal width (cm)=-0.3263598898969263<br>sepal length (cm)=%{x}<br>sepal width (cm)=%{y}<br>petal length (cm)=%{z}<br>Type=%{marker.color}<extra></extra>",
         "legendgroup": "-0.3263598898969263",
         "marker": {
          "color": [
           1,
           1,
           1,
           1,
           1
          ],
          "coloraxis": "coloraxis",
          "symbol": "cross"
         },
         "mode": "markers",
         "name": "-0.3263598898969263",
         "scene": "scene",
         "showlegend": true,
         "x": [
          -1.0723694845078633,
          -1.1909725611354605,
          -0.47935410136987444,
          -0.12354487148708135,
          -1.0723694845078633
         ],
         "y": [
          -2.599072459899853,
          -1.6251811400310565,
          -1.6251811400310565,
          -0.8947626501294584,
          -1.8686539699982558
         ],
         "z": [
          -0.20329251945055873,
          -0.31623280803420234,
          -0.09035223086691513,
          0.13552834630037155,
          -0.31623280803420234
         ],
         "type": "scatter3d"
        },
        {
         "hovertemplate": "petal width (cm)=1.3821012786910072<br>sepal length (cm)=%{x}<br>sepal width (cm)=%{y}<br>petal length (cm)=%{z}<br>Type=%{marker.color}<extra></extra>",
         "legendgroup": "1.3821012786910072",
         "marker": {
          "color": [
           2,
           2,
           2,
           2,
           2,
           2,
           2,
           2
          ],
          "coloraxis": "coloraxis",
          "symbol": "circle"
         },
         "mode": "markers",
         "name": "1.3821012786910072",
         "scene": "scene",
         "showlegend": true,
         "x": [
          2.1299135844372765,
          1.0624858947888962,
          1.1810889714164947,
          0.5880735882785059,
          0.35086743502331014,
          1.1810889714164947,
          0.9438828181612989,
          2.1299135844372765
         ],
         "y": [
          -1.1382354800966579,
          0.3226014997065374,
          0.07912866973933805,
          0.3226014997065374,
          0.809547159640935,
          0.3226014997065374,
          -0.16434416022786133,
          -0.16434416022786133
         ],
         "z": [
          1.716692386471381,
          1.1519909435531634,
          0.700229789218589,
          0.8131700778022327,
          0.8696402220940547,
          1.0390506549695198,
          0.7566999335104111,
          1.2649312321368065
         ],
         "type": "scatter3d"
        },
        {
         "hovertemplate": "petal width (cm)=1.5135213685823867<br>sepal length (cm)=%{x}<br>sepal width (cm)=%{y}<br>petal length (cm)=%{z}<br>Type=%{marker.color}<extra></extra>",
         "legendgroup": "1.5135213685823867",
         "marker": {
          "color": [
           2,
           2,
           2
          ],
          "coloraxis": "coloraxis",
          "symbol": "diamond"
         },
         "mode": "markers",
         "name": "1.5135213685823867",
         "scene": "scene",
         "showlegend": true,
         "x": [
          -0.12354487148708135,
          0.4694705116509075,
          0.9438828181612989
         ],
         "y": [
          -0.6512898201622601,
          0.809547159640935,
          0.07912866973933805
         ],
         "z": [
          0.700229789218589,
          0.9825805106776978,
          0.9825805106776978
         ],
         "type": "scatter3d"
        },
        {
         "hovertemplate": "petal width (cm)=1.1192610989082485<br>sepal length (cm)=%{x}<br>sepal width (cm)=%{y}<br>petal length (cm)=%{z}<br>Type=%{marker.color}<extra></extra>",
         "legendgroup": "1.1192610989082485",
         "marker": {
          "color": [
           2,
           2,
           2,
           2,
           2,
           2
          ],
          "coloraxis": "coloraxis",
          "symbol": "square"
         },
         "mode": "markers",
         "name": "1.1192610989082485",
         "scene": "scene",
         "showlegend": true,
         "x": [
          0.9438828181612989,
          0.5880735882785059,
          1.4182951246716893,
          2.0113105078096782,
          1.0624858947888962,
          1.1810889714164947
         ],
         "y": [
          0.5660743296737357,
          -0.6512898201622601,
          -0.16434416022786133,
          -0.16434416022786133,
          -0.16434416022786133,
          0.07912866973933805
         ],
         "z": [
          1.0390506549695198,
          0.9825805106776978,
          1.1519909435531634,
          1.5472819535959152,
          0.9261103663858763,
          0.8696402220940547
         ],
         "type": "scatter3d"
        },
        {
         "hovertemplate": "petal width (cm)=0.3307405595599712<br>sepal length (cm)=%{x}<br>sepal width (cm)=%{y}<br>petal length (cm)=%{z}<br>Type=%{marker.color}<extra></extra>",
         "legendgroup": "0.3307405595599712",
         "marker": {
          "color": [
           1,
           1,
           2,
           1,
           1,
           1,
           1,
           1,
           1,
           2,
           1
          ],
          "coloraxis": "coloraxis",
          "symbol": "x"
         },
         "mode": "markers",
         "name": "0.3307405595599712",
         "scene": "scene",
         "showlegend": true,
         "x": [
          0.4694705116509075,
          0.9438828181612989,
          0.11366128176811438,
          1.1810889714164947,
          0.5880735882785059,
          0.11366128176811438,
          -0.004941794859482959,
          0.7066766649061031,
          0.35086743502331014,
          0.4694705116509075,
          -0.3607510247422771
         ],
         "y": [
          -1.3817083100638572,
          0.07912866973933805,
          -2.1121267999654543,
          0.07912866973933805,
          0.3226014997065374,
          -0.40781699019506074,
          -0.16434416022786133,
          -0.6512898201622601,
          -2.1121267999654543,
          -0.6512898201622601,
          -0.16434416022786133
         ],
         "z": [
          0.587289500634946,
          0.47434921205130237,
          0.6437596449267675,
          0.587289500634946,
          0.3614089234676588,
          0.3614089234676588,
          0.19199849059219362,
          0.4178790677594803,
          0.3614089234676588,
          0.700229789218589,
          0.3614089234676588
         ],
         "type": "scatter3d"
        },
        {
         "hovertemplate": "petal width (cm)=-0.1949398000055467<br>sepal length (cm)=%{x}<br>sepal width (cm)=%{y}<br>petal length (cm)=%{z}<br>Type=%{marker.color}<extra></extra>",
         "legendgroup": "-0.1949398000055467",
         "marker": {
          "color": [
           1
          ],
          "coloraxis": "coloraxis",
          "symbol": "cross"
         },
         "mode": "markers",
         "name": "-0.1949398000055467",
         "scene": "scene",
         "showlegend": true,
         "x": [
          -0.9537664078802659
         ],
         "y": [
          -1.3817083100638572
         ],
         "z": [
          -0.4856432409096675
         ],
         "type": "scatter3d"
        },
        {
         "hovertemplate": "petal width (cm)=-1.2463005191365828<br>sepal length (cm)=%{x}<br>sepal width (cm)=%{y}<br>petal length (cm)=%{z}<br>Type=%{marker.color}<extra></extra>",
         "legendgroup": "-1.2463005191365828",
         "marker": {
          "color": [
           0,
           0,
           0,
           0
          ],
          "coloraxis": "coloraxis",
          "symbol": "circle"
         },
         "mode": "markers",
         "name": "-1.2463005191365828",
         "scene": "scene",
         "showlegend": true,
         "x": [
          -0.9537664078802659,
          -0.9537664078802659,
          -1.309575637763059,
          -1.0723694845078633
         ],
         "y": [
          1.7834384795097316,
          1.0530199896081345,
          -0.16434416022786133,
          1.0530199896081345
         ],
         "z": [
          -1.3326954052869937,
          -1.3891655495788156,
          -1.3891655495788156,
          -1.4456356938706372
         ],
         "type": "scatter3d"
        },
        {
         "hovertemplate": "petal width (cm)=0.4621606494513509<br>sepal length (cm)=%{x}<br>sepal width (cm)=%{y}<br>petal length (cm)=%{z}<br>Type=%{marker.color}<extra></extra>",
         "legendgroup": "0.4621606494513509",
         "marker": {
          "color": [
           2,
           1,
           1
          ],
          "coloraxis": "coloraxis",
          "symbol": "diamond"
         },
         "mode": "markers",
         "name": "0.4621606494513509",
         "scene": "scene",
         "showlegend": true,
         "x": [
          1.5368982012992878,
          0.11366128176811438,
          0.4694705116509075
         ],
         "y": [
          -0.16434416022786133,
          0.809547159640935,
          0.5660743296737357
         ],
         "z": [
          1.0955207992613414,
          0.3614089234676588,
          0.47434921205130237
         ],
         "type": "scatter3d"
        },
        {
         "hovertemplate": "petal width (cm)=-1.1148804292452035<br>sepal length (cm)=%{x}<br>sepal width (cm)=%{y}<br>petal length (cm)=%{z}<br>Type=%{marker.color}<extra></extra>",
         "legendgroup": "-1.1148804292452035",
         "marker": {
          "color": [
           0,
           0,
           0,
           0,
           0,
           0,
           0
          ],
          "coloraxis": "coloraxis",
          "symbol": "square"
         },
         "mode": "markers",
         "name": "-1.1148804292452035",
         "scene": "scene",
         "showlegend": true,
         "x": [
          -1.0723694845078633,
          -0.5979571779974717,
          -0.9537664078802659,
          -0.5979571779974717,
          -0.24214794811467868,
          -0.9537664078802659,
          -0.5979571779974717
         ],
         "y": [
          0.809547159640935,
          2.026911309476931,
          1.7834384795097316,
          2.026911309476931,
          3.2442754593129277,
          1.5399656495425331,
          0.809547159640935
         ],
         "z": [
          -1.2762252609951719,
          -1.2197551167033505,
          -1.1068148281197068,
          -1.4456356938706372,
          -1.3326954052869937,
          -1.3326954052869937,
          -1.3326954052869937
         ],
         "type": "scatter3d"
        },
        {
         "hovertemplate": "petal width (cm)=1.6449414584737665<br>sepal length (cm)=%{x}<br>sepal width (cm)=%{y}<br>petal length (cm)=%{z}<br>Type=%{marker.color}<extra></extra>",
         "legendgroup": "1.6449414584737665",
         "marker": {
          "color": [
           2,
           2
          ],
          "coloraxis": "coloraxis",
          "symbol": "x"
         },
         "mode": "markers",
         "name": "1.6449414584737665",
         "scene": "scene",
         "showlegend": true,
         "x": [
          0.9438828181612989,
          0.4694705116509075
         ],
         "y": [
          0.5660743296737357,
          0.5660743296737357
         ],
         "z": [
          1.0390506549695198,
          1.208461087844985
         ],
         "type": "scatter3d"
        },
        {
         "hovertemplate": "petal width (cm)=0.5935807393427303<br>sepal length (cm)=%{x}<br>sepal width (cm)=%{y}<br>petal length (cm)=%{z}<br>Type=%{marker.color}<extra></extra>",
         "legendgroup": "0.5935807393427303",
         "marker": {
          "color": [
           2
          ],
          "coloraxis": "coloraxis",
          "symbol": "cross"
         },
         "mode": "markers",
         "name": "0.5935807393427303",
         "scene": "scene",
         "showlegend": true,
         "x": [
          -1.1909725611354605
         ],
         "y": [
          -1.3817083100638572
         ],
         "z": [
          0.3614089234676588
         ],
         "type": "scatter3d"
        },
        {
         "hovertemplate": "petal width (cm)=-1.5091406989193419<br>sepal length (cm)=%{x}<br>sepal width (cm)=%{y}<br>petal length (cm)=%{z}<br>Type=%{marker.color}<extra></extra>",
         "legendgroup": "-1.5091406989193419",
         "marker": {
          "color": [
           0,
           0,
           0
          ],
          "coloraxis": "coloraxis",
          "symbol": "circle"
         },
         "mode": "markers",
         "name": "-1.5091406989193419",
         "scene": "scene",
         "showlegend": true,
         "x": [
          -1.1909725611354605,
          -1.1909725611354605,
          -1.9025910209010477
         ],
         "y": [
          0.07912866973933805,
          1.2964928195753338,
          -0.16434416022786133
         ],
         "z": [
          -1.3326954052869937,
          -1.3891655495788156,
          -1.5585759824542806
         ],
         "type": "scatter3d"
        },
        {
         "hovertemplate": "petal width (cm)=0.9878410090168688<br>sepal length (cm)=%{x}<br>sepal width (cm)=%{y}<br>petal length (cm)=%{z}<br>Type=%{marker.color}<extra></extra>",
         "legendgroup": "0.9878410090168688",
         "marker": {
          "color": [
           2,
           2,
           2,
           2
          ],
          "coloraxis": "coloraxis",
          "symbol": "diamond"
         },
         "mode": "markers",
         "name": "0.9878410090168688",
         "scene": "scene",
         "showlegend": true,
         "x": [
          0.7066766649061031,
          2.367119737692472,
          2.1299135844372765,
          -0.24214794811467868
         ],
         "y": [
          0.3226014997065374,
          1.7834384795097316,
          -0.6512898201622601,
          -1.3817083100638572
         ],
         "z": [
          0.700229789218589,
          1.4343416650122722,
          1.6037520978877373,
          0.6437596449267675
         ],
         "type": "scatter3d"
        },
        {
         "hovertemplate": "petal width (cm)=-0.06351971011416736<br>sepal length (cm)=%{x}<br>sepal width (cm)=%{y}<br>petal length (cm)=%{z}<br>Type=%{marker.color}<extra></extra>",
         "legendgroup": "-0.06351971011416736",
         "marker": {
          "color": [
           1,
           1,
           1,
           1,
           1
          ],
          "coloraxis": "coloraxis",
          "symbol": "square"
         },
         "mode": "markers",
         "name": "-0.06351971011416736",
         "scene": "scene",
         "showlegend": true,
         "x": [
          -0.12354487148708135,
          -0.47935410136987444,
          -0.12354487148708135,
          -0.24214794811467868,
          0.23226435839571172
         ],
         "y": [
          -0.8947626501294584,
          -1.1382354800966579,
          -1.1382354800966579,
          -0.16434416022786133,
          -0.6512898201622601
         ],
         "z": [
          0.02258805771672822,
          0.3049387791758372,
          0.07905820200855002,
          0.19199849059219362,
          0.47434921205130237
         ],
         "type": "scatter3d"
        },
        {
         "hovertemplate": "petal width (cm)=0.8564209191254892<br>sepal length (cm)=%{x}<br>sepal width (cm)=%{y}<br>petal length (cm)=%{z}<br>Type=%{marker.color}<extra></extra>",
         "legendgroup": "0.8564209191254892",
         "marker": {
          "color": [
           2,
           2,
           2
          ],
          "coloraxis": "coloraxis",
          "symbol": "x"
         },
         "mode": "markers",
         "name": "0.8564209191254892",
         "scene": "scene",
         "showlegend": true,
         "x": [
          1.7741043545544835,
          -0.12354487148708135,
          0.5880735882785059
         ],
         "y": [
          -0.6512898201622601,
          -0.8947626501294584,
          -0.8947626501294584
         ],
         "z": [
          1.2649312321368065,
          0.700229789218589,
          0.8131700778022327
         ],
         "type": "scatter3d"
        },
        {
         "hovertemplate": "petal width (cm)=0.06790037977721228<br>sepal length (cm)=%{x}<br>sepal width (cm)=%{y}<br>petal length (cm)=%{z}<br>Type=%{marker.color}<extra></extra>",
         "legendgroup": "0.06790037977721228",
         "marker": {
          "color": [
           1,
           1,
           1,
           1,
           1,
           1,
           1,
           1
          ],
          "coloraxis": "coloraxis",
          "symbol": "cross"
         },
         "mode": "markers",
         "name": "0.06790037977721228",
         "scene": "scene",
         "showlegend": true,
         "x": [
          -0.24214794811467868,
          0.8252797415337005,
          -0.3607510247422771,
          0.23226435839571172,
          -0.3607510247422771,
          0.4694705116509075,
          -0.47935410136987444,
          -0.24214794811467868
         ],
         "y": [
          -0.40781699019506074,
          -0.40781699019506074,
          -0.40781699019506074,
          -0.6512898201622601,
          -0.16434416022786133,
          -1.8686539699982558,
          -1.8686539699982558,
          -0.6512898201622601
         ],
         "z": [
          0.19199849059219362,
          0.4178790677594803,
          -0.14682237515873692,
          0.07905820200855002,
          0.13552834630037155,
          0.3049387791758372,
          0.07905820200855002,
          0.13552834630037155
         ],
         "type": "scatter3d"
        },
        {
         "hovertemplate": "petal width (cm)=-0.8520402494624444<br>sepal length (cm)=%{x}<br>sepal width (cm)=%{y}<br>petal length (cm)=%{z}<br>Type=%{marker.color}<extra></extra>",
         "legendgroup": "-0.8520402494624444",
         "marker": {
          "color": [
           0
          ],
          "coloraxis": "coloraxis",
          "symbol": "circle"
         },
         "mode": "markers",
         "name": "-0.8520402494624444",
         "scene": "scene",
         "showlegend": true,
         "x": [
          -1.0723694845078633
         ],
         "y": [
          1.0530199896081345
         ],
         "z": [
          -1.2762252609951719
         ],
         "type": "scatter3d"
        },
        {
         "hovertemplate": "petal width (cm)=-0.9834603393538239<br>sepal length (cm)=%{x}<br>sepal width (cm)=%{y}<br>petal length (cm)=%{z}<br>Type=%{marker.color}<extra></extra>",
         "legendgroup": "-0.9834603393538239",
         "marker": {
          "color": [
           0
          ],
          "coloraxis": "coloraxis",
          "symbol": "diamond"
         },
         "mode": "markers",
         "name": "-0.9834603393538239",
         "scene": "scene",
         "showlegend": true,
         "x": [
          -0.9537664078802659
         ],
         "y": [
          0.5660743296737357
         ],
         "z": [
          -1.2197551167033505
         ],
         "type": "scatter3d"
        }
       ],
       "layout": {
        "template": {
         "data": {
          "histogram2dcontour": [
           {
            "type": "histogram2dcontour",
            "colorbar": {
             "outlinewidth": 0,
             "ticks": ""
            },
            "colorscale": [
             [
              0.0,
              "#0d0887"
             ],
             [
              0.1111111111111111,
              "#46039f"
             ],
             [
              0.2222222222222222,
              "#7201a8"
             ],
             [
              0.3333333333333333,
              "#9c179e"
             ],
             [
              0.4444444444444444,
              "#bd3786"
             ],
             [
              0.5555555555555556,
              "#d8576b"
             ],
             [
              0.6666666666666666,
              "#ed7953"
             ],
             [
              0.7777777777777778,
              "#fb9f3a"
             ],
             [
              0.8888888888888888,
              "#fdca26"
             ],
             [
              1.0,
              "#f0f921"
             ]
            ]
           }
          ],
          "choropleth": [
           {
            "type": "choropleth",
            "colorbar": {
             "outlinewidth": 0,
             "ticks": ""
            }
           }
          ],
          "histogram2d": [
           {
            "type": "histogram2d",
            "colorbar": {
             "outlinewidth": 0,
             "ticks": ""
            },
            "colorscale": [
             [
              0.0,
              "#0d0887"
             ],
             [
              0.1111111111111111,
              "#46039f"
             ],
             [
              0.2222222222222222,
              "#7201a8"
             ],
             [
              0.3333333333333333,
              "#9c179e"
             ],
             [
              0.4444444444444444,
              "#bd3786"
             ],
             [
              0.5555555555555556,
              "#d8576b"
             ],
             [
              0.6666666666666666,
              "#ed7953"
             ],
             [
              0.7777777777777778,
              "#fb9f3a"
             ],
             [
              0.8888888888888888,
              "#fdca26"
             ],
             [
              1.0,
              "#f0f921"
             ]
            ]
           }
          ],
          "heatmap": [
           {
            "type": "heatmap",
            "colorbar": {
             "outlinewidth": 0,
             "ticks": ""
            },
            "colorscale": [
             [
              0.0,
              "#0d0887"
             ],
             [
              0.1111111111111111,
              "#46039f"
             ],
             [
              0.2222222222222222,
              "#7201a8"
             ],
             [
              0.3333333333333333,
              "#9c179e"
             ],
             [
              0.4444444444444444,
              "#bd3786"
             ],
             [
              0.5555555555555556,
              "#d8576b"
             ],
             [
              0.6666666666666666,
              "#ed7953"
             ],
             [
              0.7777777777777778,
              "#fb9f3a"
             ],
             [
              0.8888888888888888,
              "#fdca26"
             ],
             [
              1.0,
              "#f0f921"
             ]
            ]
           }
          ],
          "heatmapgl": [
           {
            "type": "heatmapgl",
            "colorbar": {
             "outlinewidth": 0,
             "ticks": ""
            },
            "colorscale": [
             [
              0.0,
              "#0d0887"
             ],
             [
              0.1111111111111111,
              "#46039f"
             ],
             [
              0.2222222222222222,
              "#7201a8"
             ],
             [
              0.3333333333333333,
              "#9c179e"
             ],
             [
              0.4444444444444444,
              "#bd3786"
             ],
             [
              0.5555555555555556,
              "#d8576b"
             ],
             [
              0.6666666666666666,
              "#ed7953"
             ],
             [
              0.7777777777777778,
              "#fb9f3a"
             ],
             [
              0.8888888888888888,
              "#fdca26"
             ],
             [
              1.0,
              "#f0f921"
             ]
            ]
           }
          ],
          "contourcarpet": [
           {
            "type": "contourcarpet",
            "colorbar": {
             "outlinewidth": 0,
             "ticks": ""
            }
           }
          ],
          "contour": [
           {
            "type": "contour",
            "colorbar": {
             "outlinewidth": 0,
             "ticks": ""
            },
            "colorscale": [
             [
              0.0,
              "#0d0887"
             ],
             [
              0.1111111111111111,
              "#46039f"
             ],
             [
              0.2222222222222222,
              "#7201a8"
             ],
             [
              0.3333333333333333,
              "#9c179e"
             ],
             [
              0.4444444444444444,
              "#bd3786"
             ],
             [
              0.5555555555555556,
              "#d8576b"
             ],
             [
              0.6666666666666666,
              "#ed7953"
             ],
             [
              0.7777777777777778,
              "#fb9f3a"
             ],
             [
              0.8888888888888888,
              "#fdca26"
             ],
             [
              1.0,
              "#f0f921"
             ]
            ]
           }
          ],
          "surface": [
           {
            "type": "surface",
            "colorbar": {
             "outlinewidth": 0,
             "ticks": ""
            },
            "colorscale": [
             [
              0.0,
              "#0d0887"
             ],
             [
              0.1111111111111111,
              "#46039f"
             ],
             [
              0.2222222222222222,
              "#7201a8"
             ],
             [
              0.3333333333333333,
              "#9c179e"
             ],
             [
              0.4444444444444444,
              "#bd3786"
             ],
             [
              0.5555555555555556,
              "#d8576b"
             ],
             [
              0.6666666666666666,
              "#ed7953"
             ],
             [
              0.7777777777777778,
              "#fb9f3a"
             ],
             [
              0.8888888888888888,
              "#fdca26"
             ],
             [
              1.0,
              "#f0f921"
             ]
            ]
           }
          ],
          "mesh3d": [
           {
            "type": "mesh3d",
            "colorbar": {
             "outlinewidth": 0,
             "ticks": ""
            }
           }
          ],
          "scatter": [
           {
            "marker": {
             "line": {
              "color": "#283442"
             }
            },
            "type": "scatter"
           }
          ],
          "parcoords": [
           {
            "type": "parcoords",
            "line": {
             "colorbar": {
              "outlinewidth": 0,
              "ticks": ""
             }
            }
           }
          ],
          "scatterpolargl": [
           {
            "type": "scatterpolargl",
            "marker": {
             "colorbar": {
              "outlinewidth": 0,
              "ticks": ""
             }
            }
           }
          ],
          "bar": [
           {
            "error_x": {
             "color": "#f2f5fa"
            },
            "error_y": {
             "color": "#f2f5fa"
            },
            "marker": {
             "line": {
              "color": "rgb(17,17,17)",
              "width": 0.5
             },
             "pattern": {
              "fillmode": "overlay",
              "size": 10,
              "solidity": 0.2
             }
            },
            "type": "bar"
           }
          ],
          "scattergeo": [
           {
            "type": "scattergeo",
            "marker": {
             "colorbar": {
              "outlinewidth": 0,
              "ticks": ""
             }
            }
           }
          ],
          "scatterpolar": [
           {
            "type": "scatterpolar",
            "marker": {
             "colorbar": {
              "outlinewidth": 0,
              "ticks": ""
             }
            }
           }
          ],
          "histogram": [
           {
            "marker": {
             "pattern": {
              "fillmode": "overlay",
              "size": 10,
              "solidity": 0.2
             }
            },
            "type": "histogram"
           }
          ],
          "scattergl": [
           {
            "marker": {
             "line": {
              "color": "#283442"
             }
            },
            "type": "scattergl"
           }
          ],
          "scatter3d": [
           {
            "type": "scatter3d",
            "line": {
             "colorbar": {
              "outlinewidth": 0,
              "ticks": ""
             }
            },
            "marker": {
             "colorbar": {
              "outlinewidth": 0,
              "ticks": ""
             }
            }
           }
          ],
          "scattermapbox": [
           {
            "type": "scattermapbox",
            "marker": {
             "colorbar": {
              "outlinewidth": 0,
              "ticks": ""
             }
            }
           }
          ],
          "scatterternary": [
           {
            "type": "scatterternary",
            "marker": {
             "colorbar": {
              "outlinewidth": 0,
              "ticks": ""
             }
            }
           }
          ],
          "scattercarpet": [
           {
            "type": "scattercarpet",
            "marker": {
             "colorbar": {
              "outlinewidth": 0,
              "ticks": ""
             }
            }
           }
          ],
          "carpet": [
           {
            "aaxis": {
             "endlinecolor": "#A2B1C6",
             "gridcolor": "#506784",
             "linecolor": "#506784",
             "minorgridcolor": "#506784",
             "startlinecolor": "#A2B1C6"
            },
            "baxis": {
             "endlinecolor": "#A2B1C6",
             "gridcolor": "#506784",
             "linecolor": "#506784",
             "minorgridcolor": "#506784",
             "startlinecolor": "#A2B1C6"
            },
            "type": "carpet"
           }
          ],
          "table": [
           {
            "cells": {
             "fill": {
              "color": "#506784"
             },
             "line": {
              "color": "rgb(17,17,17)"
             }
            },
            "header": {
             "fill": {
              "color": "#2a3f5f"
             },
             "line": {
              "color": "rgb(17,17,17)"
             }
            },
            "type": "table"
           }
          ],
          "barpolar": [
           {
            "marker": {
             "line": {
              "color": "rgb(17,17,17)",
              "width": 0.5
             },
             "pattern": {
              "fillmode": "overlay",
              "size": 10,
              "solidity": 0.2
             }
            },
            "type": "barpolar"
           }
          ],
          "pie": [
           {
            "automargin": true,
            "type": "pie"
           }
          ]
         },
         "layout": {
          "autotypenumbers": "strict",
          "colorway": [
           "#636efa",
           "#EF553B",
           "#00cc96",
           "#ab63fa",
           "#FFA15A",
           "#19d3f3",
           "#FF6692",
           "#B6E880",
           "#FF97FF",
           "#FECB52"
          ],
          "font": {
           "color": "#f2f5fa"
          },
          "hovermode": "closest",
          "hoverlabel": {
           "align": "left"
          },
          "paper_bgcolor": "rgb(17,17,17)",
          "plot_bgcolor": "rgb(17,17,17)",
          "polar": {
           "bgcolor": "rgb(17,17,17)",
           "angularaxis": {
            "gridcolor": "#506784",
            "linecolor": "#506784",
            "ticks": ""
           },
           "radialaxis": {
            "gridcolor": "#506784",
            "linecolor": "#506784",
            "ticks": ""
           }
          },
          "ternary": {
           "bgcolor": "rgb(17,17,17)",
           "aaxis": {
            "gridcolor": "#506784",
            "linecolor": "#506784",
            "ticks": ""
           },
           "baxis": {
            "gridcolor": "#506784",
            "linecolor": "#506784",
            "ticks": ""
           },
           "caxis": {
            "gridcolor": "#506784",
            "linecolor": "#506784",
            "ticks": ""
           }
          },
          "coloraxis": {
           "colorbar": {
            "outlinewidth": 0,
            "ticks": ""
           }
          },
          "colorscale": {
           "sequential": [
            [
             0.0,
             "#0d0887"
            ],
            [
             0.1111111111111111,
             "#46039f"
            ],
            [
             0.2222222222222222,
             "#7201a8"
            ],
            [
             0.3333333333333333,
             "#9c179e"
            ],
            [
             0.4444444444444444,
             "#bd3786"
            ],
            [
             0.5555555555555556,
             "#d8576b"
            ],
            [
             0.6666666666666666,
             "#ed7953"
            ],
            [
             0.7777777777777778,
             "#fb9f3a"
            ],
            [
             0.8888888888888888,
             "#fdca26"
            ],
            [
             1.0,
             "#f0f921"
            ]
           ],
           "sequentialminus": [
            [
             0.0,
             "#0d0887"
            ],
            [
             0.1111111111111111,
             "#46039f"
            ],
            [
             0.2222222222222222,
             "#7201a8"
            ],
            [
             0.3333333333333333,
             "#9c179e"
            ],
            [
             0.4444444444444444,
             "#bd3786"
            ],
            [
             0.5555555555555556,
             "#d8576b"
            ],
            [
             0.6666666666666666,
             "#ed7953"
            ],
            [
             0.7777777777777778,
             "#fb9f3a"
            ],
            [
             0.8888888888888888,
             "#fdca26"
            ],
            [
             1.0,
             "#f0f921"
            ]
           ],
           "diverging": [
            [
             0,
             "#8e0152"
            ],
            [
             0.1,
             "#c51b7d"
            ],
            [
             0.2,
             "#de77ae"
            ],
            [
             0.3,
             "#f1b6da"
            ],
            [
             0.4,
             "#fde0ef"
            ],
            [
             0.5,
             "#f7f7f7"
            ],
            [
             0.6,
             "#e6f5d0"
            ],
            [
             0.7,
             "#b8e186"
            ],
            [
             0.8,
             "#7fbc41"
            ],
            [
             0.9,
             "#4d9221"
            ],
            [
             1,
             "#276419"
            ]
           ]
          },
          "xaxis": {
           "gridcolor": "#283442",
           "linecolor": "#506784",
           "ticks": "",
           "title": {
            "standoff": 15
           },
           "zerolinecolor": "#283442",
           "automargin": true,
           "zerolinewidth": 2
          },
          "yaxis": {
           "gridcolor": "#283442",
           "linecolor": "#506784",
           "ticks": "",
           "title": {
            "standoff": 15
           },
           "zerolinecolor": "#283442",
           "automargin": true,
           "zerolinewidth": 2
          },
          "scene": {
           "xaxis": {
            "backgroundcolor": "rgb(17,17,17)",
            "gridcolor": "#506784",
            "linecolor": "#506784",
            "showbackground": true,
            "ticks": "",
            "zerolinecolor": "#C8D4E3",
            "gridwidth": 2
           },
           "yaxis": {
            "backgroundcolor": "rgb(17,17,17)",
            "gridcolor": "#506784",
            "linecolor": "#506784",
            "showbackground": true,
            "ticks": "",
            "zerolinecolor": "#C8D4E3",
            "gridwidth": 2
           },
           "zaxis": {
            "backgroundcolor": "rgb(17,17,17)",
            "gridcolor": "#506784",
            "linecolor": "#506784",
            "showbackground": true,
            "ticks": "",
            "zerolinecolor": "#C8D4E3",
            "gridwidth": 2
           }
          },
          "shapedefaults": {
           "line": {
            "color": "#f2f5fa"
           }
          },
          "annotationdefaults": {
           "arrowcolor": "#f2f5fa",
           "arrowhead": 0,
           "arrowwidth": 1
          },
          "geo": {
           "bgcolor": "rgb(17,17,17)",
           "landcolor": "rgb(17,17,17)",
           "subunitcolor": "#506784",
           "showland": true,
           "showlakes": true,
           "lakecolor": "rgb(17,17,17)"
          },
          "title": {
           "x": 0.05
          },
          "updatemenudefaults": {
           "bgcolor": "#506784",
           "borderwidth": 0
          },
          "sliderdefaults": {
           "bgcolor": "#C8D4E3",
           "borderwidth": 1,
           "bordercolor": "rgb(17,17,17)",
           "tickwidth": 0
          },
          "mapbox": {
           "style": "dark"
          }
         }
        },
        "scene": {
         "domain": {
          "x": [
           0.0,
           1.0
          ],
          "y": [
           0.0,
           1.0
          ]
         },
         "xaxis": {
          "title": {
           "text": "sepal length (cm)"
          }
         },
         "yaxis": {
          "title": {
           "text": "sepal width (cm)"
          }
         },
         "zaxis": {
          "title": {
           "text": "petal length (cm)"
          }
         }
        },
        "coloraxis": {
         "colorbar": {
          "title": {
           "text": "Type"
          }
         },
         "colorscale": [
          [
           0.0,
           "#0d0887"
          ],
          [
           0.1111111111111111,
           "#46039f"
          ],
          [
           0.2222222222222222,
           "#7201a8"
          ],
          [
           0.3333333333333333,
           "#9c179e"
          ],
          [
           0.4444444444444444,
           "#bd3786"
          ],
          [
           0.5555555555555556,
           "#d8576b"
          ],
          [
           0.6666666666666666,
           "#ed7953"
          ],
          [
           0.7777777777777778,
           "#fb9f3a"
          ],
          [
           0.8888888888888888,
           "#fdca26"
          ],
          [
           1.0,
           "#f0f921"
          ]
         ]
        },
        "legend": {
         "title": {
          "text": "petal width (cm)"
         },
         "tracegroupgap": 0,
         "orientation": "v",
         "yanchor": "top",
         "xanchor": "right"
        },
        "title": {
         "text": "Normalised flowers' data"
        }
       },
       "config": {
        "plotlyServerURL": "https://plot.ly"
       }
      },
      "text/html": "<div>                            <div id=\"13c26084-179c-4ea6-ace5-67496596b24d\" class=\"plotly-graph-div\" style=\"height:525px; width:100%;\"></div>            <script type=\"text/javascript\">                require([\"plotly\"], function(Plotly) {                    window.PLOTLYENV=window.PLOTLYENV || {};                                    if (document.getElementById(\"13c26084-179c-4ea6-ace5-67496596b24d\")) {                    Plotly.newPlot(                        \"13c26084-179c-4ea6-ace5-67496596b24d\",                        [{\"hovertemplate\":\"petal width (cm)=0.19932046966859163<br>sepal length (cm)=%{x}<br>sepal width (cm)=%{y}<br>petal length (cm)=%{z}<br>Type=%{marker.color}<extra></extra>\",\"legendgroup\":\"0.19932046966859163\",\"marker\":{\"color\":[1,1,1,1,1,1,2,1],\"coloraxis\":\"coloraxis\",\"symbol\":\"circle\"},\"mode\":\"markers\",\"name\":\"0.19932046966859163\",\"scene\":\"scene\",\"showlegend\":true,\"x\":[1.2996920480440919,0.8252797415337005,0.23226435839571172,-0.8351633312526675,0.23226435839571172,0.9438828181612989,0.23226435839571172,1.0624858947888962],\"y\":[0.3226014997065374,-0.16434416022786133,-0.40781699019506074,-0.8947626501294584,-0.16434416022786133,0.07912866973933805,-1.1382354800966579,-0.6512898201622601],\"z\":[0.47434921205130237,0.3049387791758372,0.47434921205130237,0.02258805771672822,0.4178790677594803,0.3049387791758372,0.9825805106776978,0.5308193563431239],\"type\":\"scatter3d\"},{\"hovertemplate\":\"petal width (cm)=1.250681188799628<br>sepal length (cm)=%{x}<br>sepal width (cm)=%{y}<br>petal length (cm)=%{z}<br>Type=%{marker.color}<extra></extra>\",\"legendgroup\":\"1.250681188799628\",\"marker\":{\"color\":[2,2,2],\"coloraxis\":\"coloraxis\",\"symbol\":\"diamond\"},\"mode\":\"markers\",\"name\":\"1.250681188799628\",\"scene\":\"scene\",\"showlegend\":true,\"x\":[0.7066766649061031,0.5880735882785059,2.1299135844372765],\"y\":[-0.16434416022786133,-0.6512898201622601,1.7834384795097316],\"z\":[1.0955207992613414,0.9825805106776978,1.6037520978877373],\"type\":\"scatter3d\"},{\"hovertemplate\":\"petal width (cm)=0.7250008292341098<br>sepal length (cm)=%{x}<br>sepal width (cm)=%{y}<br>petal length (cm)=%{z}<br>Type=%{marker.color}<extra></extra>\",\"legendgroup\":\"0.7250008292341098\",\"marker\":{\"color\":[2,2,2,2,2,2,2,2,1,2,2],\"coloraxis\":\"coloraxis\",\"symbol\":\"square\"},\"mode\":\"markers\",\"name\":\"0.7250008292341098\",\"scene\":\"scene\",\"showlegend\":true,\"x\":[0.11366128176811438,1.5368982012992878,-0.004941794859482959,0.4694705116509075,0.4694705116509075,0.23226435839571172,1.655501277926885,0.7066766649061031,-0.004941794859482959,0.5880735882785059,0.35086743502331014],\"y\":[-0.16434416022786133,0.3226014997065374,-0.16434416022786133,-0.8947626501294584,-0.40781699019506074,-0.16434416022786133,-0.40781699019506074,-0.16434416022786133,0.3226014997065374,0.07912866973933805,-0.6512898201622601],\"z\":[0.5308193563431239,1.208461087844985,0.700229789218589,0.587289500634946,0.9825805106776978,0.587289500634946,1.3778715207204502,0.9261103663858763,0.5308193563431239,0.9261103663858763,0.5308193563431239],\"type\":\"scatter3d\"},{\"hovertemplate\":\"petal width (cm)=-1.3777206090279626<br>sepal length (cm)=%{x}<br>sepal width (cm)=%{y}<br>petal length (cm)=%{z}<br>Type=%{marker.color}<extra></extra>\",\"legendgroup\":\"-1.3777206090279626\",\"marker\":{\"color\":[0,0,0,0,0,0,0,0,0,0,0,0,0,0,0,0,0,0,0,0,0,0],\"coloraxis\":\"coloraxis\",\"symbol\":\"x\"},\"mode\":\"markers\",\"name\":\"-1.3777206090279626\",\"scene\":\"scene\",\"showlegend\":true,\"x\":[-1.0723694845078633,-1.4281787143906564,-0.9537664078802659,-0.12354487148708135,-1.1909725611354605,-1.0723694845078633,-1.0723694845078633,-1.5467817910182546,-0.9537664078802659,-1.5467817910182546,-0.7165602546250701,-1.1909725611354605,-0.9537664078802659,-0.5979571779974717,-1.4281787143906564,-1.0723694845078633,-1.0723694845078633,-1.7839879442734494,-1.7839879442734494,-0.8351633312526675,-0.5979571779974717,-1.309575637763059],\"y\":[0.5660743296737357,0.3226014997065374,0.809547159640935,2.2703841394441304,0.07912866973933805,0.809547159640935,1.2964928195753338,0.3226014997065374,1.7834384795097316,0.07912866973933805,1.5399656495425331,-0.16434416022786133,1.0530199896081345,1.5399656495425331,0.3226014997065374,0.3226014997065374,-0.16434416022786133,-0.40781699019506074,0.3226014997065374,0.809547159640935,0.809547159640935,0.07912866973933805],\"z\":[-1.3891655495788156,-1.4456356938706372,-1.3326954052869937,-1.5021058381624592,-1.3326954052869937,-1.3326954052869937,-1.3891655495788156,-1.3891655495788156,-1.2762252609951719,-1.3326954052869937,-1.3326954052869937,-1.3891655495788156,-1.3891655495788156,-1.3326954052869937,-1.2762252609951719,-1.5021058381624592,-1.2762252609951719,-1.3891655495788156,-1.4456356938706372,-1.3891655495788156,-1.2197551167033505,-1.2762252609951719],\"type\":\"scatter3d\"},{\"hovertemplate\":\"petal width (cm)=-0.3263598898969263<br>sepal length (cm)=%{x}<br>sepal width (cm)=%{y}<br>petal length (cm)=%{z}<br>Type=%{marker.color}<extra></extra>\",\"legendgroup\":\"-0.3263598898969263\",\"marker\":{\"color\":[1,1,1,1,1],\"coloraxis\":\"coloraxis\",\"symbol\":\"cross\"},\"mode\":\"markers\",\"name\":\"-0.3263598898969263\",\"scene\":\"scene\",\"showlegend\":true,\"x\":[-1.0723694845078633,-1.1909725611354605,-0.47935410136987444,-0.12354487148708135,-1.0723694845078633],\"y\":[-2.599072459899853,-1.6251811400310565,-1.6251811400310565,-0.8947626501294584,-1.8686539699982558],\"z\":[-0.20329251945055873,-0.31623280803420234,-0.09035223086691513,0.13552834630037155,-0.31623280803420234],\"type\":\"scatter3d\"},{\"hovertemplate\":\"petal width (cm)=1.3821012786910072<br>sepal length (cm)=%{x}<br>sepal width (cm)=%{y}<br>petal length (cm)=%{z}<br>Type=%{marker.color}<extra></extra>\",\"legendgroup\":\"1.3821012786910072\",\"marker\":{\"color\":[2,2,2,2,2,2,2,2],\"coloraxis\":\"coloraxis\",\"symbol\":\"circle\"},\"mode\":\"markers\",\"name\":\"1.3821012786910072\",\"scene\":\"scene\",\"showlegend\":true,\"x\":[2.1299135844372765,1.0624858947888962,1.1810889714164947,0.5880735882785059,0.35086743502331014,1.1810889714164947,0.9438828181612989,2.1299135844372765],\"y\":[-1.1382354800966579,0.3226014997065374,0.07912866973933805,0.3226014997065374,0.809547159640935,0.3226014997065374,-0.16434416022786133,-0.16434416022786133],\"z\":[1.716692386471381,1.1519909435531634,0.700229789218589,0.8131700778022327,0.8696402220940547,1.0390506549695198,0.7566999335104111,1.2649312321368065],\"type\":\"scatter3d\"},{\"hovertemplate\":\"petal width (cm)=1.5135213685823867<br>sepal length (cm)=%{x}<br>sepal width (cm)=%{y}<br>petal length (cm)=%{z}<br>Type=%{marker.color}<extra></extra>\",\"legendgroup\":\"1.5135213685823867\",\"marker\":{\"color\":[2,2,2],\"coloraxis\":\"coloraxis\",\"symbol\":\"diamond\"},\"mode\":\"markers\",\"name\":\"1.5135213685823867\",\"scene\":\"scene\",\"showlegend\":true,\"x\":[-0.12354487148708135,0.4694705116509075,0.9438828181612989],\"y\":[-0.6512898201622601,0.809547159640935,0.07912866973933805],\"z\":[0.700229789218589,0.9825805106776978,0.9825805106776978],\"type\":\"scatter3d\"},{\"hovertemplate\":\"petal width (cm)=1.1192610989082485<br>sepal length (cm)=%{x}<br>sepal width (cm)=%{y}<br>petal length (cm)=%{z}<br>Type=%{marker.color}<extra></extra>\",\"legendgroup\":\"1.1192610989082485\",\"marker\":{\"color\":[2,2,2,2,2,2],\"coloraxis\":\"coloraxis\",\"symbol\":\"square\"},\"mode\":\"markers\",\"name\":\"1.1192610989082485\",\"scene\":\"scene\",\"showlegend\":true,\"x\":[0.9438828181612989,0.5880735882785059,1.4182951246716893,2.0113105078096782,1.0624858947888962,1.1810889714164947],\"y\":[0.5660743296737357,-0.6512898201622601,-0.16434416022786133,-0.16434416022786133,-0.16434416022786133,0.07912866973933805],\"z\":[1.0390506549695198,0.9825805106776978,1.1519909435531634,1.5472819535959152,0.9261103663858763,0.8696402220940547],\"type\":\"scatter3d\"},{\"hovertemplate\":\"petal width (cm)=0.3307405595599712<br>sepal length (cm)=%{x}<br>sepal width (cm)=%{y}<br>petal length (cm)=%{z}<br>Type=%{marker.color}<extra></extra>\",\"legendgroup\":\"0.3307405595599712\",\"marker\":{\"color\":[1,1,2,1,1,1,1,1,1,2,1],\"coloraxis\":\"coloraxis\",\"symbol\":\"x\"},\"mode\":\"markers\",\"name\":\"0.3307405595599712\",\"scene\":\"scene\",\"showlegend\":true,\"x\":[0.4694705116509075,0.9438828181612989,0.11366128176811438,1.1810889714164947,0.5880735882785059,0.11366128176811438,-0.004941794859482959,0.7066766649061031,0.35086743502331014,0.4694705116509075,-0.3607510247422771],\"y\":[-1.3817083100638572,0.07912866973933805,-2.1121267999654543,0.07912866973933805,0.3226014997065374,-0.40781699019506074,-0.16434416022786133,-0.6512898201622601,-2.1121267999654543,-0.6512898201622601,-0.16434416022786133],\"z\":[0.587289500634946,0.47434921205130237,0.6437596449267675,0.587289500634946,0.3614089234676588,0.3614089234676588,0.19199849059219362,0.4178790677594803,0.3614089234676588,0.700229789218589,0.3614089234676588],\"type\":\"scatter3d\"},{\"hovertemplate\":\"petal width (cm)=-0.1949398000055467<br>sepal length (cm)=%{x}<br>sepal width (cm)=%{y}<br>petal length (cm)=%{z}<br>Type=%{marker.color}<extra></extra>\",\"legendgroup\":\"-0.1949398000055467\",\"marker\":{\"color\":[1],\"coloraxis\":\"coloraxis\",\"symbol\":\"cross\"},\"mode\":\"markers\",\"name\":\"-0.1949398000055467\",\"scene\":\"scene\",\"showlegend\":true,\"x\":[-0.9537664078802659],\"y\":[-1.3817083100638572],\"z\":[-0.4856432409096675],\"type\":\"scatter3d\"},{\"hovertemplate\":\"petal width (cm)=-1.2463005191365828<br>sepal length (cm)=%{x}<br>sepal width (cm)=%{y}<br>petal length (cm)=%{z}<br>Type=%{marker.color}<extra></extra>\",\"legendgroup\":\"-1.2463005191365828\",\"marker\":{\"color\":[0,0,0,0],\"coloraxis\":\"coloraxis\",\"symbol\":\"circle\"},\"mode\":\"markers\",\"name\":\"-1.2463005191365828\",\"scene\":\"scene\",\"showlegend\":true,\"x\":[-0.9537664078802659,-0.9537664078802659,-1.309575637763059,-1.0723694845078633],\"y\":[1.7834384795097316,1.0530199896081345,-0.16434416022786133,1.0530199896081345],\"z\":[-1.3326954052869937,-1.3891655495788156,-1.3891655495788156,-1.4456356938706372],\"type\":\"scatter3d\"},{\"hovertemplate\":\"petal width (cm)=0.4621606494513509<br>sepal length (cm)=%{x}<br>sepal width (cm)=%{y}<br>petal length (cm)=%{z}<br>Type=%{marker.color}<extra></extra>\",\"legendgroup\":\"0.4621606494513509\",\"marker\":{\"color\":[2,1,1],\"coloraxis\":\"coloraxis\",\"symbol\":\"diamond\"},\"mode\":\"markers\",\"name\":\"0.4621606494513509\",\"scene\":\"scene\",\"showlegend\":true,\"x\":[1.5368982012992878,0.11366128176811438,0.4694705116509075],\"y\":[-0.16434416022786133,0.809547159640935,0.5660743296737357],\"z\":[1.0955207992613414,0.3614089234676588,0.47434921205130237],\"type\":\"scatter3d\"},{\"hovertemplate\":\"petal width (cm)=-1.1148804292452035<br>sepal length (cm)=%{x}<br>sepal width (cm)=%{y}<br>petal length (cm)=%{z}<br>Type=%{marker.color}<extra></extra>\",\"legendgroup\":\"-1.1148804292452035\",\"marker\":{\"color\":[0,0,0,0,0,0,0],\"coloraxis\":\"coloraxis\",\"symbol\":\"square\"},\"mode\":\"markers\",\"name\":\"-1.1148804292452035\",\"scene\":\"scene\",\"showlegend\":true,\"x\":[-1.0723694845078633,-0.5979571779974717,-0.9537664078802659,-0.5979571779974717,-0.24214794811467868,-0.9537664078802659,-0.5979571779974717],\"y\":[0.809547159640935,2.026911309476931,1.7834384795097316,2.026911309476931,3.2442754593129277,1.5399656495425331,0.809547159640935],\"z\":[-1.2762252609951719,-1.2197551167033505,-1.1068148281197068,-1.4456356938706372,-1.3326954052869937,-1.3326954052869937,-1.3326954052869937],\"type\":\"scatter3d\"},{\"hovertemplate\":\"petal width (cm)=1.6449414584737665<br>sepal length (cm)=%{x}<br>sepal width (cm)=%{y}<br>petal length (cm)=%{z}<br>Type=%{marker.color}<extra></extra>\",\"legendgroup\":\"1.6449414584737665\",\"marker\":{\"color\":[2,2],\"coloraxis\":\"coloraxis\",\"symbol\":\"x\"},\"mode\":\"markers\",\"name\":\"1.6449414584737665\",\"scene\":\"scene\",\"showlegend\":true,\"x\":[0.9438828181612989,0.4694705116509075],\"y\":[0.5660743296737357,0.5660743296737357],\"z\":[1.0390506549695198,1.208461087844985],\"type\":\"scatter3d\"},{\"hovertemplate\":\"petal width (cm)=0.5935807393427303<br>sepal length (cm)=%{x}<br>sepal width (cm)=%{y}<br>petal length (cm)=%{z}<br>Type=%{marker.color}<extra></extra>\",\"legendgroup\":\"0.5935807393427303\",\"marker\":{\"color\":[2],\"coloraxis\":\"coloraxis\",\"symbol\":\"cross\"},\"mode\":\"markers\",\"name\":\"0.5935807393427303\",\"scene\":\"scene\",\"showlegend\":true,\"x\":[-1.1909725611354605],\"y\":[-1.3817083100638572],\"z\":[0.3614089234676588],\"type\":\"scatter3d\"},{\"hovertemplate\":\"petal width (cm)=-1.5091406989193419<br>sepal length (cm)=%{x}<br>sepal width (cm)=%{y}<br>petal length (cm)=%{z}<br>Type=%{marker.color}<extra></extra>\",\"legendgroup\":\"-1.5091406989193419\",\"marker\":{\"color\":[0,0,0],\"coloraxis\":\"coloraxis\",\"symbol\":\"circle\"},\"mode\":\"markers\",\"name\":\"-1.5091406989193419\",\"scene\":\"scene\",\"showlegend\":true,\"x\":[-1.1909725611354605,-1.1909725611354605,-1.9025910209010477],\"y\":[0.07912866973933805,1.2964928195753338,-0.16434416022786133],\"z\":[-1.3326954052869937,-1.3891655495788156,-1.5585759824542806],\"type\":\"scatter3d\"},{\"hovertemplate\":\"petal width (cm)=0.9878410090168688<br>sepal length (cm)=%{x}<br>sepal width (cm)=%{y}<br>petal length (cm)=%{z}<br>Type=%{marker.color}<extra></extra>\",\"legendgroup\":\"0.9878410090168688\",\"marker\":{\"color\":[2,2,2,2],\"coloraxis\":\"coloraxis\",\"symbol\":\"diamond\"},\"mode\":\"markers\",\"name\":\"0.9878410090168688\",\"scene\":\"scene\",\"showlegend\":true,\"x\":[0.7066766649061031,2.367119737692472,2.1299135844372765,-0.24214794811467868],\"y\":[0.3226014997065374,1.7834384795097316,-0.6512898201622601,-1.3817083100638572],\"z\":[0.700229789218589,1.4343416650122722,1.6037520978877373,0.6437596449267675],\"type\":\"scatter3d\"},{\"hovertemplate\":\"petal width (cm)=-0.06351971011416736<br>sepal length (cm)=%{x}<br>sepal width (cm)=%{y}<br>petal length (cm)=%{z}<br>Type=%{marker.color}<extra></extra>\",\"legendgroup\":\"-0.06351971011416736\",\"marker\":{\"color\":[1,1,1,1,1],\"coloraxis\":\"coloraxis\",\"symbol\":\"square\"},\"mode\":\"markers\",\"name\":\"-0.06351971011416736\",\"scene\":\"scene\",\"showlegend\":true,\"x\":[-0.12354487148708135,-0.47935410136987444,-0.12354487148708135,-0.24214794811467868,0.23226435839571172],\"y\":[-0.8947626501294584,-1.1382354800966579,-1.1382354800966579,-0.16434416022786133,-0.6512898201622601],\"z\":[0.02258805771672822,0.3049387791758372,0.07905820200855002,0.19199849059219362,0.47434921205130237],\"type\":\"scatter3d\"},{\"hovertemplate\":\"petal width (cm)=0.8564209191254892<br>sepal length (cm)=%{x}<br>sepal width (cm)=%{y}<br>petal length (cm)=%{z}<br>Type=%{marker.color}<extra></extra>\",\"legendgroup\":\"0.8564209191254892\",\"marker\":{\"color\":[2,2,2],\"coloraxis\":\"coloraxis\",\"symbol\":\"x\"},\"mode\":\"markers\",\"name\":\"0.8564209191254892\",\"scene\":\"scene\",\"showlegend\":true,\"x\":[1.7741043545544835,-0.12354487148708135,0.5880735882785059],\"y\":[-0.6512898201622601,-0.8947626501294584,-0.8947626501294584],\"z\":[1.2649312321368065,0.700229789218589,0.8131700778022327],\"type\":\"scatter3d\"},{\"hovertemplate\":\"petal width (cm)=0.06790037977721228<br>sepal length (cm)=%{x}<br>sepal width (cm)=%{y}<br>petal length (cm)=%{z}<br>Type=%{marker.color}<extra></extra>\",\"legendgroup\":\"0.06790037977721228\",\"marker\":{\"color\":[1,1,1,1,1,1,1,1],\"coloraxis\":\"coloraxis\",\"symbol\":\"cross\"},\"mode\":\"markers\",\"name\":\"0.06790037977721228\",\"scene\":\"scene\",\"showlegend\":true,\"x\":[-0.24214794811467868,0.8252797415337005,-0.3607510247422771,0.23226435839571172,-0.3607510247422771,0.4694705116509075,-0.47935410136987444,-0.24214794811467868],\"y\":[-0.40781699019506074,-0.40781699019506074,-0.40781699019506074,-0.6512898201622601,-0.16434416022786133,-1.8686539699982558,-1.8686539699982558,-0.6512898201622601],\"z\":[0.19199849059219362,0.4178790677594803,-0.14682237515873692,0.07905820200855002,0.13552834630037155,0.3049387791758372,0.07905820200855002,0.13552834630037155],\"type\":\"scatter3d\"},{\"hovertemplate\":\"petal width (cm)=-0.8520402494624444<br>sepal length (cm)=%{x}<br>sepal width (cm)=%{y}<br>petal length (cm)=%{z}<br>Type=%{marker.color}<extra></extra>\",\"legendgroup\":\"-0.8520402494624444\",\"marker\":{\"color\":[0],\"coloraxis\":\"coloraxis\",\"symbol\":\"circle\"},\"mode\":\"markers\",\"name\":\"-0.8520402494624444\",\"scene\":\"scene\",\"showlegend\":true,\"x\":[-1.0723694845078633],\"y\":[1.0530199896081345],\"z\":[-1.2762252609951719],\"type\":\"scatter3d\"},{\"hovertemplate\":\"petal width (cm)=-0.9834603393538239<br>sepal length (cm)=%{x}<br>sepal width (cm)=%{y}<br>petal length (cm)=%{z}<br>Type=%{marker.color}<extra></extra>\",\"legendgroup\":\"-0.9834603393538239\",\"marker\":{\"color\":[0],\"coloraxis\":\"coloraxis\",\"symbol\":\"diamond\"},\"mode\":\"markers\",\"name\":\"-0.9834603393538239\",\"scene\":\"scene\",\"showlegend\":true,\"x\":[-0.9537664078802659],\"y\":[0.5660743296737357],\"z\":[-1.2197551167033505],\"type\":\"scatter3d\"}],                        {\"template\":{\"data\":{\"histogram2dcontour\":[{\"type\":\"histogram2dcontour\",\"colorbar\":{\"outlinewidth\":0,\"ticks\":\"\"},\"colorscale\":[[0.0,\"#0d0887\"],[0.1111111111111111,\"#46039f\"],[0.2222222222222222,\"#7201a8\"],[0.3333333333333333,\"#9c179e\"],[0.4444444444444444,\"#bd3786\"],[0.5555555555555556,\"#d8576b\"],[0.6666666666666666,\"#ed7953\"],[0.7777777777777778,\"#fb9f3a\"],[0.8888888888888888,\"#fdca26\"],[1.0,\"#f0f921\"]]}],\"choropleth\":[{\"type\":\"choropleth\",\"colorbar\":{\"outlinewidth\":0,\"ticks\":\"\"}}],\"histogram2d\":[{\"type\":\"histogram2d\",\"colorbar\":{\"outlinewidth\":0,\"ticks\":\"\"},\"colorscale\":[[0.0,\"#0d0887\"],[0.1111111111111111,\"#46039f\"],[0.2222222222222222,\"#7201a8\"],[0.3333333333333333,\"#9c179e\"],[0.4444444444444444,\"#bd3786\"],[0.5555555555555556,\"#d8576b\"],[0.6666666666666666,\"#ed7953\"],[0.7777777777777778,\"#fb9f3a\"],[0.8888888888888888,\"#fdca26\"],[1.0,\"#f0f921\"]]}],\"heatmap\":[{\"type\":\"heatmap\",\"colorbar\":{\"outlinewidth\":0,\"ticks\":\"\"},\"colorscale\":[[0.0,\"#0d0887\"],[0.1111111111111111,\"#46039f\"],[0.2222222222222222,\"#7201a8\"],[0.3333333333333333,\"#9c179e\"],[0.4444444444444444,\"#bd3786\"],[0.5555555555555556,\"#d8576b\"],[0.6666666666666666,\"#ed7953\"],[0.7777777777777778,\"#fb9f3a\"],[0.8888888888888888,\"#fdca26\"],[1.0,\"#f0f921\"]]}],\"heatmapgl\":[{\"type\":\"heatmapgl\",\"colorbar\":{\"outlinewidth\":0,\"ticks\":\"\"},\"colorscale\":[[0.0,\"#0d0887\"],[0.1111111111111111,\"#46039f\"],[0.2222222222222222,\"#7201a8\"],[0.3333333333333333,\"#9c179e\"],[0.4444444444444444,\"#bd3786\"],[0.5555555555555556,\"#d8576b\"],[0.6666666666666666,\"#ed7953\"],[0.7777777777777778,\"#fb9f3a\"],[0.8888888888888888,\"#fdca26\"],[1.0,\"#f0f921\"]]}],\"contourcarpet\":[{\"type\":\"contourcarpet\",\"colorbar\":{\"outlinewidth\":0,\"ticks\":\"\"}}],\"contour\":[{\"type\":\"contour\",\"colorbar\":{\"outlinewidth\":0,\"ticks\":\"\"},\"colorscale\":[[0.0,\"#0d0887\"],[0.1111111111111111,\"#46039f\"],[0.2222222222222222,\"#7201a8\"],[0.3333333333333333,\"#9c179e\"],[0.4444444444444444,\"#bd3786\"],[0.5555555555555556,\"#d8576b\"],[0.6666666666666666,\"#ed7953\"],[0.7777777777777778,\"#fb9f3a\"],[0.8888888888888888,\"#fdca26\"],[1.0,\"#f0f921\"]]}],\"surface\":[{\"type\":\"surface\",\"colorbar\":{\"outlinewidth\":0,\"ticks\":\"\"},\"colorscale\":[[0.0,\"#0d0887\"],[0.1111111111111111,\"#46039f\"],[0.2222222222222222,\"#7201a8\"],[0.3333333333333333,\"#9c179e\"],[0.4444444444444444,\"#bd3786\"],[0.5555555555555556,\"#d8576b\"],[0.6666666666666666,\"#ed7953\"],[0.7777777777777778,\"#fb9f3a\"],[0.8888888888888888,\"#fdca26\"],[1.0,\"#f0f921\"]]}],\"mesh3d\":[{\"type\":\"mesh3d\",\"colorbar\":{\"outlinewidth\":0,\"ticks\":\"\"}}],\"scatter\":[{\"marker\":{\"line\":{\"color\":\"#283442\"}},\"type\":\"scatter\"}],\"parcoords\":[{\"type\":\"parcoords\",\"line\":{\"colorbar\":{\"outlinewidth\":0,\"ticks\":\"\"}}}],\"scatterpolargl\":[{\"type\":\"scatterpolargl\",\"marker\":{\"colorbar\":{\"outlinewidth\":0,\"ticks\":\"\"}}}],\"bar\":[{\"error_x\":{\"color\":\"#f2f5fa\"},\"error_y\":{\"color\":\"#f2f5fa\"},\"marker\":{\"line\":{\"color\":\"rgb(17,17,17)\",\"width\":0.5},\"pattern\":{\"fillmode\":\"overlay\",\"size\":10,\"solidity\":0.2}},\"type\":\"bar\"}],\"scattergeo\":[{\"type\":\"scattergeo\",\"marker\":{\"colorbar\":{\"outlinewidth\":0,\"ticks\":\"\"}}}],\"scatterpolar\":[{\"type\":\"scatterpolar\",\"marker\":{\"colorbar\":{\"outlinewidth\":0,\"ticks\":\"\"}}}],\"histogram\":[{\"marker\":{\"pattern\":{\"fillmode\":\"overlay\",\"size\":10,\"solidity\":0.2}},\"type\":\"histogram\"}],\"scattergl\":[{\"marker\":{\"line\":{\"color\":\"#283442\"}},\"type\":\"scattergl\"}],\"scatter3d\":[{\"type\":\"scatter3d\",\"line\":{\"colorbar\":{\"outlinewidth\":0,\"ticks\":\"\"}},\"marker\":{\"colorbar\":{\"outlinewidth\":0,\"ticks\":\"\"}}}],\"scattermapbox\":[{\"type\":\"scattermapbox\",\"marker\":{\"colorbar\":{\"outlinewidth\":0,\"ticks\":\"\"}}}],\"scatterternary\":[{\"type\":\"scatterternary\",\"marker\":{\"colorbar\":{\"outlinewidth\":0,\"ticks\":\"\"}}}],\"scattercarpet\":[{\"type\":\"scattercarpet\",\"marker\":{\"colorbar\":{\"outlinewidth\":0,\"ticks\":\"\"}}}],\"carpet\":[{\"aaxis\":{\"endlinecolor\":\"#A2B1C6\",\"gridcolor\":\"#506784\",\"linecolor\":\"#506784\",\"minorgridcolor\":\"#506784\",\"startlinecolor\":\"#A2B1C6\"},\"baxis\":{\"endlinecolor\":\"#A2B1C6\",\"gridcolor\":\"#506784\",\"linecolor\":\"#506784\",\"minorgridcolor\":\"#506784\",\"startlinecolor\":\"#A2B1C6\"},\"type\":\"carpet\"}],\"table\":[{\"cells\":{\"fill\":{\"color\":\"#506784\"},\"line\":{\"color\":\"rgb(17,17,17)\"}},\"header\":{\"fill\":{\"color\":\"#2a3f5f\"},\"line\":{\"color\":\"rgb(17,17,17)\"}},\"type\":\"table\"}],\"barpolar\":[{\"marker\":{\"line\":{\"color\":\"rgb(17,17,17)\",\"width\":0.5},\"pattern\":{\"fillmode\":\"overlay\",\"size\":10,\"solidity\":0.2}},\"type\":\"barpolar\"}],\"pie\":[{\"automargin\":true,\"type\":\"pie\"}]},\"layout\":{\"autotypenumbers\":\"strict\",\"colorway\":[\"#636efa\",\"#EF553B\",\"#00cc96\",\"#ab63fa\",\"#FFA15A\",\"#19d3f3\",\"#FF6692\",\"#B6E880\",\"#FF97FF\",\"#FECB52\"],\"font\":{\"color\":\"#f2f5fa\"},\"hovermode\":\"closest\",\"hoverlabel\":{\"align\":\"left\"},\"paper_bgcolor\":\"rgb(17,17,17)\",\"plot_bgcolor\":\"rgb(17,17,17)\",\"polar\":{\"bgcolor\":\"rgb(17,17,17)\",\"angularaxis\":{\"gridcolor\":\"#506784\",\"linecolor\":\"#506784\",\"ticks\":\"\"},\"radialaxis\":{\"gridcolor\":\"#506784\",\"linecolor\":\"#506784\",\"ticks\":\"\"}},\"ternary\":{\"bgcolor\":\"rgb(17,17,17)\",\"aaxis\":{\"gridcolor\":\"#506784\",\"linecolor\":\"#506784\",\"ticks\":\"\"},\"baxis\":{\"gridcolor\":\"#506784\",\"linecolor\":\"#506784\",\"ticks\":\"\"},\"caxis\":{\"gridcolor\":\"#506784\",\"linecolor\":\"#506784\",\"ticks\":\"\"}},\"coloraxis\":{\"colorbar\":{\"outlinewidth\":0,\"ticks\":\"\"}},\"colorscale\":{\"sequential\":[[0.0,\"#0d0887\"],[0.1111111111111111,\"#46039f\"],[0.2222222222222222,\"#7201a8\"],[0.3333333333333333,\"#9c179e\"],[0.4444444444444444,\"#bd3786\"],[0.5555555555555556,\"#d8576b\"],[0.6666666666666666,\"#ed7953\"],[0.7777777777777778,\"#fb9f3a\"],[0.8888888888888888,\"#fdca26\"],[1.0,\"#f0f921\"]],\"sequentialminus\":[[0.0,\"#0d0887\"],[0.1111111111111111,\"#46039f\"],[0.2222222222222222,\"#7201a8\"],[0.3333333333333333,\"#9c179e\"],[0.4444444444444444,\"#bd3786\"],[0.5555555555555556,\"#d8576b\"],[0.6666666666666666,\"#ed7953\"],[0.7777777777777778,\"#fb9f3a\"],[0.8888888888888888,\"#fdca26\"],[1.0,\"#f0f921\"]],\"diverging\":[[0,\"#8e0152\"],[0.1,\"#c51b7d\"],[0.2,\"#de77ae\"],[0.3,\"#f1b6da\"],[0.4,\"#fde0ef\"],[0.5,\"#f7f7f7\"],[0.6,\"#e6f5d0\"],[0.7,\"#b8e186\"],[0.8,\"#7fbc41\"],[0.9,\"#4d9221\"],[1,\"#276419\"]]},\"xaxis\":{\"gridcolor\":\"#283442\",\"linecolor\":\"#506784\",\"ticks\":\"\",\"title\":{\"standoff\":15},\"zerolinecolor\":\"#283442\",\"automargin\":true,\"zerolinewidth\":2},\"yaxis\":{\"gridcolor\":\"#283442\",\"linecolor\":\"#506784\",\"ticks\":\"\",\"title\":{\"standoff\":15},\"zerolinecolor\":\"#283442\",\"automargin\":true,\"zerolinewidth\":2},\"scene\":{\"xaxis\":{\"backgroundcolor\":\"rgb(17,17,17)\",\"gridcolor\":\"#506784\",\"linecolor\":\"#506784\",\"showbackground\":true,\"ticks\":\"\",\"zerolinecolor\":\"#C8D4E3\",\"gridwidth\":2},\"yaxis\":{\"backgroundcolor\":\"rgb(17,17,17)\",\"gridcolor\":\"#506784\",\"linecolor\":\"#506784\",\"showbackground\":true,\"ticks\":\"\",\"zerolinecolor\":\"#C8D4E3\",\"gridwidth\":2},\"zaxis\":{\"backgroundcolor\":\"rgb(17,17,17)\",\"gridcolor\":\"#506784\",\"linecolor\":\"#506784\",\"showbackground\":true,\"ticks\":\"\",\"zerolinecolor\":\"#C8D4E3\",\"gridwidth\":2}},\"shapedefaults\":{\"line\":{\"color\":\"#f2f5fa\"}},\"annotationdefaults\":{\"arrowcolor\":\"#f2f5fa\",\"arrowhead\":0,\"arrowwidth\":1},\"geo\":{\"bgcolor\":\"rgb(17,17,17)\",\"landcolor\":\"rgb(17,17,17)\",\"subunitcolor\":\"#506784\",\"showland\":true,\"showlakes\":true,\"lakecolor\":\"rgb(17,17,17)\"},\"title\":{\"x\":0.05},\"updatemenudefaults\":{\"bgcolor\":\"#506784\",\"borderwidth\":0},\"sliderdefaults\":{\"bgcolor\":\"#C8D4E3\",\"borderwidth\":1,\"bordercolor\":\"rgb(17,17,17)\",\"tickwidth\":0},\"mapbox\":{\"style\":\"dark\"}}},\"scene\":{\"domain\":{\"x\":[0.0,1.0],\"y\":[0.0,1.0]},\"xaxis\":{\"title\":{\"text\":\"sepal length (cm)\"}},\"yaxis\":{\"title\":{\"text\":\"sepal width (cm)\"}},\"zaxis\":{\"title\":{\"text\":\"petal length (cm)\"}}},\"coloraxis\":{\"colorbar\":{\"title\":{\"text\":\"Type\"}},\"colorscale\":[[0.0,\"#0d0887\"],[0.1111111111111111,\"#46039f\"],[0.2222222222222222,\"#7201a8\"],[0.3333333333333333,\"#9c179e\"],[0.4444444444444444,\"#bd3786\"],[0.5555555555555556,\"#d8576b\"],[0.6666666666666666,\"#ed7953\"],[0.7777777777777778,\"#fb9f3a\"],[0.8888888888888888,\"#fdca26\"],[1.0,\"#f0f921\"]]},\"legend\":{\"title\":{\"text\":\"petal width (cm)\"},\"tracegroupgap\":0,\"orientation\":\"v\",\"yanchor\":\"top\",\"xanchor\":\"right\"},\"title\":{\"text\":\"Normalised flowers' data\"}},                        {\"responsive\": true}                    ).then(function(){\n                            \nvar gd = document.getElementById('13c26084-179c-4ea6-ace5-67496596b24d');\nvar x = new MutationObserver(function (mutations, observer) {{\n        var display = window.getComputedStyle(gd).display;\n        if (!display || display === 'none') {{\n            console.log([gd, 'removed!']);\n            Plotly.purge(gd);\n            observer.disconnect();\n        }}\n}});\n\n// Listen for the removal of the full notebook cells\nvar notebookContainer = gd.closest('#notebook-container');\nif (notebookContainer) {{\n    x.observe(notebookContainer, {childList: true});\n}}\n\n// Listen for the clearing of the current output cell\nvar outputEl = gd.closest('.output');\nif (outputEl) {{\n    x.observe(outputEl, {childList: true});\n}}\n\n                        })                };                });            </script>        </div>"
     },
     "metadata": {},
     "output_type": "display_data"
    },
    {
     "name": "stderr",
     "output_type": "stream",
     "text": [
      "/Library/Python/3.9/site-packages/sklearn/neural_network/_multilayer_perceptron.py:686: ConvergenceWarning:\n",
      "\n",
      "Stochastic Optimizer: Maximum iterations (100) reached and the optimization hasn't converged yet.\n",
      "\n"
     ]
    },
    {
     "name": "stdout",
     "output_type": "stream",
     "text": [
      "Accuracy by tool: 0.9\n",
      "Computed: [0, 0, 0, 0, 0, 0, 0, 0, 0, 0, 0, 1, 1, 1, 1, 1, 2, 1, 1, 2, 1, 1, 1, 1, 2, 2, 2, 2, 2, 2]\n",
      "Real:     [0, 0, 0, 0, 0, 0, 0, 0, 0, 0, 0, 0, 1, 1, 1, 1, 1, 1, 1, 1, 1, 1, 1, 1, 2, 2, 2, 2, 2, 2]\n",
      "\n",
      "Computed by me: [0, 0, 0, 0, 0, 0, 0, 0, 0, 0, 0, 0, 1, 1, 1, 1, 2, 1, 1, 2, 1, 1, 1, 1, 2, 2, 2, 2, 2, 2]\n",
      "Real:           [0, 0, 0, 0, 0, 0, 0, 0, 0, 0, 0, 0, 1, 1, 1, 1, 1, 1, 1, 1, 1, 1, 1, 1, 2, 2, 2, 2, 2, 2]\n",
      "Accuracy:  0.9333333333333333\n",
      "Precision:  {'setosa': 1.0, 'versicolor': 1.0, 'virginica': 0.75}\n",
      "Recall:  {'setosa': 1.0, 'versicolor': 0.8333333333333334, 'virginica': 1.0}\n"
     ]
    },
    {
     "data": {
      "text/plain": "<Figure size 640x480 with 2 Axes>",
      "image/png": "[encoded data removed]"
     },
     "metadata": {},
     "output_type": "display_data"
    },
    {
     "name": "stdout",
     "output_type": "stream",
     "text": [
      "\n",
      "\n",
      "DIGITS\n"
     ]
    },
    {
     "data": {
      "text/plain": "<Figure size 640x480 with 1 Axes>",
      "image/png": "[encoded data removed]"
     },
     "metadata": {},
     "output_type": "display_data"
    },
    {
     "name": "stderr",
     "output_type": "stream",
     "text": [
      "/Library/Python/3.9/site-packages/sklearn/neural_network/_multilayer_perceptron.py:686: ConvergenceWarning:\n",
      "\n",
      "Stochastic Optimizer: Maximum iterations (100) reached and the optimization hasn't converged yet.\n",
      "\n"
     ]
    },
    {
     "name": "stdout",
     "output_type": "stream",
     "text": [
      "Accuracy by tool: 0.9166666666666666\n",
      "Computed: [5, 2, 1, 2, 5, 6, 1, 6, 0, 2, 3, 4, 6, 6, 6, 5, 6, 1, 7, 7, 8, 2, 3, 4, 5, 0, 5, 5, 9, 8, 1, 2, 3, 6, 9, 8, 3, 8, 4, 3, 8, 7, 8, 2, 4, 8, 5, 1, 9, 5, 7, 1, 0, 8, 1, 3, 6, 0, 2, 7, 0, 7, 7, 4, 7, 2, 5, 4, 8, 3, 9, 4, 0, 5, 9, 4, 7, 0, 2, 7, 1, 6, 6, 0, 5, 7, 6, 3, 4, 2, 1, 9, 6, 0, 5, 5, 6, 8, 9, 9, 4, 5, 5, 5, 9, 3, 8, 7, 7, 1, 0, 7, 8, 3, 3, 4, 6, 6, 7, 0, 5, 5, 4, 4, 0, 2, 2, 2, 3, 3, 7, 3, 9, 8, 0, 3, 9, 1, 8, 2, 8, 0, 2, 4, 5, 2, 4, 8, 3, 6, 7, 1, 3, 6, 4, 5, 9, 0, 6, 1, 1, 8, 1, 2, 9, 3, 2, 5, 8, 9, 9, 2, 3, 7, 9, 0, 0, 2, 3, 1, 4, 3, 7, 5, 4, 2, 5, 4, 9, 0, 5, 0, 1, 7, 8, 3, 8, 0, 7, 8, 1, 2, 3, 4, 6, 6, 9, 5, 5, 6, 8, 6, 0, 6, 5, 5, 5, 8, 9, 0, 1, 7, 9, 0, 3, 4, 9, 9, 5, 5, 0, 5, 2, 2, 2, 4, 6, 1, 0, 1, 3, 7, 5, 4, 5, 8, 8, 8, 0, 9, 3, 9, 0, 3, 4, 7, 2, 7, 5, 0, 9, 1, 0, 8, 2, 7, 6, 4, 9, 1, 3, 9, 5, 9, 6, 5, 7, 5, 5, 4, 1, 6, 3, 7, 0, 4, 5, 9, 8, 1, 5, 3, 5, 0, 2, 4, 9, 7, 1, 4, 0, 9, 2, 9, 8, 9, 1, 2, 8, 4, 8, 7, 6, 6, 9, 2, 0, 2, 9, 6, 4, 1, 5, 4, 1, 2, 5, 1, 3, 5, 5, 7, 2, 2, 0, 6, 3, 4, 6, 9, 9, 4, 3, 7, 4, 3, 7, 4, 3, 1, 4, 0, 5, 9, 4, 8, 8, 4, 9, 4]\n",
      "Real:     [9, 9, 1, 9, 5, 6, 1, 2, 0, 2, 3, 4, 6, 6, 6, 5, 6, 1, 7, 7, 8, 2, 2, 4, 5, 0, 5, 5, 9, 8, 1, 2, 3, 6, 9, 8, 3, 8, 4, 3, 8, 7, 8, 2, 4, 8, 5, 8, 9, 5, 7, 1, 0, 8, 1, 3, 6, 0, 2, 9, 0, 9, 7, 4, 7, 2, 5, 4, 8, 3, 9, 4, 0, 5, 9, 4, 7, 0, 2, 7, 1, 6, 6, 0, 5, 7, 6, 3, 4, 3, 1, 7, 6, 0, 5, 3, 6, 8, 9, 3, 4, 5, 5, 5, 9, 9, 8, 7, 7, 1, 0, 7, 8, 3, 3, 4, 6, 6, 7, 0, 5, 5, 4, 4, 0, 2, 2, 2, 2, 3, 7, 3, 9, 8, 0, 3, 9, 1, 8, 8, 8, 0, 2, 4, 5, 2, 4, 8, 3, 6, 7, 1, 3, 6, 6, 5, 9, 0, 6, 1, 1, 8, 1, 2, 9, 3, 2, 5, 8, 9, 9, 2, 3, 7, 9, 0, 0, 2, 3, 1, 4, 3, 7, 5, 4, 2, 5, 4, 9, 0, 5, 0, 1, 7, 8, 9, 8, 0, 7, 8, 1, 2, 3, 4, 6, 6, 4, 5, 5, 6, 1, 6, 0, 6, 5, 5, 5, 8, 9, 0, 1, 7, 9, 0, 3, 4, 9, 9, 5, 5, 0, 8, 2, 2, 2, 4, 6, 1, 0, 1, 3, 7, 5, 4, 5, 8, 8, 8, 0, 1, 3, 9, 0, 3, 4, 7, 2, 7, 5, 0, 7, 1, 0, 8, 2, 7, 6, 4, 9, 1, 3, 9, 5, 9, 6, 5, 7, 5, 5, 4, 8, 6, 3, 7, 0, 4, 5, 9, 8, 1, 5, 3, 5, 0, 2, 4, 9, 7, 1, 4, 0, 9, 2, 9, 8, 9, 1, 2, 7, 4, 8, 8, 6, 6, 9, 2, 0, 2, 4, 6, 4, 1, 5, 4, 1, 2, 5, 1, 3, 5, 5, 7, 2, 2, 0, 6, 3, 4, 6, 9, 5, 7, 3, 7, 4, 3, 7, 4, 3, 1, 4, 0, 5, 9, 4, 7, 8, 4, 9, 8]\n",
      "\n",
      "Computed by me: [9, 9, 1, 5, 5, 6, 1, 2, 0, 2, 3, 4, 6, 6, 6, 5, 6, 1, 7, 7, 8, 2, 8, 4, 5, 0, 5, 5, 9, 8, 1, 2, 3, 6, 9, 1, 3, 8, 4, 3, 8, 7, 8, 2, 4, 8, 5, 8, 9, 5, 7, 1, 0, 8, 1, 3, 6, 0, 2, 9, 0, 9, 7, 4, 7, 2, 5, 4, 8, 3, 9, 4, 0, 5, 9, 4, 7, 0, 2, 7, 1, 6, 6, 0, 5, 7, 6, 3, 4, 3, 1, 9, 6, 0, 5, 0, 6, 8, 9, 3, 4, 5, 5, 5, 9, 8, 8, 7, 7, 1, 0, 7, 8, 3, 3, 4, 6, 6, 7, 0, 5, 5, 4, 4, 0, 2, 2, 8, 2, 3, 7, 3, 9, 8, 0, 3, 4, 1, 8, 2, 8, 0, 2, 4, 5, 2, 4, 1, 3, 6, 7, 1, 3, 6, 6, 5, 9, 0, 6, 1, 1, 6, 1, 2, 9, 3, 2, 5, 8, 9, 9, 2, 3, 7, 9, 0, 0, 2, 3, 1, 4, 3, 7, 5, 4, 2, 5, 4, 9, 0, 5, 0, 1, 7, 8, 9, 8, 0, 7, 8, 1, 2, 3, 4, 6, 6, 4, 5, 5, 6, 1, 6, 0, 6, 5, 5, 5, 8, 9, 0, 1, 7, 9, 0, 3, 4, 9, 9, 5, 5, 0, 5, 2, 2, 2, 4, 6, 1, 0, 1, 3, 7, 5, 4, 5, 8, 8, 8, 0, 0, 3, 9, 0, 3, 4, 7, 2, 7, 5, 0, 7, 1, 0, 8, 2, 7, 6, 4, 9, 1, 3, 9, 5, 9, 6, 5, 7, 5, 5, 4, 8, 6, 3, 7, 0, 4, 5, 9, 8, 1, 5, 3, 5, 0, 2, 4, 9, 7, 1, 4, 0, 9, 2, 9, 8, 9, 1, 2, 7, 4, 6, 8, 6, 6, 9, 2, 0, 2, 4, 6, 4, 1, 5, 4, 1, 2, 5, 1, 3, 5, 5, 7, 2, 2, 0, 6, 8, 4, 6, 9, 5, 7, 3, 7, 4, 3, 7, 4, 3, 1, 4, 0, 5, 9, 4, 7, 8, 4, 9, 8]\n",
      "Real:           [9, 9, 1, 9, 5, 6, 1, 2, 0, 2, 3, 4, 6, 6, 6, 5, 6, 1, 7, 7, 8, 2, 2, 4, 5, 0, 5, 5, 9, 8, 1, 2, 3, 6, 9, 8, 3, 8, 4, 3, 8, 7, 8, 2, 4, 8, 5, 8, 9, 5, 7, 1, 0, 8, 1, 3, 6, 0, 2, 9, 0, 9, 7, 4, 7, 2, 5, 4, 8, 3, 9, 4, 0, 5, 9, 4, 7, 0, 2, 7, 1, 6, 6, 0, 5, 7, 6, 3, 4, 3, 1, 7, 6, 0, 5, 3, 6, 8, 9, 3, 4, 5, 5, 5, 9, 9, 8, 7, 7, 1, 0, 7, 8, 3, 3, 4, 6, 6, 7, 0, 5, 5, 4, 4, 0, 2, 2, 2, 2, 3, 7, 3, 9, 8, 0, 3, 9, 1, 8, 8, 8, 0, 2, 4, 5, 2, 4, 8, 3, 6, 7, 1, 3, 6, 6, 5, 9, 0, 6, 1, 1, 8, 1, 2, 9, 3, 2, 5, 8, 9, 9, 2, 3, 7, 9, 0, 0, 2, 3, 1, 4, 3, 7, 5, 4, 2, 5, 4, 9, 0, 5, 0, 1, 7, 8, 9, 8, 0, 7, 8, 1, 2, 3, 4, 6, 6, 4, 5, 5, 6, 1, 6, 0, 6, 5, 5, 5, 8, 9, 0, 1, 7, 9, 0, 3, 4, 9, 9, 5, 5, 0, 8, 2, 2, 2, 4, 6, 1, 0, 1, 3, 7, 5, 4, 5, 8, 8, 8, 0, 1, 3, 9, 0, 3, 4, 7, 2, 7, 5, 0, 7, 1, 0, 8, 2, 7, 6, 4, 9, 1, 3, 9, 5, 9, 6, 5, 7, 5, 5, 4, 8, 6, 3, 7, 0, 4, 5, 9, 8, 1, 5, 3, 5, 0, 2, 4, 9, 7, 1, 4, 0, 9, 2, 9, 8, 9, 1, 2, 7, 4, 8, 8, 6, 6, 9, 2, 0, 2, 4, 6, 4, 1, 5, 4, 1, 2, 5, 1, 3, 5, 5, 7, 2, 2, 0, 6, 3, 4, 6, 9, 5, 7, 3, 7, 4, 3, 7, 4, 3, 1, 4, 0, 5, 9, 4, 7, 8, 4, 9, 8]\n",
      "Accuracy:  0.9583333333333334\n",
      "Precision:  {0: 0.9459459459459459, 1: 0.9375, 2: 0.9696969696969697, 3: 1.0, 4: 0.975, 5: 0.9574468085106383, 6: 0.9411764705882353, 7: 1.0, 8: 0.8823529411764706, 9: 0.972972972972973}\n",
      "Recall:  {0: 1.0, 1: 0.967741935483871, 2: 0.9411764705882353, 3: 0.9411764705882353, 4: 1.0, 5: 1.0, 6: 1.0, 7: 0.9714285714285714, 8: 0.8333333333333334, 9: 0.9230769230769231}\n"
     ]
    },
    {
     "data": {
      "text/plain": "<Figure size 640x480 with 2 Axes>",
      "image/png": "[encoded data removed]"
     },
     "metadata": {},
     "output_type": "display_data"
    }
   ],
   "source": [
    "print(\"IRIS\")\n",
    "inputs, outputs, outputNames, feature1, feature2, feature3, feature4, featureNames = load_data_flowers()\n",
    "plot_data_four_features(inputs, outputs, featureNames, \"Initial data for flowers\")\n",
    "plot_histogram_feature(feature1, featureNames[0])\n",
    "plot_histogram_feature(feature2, featureNames[1])\n",
    "plot_histogram_feature(feature3, featureNames[2])\n",
    "plot_histogram_feature(feature4, featureNames[3])\n",
    "plot_histogram_data(outputs, outputNames, 'Flowers class')\n",
    "trainInputs, trainOutputs, testInputs, testOutputs = train_and_test(inputs, outputs)\n",
    "trainInputs, testInputs = normalisation(trainInputs, testInputs)\n",
    "plot_data_four_features(trainInputs, trainOutputs, featureNames, \"Normalised flowers' data\")\n",
    "computedOutputs = classifier_by_tool(trainInputs, trainOutputs, testInputs, testOutputs)\n",
    "print('Computed:', list(computedOutputs))\n",
    "print('Real:    ', testOutputs)\n",
    "print()\n",
    "computedOutputsByMe = classifier_by_me(trainInputs, trainOutputs, testInputs)\n",
    "print('Computed by me:', computedOutputsByMe)\n",
    "print('Real:          ', testOutputs)\n",
    "confusion_matrix_by_me = evaluate(np.array(testOutputs), np.array(computedOutputsByMe), outputNames)\n",
    "plot_confusion_matrix(confusion_matrix_by_me, outputNames, \"Iris classification by me\")\n",
    "\n",
    "print('\\n\\nDIGITS')\n",
    "inputs, outputs, outputNames = load_data_digit()\n",
    "plot_histogram_data(outputs, outputNames, 'Digits Class')\n",
    "trainInputs, trainOutputs, testInputs, testOutputs = train_and_test(inputs, outputs)\n",
    "trainInputs, testInputs = flatten_data(trainInputs, testInputs)\n",
    "trainInputs, testInputs = normalisation(trainInputs, testInputs)\n",
    "computedOutputs = classifier_by_tool(trainInputs, trainOutputs, testInputs, testOutputs)\n",
    "print('Computed:', list(computedOutputs))\n",
    "print('Real:    ', testOutputs)\n",
    "print()\n",
    "computedOutputsByMe = classifier_by_me(trainInputs, trainOutputs, testInputs)\n",
    "print('Computed by me:', computedOutputsByMe)\n",
    "print('Real:          ', testOutputs)\n",
    "confusion_matrix_by_me = evaluate(np.array(testOutputs), np.array(computedOutputsByMe), outputNames)\n",
    "plot_confusion_matrix(confusion_matrix_by_me, outputNames, \"Digits classification by me\")"
   ],
   "metadata": {
    "collapsed": false,
    "ExecuteTime": {
     "start_time": "2023-05-07T21:25:54.290994Z",
     "end_time": "2023-05-07T21:26:08.431591Z"
    }
   }
  },
  {
   "cell_type": "code",
   "execution_count": 46,
   "outputs": [
    {
     "data": {
      "text/plain": "<Figure size 640x480 with 1 Axes>",
      "image/png": "[encoded data removed]"
     },
     "metadata": {},
     "output_type": "display_data"
    },
    {
     "name": "stdout",
     "output_type": "stream",
     "text": [
      "[1 1 1 1 1 1 1 1 1 0 1 1 1 1 1 1 1 1 0 1 1 0 1 0 1 1 1 1 1 1 1 1 0 1 1 1 1\n",
      " 1 1 1]\n",
      "[0 0 1 1 0 0 1 1 0 0 1 1 1 1 0 1 1 0 1 1 1 1 0 1 0 0 1 0 1 0 0 0 1 1 0 1 1\n",
      " 0 0 0]\n",
      "Accuracy:  0.45\n",
      "Precision:  {'original': 0.2, 'sepia': 0.4857142857142857}\n",
      "Recall:  {'original': 0.05263157894736842, 'sepia': 0.8095238095238095}\n"
     ]
    },
    {
     "data": {
      "text/plain": "<Figure size 640x480 with 2 Axes>",
      "image/png": "[encoded data removed]"
     },
     "metadata": {},
     "output_type": "display_data"
    }
   ],
   "source": [
    "from PIL import Image\n",
    "from sklearn import neural_network\n",
    "\n",
    "\n",
    "def process_image(path):\n",
    "    img = Image.open(path)\n",
    "    img = np.asarray(img)\n",
    "    processed = []\n",
    "    for i in img:\n",
    "        processed += list(i)\n",
    "    return np.ravel(processed) / 255.0\n",
    "\n",
    "\n",
    "def process_folder():\n",
    "    inputs_data = []\n",
    "    outputs_data = []\n",
    "    for i in range(1, 100):\n",
    "        inputs_data.append(process_image('data/original/' + str(i) + '.jpg'))\n",
    "        outputs_data.append(0)\n",
    "        inputs_data.append(process_image('data/sepia/' + str(i) + '-sepia.jpg'))\n",
    "        outputs_data.append(1)\n",
    "    return inputs_data, outputs_data\n",
    "\n",
    "\n",
    "def train_by_tool(train_inputs, train_outputs, test_inputs):\n",
    "    classifier = neural_network.MLPClassifier(hidden_layer_sizes=(12, 25, 12), max_iter=10000)\n",
    "    classifier.fit(train_inputs, train_outputs)\n",
    "    computed_outputs = classifier.predict(test_inputs)\n",
    "    return computed_outputs\n",
    "\n",
    "\n",
    "if __name__ == '__main__':\n",
    "    outputNames = ['original', 'sepia']\n",
    "    imgSize = 64\n",
    "    inputData, outputData = process_folder()\n",
    "    trainInputs, trainOutputs, testInputs, testOutputs = train_and_test(inputData, outputData)\n",
    "    trainInputs = np.array(trainInputs)\n",
    "    trainOutputs = np.array(trainOutputs)\n",
    "    testInputs = np.array(testInputs)\n",
    "    testOutputs = np.array(testOutputs)\n",
    "    plot_histogram_data(trainOutputs, outputNames, 'original and sepia images')\n",
    "    computedOutputs = train_by_tool(trainInputs, trainOutputs, testInputs)\n",
    "    print(computedOutputs)\n",
    "    print(testOutputs)\n",
    "    confusion_matrix = evaluate(testOutputs, computedOutputs, outputNames)\n",
    "    plot_confusion_matrix(confusion_matrix, outputNames, \"Sepia ANN classification\")"
   ],
   "metadata": {
    "collapsed": false,
    "ExecuteTime": {
     "start_time": "2023-05-07T21:26:21.352200Z",
     "end_time": "2023-05-07T21:26:23.118849Z"
    }
   }
  },
  {
   "cell_type": "code",
   "execution_count": 48,
   "outputs": [
    {
     "name": "stderr",
     "output_type": "stream",
     "text": [
      "/var/folders/ry/98472m9j33g4pk1cqrwpqx9w0000gn/T/ipykernel_30790/1004588739.py:22: VisibleDeprecationWarning:\n",
      "\n",
      "Creating an ndarray from ragged nested sequences (which is a list-or-tuple of lists-or-tuples-or ndarrays with different lengths or shapes) is deprecated. If you meant to do this, you must specify 'dtype=object' when creating the ndarray.\n",
      "\n"
     ]
    },
    {
     "data": {
      "text/plain": "<Figure size 640x480 with 1 Axes>",
      "image/png": "[encoded data removed]"
     },
     "metadata": {},
     "output_type": "display_data"
    },
    {
     "name": "stderr",
     "output_type": "stream",
     "text": [
      "/Users/alexandrusirbu/Library/Python/3.9/lib/python/site-packages/tensorflow/python/keras/backend.py:4927: UserWarning:\n",
      "\n",
      "\"`sparse_categorical_crossentropy` received `from_logits=True`, but the `output` argument was produced by a sigmoid or softmax activation and thus does not represent logits. Was this intended?\"\n",
      "\n",
      "2023-05-07 21:28:08.633932: W tensorflow/tsl/platform/profile_utils/cpu_utils.cc:128] Failed to get CPU frequency: 0 Hz\n",
      "2023-05-07 21:28:08.677607: W tensorflow/c/c_api.cc:300] Operation '{name:'conv2d_2/kernel/Assign' id:98 op device:{requested: '', assigned: ''} def:{{{node conv2d_2/kernel/Assign}} = AssignVariableOp[_has_manual_control_dependencies=true, dtype=DT_FLOAT, validate_shape=false](conv2d_2/kernel, conv2d_2/kernel/Initializer/random_uniform)}}' was changed by setting attribute after it was run by a session. This mutation will have no effect, and will trigger an error in the future. Either don't modify nodes after running them or create a new session.\n"
     ]
    },
    {
     "name": "stdout",
     "output_type": "stream",
     "text": [
      "Train on 159 samples, validate on 40 samples\n",
      "Epoch 1/35\n",
      "159/159 [==============================] - 0s 2ms/sample - loss: 0.8065 - accuracy: 0.4717 - val_loss: 0.6845 - val_accuracy: 0.5500\n",
      "Epoch 2/35\n",
      "159/159 [==============================] - ETA: 0s - loss: 0.6921 - accuracy: 0.5535"
     ]
    },
    {
     "name": "stderr",
     "output_type": "stream",
     "text": [
      "/Users/alexandrusirbu/Library/Python/3.9/lib/python/site-packages/tensorflow/python/keras/engine/training.py:2455: UserWarning:\n",
      "\n",
      "`Model.state_updates` will be removed in a future version. This property should not be used in TensorFlow 2.0, as `updates` are applied automatically.\n",
      "\n",
      "2023-05-07 21:28:08.949813: W tensorflow/c/c_api.cc:300] Operation '{name:'loss/mul' id:395 op device:{requested: '', assigned: ''} def:{{{node loss/mul}} = Mul[T=DT_FLOAT, _has_manual_control_dependencies=true](loss/mul/x, loss/dense_3_loss/value)}}' was changed by setting attribute after it was run by a session. This mutation will have no effect, and will trigger an error in the future. Either don't modify nodes after running them or create a new session.\n"
     ]
    },
    {
     "name": "stdout",
     "output_type": "stream",
     "text": [
      "159/159 [==============================] - 0s 1ms/sample - loss: 0.6921 - accuracy: 0.5535 - val_loss: 0.7099 - val_accuracy: 0.4750\n",
      "Epoch 3/35\n",
      "159/159 [==============================] - 0s 1ms/sample - loss: 0.6659 - accuracy: 0.5346 - val_loss: 0.6416 - val_accuracy: 0.6750\n",
      "Epoch 4/35\n",
      "159/159 [==============================] - 0s 1ms/sample - loss: 0.6169 - accuracy: 0.7610 - val_loss: 0.5552 - val_accuracy: 0.9250\n",
      "Epoch 5/35\n",
      "159/159 [==============================] - 0s 1ms/sample - loss: 0.5367 - accuracy: 0.8491 - val_loss: 0.4564 - val_accuracy: 0.9250\n",
      "Epoch 6/35\n",
      "159/159 [==============================] - 0s 1ms/sample - loss: 0.4531 - accuracy: 0.8616 - val_loss: 0.3529 - val_accuracy: 0.9250\n",
      "Epoch 7/35\n",
      "159/159 [==============================] - 0s 1ms/sample - loss: 0.3625 - accuracy: 0.8868 - val_loss: 0.2689 - val_accuracy: 0.9000\n",
      "Epoch 8/35\n",
      "159/159 [==============================] - 0s 1ms/sample - loss: 0.3017 - accuracy: 0.9119 - val_loss: 0.2171 - val_accuracy: 0.9750\n",
      "Epoch 9/35\n",
      "159/159 [==============================] - 0s 1ms/sample - loss: 0.2810 - accuracy: 0.9057 - val_loss: 0.2367 - val_accuracy: 0.9500\n",
      "Epoch 10/35\n",
      "159/159 [==============================] - 0s 1ms/sample - loss: 0.2475 - accuracy: 0.9245 - val_loss: 0.1662 - val_accuracy: 0.9500\n",
      "Epoch 11/35\n",
      "159/159 [==============================] - 0s 1ms/sample - loss: 0.2109 - accuracy: 0.9245 - val_loss: 0.1225 - val_accuracy: 0.9500\n",
      "Epoch 12/35\n",
      "159/159 [==============================] - 0s 1ms/sample - loss: 0.1820 - accuracy: 0.9371 - val_loss: 0.1219 - val_accuracy: 1.0000\n",
      "Epoch 13/35\n",
      "159/159 [==============================] - 0s 1ms/sample - loss: 0.1526 - accuracy: 0.9497 - val_loss: 0.1011 - val_accuracy: 0.9500\n",
      "Epoch 14/35\n",
      "159/159 [==============================] - 0s 1ms/sample - loss: 0.1503 - accuracy: 0.9434 - val_loss: 0.1062 - val_accuracy: 1.0000\n",
      "Epoch 15/35\n",
      "159/159 [==============================] - 0s 1ms/sample - loss: 0.1305 - accuracy: 0.9497 - val_loss: 0.0753 - val_accuracy: 0.9750\n",
      "Epoch 16/35\n",
      "159/159 [==============================] - 0s 1ms/sample - loss: 0.1074 - accuracy: 0.9686 - val_loss: 0.1146 - val_accuracy: 0.9750\n",
      "Epoch 17/35\n",
      "159/159 [==============================] - 0s 1ms/sample - loss: 0.1153 - accuracy: 0.9560 - val_loss: 0.0713 - val_accuracy: 0.9500\n",
      "Epoch 18/35\n",
      "159/159 [==============================] - 0s 1ms/sample - loss: 0.1088 - accuracy: 0.9560 - val_loss: 0.0801 - val_accuracy: 1.0000\n",
      "Epoch 19/35\n",
      "159/159 [==============================] - 0s 1ms/sample - loss: 0.0912 - accuracy: 0.9686 - val_loss: 0.0835 - val_accuracy: 0.9500\n",
      "Epoch 20/35\n",
      "159/159 [==============================] - 0s 1ms/sample - loss: 0.0892 - accuracy: 0.9686 - val_loss: 0.0595 - val_accuracy: 0.9750\n",
      "Epoch 21/35\n",
      "159/159 [==============================] - 0s 1ms/sample - loss: 0.0705 - accuracy: 0.9686 - val_loss: 0.0949 - val_accuracy: 0.9500\n",
      "Epoch 22/35\n",
      "159/159 [==============================] - 0s 1ms/sample - loss: 0.0774 - accuracy: 0.9623 - val_loss: 0.0471 - val_accuracy: 1.0000\n",
      "Epoch 23/35\n",
      "159/159 [==============================] - 0s 1ms/sample - loss: 0.1084 - accuracy: 0.9497 - val_loss: 0.0929 - val_accuracy: 0.9500\n",
      "Epoch 24/35\n",
      "159/159 [==============================] - 0s 1ms/sample - loss: 0.0613 - accuracy: 0.9811 - val_loss: 0.0659 - val_accuracy: 0.9500\n",
      "Epoch 25/35\n",
      "159/159 [==============================] - 0s 1ms/sample - loss: 0.0472 - accuracy: 0.9874 - val_loss: 0.0582 - val_accuracy: 1.0000\n",
      "Epoch 26/35\n",
      "159/159 [==============================] - 0s 1ms/sample - loss: 0.0419 - accuracy: 0.9937 - val_loss: 0.0532 - val_accuracy: 0.9750\n",
      "Epoch 27/35\n",
      "159/159 [==============================] - 0s 1ms/sample - loss: 0.0463 - accuracy: 0.9811 - val_loss: 0.0336 - val_accuracy: 1.0000\n",
      "Epoch 28/35\n",
      "159/159 [==============================] - 0s 1ms/sample - loss: 0.0418 - accuracy: 0.9874 - val_loss: 0.0662 - val_accuracy: 0.9750\n",
      "Epoch 29/35\n",
      "159/159 [==============================] - 0s 1ms/sample - loss: 0.0340 - accuracy: 0.9937 - val_loss: 0.0939 - val_accuracy: 0.9500\n",
      "Epoch 30/35\n",
      "159/159 [==============================] - 0s 1ms/sample - loss: 0.0267 - accuracy: 1.0000 - val_loss: 0.0394 - val_accuracy: 1.0000\n",
      "Epoch 31/35\n",
      "159/159 [==============================] - 0s 1ms/sample - loss: 0.0325 - accuracy: 0.9937 - val_loss: 0.0370 - val_accuracy: 1.0000\n",
      "Epoch 32/35\n",
      "159/159 [==============================] - 0s 1ms/sample - loss: 0.0234 - accuracy: 1.0000 - val_loss: 0.0477 - val_accuracy: 0.9750\n",
      "Epoch 33/35\n",
      "159/159 [==============================] - 0s 1ms/sample - loss: 0.0184 - accuracy: 1.0000 - val_loss: 0.0320 - val_accuracy: 1.0000\n",
      "Epoch 34/35\n",
      "159/159 [==============================] - 0s 2ms/sample - loss: 0.0162 - accuracy: 1.0000 - val_loss: 0.0307 - val_accuracy: 1.0000\n",
      "Epoch 35/35\n",
      "159/159 [==============================] - 0s 1ms/sample - loss: 0.0152 - accuracy: 1.0000 - val_loss: 0.0450 - val_accuracy: 1.0000\n",
      "[0, 0, 0, 0, 0, 0, 0, 0, 0, 0, 0, 0, 0, 0, 0, 0, 0, 0, 0, 1, 1, 1, 1, 1, 1, 1, 1, 1, 1, 1, 1, 1, 1, 1, 1, 1, 1, 1, 1, 1]\n",
      "Accuracy:  1.0\n",
      "Precision:  {'original': 1.0, 'sepia': 1.0}\n",
      "Recall:  {'original': 1.0, 'sepia': 1.0}\n"
     ]
    },
    {
     "name": "stderr",
     "output_type": "stream",
     "text": [
      "2023-05-07 21:28:15.504514: W tensorflow/c/c_api.cc:300] Operation '{name:'dense_3/Softmax' id:339 op device:{requested: '', assigned: ''} def:{{{node dense_3/Softmax}} = Softmax[T=DT_FLOAT, _has_manual_control_dependencies=true](dense_3/BiasAdd)}}' was changed by setting attribute after it was run by a session. This mutation will have no effect, and will trigger an error in the future. Either don't modify nodes after running them or create a new session.\n"
     ]
    },
    {
     "data": {
      "text/plain": "<Figure size 640x480 with 2 Axes>",
      "image/png": "[encoded data removed]"
     },
     "metadata": {},
     "output_type": "display_data"
    }
   ],
   "source": [
    "from tensorflow.python.keras.optimizer_v2.adam import Adam\n",
    "from tensorflow.python.keras.losses import SparseCategoricalCrossentropy\n",
    "from tensorflow.python.keras.optimizer_v1 import adam\n",
    "from tensorflow.python.keras.layers import MaxPool2D, Dropout, Flatten, Dense, Conv2D\n",
    "from tensorflow.python.keras import Sequential\n",
    "import cv2\n",
    "import os\n",
    "\n",
    "\n",
    "def process_folder(directory, img_size):\n",
    "    data = []\n",
    "    for label in outputNames:\n",
    "        path = os.path.join(directory, label)\n",
    "        class_num = outputNames.index(label)\n",
    "        for img in os.listdir(path):\n",
    "            try:\n",
    "                img_arr = cv2.imread(os.path.join(path, img))[..., ::-1]\n",
    "                resized_arr = cv2.resize(img_arr, (img_size, img_size))\n",
    "                data.append([resized_arr, class_num])\n",
    "            except Exception as e:\n",
    "                print(e)\n",
    "    return np.array(data)\n",
    "\n",
    "\n",
    "def train_and_test_cnn(data):\n",
    "    indexes = [i for i in range(len(data))]\n",
    "    train_sample = np.random.choice(indexes, int(0.8 * len(data)), replace=False)\n",
    "    test_sample = [i for i in indexes if i not in train_sample]\n",
    "    train = [data[i] for i in train_sample]\n",
    "    test = [data[i] for i in test_sample]\n",
    "    return train, test\n",
    "\n",
    "\n",
    "def inputs_outputs_normalisation(train, test, img_size):\n",
    "    train_input = []\n",
    "    train_output = []\n",
    "    test_input = []\n",
    "    test_output = []\n",
    "    for feature, label in train:\n",
    "        train_input.append(feature)\n",
    "        train_output.append(label)\n",
    "    for feature, label in test:\n",
    "        test_input.append(feature)\n",
    "        test_output.append(label)\n",
    "    train_input = np.array(train_input) / 255.0\n",
    "    test_input = np.array(test_input) / 255.0\n",
    "    train_input.reshape(-1, img_size, img_size, 1)\n",
    "    train_output = np.array(train_output)\n",
    "    test_input.reshape(-1, img_size, img_size, 1)\n",
    "    test_output = np.array(test_output)\n",
    "    return train_input, train_output, test_input, test_output\n",
    "\n",
    "\n",
    "def train_by_tool(train_input, train_output, test_input, test_output, img_size):\n",
    "    model = Sequential()\n",
    "    model.add(Conv2D(32, 3, padding=\"same\", activation=\"relu\", input_shape=(img_size, img_size, 3)))  # first layer\n",
    "    model.add(MaxPool2D())\n",
    "    model.add(Conv2D(64, 3, padding=\"same\", activation=\"relu\"))  # second layer\n",
    "    model.add(MaxPool2D())\n",
    "    model.add(Dropout(0.4))\n",
    "    model.add(Flatten())  # output layer\n",
    "    model.add(Dense(2, activation=\"softmax\"))\n",
    "    opt = Adam(learning_rate=.001)\n",
    "    model.compile(optimizer=opt, loss=SparseCategoricalCrossentropy(from_logits=True),\n",
    "                  metrics=['accuracy'])\n",
    "    model.fit(train_input, train_output, validation_data=(test_input, test_output), epochs=35)\n",
    "    return model.predict(x=test_input)\n",
    "\n",
    "\n",
    "if __name__ == '__main__':\n",
    "    outputNames = ['original', 'sepia']\n",
    "    imgSize = 64\n",
    "    totalData = process_folder('data', imgSize)\n",
    "    trainData, testData, = train_and_test_cnn(totalData)\n",
    "    trainInput, trainOutput, testInput, testOutput = inputs_outputs_normalisation(trainData, testData, imgSize)\n",
    "    plot_histogram_data(trainOutput, outputNames, \"original and sepia images\")\n",
    "    computedOutputs = train_by_tool(trainInput, trainOutput, testInput, testOutput, imgSize)\n",
    "    computedOutputs = [list(elem).index(max(list(elem))) for elem in computedOutputs]\n",
    "    print(computedOutputs)\n",
    "    confusion_matrix = evaluate(testOutput, computedOutputs, outputNames)\n",
    "    plot_confusion_matrix(confusion_matrix, outputNames, \"Sepia CNN classification\")\n"
   ],
   "metadata": {
    "collapsed": false,
    "ExecuteTime": {
     "start_time": "2023-05-07T21:28:08.330760Z",
     "end_time": "2023-05-07T21:28:15.796009Z"
    }
   }
  },
  {
   "cell_type": "code",
   "execution_count": null,
   "outputs": [],
   "source": [],
   "metadata": {
    "collapsed": false
   }
  }
 ],
 "metadata": {
  "kernelspec": {
   "display_name": "Python 3",
   "language": "python",
   "name": "python3"
  },
  "language_info": {
   "codemirror_mode": {
    "name": "ipython",
    "version": 2
   },
   "file_extension": ".py",
   "mimetype": "text/x-python",
   "name": "python",
   "nbconvert_exporter": "python",
   "pygments_lexer": "ipython2",
   "version": "2.7.6"
  }
 },
 "nbformat": 4,
 "nbformat_minor": 0
}
