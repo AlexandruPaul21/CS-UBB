{
 "cells": [
  {
   "cell_type": "code",
   "execution_count": 1,
   "metadata": {
    "collapsed": true
   },
   "outputs": [],
   "source": [
    "import math\n",
    "import os\n",
    "import pandas as pd\n",
    "import matplotlib.pyplot as plt"
   ]
  },
  {
   "cell_type": "code",
   "execution_count": 6,
   "outputs": [],
   "source": [
    "def read_csv(name):\n",
    "    return pd.read_csv(os.path.join(os.getcwd(), 'data', name))\n",
    "\n",
    "sports = read_csv(\"sport.csv\")\n",
    "flowers = read_csv(\"flowers.csv\")\n",
    "\n",
    "# print(read_csv(\"sport.csv\"))"
   ],
   "metadata": {
    "collapsed": false
   }
  },
  {
   "cell_type": "code",
   "execution_count": 8,
   "outputs": [
    {
     "data": {
      "text/plain": "<Figure size 640x480 with 1 Axes>",
      "image/png": "[encoded data removed]"
     },
     "metadata": {},
     "output_type": "display_data"
    }
   ],
   "source": [
    "def plot_sport_predictions(feature):\n",
    "    y = [x for x in range(len(sports[feature]))]\n",
    "    real, = plt.plot(y, sports[feature], 'ro', label=\"real\")\n",
    "    computed, = plt.plot(y, sports[\"Predicted\" + feature], 'bo', label=\"computed\")\n",
    "    plt.legend([real, (real, computed)], [\"Real\", \"Computed\"])\n",
    "    plt.show()\n",
    "\n",
    "plot_sport_predictions(\"Weight\")"
   ],
   "metadata": {
    "collapsed": false
   }
  },
  {
   "cell_type": "code",
   "execution_count": 10,
   "outputs": [
    {
     "name": "stdout",
     "output_type": "stream",
     "text": [
      "Sum: 8.15\n",
      "Sqrt: 6.5840716885526085\n"
     ]
    }
   ],
   "source": [
    "def calculate_error_regression_sum(real, computed):\n",
    "    error = 0\n",
    "    for r, c in zip(real, computed):\n",
    "        error += sum([abs(r[index] - c[index]) for index in range(len(r))])\n",
    "\n",
    "    return error / len(real[0])\n",
    "\n",
    "def calculate_error_regression_sqrt(real, computed):\n",
    "    error = 0\n",
    "    for r, c in zip(real, computed):\n",
    "        error += sum([((r[index] - c[index]) ** 2) for index in range(len(r))])\n",
    "\n",
    "    return math.sqrt(error / len(real[0]))\n",
    "\n",
    "print('Sum:', calculate_error_regression_sum([sports['Weight'], sports['Waist'], sports['Pulse']],\n",
    "                                             [sports['PredictedWeight'], sports['PredictedWaist'],sports['PredictedPulse']]))\n",
    "\n",
    "print('Sqrt:', calculate_error_regression_sqrt([sports['Weight'], sports['Waist'], sports['Pulse']],\n",
    "                                               [sports['PredictedWeight'], sports['PredictedWaist'],\n",
    "                                                sports['PredictedPulse']]))"
   ],
   "metadata": {
    "collapsed": false
   }
  },
  {
   "cell_type": "code",
   "execution_count": 13,
   "outputs": [
    {
     "name": "stdout",
     "output_type": "stream",
     "text": [
      "Accuracy: 0.3076923076923077\n",
      "Precision for Tulip is 0.2857142857142857\n",
      "Precision for Rose is 0.25\n",
      "Precision for Daisy is 0.36363636363636365\n",
      "Recall for Tulip is 0.2857142857142857\n",
      "Recall for Rose is 0.25\n",
      "Recall for Daisy is 0.36363636363636365\n"
     ]
    }
   ],
   "source": [
    "def evaluate_classification(real, computed, labels):\n",
    "    calculated_accuracy = sum([1 if real[i] == computed[i] else 0 for i in range(len(real))]) / len(real)\n",
    "\n",
    "    TP = {}\n",
    "    FP = {}\n",
    "    TN = {}\n",
    "    FN = {}\n",
    "\n",
    "    for label in labels:\n",
    "        TP[label] = sum(\n",
    "            [1 if (real[i] == label and computed[i] == label) else 0 for i in range(len(real))])\n",
    "        FP[label] = sum(\n",
    "            [1 if (real[i] != label and computed[i] == label) else 0 for i in range(len(real))])\n",
    "        TN[label] = sum(\n",
    "            [1 if (real[i] != label and computed[i] != label) else 0 for i in range(len(real))])\n",
    "        FN[label] = sum(\n",
    "            [1 if (real[i] == label and computed[i] != label) else 0 for i in range(len(real))])\n",
    "\n",
    "        # print(\"For label:\", label, TP[label], FP[label], TN[label], FN[label])\n",
    "\n",
    "    precision = {}\n",
    "    recall = {}\n",
    "\n",
    "    for label in labels:\n",
    "        precision[label] = TP[label] / (TP[label] + FP[label])\n",
    "        recall[label] = TP[label] / (TP[label] + FN[label])\n",
    "\n",
    "    return calculated_accuracy, precision, recall\n",
    "\n",
    "flowers_types = list(set(flowers['Type']))\n",
    "accuracy, precisions, recalls = evaluate_classification(flowers['Type'], flowers['PredictedType'],\n",
    "                                                        flowers_types)\n",
    "print('Accuracy:', accuracy)\n",
    "print('Precision for', flowers_types[0], 'is', precisions[flowers_types[0]])\n",
    "print('Precision for', flowers_types[1], 'is', precisions[flowers_types[1]])\n",
    "print('Precision for', flowers_types[2], 'is', precisions[flowers_types[2]])\n",
    "print('Recall for', flowers_types[0], 'is', recalls[flowers_types[0]])\n",
    "print('Recall for', flowers_types[1], 'is', recalls[flowers_types[1]])\n",
    "print('Recall for', flowers_types[2], 'is', recalls[flowers_types[2]])"
   ],
   "metadata": {
    "collapsed": false
   }
  },
  {
   "cell_type": "code",
   "execution_count": 16,
   "outputs": [
    {
     "name": "stdout",
     "output_type": "stream",
     "text": [
      "Loss regression: 163\n",
      "Loss binary: 0.9411706901395985\n",
      "Loss multi-class 1.6567491149507025\n",
      "Loss multi-label: 0.8176377118065583\n"
     ]
    }
   ],
   "source": [
    "def calculate_loss_regression_sum(real, computed):\n",
    "    error = 0\n",
    "    for r, c in zip(real, computed):\n",
    "        for index in range(len(r)):\n",
    "            error += abs(r[index] - c[index])\n",
    "    return error\n",
    "\n",
    "def evaluate_loss_binary_classification(real, computed, positive):\n",
    "    real_outputs = [[1, 0] if label == positive else [0, 1] for label in real]\n",
    "    no_of_classes = len(set(real))\n",
    "    dataset_CE = 0.0\n",
    "    for i in range(len(real)):\n",
    "        sample_CE = - sum([real_outputs[i][j] * math.log(computed[i][j]) for j in range(no_of_classes)])\n",
    "        dataset_CE += sample_CE\n",
    "    mean_CE = dataset_CE / len(real)\n",
    "    return mean_CE\n",
    "\n",
    "def evaluate_multi_class_loss(target_values, raw_outputs):\n",
    "    expected_values = [math.exp(value) for value in raw_outputs]\n",
    "    sum_for_expected_values = sum(expected_values)\n",
    "    map_outputs = [value / sum_for_expected_values for value in expected_values]\n",
    "    sample_CE = - sum([target_values[j] * math.log(map_outputs[j]) for j in range(len(target_values))])\n",
    "    return sample_CE\n",
    "\n",
    "def evaluate_multi_label_loss(target_values, raw_outputs):\n",
    "    mapOutputs = [1 / (1 + math.exp(-val)) for val in raw_outputs]\n",
    "    sample_CE = - sum([target_values[j] * math.log(mapOutputs[j]) for j in range(len(target_values))])\n",
    "    return sample_CE\n",
    "\n",
    "real_values = ['spam', 'spam', 'ham', 'ham', 'spam', 'ham']\n",
    "computed_outputs = [[0.7, 0.3], [0.2, 0.8], [0.4, 0.6], [0.9, 0.1], [0.7, 0.3], [0.4, 0.6]]\n",
    "\n",
    "print('Loss regression:', calculate_loss_regression_sum([sports['Weight'], sports['Waist'], sports['Pulse']],\n",
    "                                                     [sports['PredictedWeight'], sports['PredictedWaist'],\n",
    "                                                      sports['PredictedPulse']]))\n",
    "print('Loss binary:', evaluate_loss_binary_classification(real_values, computed_outputs, 'spam'))\n",
    "print('Loss multi-class', evaluate_multi_class_loss([0, 1, 0, 0, 0], [-0.5, 1.2, 0.1, 2.4, 0.3]))\n",
    "print('Loss multi-label:', evaluate_multi_label_loss([0, 1, 0, 0, 1], [-0.5, 1.2, 0.1, 2.4, 0.3]))\n"
   ],
   "metadata": {
    "collapsed": false
   }
  },
  {
   "cell_type": "code",
   "execution_count": null,
   "outputs": [],
   "source": [],
   "metadata": {
    "collapsed": false
   }
  }
 ],
 "metadata": {
  "kernelspec": {
   "display_name": "Python 3",
   "language": "python",
   "name": "python3"
  },
  "language_info": {
   "codemirror_mode": {
    "name": "ipython",
    "version": 2
   },
   "file_extension": ".py",
   "mimetype": "text/x-python",
   "name": "python",
   "nbconvert_exporter": "python",
   "pygments_lexer": "ipython2",
   "version": "2.7.6"
  }
 },
 "nbformat": 4,
 "nbformat_minor": 0
}
